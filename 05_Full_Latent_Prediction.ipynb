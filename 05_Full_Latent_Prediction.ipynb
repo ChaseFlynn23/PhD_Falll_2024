{
 "cells": [
  {
   "cell_type": "markdown",
   "id": "da6cf4bc-c90f-4236-9e41-0f3050d28a34",
   "metadata": {},
   "source": [
    "# IDP MD Simulation Analysis Protocol:\n",
    "------\n",
    "Developed for analysis of wildtype simulation \n",
    "\n",
    "## Notes:\n",
    "#### Preprocessing\n",
    "- Must specify protein length and window sizes\n",
    "- Data is normalized to 0-1\n",
    "---\n",
    "#### Feature Enrichment\n",
    "- No enrichment or filtering\n",
    "---\n",
    "#### Autoencoder Tuning\n",
    "- No Tuning - Predetermined structure\n",
    "---\n",
    "#### Autoencoder Training\n",
    "- Default Structure, Default Data\n",
    "- 4, 5, 7, 8 Layer Models\n",
    "- Local Compaction & Local Angle Data\n",
    "- Unshuffled Data\n",
    "---\n",
    "#### Clustering\n",
    "- Agglomerative Co-Clustering"
   ]
  },
  {
   "cell_type": "markdown",
   "id": "97a7d4c7-3bb4-4fbb-a1a9-6bf287b0a04b",
   "metadata": {},
   "source": [
    "# Generates Full Latent Space Predictions Using AE Model at Lowest VLoss"
   ]
  },
  {
   "cell_type": "code",
   "execution_count": null,
   "id": "e1365723-19df-4f31-94c8-e9144803cf9f",
   "metadata": {},
   "outputs": [],
   "source": [
    "# Concatenate training and validation datasets\n",
    "X_loaded = pd.concat([X_train_loaded, X_valid_loaded], axis=0)"
   ]
  },
  {
   "cell_type": "code",
   "execution_count": null,
   "id": "d350cd75-26e5-4e61-9d6d-a2c85543bb11",
   "metadata": {},
   "outputs": [],
   "source": [
    "# Function to create the latent space representations and save to CSV\n",
    "def generate_and_save_latent_space_representations(model_path, data, output_dir, output_filename):\n",
    "    # Load the saved model\n",
    "    autoencoder = load_model(model_path)\n",
    "\n",
    "    # Create a model to get the latent space representation\n",
    "    dr_model = tf.keras.models.Model(inputs=autoencoder.get_layer('ae_input').input,\n",
    "                                     outputs=autoencoder.get_layer('ae_latent').output)\n",
    "    \n",
    "    # Generate latent space representations for the entire dataset\n",
    "    latent_space_representations = dr_model.predict(data, verbose=1)\n",
    "\n",
    "    # Create a DataFrame to store the representations with the index from the input data\n",
    "    df_latent_space = pd.DataFrame(latent_space_representations, columns=['x', 'y'], index=data.index)\n",
    "    \n",
    "    # Create output directory if it doesn't exist\n",
    "    os.makedirs(output_dir, exist_ok=True)\n",
    "\n",
    "    # Save the DataFrame to a CSV file\n",
    "    output_filepath = os.path.join(output_dir, output_filename)\n",
    "    df_latent_space.to_pickle(output_filepath)\n",
    "\n",
    "    print(f\"Latent space representations saved to {output_filepath}\")\n",
    "\n",
    "# Specify the path to the saved model\n",
    "model_path = 'Default_AE_Default_Data/AE_Training_1/models/saved_model_20.keras'\n",
    "\n",
    "# Specify the output directory and filename\n",
    "output_dir = 'Full_LSPs/'\n",
    "output_filename = 'AE1_ES_20_LSR_Full'\n",
    "\n",
    "# Generate and save the latent space representations\n",
    "generate_and_save_latent_space_representations(model_path, X_loaded, output_dir, output_filename)"
   ]
  },
  {
   "cell_type": "code",
   "execution_count": null,
   "id": "6c93071a-577c-42a7-9e9d-b4ac0b820a7c",
   "metadata": {},
   "outputs": [],
   "source": []
  }
 ],
 "metadata": {
  "kernelspec": {
   "display_name": "Python 3 (ipykernel)",
   "language": "python",
   "name": "python3"
  },
  "language_info": {
   "codemirror_mode": {
    "name": "ipython",
    "version": 3
   },
   "file_extension": ".py",
   "mimetype": "text/x-python",
   "name": "python",
   "nbconvert_exporter": "python",
   "pygments_lexer": "ipython3",
   "version": "3.12.2"
  }
 },
 "nbformat": 4,
 "nbformat_minor": 5
}
