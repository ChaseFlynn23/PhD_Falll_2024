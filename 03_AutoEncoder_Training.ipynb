{
 "cells": [
  {
   "cell_type": "markdown",
   "id": "39f4374d",
   "metadata": {},
   "source": [
    "# IDP MD Simulation Analysis Protocol:\n",
    "------\n",
    "Developed for analysis of wildtype simulation \n",
    "\n",
    "## Notes:\n",
    "#### Preprocessing\n",
    "- Must specify protein length and window sizes\n",
    "- Data is normalized to 0-1\n",
    "---\n",
    "#### Feature Enrichment\n",
    "- No enrichment or filtering\n",
    "---\n",
    "#### Autoencoder Tuning\n",
    "- No Tuning - Predetermined structure\n",
    "---\n",
    "#### Autoencoder Training\n",
    "- Default Structure, Default Data\n",
    "- 4, 5, 7, 8 Layer Models\n",
    "- Local Compaction & Local Angle Data\n",
    "- Unshuffled Data\n",
    "---\n",
    "#### Clustering\n",
    "- Agglomerative Co-Clustering"
   ]
  },
  {
   "cell_type": "code",
   "execution_count": 1,
   "id": "11aad840",
   "metadata": {},
   "outputs": [
    {
     "name": "stderr",
     "output_type": "stream",
     "text": [
      "2024-12-01 18:14:05.409908: I tensorflow/core/util/port.cc:153] oneDNN custom operations are on. You may see slightly different numerical results due to floating-point round-off errors from different computation orders. To turn them off, set the environment variable `TF_ENABLE_ONEDNN_OPTS=0`.\n",
      "2024-12-01 18:14:05.501794: E external/local_xla/xla/stream_executor/cuda/cuda_fft.cc:485] Unable to register cuFFT factory: Attempting to register factory for plugin cuFFT when one has already been registered\n",
      "2024-12-01 18:14:05.535464: E external/local_xla/xla/stream_executor/cuda/cuda_dnn.cc:8454] Unable to register cuDNN factory: Attempting to register factory for plugin cuDNN when one has already been registered\n",
      "2024-12-01 18:14:05.546514: E external/local_xla/xla/stream_executor/cuda/cuda_blas.cc:1452] Unable to register cuBLAS factory: Attempting to register factory for plugin cuBLAS when one has already been registered\n",
      "2024-12-01 18:14:05.617518: I tensorflow/core/platform/cpu_feature_guard.cc:210] This TensorFlow binary is optimized to use available CPU instructions in performance-critical operations.\n",
      "To enable the following instructions: AVX2 AVX_VNNI FMA, in other operations, rebuild TensorFlow with the appropriate compiler flags.\n",
      "2024-12-01 18:14:06.160421: W tensorflow/compiler/tf2tensorrt/utils/py_utils.cc:38] TF-TRT Warning: Could not find TensorRT\n"
     ]
    }
   ],
   "source": [
    "import os\n",
    "import re\n",
    "import sys\n",
    "import glob\n",
    "import time\n",
    "import json\n",
    "import subprocess\n",
    "import numpy as np\n",
    "import pandas as pd\n",
    "import seaborn as sns\n",
    "from tqdm import tqdm\n",
    "from scipy.stats import mode\n",
    "from kneed import KneeLocator\n",
    "import matplotlib.pyplot as plt\n",
    "from xgboost import XGBClassifier\n",
    "from sklearn.utils import shuffle\n",
    "from sklearn.metrics import accuracy_score\n",
    "from IPython.display import Image, display\n",
    "\n",
    "import tensorflow as tf\n",
    "from tensorflow import keras\n",
    "from tensorflow.keras import layers, models, optimizers\n",
    "from tensorflow.keras.models import Model, load_model\n",
    "from tensorflow.keras.layers import Input, Activation, Dense, LeakyReLU\n",
    "from tensorflow.keras.optimizers import Adam\n",
    "from tensorflow.keras.losses import MeanSquaredError\n",
    "from tensorflow.keras.callbacks import Callback"
   ]
  },
  {
   "cell_type": "raw",
   "id": "4deaff15-d983-49a1-abbe-ca37e4dfced1",
   "metadata": {},
   "source": [
    "import AA_Import_LCP_Functions as chase_lcc\n",
    "import AB_Import_Prep_XGB_Tune as chase_xgb_tune\n",
    "import AC_Import_CG_AE_Test as chase_ae_cg_tune\n",
    "import AD_Import_FG_AE_Tune as chase_ae_fg_tune"
   ]
  },
  {
   "cell_type": "markdown",
   "id": "e27f52cd",
   "metadata": {},
   "source": [
    "# Data Import"
   ]
  },
  {
   "cell_type": "code",
   "execution_count": 2,
   "id": "e45434a6-48f7-4f72-8a66-2e532506c17d",
   "metadata": {},
   "outputs": [],
   "source": [
    "import glob\n",
    "import pandas as pd\n",
    "import os\n",
    "import re\n",
    "\n",
    "# Define the range of window sizes\n",
    "window_range = range(2, 52)\n",
    "\n",
    "def import_lcc_data(lccdata_folder):\n",
    "    \"\"\"\n",
    "    Imports Local Compaction data files (.csv) and assigns them to a dictionary.\n",
    "\n",
    "    Parameters:\n",
    "    - lccdata_folder: The folder where Local Compaction data files are stored.\n",
    "\n",
    "    Returns:\n",
    "    - A dictionary with window sizes as keys and pandas DataFrames as values.\n",
    "    \"\"\"\n",
    "    data_dict = {}\n",
    "    \n",
    "    for window_size in window_range:\n",
    "        file_path = os.path.join(lccdata_folder, f\"WT_Simulation_WS_{window_size}.csv\")\n",
    "        if os.path.exists(file_path):\n",
    "            df = pd.read_csv(file_path, index_col=0)\n",
    "            df.index.name = None \n",
    "            data_dict[window_size] = df\n",
    "        else:\n",
    "            print(f\"Warning: File not found for Window Size {window_size}: {file_path}\")\n",
    "    \n",
    "    return data_dict\n",
    "\n",
    "\n",
    "# Folder containing the Local Compaction data\n",
    "lccdata_folder = 'Local_Compaction/Local_Compaction_Data'\n",
    "\n",
    "# Import LCC data for the wild-type protein\n",
    "wt_dict = import_lcc_data(lccdata_folder)"
   ]
  },
  {
   "cell_type": "markdown",
   "id": "facae1ba",
   "metadata": {},
   "source": [
    "# Data Preparation for Dimension Reduction"
   ]
  },
  {
   "cell_type": "markdown",
   "id": "8061b8ad-3a2a-41ac-b6b4-652c0a3aab4b",
   "metadata": {},
   "source": [
    "### Data Preparation:\n",
    "- Unfiltered, Shuffled Distance Measurement Data\n",
    "- Unfiltered, Shuffled Angle Measurement Data\n",
    "- Unfiltered, Shuffled RMSD Measurement Data\n",
    "- Unfiltered, UnShuffled Distance Measurement Data\n",
    "- Filtered, Shuffled Distance Measurement Data"
   ]
  },
  {
   "cell_type": "markdown",
   "id": "e567902b-8727-4e21-8ec6-91fe6e4108ca",
   "metadata": {
    "jp-MarkdownHeadingCollapsed": true
   },
   "source": [
    "## Unfiltered, Shuffled Distance Measurement Data, Normalized 0-1"
   ]
  },
  {
   "cell_type": "code",
   "execution_count": 3,
   "id": "b9c98a6b",
   "metadata": {},
   "outputs": [],
   "source": [
    "import os\n",
    "import pandas as pd\n",
    "from sklearn.model_selection import KFold\n",
    "\n",
    "def save_datasets(X_train, y_train, X_valid, y_valid, fold, base_folder):\n",
    "    \"\"\"\n",
    "    Save the datasets for a specific fold.\n",
    "    \"\"\"\n",
    "    folder_name = os.path.join(base_folder, f'Training_Set_{fold}')\n",
    "    os.makedirs(folder_name, exist_ok=True)\n",
    "    \n",
    "    X_train.to_csv(os.path.join(folder_name, 'X_train_f.csv'))\n",
    "    y_train.to_csv(os.path.join(folder_name, 'y_train_f.csv'))\n",
    "    X_valid.to_csv(os.path.join(folder_name, 'X_valid_f.csv'))\n",
    "    y_valid.to_csv(os.path.join(folder_name, 'y_valid_f.csv'))\n",
    "\n",
    "def load_datasets(fold, base_folder):\n",
    "    \"\"\"\n",
    "    Load datasets for a specific fold.\n",
    "    \"\"\"\n",
    "    folder_name = os.path.join(base_folder, f'Training_Set_{fold}')\n",
    "    \n",
    "    X_train = pd.read_csv(os.path.join(folder_name, 'X_train_f.csv'), index_col=0)\n",
    "    y_train = pd.read_csv(os.path.join(folder_name, 'y_train_f.csv'), index_col=0)\n",
    "    X_valid = pd.read_csv(os.path.join(folder_name, 'X_valid_f.csv'), index_col=0)\n",
    "    y_valid = pd.read_csv(os.path.join(folder_name, 'y_valid_f.csv'), index_col=0)\n",
    "    \n",
    "    return X_train, y_train, X_valid, y_valid\n",
    "\n",
    "def normalize_to_range_0_1(data):\n",
    "    \"\"\"\n",
    "    Normalize data to range [0, 1] and round to 6 decimal places.\n",
    "    \"\"\"\n",
    "    normalized = (data - data.min()) / (data.max() - data.min())\n",
    "    return normalized.round(6)\n",
    "\n",
    "def preprocessing_kfold(wt_data, n_splits=5, base_folder=\"AE_Data/Unfiltered_Shuffled_Compaction_Data\"):\n",
    "    \"\"\"\n",
    "    Preprocess data using KFold cross-validation, normalize it, and save it.\n",
    "    \"\"\"\n",
    "    # Ensure all data is numeric\n",
    "    wt_data = wt_data.apply(pd.to_numeric, errors='coerce')\n",
    "\n",
    "    # Shuffle the DataFrame rows without resetting the index\n",
    "    wt_data = wt_data.sample(frac=1, random_state=42)\n",
    "    \n",
    "    os.makedirs(base_folder, exist_ok=True)\n",
    "\n",
    "    kf = KFold(n_splits=n_splits, shuffle=True, random_state=42)\n",
    "    fold = 1\n",
    "    for train_index, valid_index in kf.split(wt_data):\n",
    "        folder_name = os.path.join(base_folder, f'Training_Set_{fold}')\n",
    "        if not os.path.exists(os.path.join(folder_name, 'X_train_f.csv')):\n",
    "            X_train, X_valid = wt_data.iloc[train_index], wt_data.iloc[valid_index]\n",
    "            y_train = pd.DataFrame({'class': [0] * len(X_train)}, index=X_train.index)\n",
    "            y_valid = pd.DataFrame({'class': [0] * len(X_valid)}, index=X_valid.index)\n",
    "\n",
    "            # Normalize training and validation data to [0, 1] and round to 6 decimal places\n",
    "            X_train = normalize_to_range_0_1(X_train)\n",
    "            X_valid = normalize_to_range_0_1(X_valid)\n",
    "\n",
    "            print(f\"Fold {fold}:\")\n",
    "            print(f\"Training set shape: {X_train.shape}\")\n",
    "            print(f\"Validation set shape: {X_valid.shape}\")\n",
    "            \n",
    "            save_datasets(X_train, y_train, X_valid, y_valid, fold, base_folder)\n",
    "        else:\n",
    "            print(f\"Data for fold {fold} already exists, skipping generation.\")\n",
    "        fold += 1"
   ]
  },
  {
   "cell_type": "code",
   "execution_count": 4,
   "id": "0fd821a8",
   "metadata": {},
   "outputs": [
    {
     "name": "stdout",
     "output_type": "stream",
     "text": [
      "Data for fold 1 already exists, skipping generation.\n",
      "Data for fold 2 already exists, skipping generation.\n",
      "Data for fold 3 already exists, skipping generation.\n",
      "Data for fold 4 already exists, skipping generation.\n",
      "Data for fold 5 already exists, skipping generation.\n"
     ]
    }
   ],
   "source": [
    "# Window sizes to be used\n",
    "window_sizes = list(range(2, 52))\n",
    "\n",
    "# Concatenate all DataFrames in wt_dict into a single DataFrame\n",
    "wt_combined = pd.concat(wt_dict.values(), axis=1)\n",
    "\n",
    "# Preprocess and save data\n",
    "preprocessing_kfold(wt_combined, n_splits=5)\n",
    "\n",
    "# Example of loading a specific fold (e.g., fold 1)\n",
    "base_folder = \"AE_Data/Unfiltered_Shuffled_Compaction_Data\"\n",
    "X_train_loaded, y_train_loaded, X_valid_loaded, y_valid_loaded = load_datasets(fold=1, base_folder=base_folder)"
   ]
  },
  {
   "cell_type": "markdown",
   "id": "941c7cf8-a245-48bc-a762-681a62aba9c7",
   "metadata": {
    "jp-MarkdownHeadingCollapsed": true
   },
   "source": [
    "## Unfiltered, UnShuffled Distance Measurement Data, Normalized 0-1"
   ]
  },
  {
   "cell_type": "code",
   "execution_count": 2,
   "id": "e163ea54-52d0-48e4-86a6-1428598cbc10",
   "metadata": {},
   "outputs": [],
   "source": [
    "import os\n",
    "import pandas as pd\n",
    "from sklearn.model_selection import KFold\n",
    "\n",
    "def save_datasets(X_train, y_train, X_valid, y_valid, fold, base_folder):\n",
    "    \"\"\"\n",
    "    Save the datasets for a specific fold.\n",
    "    \"\"\"\n",
    "    folder_name = os.path.join(base_folder, f'Training_Set_{fold}')\n",
    "    os.makedirs(folder_name, exist_ok=True)\n",
    "    \n",
    "    X_train.to_csv(os.path.join(folder_name, 'X_train_f.csv'))\n",
    "    y_train.to_csv(os.path.join(folder_name, 'y_train_f.csv'))\n",
    "    X_valid.to_csv(os.path.join(folder_name, 'X_valid_f.csv'))\n",
    "    y_valid.to_csv(os.path.join(folder_name, 'y_valid_f.csv'))\n",
    "\n",
    "def load_datasets(fold, base_folder):\n",
    "    \"\"\"\n",
    "    Load datasets for a specific fold.\n",
    "    \"\"\"\n",
    "    folder_name = os.path.join(base_folder, f'Training_Set_{fold}')\n",
    "    \n",
    "    X_train = pd.read_csv(os.path.join(folder_name, 'X_train_f.csv'), index_col=0)\n",
    "    y_train = pd.read_csv(os.path.join(folder_name, 'y_train_f.csv'), index_col=0)\n",
    "    X_valid = pd.read_csv(os.path.join(folder_name, 'X_valid_f.csv'), index_col=0)\n",
    "    y_valid = pd.read_csv(os.path.join(folder_name, 'y_valid_f.csv'), index_col=0)\n",
    "    \n",
    "    return X_train, y_train, X_valid, y_valid\n",
    "\n",
    "def normalize_to_range_0_1(data):\n",
    "    \"\"\"\n",
    "    Normalize data to range [0, 1] and round to 6 decimal places.\n",
    "    \"\"\"\n",
    "    normalized = (data - data.min()) / (data.max() - data.min())\n",
    "    return normalized.round(6)\n",
    "\n",
    "def preprocessing_kfold(wt_data, n_splits=5, base_folder=\"AE_Data/Unfiltered_UnShuffled_Compaction_Data\"):\n",
    "    \"\"\"\n",
    "    Preprocess data using KFold cross-validation, normalize it, and save it without shuffling.\n",
    "    \"\"\"\n",
    "    # Ensure all data is numeric\n",
    "    wt_data = wt_data.apply(pd.to_numeric, errors='coerce')\n",
    "    \n",
    "    os.makedirs(base_folder, exist_ok=True)\n",
    "\n",
    "    kf = KFold(n_splits=n_splits, shuffle=False)  # Do not shuffle\n",
    "    fold = 1\n",
    "    for train_index, valid_index in kf.split(wt_data):\n",
    "        folder_name = os.path.join(base_folder, f'Training_Set_{fold}')\n",
    "        if not os.path.exists(os.path.join(folder_name, 'X_train_f.csv')):\n",
    "            X_train, X_valid = wt_data.iloc[train_index], wt_data.iloc[valid_index]\n",
    "            y_train = pd.DataFrame({'class': [0] * len(X_train)}, index=X_train.index)\n",
    "            y_valid = pd.DataFrame({'class': [0] * len(X_valid)}, index=X_valid.index)\n",
    "\n",
    "            # Normalize training and validation data to [0, 1] and round to 6 decimal places\n",
    "            X_train = normalize_to_range_0_1(X_train)\n",
    "            X_valid = normalize_to_range_0_1(X_valid)\n",
    "\n",
    "            print(f\"Fold {fold}:\")\n",
    "            print(f\"Training set shape: {X_train.shape}\")\n",
    "            print(f\"Validation set shape: {X_valid.shape}\")\n",
    "            \n",
    "            save_datasets(X_train, y_train, X_valid, y_valid, fold, base_folder)\n",
    "        else:\n",
    "            print(f\"Data for fold {fold} already exists, skipping generation.\")\n",
    "        fold += 1\n"
   ]
  },
  {
   "cell_type": "code",
   "execution_count": 20,
   "id": "81b166b5-e05f-4914-b708-3629a08f65b1",
   "metadata": {},
   "outputs": [
    {
     "name": "stdout",
     "output_type": "stream",
     "text": [
      "Fold 1:\n",
      "Training set shape: (32000, 2175)\n",
      "Validation set shape: (8000, 2175)\n",
      "Fold 2:\n",
      "Training set shape: (32000, 2175)\n",
      "Validation set shape: (8000, 2175)\n",
      "Fold 3:\n",
      "Training set shape: (32000, 2175)\n",
      "Validation set shape: (8000, 2175)\n",
      "Fold 4:\n",
      "Training set shape: (32000, 2175)\n",
      "Validation set shape: (8000, 2175)\n",
      "Fold 5:\n",
      "Training set shape: (32000, 2175)\n",
      "Validation set shape: (8000, 2175)\n"
     ]
    }
   ],
   "source": [
    "# Window sizes to be used\n",
    "window_sizes = list(range(2, 52))\n",
    "\n",
    "# Concatenate all DataFrames in wt_dict into a single DataFrame\n",
    "wt_combined = pd.concat(wt_dict.values(), axis=1)\n",
    "\n",
    "# Preprocess and save data\n",
    "preprocessing_kfold(wt_combined, n_splits=5)\n",
    "\n",
    "# Example of loading a specific fold (e.g., fold 1)\n",
    "base_folder = \"AE_Data/Unfiltered_UnShuffled_Compaction_Data\"\n",
    "X_train_loaded, y_train_loaded, X_valid_loaded, y_valid_loaded = load_datasets(fold=1, base_folder=base_folder)"
   ]
  },
  {
   "cell_type": "markdown",
   "id": "fb850ba8-be0f-4c18-a193-1c7749c048dd",
   "metadata": {
    "jp-MarkdownHeadingCollapsed": true
   },
   "source": [
    "# Filtered, Shuffled Measurement Data, Normalized 0-1"
   ]
  },
  {
   "cell_type": "code",
   "execution_count": 1,
   "id": "b8b9986a-6c19-4b0b-b12c-0b2d06d632b1",
   "metadata": {},
   "outputs": [],
   "source": [
    "import glob\n",
    "import pandas as pd\n",
    "import os\n",
    "import re\n",
    "\n",
    "# Define the range of window sizes\n",
    "window_range = range(2, 49)\n",
    "\n",
    "def import_lcc_data(lccdata_folder):\n",
    "    \"\"\"\n",
    "    Imports Local Compaction data files (.csv) and assigns them to a dictionary.\n",
    "\n",
    "    Parameters:\n",
    "    - lccdata_folder: The folder where Local Compaction data files are stored.\n",
    "\n",
    "    Returns:\n",
    "    - A dictionary with window sizes as keys and pandas DataFrames as values.\n",
    "    \"\"\"\n",
    "    data_dict = {}\n",
    "    \n",
    "    for window_size in window_range:\n",
    "        file_path = os.path.join(lccdata_folder, f\"WS_{window_size}_f.csv\")\n",
    "        if os.path.exists(file_path):\n",
    "            df = pd.read_csv(file_path, index_col=0)\n",
    "            df.index.name = None \n",
    "            data_dict[window_size] = df\n",
    "        else:\n",
    "            print(f\"Warning: File not found for Window Size {window_size}: {file_path}\")\n",
    "    \n",
    "    return data_dict\n",
    "\n",
    "\n",
    "# Folder containing the Local Compaction data\n",
    "lccdata_folder = 'XGB_High_vs_Low_Energy/Filtered_Local_Compaction_Data'\n",
    "\n",
    "# Import LCC data for the wild-type protein\n",
    "wt_dict = import_lcc_data(lccdata_folder)"
   ]
  },
  {
   "cell_type": "code",
   "execution_count": 2,
   "id": "7b470ef8-4795-4d1e-9a31-dc4d806244b9",
   "metadata": {},
   "outputs": [],
   "source": [
    "import os\n",
    "import pandas as pd\n",
    "from sklearn.model_selection import KFold\n",
    "\n",
    "def save_datasets(X_train, y_train, X_valid, y_valid, fold, base_folder):\n",
    "    \"\"\"\n",
    "    Save the datasets for a specific fold.\n",
    "    \"\"\"\n",
    "    folder_name = os.path.join(base_folder, f'Training_Set_{fold}')\n",
    "    os.makedirs(folder_name, exist_ok=True)\n",
    "    \n",
    "    X_train.to_csv(os.path.join(folder_name, 'X_train_f.csv'))\n",
    "    y_train.to_csv(os.path.join(folder_name, 'y_train_f.csv'))\n",
    "    X_valid.to_csv(os.path.join(folder_name, 'X_valid_f.csv'))\n",
    "    y_valid.to_csv(os.path.join(folder_name, 'y_valid_f.csv'))\n",
    "\n",
    "def load_datasets(fold, base_folder):\n",
    "    \"\"\"\n",
    "    Load datasets for a specific fold.\n",
    "    \"\"\"\n",
    "    folder_name = os.path.join(base_folder, f'Training_Set_{fold}')\n",
    "    \n",
    "    X_train = pd.read_csv(os.path.join(folder_name, 'X_train_f.csv'), index_col=0)\n",
    "    y_train = pd.read_csv(os.path.join(folder_name, 'y_train_f.csv'), index_col=0)\n",
    "    X_valid = pd.read_csv(os.path.join(folder_name, 'X_valid_f.csv'), index_col=0)\n",
    "    y_valid = pd.read_csv(os.path.join(folder_name, 'y_valid_f.csv'), index_col=0)\n",
    "    \n",
    "    return X_train, y_train, X_valid, y_valid\n",
    "\n",
    "def normalize_to_range_0_1(data):\n",
    "    \"\"\"\n",
    "    Normalize data to range [0, 1] and round to 6 decimal places.\n",
    "    \"\"\"\n",
    "    normalized = (data - data.min()) / (data.max() - data.min())\n",
    "    return normalized.round(6)\n",
    "\n",
    "def preprocessing_kfold(wt_data, n_splits=5, base_folder=\"AE_Data/Filtered_Shuffled_Compaction_Data\"):\n",
    "    \"\"\"\n",
    "    Preprocess data using KFold cross-validation, normalize it, and save it.\n",
    "    \"\"\"\n",
    "    # Ensure all data is numeric\n",
    "    wt_data = wt_data.apply(pd.to_numeric, errors='coerce')\n",
    "\n",
    "    # Shuffle the DataFrame rows without resetting the index\n",
    "    wt_data = wt_data.sample(frac=1, random_state=42)\n",
    "    \n",
    "    os.makedirs(base_folder, exist_ok=True)\n",
    "\n",
    "    kf = KFold(n_splits=n_splits, shuffle=True, random_state=42)\n",
    "    fold = 1\n",
    "    for train_index, valid_index in kf.split(wt_data):\n",
    "        folder_name = os.path.join(base_folder, f'Training_Set_{fold}')\n",
    "        if not os.path.exists(os.path.join(folder_name, 'X_train_f.csv')):\n",
    "            X_train, X_valid = wt_data.iloc[train_index], wt_data.iloc[valid_index]\n",
    "            y_train = pd.DataFrame({'class': [0] * len(X_train)}, index=X_train.index)\n",
    "            y_valid = pd.DataFrame({'class': [0] * len(X_valid)}, index=X_valid.index)\n",
    "\n",
    "            # Normalize training and validation data to [0, 1] and round to 6 decimal places\n",
    "            X_train = normalize_to_range_0_1(X_train)\n",
    "            X_valid = normalize_to_range_0_1(X_valid)\n",
    "\n",
    "            print(f\"Fold {fold}:\")\n",
    "            print(f\"Training set shape: {X_train.shape}\")\n",
    "            print(f\"Validation set shape: {X_valid.shape}\")\n",
    "            \n",
    "            save_datasets(X_train, y_train, X_valid, y_valid, fold, base_folder)\n",
    "        else:\n",
    "            print(f\"Data for fold {fold} already exists, skipping generation.\")\n",
    "        fold += 1"
   ]
  },
  {
   "cell_type": "code",
   "execution_count": 3,
   "id": "58a4a8d7-20fa-4617-8907-f96222c024d3",
   "metadata": {},
   "outputs": [
    {
     "name": "stdout",
     "output_type": "stream",
     "text": [
      "Data for fold 1 already exists, skipping generation.\n",
      "Data for fold 2 already exists, skipping generation.\n",
      "Data for fold 3 already exists, skipping generation.\n",
      "Data for fold 4 already exists, skipping generation.\n",
      "Data for fold 5 already exists, skipping generation.\n"
     ]
    }
   ],
   "source": [
    "# Window sizes to be used\n",
    "window_sizes = list(range(2, 52))\n",
    "\n",
    "# Concatenate all DataFrames in wt_dict into a single DataFrame\n",
    "wt_combined = pd.concat(wt_dict.values(), axis=1)\n",
    "\n",
    "# Preprocess and save data\n",
    "preprocessing_kfold(wt_combined, n_splits=5)\n",
    "\n",
    "# Example of loading a specific fold (e.g., fold 1)\n",
    "base_folder = \"AE_Data/Filtered_Shuffled_Compaction_Data\"\n",
    "X_train_loaded, y_train_loaded, X_valid_loaded, y_valid_loaded = load_datasets(fold=1, base_folder=base_folder)"
   ]
  },
  {
   "cell_type": "markdown",
   "id": "e6ce3c06-5f25-4ce1-b442-b2d58743e8cd",
   "metadata": {
    "jp-MarkdownHeadingCollapsed": true
   },
   "source": [
    "# Unfiltered, Shuffled Angle Measurement Data, Normalized 0-1"
   ]
  },
  {
   "cell_type": "code",
   "execution_count": null,
   "id": "d6787a61-8a28-42cf-bc1f-1089a5f9c2a7",
   "metadata": {},
   "outputs": [],
   "source": [
    "import os\n",
    "import pandas as pd\n",
    "from sklearn.model_selection import KFold\n",
    "\n",
    "def save_datasets(X_train, y_train, X_valid, y_valid, fold, base_folder):\n",
    "    \"\"\"\n",
    "    Save the datasets for a specific fold.\n",
    "    \"\"\"\n",
    "    folder_name = os.path.join(base_folder, f'Training_Set_{fold}')\n",
    "    os.makedirs(folder_name, exist_ok=True)\n",
    "    \n",
    "    X_train.to_csv(os.path.join(folder_name, 'X_train_f.csv'))\n",
    "    y_train.to_csv(os.path.join(folder_name, 'y_train_f.csv'))\n",
    "    X_valid.to_csv(os.path.join(folder_name, 'X_valid_f.csv'))\n",
    "    y_valid.to_csv(os.path.join(folder_name, 'y_valid_f.csv'))\n",
    "\n",
    "def load_datasets(fold, base_folder):\n",
    "    \"\"\"\n",
    "    Load datasets for a specific fold.\n",
    "    \"\"\"\n",
    "    folder_name = os.path.join(base_folder, f'Training_Set_{fold}')\n",
    "    \n",
    "    X_train = pd.read_csv(os.path.join(folder_name, 'X_train_f.csv'), index_col=0)\n",
    "    y_train = pd.read_csv(os.path.join(folder_name, 'y_train_f.csv'), index_col=0)\n",
    "    X_valid = pd.read_csv(os.path.join(folder_name, 'X_valid_f.csv'), index_col=0)\n",
    "    y_valid = pd.read_csv(os.path.join(folder_name, 'y_valid_f.csv'), index_col=0)\n",
    "    \n",
    "    return X_train, y_train, X_valid, y_valid\n",
    "\n",
    "def normalize_to_range_0_1(data):\n",
    "    \"\"\"\n",
    "    Normalize data to range [0, 1] and round to 6 decimal places.\n",
    "    \"\"\"\n",
    "    normalized = (data - data.min()) / (data.max() - data.min())\n",
    "    return normalized.round(6)\n",
    "\n",
    "def load_angle_data(angle_folder, angle_window_sizes):\n",
    "    \"\"\"\n",
    "    Load angle data for all window sizes and combine into a single DataFrame.\n",
    "    \"\"\"\n",
    "    angle_data = {}\n",
    "    for window_size in angle_window_sizes:\n",
    "        file_path = os.path.join(angle_folder, f'Angles_WS_{window_size}.csv')\n",
    "        if os.path.exists(file_path):\n",
    "            angle_data[window_size] = pd.read_csv(file_path, index_col=0)\n",
    "        else:\n",
    "            print(f\"Warning: Angle data file not found for window size {window_size}.\")\n",
    "    return angle_data\n",
    "\n",
    "def combine_angle_data_only(angle_data, angle_window_sizes):\n",
    "    \"\"\"\n",
    "    Combine all angle data into a single DataFrame, sorted by window size.\n",
    "    \"\"\"\n",
    "    # Start with the index of one DataFrame (assuming all indices are consistent)\n",
    "    first_window_size = list(angle_data.keys())[0]\n",
    "    combined_data = pd.DataFrame(index=angle_data[first_window_size].index)\n",
    "\n",
    "    for window_size in angle_window_sizes:\n",
    "        if window_size in angle_data:\n",
    "            combined_data = pd.concat([combined_data, angle_data[window_size]], axis=1)\n",
    "        else:\n",
    "            print(f\"Warning: Missing angle data for window size {window_size}. Skipping.\")\n",
    "    \n",
    "    return combined_data\n",
    "\n",
    "def preprocessing_kfold(angle_data_only, n_splits=5, base_folder=\"AE_Data/Unfiltered_Shuffled_Angle_Data\"):\n",
    "    \"\"\"\n",
    "    Preprocess angle data using KFold cross-validation, normalize it, and save it.\n",
    "    \"\"\"\n",
    "    # Ensure all data is numeric\n",
    "    angle_data_only = angle_data_only.apply(pd.to_numeric, errors='coerce')\n",
    "\n",
    "    # Shuffle the DataFrame rows without resetting the index\n",
    "    angle_data_only = angle_data_only.sample(frac=1, random_state=42)\n",
    "    \n",
    "    os.makedirs(base_folder, exist_ok=True)\n",
    "\n",
    "    kf = KFold(n_splits=n_splits, shuffle=True, random_state=42)\n",
    "    fold = 1\n",
    "    for train_index, valid_index in kf.split(angle_data_only):\n",
    "        folder_name = os.path.join(base_folder, f'Training_Set_{fold}')\n",
    "        if not os.path.exists(os.path.join(folder_name, 'X_train_f.csv')):\n",
    "            X_train, X_valid = angle_data_only.iloc[train_index], angle_data_only.iloc[valid_index]\n",
    "            y_train = pd.DataFrame({'class': [0] * len(X_train)}, index=X_train.index)\n",
    "            y_valid = pd.DataFrame({'class': [0] * len(X_valid)}, index=X_valid.index)\n",
    "\n",
    "            # Normalize training and validation data to [0, 1] and round to 6 decimal places\n",
    "            X_train = normalize_to_range_0_1(X_train)\n",
    "            X_valid = normalize_to_range_0_1(X_valid)\n",
    "\n",
    "            print(f\"Fold {fold}:\")\n",
    "            print(f\"Training set shape: {X_train.shape}\")\n",
    "            print(f\"Validation set shape: {X_valid.shape}\")\n",
    "            \n",
    "            save_datasets(X_train, y_train, X_valid, y_valid, fold, base_folder)\n",
    "        else:\n",
    "            print(f\"Data for fold {fold} already exists, skipping generation.\")\n",
    "        fold += 1"
   ]
  },
  {
   "cell_type": "code",
   "execution_count": null,
   "id": "ef98f92b-7dd1-4e73-a34b-9caaf162ccdf",
   "metadata": {},
   "outputs": [],
   "source": [
    "# Paths and window sizes\n",
    "angle_window_sizes = list(range(1, 51))\n",
    "angle_folder = \"Local_Angles/Angle_Data\"\n",
    "\n",
    "# Load and combine angle data only\n",
    "angle_data = load_angle_data(angle_folder, angle_window_sizes)\n",
    "combined_angle_data = combine_angle_data_only(angle_data, angle_window_sizes)\n",
    "\n",
    "# Preprocess and save data\n",
    "preprocessing_kfold(combined_angle_data, n_splits=5, base_folder=\"AE_Data/Unfiltered_Shuffled_Angle_Data\")\n",
    "\n",
    "# Example of loading a specific fold (e.g., fold 1)\n",
    "base_folder = \"AE_Data/Unfiltered_Shuffled_Angle_Data\"\n",
    "X_train_loaded, y_train_loaded, X_valid_loaded, y_valid_loaded = load_datasets(fold=1, base_folder=base_folder)"
   ]
  },
  {
   "cell_type": "markdown",
   "id": "d38b4533-197f-45d4-b3fc-10ea7929a146",
   "metadata": {},
   "source": [
    "# Unfiltered, Shuffled RMSD Data, Normalized 0-1"
   ]
  },
  {
   "cell_type": "code",
   "execution_count": null,
   "id": "c67f7299-0ccb-4cac-ae98-7ea8802dec1e",
   "metadata": {},
   "outputs": [],
   "source": []
  },
  {
   "cell_type": "code",
   "execution_count": null,
   "id": "d4469e24-e6f7-400e-b129-dee590d70035",
   "metadata": {},
   "outputs": [],
   "source": []
  },
  {
   "cell_type": "markdown",
   "id": "4b81e617-2116-46bc-ba10-8a59982e19a2",
   "metadata": {},
   "source": [
    "# Unfiltered, Shuffled Rg Data, Normalized 0-1"
   ]
  },
  {
   "cell_type": "code",
   "execution_count": null,
   "id": "16aa4c92-6d4e-488c-aaf6-5b12ee9b7830",
   "metadata": {},
   "outputs": [],
   "source": []
  },
  {
   "cell_type": "code",
   "execution_count": null,
   "id": "632e0536-8b33-4814-b9bf-e213563bbcaf",
   "metadata": {},
   "outputs": [],
   "source": []
  },
  {
   "cell_type": "markdown",
   "id": "f501f7e5-ed1a-4356-b91a-40e26eb78126",
   "metadata": {
    "jp-MarkdownHeadingCollapsed": true
   },
   "source": [
    "## Unfiltered, Shuffled Distance and Angle Measurement Data, Normalized 0-1"
   ]
  },
  {
   "cell_type": "code",
   "execution_count": 26,
   "id": "d995485c-d795-43f4-bc9a-c781224e491c",
   "metadata": {},
   "outputs": [],
   "source": [
    "import os\n",
    "import pandas as pd\n",
    "from sklearn.model_selection import KFold\n",
    "\n",
    "def save_datasets(X_train, y_train, X_valid, y_valid, fold, base_folder):\n",
    "    \"\"\"\n",
    "    Save the datasets for a specific fold.\n",
    "    \"\"\"\n",
    "    folder_name = os.path.join(base_folder, f'Training_Set_{fold}')\n",
    "    os.makedirs(folder_name, exist_ok=True)\n",
    "    \n",
    "    X_train.to_csv(os.path.join(folder_name, 'X_train_f.csv'))\n",
    "    y_train.to_csv(os.path.join(folder_name, 'y_train_f.csv'))\n",
    "    X_valid.to_csv(os.path.join(folder_name, 'X_valid_f.csv'))\n",
    "    y_valid.to_csv(os.path.join(folder_name, 'y_valid_f.csv'))\n",
    "\n",
    "def load_datasets(fold, base_folder):\n",
    "    \"\"\"\n",
    "    Load datasets for a specific fold.\n",
    "    \"\"\"\n",
    "    folder_name = os.path.join(base_folder, f'Training_Set_{fold}')\n",
    "    \n",
    "    X_train = pd.read_csv(os.path.join(folder_name, 'X_train_f.csv'), index_col=0)\n",
    "    y_train = pd.read_csv(os.path.join(folder_name, 'y_train_f.csv'), index_col=0)\n",
    "    X_valid = pd.read_csv(os.path.join(folder_name, 'X_valid_f.csv'), index_col=0)\n",
    "    y_valid = pd.read_csv(os.path.join(folder_name, 'y_valid_f.csv'), index_col=0)\n",
    "    \n",
    "    return X_train, y_train, X_valid, y_valid\n",
    "\n",
    "def normalize_to_range_0_1(data):\n",
    "    \"\"\"\n",
    "    Normalize data to range [0, 1] and round to 6 decimal places.\n",
    "    \"\"\"\n",
    "    normalized = (data - data.min()) / (data.max() - data.min())\n",
    "    return normalized.round(6)\n",
    "\n",
    "def load_angle_data(angle_folder, window_sizes):\n",
    "    \"\"\"\n",
    "    Load angle data for all window sizes and combine into a single DataFrame.\n",
    "    \"\"\"\n",
    "    angle_data = {}\n",
    "    for window_size in window_sizes:\n",
    "        file_path = os.path.join(angle_folder, f'Angles_WS_{window_size}.csv')\n",
    "        if os.path.exists(file_path):\n",
    "            angle_data[window_size] = pd.read_csv(file_path, index_col=0)\n",
    "        else:\n",
    "            print(f\"Warning: Angle data file not found for window size {window_size}.\")\n",
    "    return angle_data\n",
    "\n",
    "def combine_distance_and_angle(distance_data, angle_data, distance_window_sizes, angle_window_sizes):\n",
    "    \"\"\"\n",
    "    Combine distance and angle data alternately by window size, starting with distance (window size 2).\n",
    "    \"\"\"\n",
    "    # Start with the index of one DataFrame (assuming all indices are consistent)\n",
    "    first_window_size = list(distance_data.keys())[0]\n",
    "    combined_data = pd.DataFrame(index=distance_data[first_window_size].index)\n",
    "\n",
    "    # Interleave distance and angle window sizes\n",
    "    max_window_size = max(max(distance_window_sizes), max(angle_window_sizes))\n",
    "    for i in range(1, max_window_size + 1):\n",
    "        if i in distance_window_sizes and i in distance_data:\n",
    "            combined_data = pd.concat([combined_data, distance_data[i]], axis=1)\n",
    "        if i in angle_window_sizes and i in angle_data:\n",
    "            combined_data = pd.concat([combined_data, angle_data[i]], axis=1)\n",
    "    \n",
    "    return combined_data\n",
    "\n",
    "\n",
    "\n",
    "def preprocessing_kfold(combined_data, n_splits=5, base_folder=\"AE_Data/Unfiltered_Shuffled_Compaction_Angle_Data\"):\n",
    "    \"\"\"\n",
    "    Preprocess data using KFold cross-validation, normalize it, and save it.\n",
    "    \"\"\"\n",
    "    # Ensure all data is numeric\n",
    "    combined_data = combined_data.apply(pd.to_numeric, errors='coerce')\n",
    "\n",
    "    # Shuffle the DataFrame rows without resetting the index\n",
    "    combined_data = combined_data.sample(frac=1, random_state=42)\n",
    "    \n",
    "    os.makedirs(base_folder, exist_ok=True)\n",
    "\n",
    "    kf = KFold(n_splits=n_splits, shuffle=True, random_state=42)\n",
    "    fold = 1\n",
    "    for train_index, valid_index in kf.split(combined_data):\n",
    "        folder_name = os.path.join(base_folder, f'Training_Set_{fold}')\n",
    "        if not os.path.exists(os.path.join(folder_name, 'X_train_f.csv')):\n",
    "            X_train, X_valid = combined_data.iloc[train_index], combined_data.iloc[valid_index]\n",
    "            y_train = pd.DataFrame({'class': [0] * len(X_train)}, index=X_train.index)\n",
    "            y_valid = pd.DataFrame({'class': [0] * len(X_valid)}, index=X_valid.index)\n",
    "\n",
    "            # Normalize training and validation data to [0, 1] and round to 6 decimal places\n",
    "            X_train = normalize_to_range_0_1(X_train)\n",
    "            X_valid = normalize_to_range_0_1(X_valid)\n",
    "\n",
    "            print(f\"Fold {fold}:\")\n",
    "            print(f\"Training set shape: {X_train.shape}\")\n",
    "            print(f\"Validation set shape: {X_valid.shape}\")\n",
    "            \n",
    "            save_datasets(X_train, y_train, X_valid, y_valid, fold, base_folder)\n",
    "        else:\n",
    "            print(f\"Data for fold {fold} already exists, skipping generation.\")\n",
    "        fold += 1"
   ]
  },
  {
   "cell_type": "code",
   "execution_count": 28,
   "id": "7efc465b-4b3d-4ade-9f4c-2decdb4cacc7",
   "metadata": {},
   "outputs": [
    {
     "name": "stdout",
     "output_type": "stream",
     "text": [
      "Fold 1:\n",
      "Training set shape: (32000, 4300)\n",
      "Validation set shape: (8000, 4300)\n",
      "Fold 2:\n",
      "Training set shape: (32000, 4300)\n",
      "Validation set shape: (8000, 4300)\n",
      "Fold 3:\n",
      "Training set shape: (32000, 4300)\n",
      "Validation set shape: (8000, 4300)\n",
      "Fold 4:\n",
      "Training set shape: (32000, 4300)\n",
      "Validation set shape: (8000, 4300)\n",
      "Fold 5:\n",
      "Training set shape: (32000, 4300)\n",
      "Validation set shape: (8000, 4300)\n"
     ]
    }
   ],
   "source": [
    "# Paths and window sizes\n",
    "distance_window_sizes = list(range(2, 52))\n",
    "angle_window_sizes = list(range(1, 51))\n",
    "\n",
    "distance_data = {ws: pd.read_csv(f\"Local_Compaction/Local_Compaction_Data/WT_Simulation_WS_{ws}.csv\", index_col=0) for ws in distance_window_sizes}\n",
    "angle_folder = \"Local_Angles/Angle_Data\"\n",
    "angle_data = load_angle_data(angle_folder, angle_window_sizes)\n",
    "\n",
    "# Combine distance and angle data alternately\n",
    "combined_data = combine_distance_and_angle(distance_data, angle_data, distance_window_sizes, angle_window_sizes)\n",
    "\n",
    "# Preprocess and save data\n",
    "preprocessing_kfold(combined_data, n_splits=5, base_folder=\"AE_Data/Unfiltered_Shuffled_Compaction_Angle_Data\")\n",
    "\n",
    "# Example of loading a specific fold (e.g., fold 1)\n",
    "base_folder = \"AE_Data/Unfiltered_Shuffled_Compaction_Angle_Data\"\n",
    "X_train_loaded, y_train_loaded, X_valid_loaded, y_valid_loaded = load_datasets(fold=1, base_folder=base_folder)"
   ]
  },
  {
   "cell_type": "markdown",
   "id": "9d45e26d",
   "metadata": {},
   "source": [
    "# Autoencoder Training\n",
    "----\n",
    "Note: \n",
    "- Autoencoder trained on unfiltered, normalized local compaction data from 91-160C-Myc wildtype\n",
    "- Each run has 5 autoencoders trained separately on the different exclusive test-train splits "
   ]
  },
  {
   "cell_type": "markdown",
   "id": "eb994b99-1e62-4169-ae20-49bc1feb137e",
   "metadata": {
    "jp-MarkdownHeadingCollapsed": true
   },
   "source": [
    "# Default AE Default Data (For Comparison)"
   ]
  },
  {
   "cell_type": "code",
   "execution_count": 5,
   "id": "5376d06b",
   "metadata": {},
   "outputs": [],
   "source": [
    "# Save the model using the recommended Keras format\n",
    "def save_model(model, model_path):\n",
    "    if not model_path.endswith('.keras'):\n",
    "        model_path += '.keras'\n",
    "    model.save(model_path)\n",
    "    \n",
    "# Load the model\n",
    "def load_existing_model(model_path):\n",
    "    return load_model(model_path)"
   ]
  },
  {
   "cell_type": "code",
   "execution_count": 6,
   "id": "0b3b0fb0",
   "metadata": {},
   "outputs": [],
   "source": [
    "# Get autoencoder model\n",
    "def AE_Model(train_data, LeReLU_alpha=0.01, batch_size=256):\n",
    "    \n",
    "    input_layer = Input(shape=(train_data.shape[1],), name='ae_input')\n",
    "    \n",
    "    encoder = Dense(1024, activation=LeakyReLU(negative_slope=LeReLU_alpha), name='e1')(input_layer)\n",
    "    encoder = Dense(512, activation=LeakyReLU(negative_slope=LeReLU_alpha), name='e2')(encoder)\n",
    "    encoder = Dense(256, activation=LeakyReLU(negative_slope=LeReLU_alpha), name='e3')(encoder)\n",
    "    encoder = Dense(128, activation=LeakyReLU(negative_slope=LeReLU_alpha), name='e4')(encoder)\n",
    "    encoder = Dense(64, activation=LeakyReLU(negative_slope=LeReLU_alpha), name='e5')(encoder)\n",
    "    encoder = Dense(32, activation=LeakyReLU(negative_slope=LeReLU_alpha), name='e6')(encoder)\n",
    "\n",
    "    encoded = Dense(2, activation='linear', name='ae_latent')(encoder)\n",
    "    \n",
    "    decoder = Dense(32, activation=LeakyReLU(negative_slope=LeReLU_alpha), name='d6')(encoded)\n",
    "    decoder = Dense(64, activation=LeakyReLU(negative_slope=LeReLU_alpha), name='d5')(decoder)\n",
    "    decoder = Dense(128, activation=LeakyReLU(negative_slope=LeReLU_alpha), name='d4')(decoder)\n",
    "    decoder = Dense(256, activation=LeakyReLU(negative_slope=LeReLU_alpha), name='d3')(decoder)\n",
    "    decoder = Dense(512, activation=LeakyReLU(negative_slope=LeReLU_alpha), name='d2')(decoder)\n",
    "    decoder = Dense(1024, activation=LeakyReLU(negative_slope=LeReLU_alpha), name='d1')(decoder)\n",
    "\n",
    "    output_layer = Dense(train_data.shape[1], activation='linear', name='ae_output')(decoder)\n",
    "    \n",
    "    model = Model(inputs=input_layer, outputs=output_layer)\n",
    "    model.compile(optimizer=Adam(learning_rate=1e-5), loss=MeanSquaredError())\n",
    "    \n",
    "    model.summary()\n",
    "    \n",
    "    return model"
   ]
  },
  {
   "cell_type": "markdown",
   "id": "e11b2ec2-a324-4e7d-bc92-d110313f38a8",
   "metadata": {
    "jp-MarkdownHeadingCollapsed": true
   },
   "source": [
    "# Model 1"
   ]
  },
  {
   "cell_type": "code",
   "execution_count": null,
   "id": "631ae205-6501-45b2-a9af-d8ad3d4b043d",
   "metadata": {},
   "outputs": [],
   "source": [
    "base_folder = \"AE_Data/Unfiltered_Shuffled_Compaction_Data\"\n",
    "X_train_loaded, y_train_loaded, X_valid_loaded, y_valid_loaded = load_datasets(fold=1, base_folder=base_folder)"
   ]
  },
  {
   "cell_type": "code",
   "execution_count": 10,
   "id": "716cfaea-f202-4403-935a-ff6d85a5c603",
   "metadata": {
    "scrolled": true
   },
   "outputs": [
    {
     "data": {
      "text/html": [
       "<pre style=\"white-space:pre;overflow-x:auto;line-height:normal;font-family:Menlo,'DejaVu Sans Mono',consolas,'Courier New',monospace\"><span style=\"font-weight: bold\">Model: \"functional_2\"</span>\n",
       "</pre>\n"
      ],
      "text/plain": [
       "\u001b[1mModel: \"functional_2\"\u001b[0m\n"
      ]
     },
     "metadata": {},
     "output_type": "display_data"
    },
    {
     "data": {
      "text/html": [
       "<pre style=\"white-space:pre;overflow-x:auto;line-height:normal;font-family:Menlo,'DejaVu Sans Mono',consolas,'Courier New',monospace\">┏━━━━━━━━━━━━━━━━━━━━━━━━━━━━━━━━━┳━━━━━━━━━━━━━━━━━━━━━━━━┳━━━━━━━━━━━━━━━┓\n",
       "┃<span style=\"font-weight: bold\"> Layer (type)                    </span>┃<span style=\"font-weight: bold\"> Output Shape           </span>┃<span style=\"font-weight: bold\">       Param # </span>┃\n",
       "┡━━━━━━━━━━━━━━━━━━━━━━━━━━━━━━━━━╇━━━━━━━━━━━━━━━━━━━━━━━━╇━━━━━━━━━━━━━━━┩\n",
       "│ ae_input (<span style=\"color: #0087ff; text-decoration-color: #0087ff\">InputLayer</span>)           │ (<span style=\"color: #00d7ff; text-decoration-color: #00d7ff\">None</span>, <span style=\"color: #00af00; text-decoration-color: #00af00\">2175</span>)           │             <span style=\"color: #00af00; text-decoration-color: #00af00\">0</span> │\n",
       "├─────────────────────────────────┼────────────────────────┼───────────────┤\n",
       "│ e1 (<span style=\"color: #0087ff; text-decoration-color: #0087ff\">Dense</span>)                      │ (<span style=\"color: #00d7ff; text-decoration-color: #00d7ff\">None</span>, <span style=\"color: #00af00; text-decoration-color: #00af00\">1024</span>)           │     <span style=\"color: #00af00; text-decoration-color: #00af00\">2,228,224</span> │\n",
       "├─────────────────────────────────┼────────────────────────┼───────────────┤\n",
       "│ e2 (<span style=\"color: #0087ff; text-decoration-color: #0087ff\">Dense</span>)                      │ (<span style=\"color: #00d7ff; text-decoration-color: #00d7ff\">None</span>, <span style=\"color: #00af00; text-decoration-color: #00af00\">512</span>)            │       <span style=\"color: #00af00; text-decoration-color: #00af00\">524,800</span> │\n",
       "├─────────────────────────────────┼────────────────────────┼───────────────┤\n",
       "│ e3 (<span style=\"color: #0087ff; text-decoration-color: #0087ff\">Dense</span>)                      │ (<span style=\"color: #00d7ff; text-decoration-color: #00d7ff\">None</span>, <span style=\"color: #00af00; text-decoration-color: #00af00\">256</span>)            │       <span style=\"color: #00af00; text-decoration-color: #00af00\">131,328</span> │\n",
       "├─────────────────────────────────┼────────────────────────┼───────────────┤\n",
       "│ e4 (<span style=\"color: #0087ff; text-decoration-color: #0087ff\">Dense</span>)                      │ (<span style=\"color: #00d7ff; text-decoration-color: #00d7ff\">None</span>, <span style=\"color: #00af00; text-decoration-color: #00af00\">128</span>)            │        <span style=\"color: #00af00; text-decoration-color: #00af00\">32,896</span> │\n",
       "├─────────────────────────────────┼────────────────────────┼───────────────┤\n",
       "│ e5 (<span style=\"color: #0087ff; text-decoration-color: #0087ff\">Dense</span>)                      │ (<span style=\"color: #00d7ff; text-decoration-color: #00d7ff\">None</span>, <span style=\"color: #00af00; text-decoration-color: #00af00\">64</span>)             │         <span style=\"color: #00af00; text-decoration-color: #00af00\">8,256</span> │\n",
       "├─────────────────────────────────┼────────────────────────┼───────────────┤\n",
       "│ e6 (<span style=\"color: #0087ff; text-decoration-color: #0087ff\">Dense</span>)                      │ (<span style=\"color: #00d7ff; text-decoration-color: #00d7ff\">None</span>, <span style=\"color: #00af00; text-decoration-color: #00af00\">32</span>)             │         <span style=\"color: #00af00; text-decoration-color: #00af00\">2,080</span> │\n",
       "├─────────────────────────────────┼────────────────────────┼───────────────┤\n",
       "│ ae_latent (<span style=\"color: #0087ff; text-decoration-color: #0087ff\">Dense</span>)               │ (<span style=\"color: #00d7ff; text-decoration-color: #00d7ff\">None</span>, <span style=\"color: #00af00; text-decoration-color: #00af00\">2</span>)              │            <span style=\"color: #00af00; text-decoration-color: #00af00\">66</span> │\n",
       "├─────────────────────────────────┼────────────────────────┼───────────────┤\n",
       "│ d6 (<span style=\"color: #0087ff; text-decoration-color: #0087ff\">Dense</span>)                      │ (<span style=\"color: #00d7ff; text-decoration-color: #00d7ff\">None</span>, <span style=\"color: #00af00; text-decoration-color: #00af00\">32</span>)             │            <span style=\"color: #00af00; text-decoration-color: #00af00\">96</span> │\n",
       "├─────────────────────────────────┼────────────────────────┼───────────────┤\n",
       "│ d5 (<span style=\"color: #0087ff; text-decoration-color: #0087ff\">Dense</span>)                      │ (<span style=\"color: #00d7ff; text-decoration-color: #00d7ff\">None</span>, <span style=\"color: #00af00; text-decoration-color: #00af00\">64</span>)             │         <span style=\"color: #00af00; text-decoration-color: #00af00\">2,112</span> │\n",
       "├─────────────────────────────────┼────────────────────────┼───────────────┤\n",
       "│ d4 (<span style=\"color: #0087ff; text-decoration-color: #0087ff\">Dense</span>)                      │ (<span style=\"color: #00d7ff; text-decoration-color: #00d7ff\">None</span>, <span style=\"color: #00af00; text-decoration-color: #00af00\">128</span>)            │         <span style=\"color: #00af00; text-decoration-color: #00af00\">8,320</span> │\n",
       "├─────────────────────────────────┼────────────────────────┼───────────────┤\n",
       "│ d3 (<span style=\"color: #0087ff; text-decoration-color: #0087ff\">Dense</span>)                      │ (<span style=\"color: #00d7ff; text-decoration-color: #00d7ff\">None</span>, <span style=\"color: #00af00; text-decoration-color: #00af00\">256</span>)            │        <span style=\"color: #00af00; text-decoration-color: #00af00\">33,024</span> │\n",
       "├─────────────────────────────────┼────────────────────────┼───────────────┤\n",
       "│ d2 (<span style=\"color: #0087ff; text-decoration-color: #0087ff\">Dense</span>)                      │ (<span style=\"color: #00d7ff; text-decoration-color: #00d7ff\">None</span>, <span style=\"color: #00af00; text-decoration-color: #00af00\">512</span>)            │       <span style=\"color: #00af00; text-decoration-color: #00af00\">131,584</span> │\n",
       "├─────────────────────────────────┼────────────────────────┼───────────────┤\n",
       "│ d1 (<span style=\"color: #0087ff; text-decoration-color: #0087ff\">Dense</span>)                      │ (<span style=\"color: #00d7ff; text-decoration-color: #00d7ff\">None</span>, <span style=\"color: #00af00; text-decoration-color: #00af00\">1024</span>)           │       <span style=\"color: #00af00; text-decoration-color: #00af00\">525,312</span> │\n",
       "├─────────────────────────────────┼────────────────────────┼───────────────┤\n",
       "│ ae_output (<span style=\"color: #0087ff; text-decoration-color: #0087ff\">Dense</span>)               │ (<span style=\"color: #00d7ff; text-decoration-color: #00d7ff\">None</span>, <span style=\"color: #00af00; text-decoration-color: #00af00\">2175</span>)           │     <span style=\"color: #00af00; text-decoration-color: #00af00\">2,229,375</span> │\n",
       "└─────────────────────────────────┴────────────────────────┴───────────────┘\n",
       "</pre>\n"
      ],
      "text/plain": [
       "┏━━━━━━━━━━━━━━━━━━━━━━━━━━━━━━━━━┳━━━━━━━━━━━━━━━━━━━━━━━━┳━━━━━━━━━━━━━━━┓\n",
       "┃\u001b[1m \u001b[0m\u001b[1mLayer (type)                   \u001b[0m\u001b[1m \u001b[0m┃\u001b[1m \u001b[0m\u001b[1mOutput Shape          \u001b[0m\u001b[1m \u001b[0m┃\u001b[1m \u001b[0m\u001b[1m      Param #\u001b[0m\u001b[1m \u001b[0m┃\n",
       "┡━━━━━━━━━━━━━━━━━━━━━━━━━━━━━━━━━╇━━━━━━━━━━━━━━━━━━━━━━━━╇━━━━━━━━━━━━━━━┩\n",
       "│ ae_input (\u001b[38;5;33mInputLayer\u001b[0m)           │ (\u001b[38;5;45mNone\u001b[0m, \u001b[38;5;34m2175\u001b[0m)           │             \u001b[38;5;34m0\u001b[0m │\n",
       "├─────────────────────────────────┼────────────────────────┼───────────────┤\n",
       "│ e1 (\u001b[38;5;33mDense\u001b[0m)                      │ (\u001b[38;5;45mNone\u001b[0m, \u001b[38;5;34m1024\u001b[0m)           │     \u001b[38;5;34m2,228,224\u001b[0m │\n",
       "├─────────────────────────────────┼────────────────────────┼───────────────┤\n",
       "│ e2 (\u001b[38;5;33mDense\u001b[0m)                      │ (\u001b[38;5;45mNone\u001b[0m, \u001b[38;5;34m512\u001b[0m)            │       \u001b[38;5;34m524,800\u001b[0m │\n",
       "├─────────────────────────────────┼────────────────────────┼───────────────┤\n",
       "│ e3 (\u001b[38;5;33mDense\u001b[0m)                      │ (\u001b[38;5;45mNone\u001b[0m, \u001b[38;5;34m256\u001b[0m)            │       \u001b[38;5;34m131,328\u001b[0m │\n",
       "├─────────────────────────────────┼────────────────────────┼───────────────┤\n",
       "│ e4 (\u001b[38;5;33mDense\u001b[0m)                      │ (\u001b[38;5;45mNone\u001b[0m, \u001b[38;5;34m128\u001b[0m)            │        \u001b[38;5;34m32,896\u001b[0m │\n",
       "├─────────────────────────────────┼────────────────────────┼───────────────┤\n",
       "│ e5 (\u001b[38;5;33mDense\u001b[0m)                      │ (\u001b[38;5;45mNone\u001b[0m, \u001b[38;5;34m64\u001b[0m)             │         \u001b[38;5;34m8,256\u001b[0m │\n",
       "├─────────────────────────────────┼────────────────────────┼───────────────┤\n",
       "│ e6 (\u001b[38;5;33mDense\u001b[0m)                      │ (\u001b[38;5;45mNone\u001b[0m, \u001b[38;5;34m32\u001b[0m)             │         \u001b[38;5;34m2,080\u001b[0m │\n",
       "├─────────────────────────────────┼────────────────────────┼───────────────┤\n",
       "│ ae_latent (\u001b[38;5;33mDense\u001b[0m)               │ (\u001b[38;5;45mNone\u001b[0m, \u001b[38;5;34m2\u001b[0m)              │            \u001b[38;5;34m66\u001b[0m │\n",
       "├─────────────────────────────────┼────────────────────────┼───────────────┤\n",
       "│ d6 (\u001b[38;5;33mDense\u001b[0m)                      │ (\u001b[38;5;45mNone\u001b[0m, \u001b[38;5;34m32\u001b[0m)             │            \u001b[38;5;34m96\u001b[0m │\n",
       "├─────────────────────────────────┼────────────────────────┼───────────────┤\n",
       "│ d5 (\u001b[38;5;33mDense\u001b[0m)                      │ (\u001b[38;5;45mNone\u001b[0m, \u001b[38;5;34m64\u001b[0m)             │         \u001b[38;5;34m2,112\u001b[0m │\n",
       "├─────────────────────────────────┼────────────────────────┼───────────────┤\n",
       "│ d4 (\u001b[38;5;33mDense\u001b[0m)                      │ (\u001b[38;5;45mNone\u001b[0m, \u001b[38;5;34m128\u001b[0m)            │         \u001b[38;5;34m8,320\u001b[0m │\n",
       "├─────────────────────────────────┼────────────────────────┼───────────────┤\n",
       "│ d3 (\u001b[38;5;33mDense\u001b[0m)                      │ (\u001b[38;5;45mNone\u001b[0m, \u001b[38;5;34m256\u001b[0m)            │        \u001b[38;5;34m33,024\u001b[0m │\n",
       "├─────────────────────────────────┼────────────────────────┼───────────────┤\n",
       "│ d2 (\u001b[38;5;33mDense\u001b[0m)                      │ (\u001b[38;5;45mNone\u001b[0m, \u001b[38;5;34m512\u001b[0m)            │       \u001b[38;5;34m131,584\u001b[0m │\n",
       "├─────────────────────────────────┼────────────────────────┼───────────────┤\n",
       "│ d1 (\u001b[38;5;33mDense\u001b[0m)                      │ (\u001b[38;5;45mNone\u001b[0m, \u001b[38;5;34m1024\u001b[0m)           │       \u001b[38;5;34m525,312\u001b[0m │\n",
       "├─────────────────────────────────┼────────────────────────┼───────────────┤\n",
       "│ ae_output (\u001b[38;5;33mDense\u001b[0m)               │ (\u001b[38;5;45mNone\u001b[0m, \u001b[38;5;34m2175\u001b[0m)           │     \u001b[38;5;34m2,229,375\u001b[0m │\n",
       "└─────────────────────────────────┴────────────────────────┴───────────────┘\n"
      ]
     },
     "metadata": {},
     "output_type": "display_data"
    },
    {
     "data": {
      "text/html": [
       "<pre style=\"white-space:pre;overflow-x:auto;line-height:normal;font-family:Menlo,'DejaVu Sans Mono',consolas,'Courier New',monospace\"><span style=\"font-weight: bold\"> Total params: </span><span style=\"color: #00af00; text-decoration-color: #00af00\">5,857,473</span> (22.34 MB)\n",
       "</pre>\n"
      ],
      "text/plain": [
       "\u001b[1m Total params: \u001b[0m\u001b[38;5;34m5,857,473\u001b[0m (22.34 MB)\n"
      ]
     },
     "metadata": {},
     "output_type": "display_data"
    },
    {
     "data": {
      "text/html": [
       "<pre style=\"white-space:pre;overflow-x:auto;line-height:normal;font-family:Menlo,'DejaVu Sans Mono',consolas,'Courier New',monospace\"><span style=\"font-weight: bold\"> Trainable params: </span><span style=\"color: #00af00; text-decoration-color: #00af00\">5,857,473</span> (22.34 MB)\n",
       "</pre>\n"
      ],
      "text/plain": [
       "\u001b[1m Trainable params: \u001b[0m\u001b[38;5;34m5,857,473\u001b[0m (22.34 MB)\n"
      ]
     },
     "metadata": {},
     "output_type": "display_data"
    },
    {
     "data": {
      "text/html": [
       "<pre style=\"white-space:pre;overflow-x:auto;line-height:normal;font-family:Menlo,'DejaVu Sans Mono',consolas,'Courier New',monospace\"><span style=\"font-weight: bold\"> Non-trainable params: </span><span style=\"color: #00af00; text-decoration-color: #00af00\">0</span> (0.00 B)\n",
       "</pre>\n"
      ],
      "text/plain": [
       "\u001b[1m Non-trainable params: \u001b[0m\u001b[38;5;34m0\u001b[0m (0.00 B)\n"
      ]
     },
     "metadata": {},
     "output_type": "display_data"
    },
    {
     "name": "stderr",
     "output_type": "stream",
     "text": [
      "  0%|                                                   | 0/101 [00:00<?, ?it/s]"
     ]
    },
    {
     "data": {
      "text/html": [
       "<pre style=\"white-space:pre;overflow-x:auto;line-height:normal;font-family:Menlo,'DejaVu Sans Mono',consolas,'Courier New',monospace\"></pre>\n"
      ],
      "text/plain": []
     },
     "metadata": {},
     "output_type": "display_data"
    },
    {
     "name": "stderr",
     "output_type": "stream",
     "text": [
      "  1%|▍                                      | 1/101 [12:56<21:34:58, 776.99s/it]"
     ]
    },
    {
     "data": {
      "text/html": [
       "<pre style=\"white-space:pre;overflow-x:auto;line-height:normal;font-family:Menlo,'DejaVu Sans Mono',consolas,'Courier New',monospace\"></pre>\n"
      ],
      "text/plain": []
     },
     "metadata": {},
     "output_type": "display_data"
    },
    {
     "name": "stderr",
     "output_type": "stream",
     "text": [
      "  2%|▊                                      | 2/101 [25:54<21:22:09, 777.06s/it]"
     ]
    },
    {
     "data": {
      "text/html": [
       "<pre style=\"white-space:pre;overflow-x:auto;line-height:normal;font-family:Menlo,'DejaVu Sans Mono',consolas,'Courier New',monospace\"></pre>\n"
      ],
      "text/plain": []
     },
     "metadata": {},
     "output_type": "display_data"
    },
    {
     "name": "stderr",
     "output_type": "stream",
     "text": [
      "  3%|█▏                                     | 3/101 [38:51<21:09:22, 777.17s/it]"
     ]
    },
    {
     "data": {
      "text/html": [
       "<pre style=\"white-space:pre;overflow-x:auto;line-height:normal;font-family:Menlo,'DejaVu Sans Mono',consolas,'Courier New',monospace\"></pre>\n"
      ],
      "text/plain": []
     },
     "metadata": {},
     "output_type": "display_data"
    },
    {
     "name": "stderr",
     "output_type": "stream",
     "text": [
      "  4%|█▌                                     | 4/101 [51:50<20:57:33, 777.87s/it]"
     ]
    },
    {
     "data": {
      "text/html": [
       "<pre style=\"white-space:pre;overflow-x:auto;line-height:normal;font-family:Menlo,'DejaVu Sans Mono',consolas,'Courier New',monospace\"></pre>\n"
      ],
      "text/plain": []
     },
     "metadata": {},
     "output_type": "display_data"
    },
    {
     "name": "stderr",
     "output_type": "stream",
     "text": [
      "  5%|█▊                                   | 5/101 [1:04:47<20:44:02, 777.52s/it]"
     ]
    },
    {
     "data": {
      "text/html": [
       "<pre style=\"white-space:pre;overflow-x:auto;line-height:normal;font-family:Menlo,'DejaVu Sans Mono',consolas,'Courier New',monospace\"></pre>\n"
      ],
      "text/plain": []
     },
     "metadata": {},
     "output_type": "display_data"
    },
    {
     "name": "stderr",
     "output_type": "stream",
     "text": [
      "  6%|██▏                                  | 6/101 [1:17:48<20:33:20, 778.96s/it]"
     ]
    },
    {
     "data": {
      "text/html": [
       "<pre style=\"white-space:pre;overflow-x:auto;line-height:normal;font-family:Menlo,'DejaVu Sans Mono',consolas,'Courier New',monospace\"></pre>\n"
      ],
      "text/plain": []
     },
     "metadata": {},
     "output_type": "display_data"
    },
    {
     "name": "stderr",
     "output_type": "stream",
     "text": [
      "  7%|██▌                                  | 7/101 [1:30:46<20:19:24, 778.35s/it]"
     ]
    },
    {
     "data": {
      "text/html": [
       "<pre style=\"white-space:pre;overflow-x:auto;line-height:normal;font-family:Menlo,'DejaVu Sans Mono',consolas,'Courier New',monospace\"></pre>\n"
      ],
      "text/plain": []
     },
     "metadata": {},
     "output_type": "display_data"
    },
    {
     "name": "stderr",
     "output_type": "stream",
     "text": [
      "  8%|██▉                                  | 8/101 [1:43:43<20:06:08, 778.16s/it]"
     ]
    },
    {
     "data": {
      "text/html": [
       "<pre style=\"white-space:pre;overflow-x:auto;line-height:normal;font-family:Menlo,'DejaVu Sans Mono',consolas,'Courier New',monospace\"></pre>\n"
      ],
      "text/plain": []
     },
     "metadata": {},
     "output_type": "display_data"
    },
    {
     "name": "stderr",
     "output_type": "stream",
     "text": [
      "  9%|███▎                                 | 9/101 [1:56:40<19:52:25, 777.67s/it]"
     ]
    },
    {
     "data": {
      "text/html": [
       "<pre style=\"white-space:pre;overflow-x:auto;line-height:normal;font-family:Menlo,'DejaVu Sans Mono',consolas,'Courier New',monospace\"></pre>\n"
      ],
      "text/plain": []
     },
     "metadata": {},
     "output_type": "display_data"
    },
    {
     "name": "stderr",
     "output_type": "stream",
     "text": [
      " 10%|███▌                                | 10/101 [2:09:38<19:39:25, 777.64s/it]"
     ]
    },
    {
     "data": {
      "text/html": [
       "<pre style=\"white-space:pre;overflow-x:auto;line-height:normal;font-family:Menlo,'DejaVu Sans Mono',consolas,'Courier New',monospace\"></pre>\n"
      ],
      "text/plain": []
     },
     "metadata": {},
     "output_type": "display_data"
    },
    {
     "name": "stderr",
     "output_type": "stream",
     "text": [
      " 11%|███▉                                | 11/101 [2:22:34<19:25:49, 777.21s/it]"
     ]
    },
    {
     "data": {
      "text/html": [
       "<pre style=\"white-space:pre;overflow-x:auto;line-height:normal;font-family:Menlo,'DejaVu Sans Mono',consolas,'Courier New',monospace\"></pre>\n"
      ],
      "text/plain": []
     },
     "metadata": {},
     "output_type": "display_data"
    },
    {
     "name": "stderr",
     "output_type": "stream",
     "text": [
      " 12%|████▎                               | 12/101 [2:35:34<19:14:25, 778.26s/it]"
     ]
    },
    {
     "data": {
      "text/html": [
       "<pre style=\"white-space:pre;overflow-x:auto;line-height:normal;font-family:Menlo,'DejaVu Sans Mono',consolas,'Courier New',monospace\"></pre>\n"
      ],
      "text/plain": []
     },
     "metadata": {},
     "output_type": "display_data"
    },
    {
     "name": "stderr",
     "output_type": "stream",
     "text": [
      " 13%|████▋                               | 13/101 [2:48:33<19:01:34, 778.34s/it]"
     ]
    },
    {
     "data": {
      "text/html": [
       "<pre style=\"white-space:pre;overflow-x:auto;line-height:normal;font-family:Menlo,'DejaVu Sans Mono',consolas,'Courier New',monospace\"></pre>\n"
      ],
      "text/plain": []
     },
     "metadata": {},
     "output_type": "display_data"
    },
    {
     "name": "stderr",
     "output_type": "stream",
     "text": [
      " 14%|████▉                               | 14/101 [3:01:30<18:48:00, 777.94s/it]"
     ]
    },
    {
     "data": {
      "text/html": [
       "<pre style=\"white-space:pre;overflow-x:auto;line-height:normal;font-family:Menlo,'DejaVu Sans Mono',consolas,'Courier New',monospace\"></pre>\n"
      ],
      "text/plain": []
     },
     "metadata": {},
     "output_type": "display_data"
    },
    {
     "name": "stderr",
     "output_type": "stream",
     "text": [
      " 15%|█████▎                              | 15/101 [3:14:29<18:35:22, 778.16s/it]"
     ]
    },
    {
     "data": {
      "text/html": [
       "<pre style=\"white-space:pre;overflow-x:auto;line-height:normal;font-family:Menlo,'DejaVu Sans Mono',consolas,'Courier New',monospace\"></pre>\n"
      ],
      "text/plain": []
     },
     "metadata": {},
     "output_type": "display_data"
    },
    {
     "name": "stderr",
     "output_type": "stream",
     "text": [
      " 16%|█████▋                              | 16/101 [3:27:26<18:21:51, 777.78s/it]"
     ]
    },
    {
     "data": {
      "text/html": [
       "<pre style=\"white-space:pre;overflow-x:auto;line-height:normal;font-family:Menlo,'DejaVu Sans Mono',consolas,'Courier New',monospace\"></pre>\n"
      ],
      "text/plain": []
     },
     "metadata": {},
     "output_type": "display_data"
    },
    {
     "name": "stderr",
     "output_type": "stream",
     "text": [
      " 17%|██████                              | 17/101 [3:40:22<18:08:21, 777.40s/it]"
     ]
    },
    {
     "data": {
      "text/html": [
       "<pre style=\"white-space:pre;overflow-x:auto;line-height:normal;font-family:Menlo,'DejaVu Sans Mono',consolas,'Courier New',monospace\"></pre>\n"
      ],
      "text/plain": []
     },
     "metadata": {},
     "output_type": "display_data"
    },
    {
     "name": "stderr",
     "output_type": "stream",
     "text": [
      " 18%|██████▍                             | 18/101 [3:53:21<17:56:12, 777.98s/it]"
     ]
    },
    {
     "data": {
      "text/html": [
       "<pre style=\"white-space:pre;overflow-x:auto;line-height:normal;font-family:Menlo,'DejaVu Sans Mono',consolas,'Courier New',monospace\"></pre>\n"
      ],
      "text/plain": []
     },
     "metadata": {},
     "output_type": "display_data"
    },
    {
     "name": "stderr",
     "output_type": "stream",
     "text": [
      " 19%|██████▊                             | 19/101 [4:06:21<17:43:45, 778.36s/it]"
     ]
    },
    {
     "data": {
      "text/html": [
       "<pre style=\"white-space:pre;overflow-x:auto;line-height:normal;font-family:Menlo,'DejaVu Sans Mono',consolas,'Courier New',monospace\"></pre>\n"
      ],
      "text/plain": []
     },
     "metadata": {},
     "output_type": "display_data"
    },
    {
     "name": "stderr",
     "output_type": "stream",
     "text": [
      "/tmp/ipykernel_1245353/2291664698.py:79: RuntimeWarning: More than 20 figures have been opened. Figures created through the pyplot interface (`matplotlib.pyplot.figure`) are retained until explicitly closed and may consume too much memory. (To control this warning, see the rcParam `figure.max_open_warning`). Consider using `matplotlib.pyplot.close()`.\n",
      "  plt.figure(figsize=(8, 6))\n",
      " 20%|███████▏                            | 20/101 [4:19:18<17:30:32, 778.18s/it]"
     ]
    },
    {
     "data": {
      "text/html": [
       "<pre style=\"white-space:pre;overflow-x:auto;line-height:normal;font-family:Menlo,'DejaVu Sans Mono',consolas,'Courier New',monospace\"></pre>\n"
      ],
      "text/plain": []
     },
     "metadata": {},
     "output_type": "display_data"
    },
    {
     "name": "stderr",
     "output_type": "stream",
     "text": [
      " 21%|███████▍                            | 21/101 [4:32:18<17:17:58, 778.48s/it]"
     ]
    },
    {
     "data": {
      "text/html": [
       "<pre style=\"white-space:pre;overflow-x:auto;line-height:normal;font-family:Menlo,'DejaVu Sans Mono',consolas,'Courier New',monospace\"></pre>\n"
      ],
      "text/plain": []
     },
     "metadata": {},
     "output_type": "display_data"
    },
    {
     "name": "stderr",
     "output_type": "stream",
     "text": [
      " 22%|███████▊                            | 22/101 [4:45:15<17:04:42, 778.26s/it]"
     ]
    },
    {
     "data": {
      "text/html": [
       "<pre style=\"white-space:pre;overflow-x:auto;line-height:normal;font-family:Menlo,'DejaVu Sans Mono',consolas,'Courier New',monospace\"></pre>\n"
      ],
      "text/plain": []
     },
     "metadata": {},
     "output_type": "display_data"
    },
    {
     "name": "stderr",
     "output_type": "stream",
     "text": [
      " 23%|████████▏                           | 23/101 [4:58:15<16:52:17, 778.68s/it]"
     ]
    },
    {
     "data": {
      "text/html": [
       "<pre style=\"white-space:pre;overflow-x:auto;line-height:normal;font-family:Menlo,'DejaVu Sans Mono',consolas,'Courier New',monospace\"></pre>\n"
      ],
      "text/plain": []
     },
     "metadata": {},
     "output_type": "display_data"
    },
    {
     "name": "stderr",
     "output_type": "stream",
     "text": [
      " 24%|████████▌                           | 24/101 [5:11:15<16:39:56, 779.18s/it]"
     ]
    },
    {
     "data": {
      "text/html": [
       "<pre style=\"white-space:pre;overflow-x:auto;line-height:normal;font-family:Menlo,'DejaVu Sans Mono',consolas,'Courier New',monospace\"></pre>\n"
      ],
      "text/plain": []
     },
     "metadata": {},
     "output_type": "display_data"
    },
    {
     "name": "stderr",
     "output_type": "stream",
     "text": [
      " 25%|████████▉                           | 25/101 [5:24:14<16:26:52, 779.11s/it]"
     ]
    },
    {
     "data": {
      "text/html": [
       "<pre style=\"white-space:pre;overflow-x:auto;line-height:normal;font-family:Menlo,'DejaVu Sans Mono',consolas,'Courier New',monospace\"></pre>\n"
      ],
      "text/plain": []
     },
     "metadata": {},
     "output_type": "display_data"
    },
    {
     "name": "stderr",
     "output_type": "stream",
     "text": [
      " 26%|█████████▎                          | 26/101 [5:37:13<16:13:44, 779.00s/it]"
     ]
    },
    {
     "data": {
      "text/html": [
       "<pre style=\"white-space:pre;overflow-x:auto;line-height:normal;font-family:Menlo,'DejaVu Sans Mono',consolas,'Courier New',monospace\"></pre>\n"
      ],
      "text/plain": []
     },
     "metadata": {},
     "output_type": "display_data"
    },
    {
     "name": "stderr",
     "output_type": "stream",
     "text": [
      " 27%|█████████▌                          | 27/101 [5:50:09<15:59:49, 778.24s/it]"
     ]
    },
    {
     "data": {
      "text/html": [
       "<pre style=\"white-space:pre;overflow-x:auto;line-height:normal;font-family:Menlo,'DejaVu Sans Mono',consolas,'Courier New',monospace\"></pre>\n"
      ],
      "text/plain": []
     },
     "metadata": {},
     "output_type": "display_data"
    },
    {
     "name": "stderr",
     "output_type": "stream",
     "text": [
      " 28%|█████████▉                          | 28/101 [6:03:06<15:46:21, 777.83s/it]"
     ]
    },
    {
     "data": {
      "text/html": [
       "<pre style=\"white-space:pre;overflow-x:auto;line-height:normal;font-family:Menlo,'DejaVu Sans Mono',consolas,'Courier New',monospace\"></pre>\n"
      ],
      "text/plain": []
     },
     "metadata": {},
     "output_type": "display_data"
    },
    {
     "name": "stderr",
     "output_type": "stream",
     "text": [
      " 29%|██████████▎                         | 29/101 [6:16:05<15:33:36, 778.01s/it]"
     ]
    },
    {
     "data": {
      "text/html": [
       "<pre style=\"white-space:pre;overflow-x:auto;line-height:normal;font-family:Menlo,'DejaVu Sans Mono',consolas,'Courier New',monospace\"></pre>\n"
      ],
      "text/plain": []
     },
     "metadata": {},
     "output_type": "display_data"
    },
    {
     "name": "stderr",
     "output_type": "stream",
     "text": [
      " 30%|██████████▋                         | 30/101 [6:29:06<15:21:46, 778.97s/it]"
     ]
    },
    {
     "data": {
      "text/html": [
       "<pre style=\"white-space:pre;overflow-x:auto;line-height:normal;font-family:Menlo,'DejaVu Sans Mono',consolas,'Courier New',monospace\"></pre>\n"
      ],
      "text/plain": []
     },
     "metadata": {},
     "output_type": "display_data"
    },
    {
     "name": "stderr",
     "output_type": "stream",
     "text": [
      " 31%|███████████                         | 31/101 [6:42:06<15:09:01, 779.17s/it]"
     ]
    },
    {
     "data": {
      "text/html": [
       "<pre style=\"white-space:pre;overflow-x:auto;line-height:normal;font-family:Menlo,'DejaVu Sans Mono',consolas,'Courier New',monospace\"></pre>\n"
      ],
      "text/plain": []
     },
     "metadata": {},
     "output_type": "display_data"
    },
    {
     "name": "stderr",
     "output_type": "stream",
     "text": [
      " 32%|███████████▍                        | 32/101 [6:55:05<14:56:02, 779.17s/it]"
     ]
    },
    {
     "data": {
      "text/html": [
       "<pre style=\"white-space:pre;overflow-x:auto;line-height:normal;font-family:Menlo,'DejaVu Sans Mono',consolas,'Courier New',monospace\"></pre>\n"
      ],
      "text/plain": []
     },
     "metadata": {},
     "output_type": "display_data"
    },
    {
     "name": "stderr",
     "output_type": "stream",
     "text": [
      " 33%|███████████▊                        | 33/101 [7:08:03<14:42:51, 779.00s/it]"
     ]
    },
    {
     "data": {
      "text/html": [
       "<pre style=\"white-space:pre;overflow-x:auto;line-height:normal;font-family:Menlo,'DejaVu Sans Mono',consolas,'Courier New',monospace\"></pre>\n"
      ],
      "text/plain": []
     },
     "metadata": {},
     "output_type": "display_data"
    },
    {
     "name": "stderr",
     "output_type": "stream",
     "text": [
      " 34%|████████████                        | 34/101 [7:20:59<14:28:48, 778.04s/it]"
     ]
    },
    {
     "data": {
      "text/html": [
       "<pre style=\"white-space:pre;overflow-x:auto;line-height:normal;font-family:Menlo,'DejaVu Sans Mono',consolas,'Courier New',monospace\"></pre>\n"
      ],
      "text/plain": []
     },
     "metadata": {},
     "output_type": "display_data"
    },
    {
     "name": "stderr",
     "output_type": "stream",
     "text": [
      " 35%|████████████▍                       | 35/101 [7:33:57<14:15:44, 777.95s/it]"
     ]
    },
    {
     "data": {
      "text/html": [
       "<pre style=\"white-space:pre;overflow-x:auto;line-height:normal;font-family:Menlo,'DejaVu Sans Mono',consolas,'Courier New',monospace\"></pre>\n"
      ],
      "text/plain": []
     },
     "metadata": {},
     "output_type": "display_data"
    },
    {
     "name": "stderr",
     "output_type": "stream",
     "text": [
      " 36%|████████████▊                       | 36/101 [7:46:55<14:02:58, 778.13s/it]"
     ]
    },
    {
     "data": {
      "text/html": [
       "<pre style=\"white-space:pre;overflow-x:auto;line-height:normal;font-family:Menlo,'DejaVu Sans Mono',consolas,'Courier New',monospace\"></pre>\n"
      ],
      "text/plain": []
     },
     "metadata": {},
     "output_type": "display_data"
    },
    {
     "name": "stderr",
     "output_type": "stream",
     "text": [
      " 37%|█████████████▏                      | 37/101 [7:59:55<13:50:21, 778.46s/it]"
     ]
    },
    {
     "data": {
      "text/html": [
       "<pre style=\"white-space:pre;overflow-x:auto;line-height:normal;font-family:Menlo,'DejaVu Sans Mono',consolas,'Courier New',monospace\"></pre>\n"
      ],
      "text/plain": []
     },
     "metadata": {},
     "output_type": "display_data"
    },
    {
     "name": "stderr",
     "output_type": "stream",
     "text": [
      " 38%|█████████████▌                      | 38/101 [8:12:54<13:37:37, 778.70s/it]"
     ]
    },
    {
     "data": {
      "text/html": [
       "<pre style=\"white-space:pre;overflow-x:auto;line-height:normal;font-family:Menlo,'DejaVu Sans Mono',consolas,'Courier New',monospace\"></pre>\n"
      ],
      "text/plain": []
     },
     "metadata": {},
     "output_type": "display_data"
    },
    {
     "name": "stderr",
     "output_type": "stream",
     "text": [
      " 39%|█████████████▉                      | 39/101 [8:25:52<13:24:23, 778.44s/it]"
     ]
    },
    {
     "data": {
      "text/html": [
       "<pre style=\"white-space:pre;overflow-x:auto;line-height:normal;font-family:Menlo,'DejaVu Sans Mono',consolas,'Courier New',monospace\"></pre>\n"
      ],
      "text/plain": []
     },
     "metadata": {},
     "output_type": "display_data"
    },
    {
     "name": "stderr",
     "output_type": "stream",
     "text": [
      " 40%|██████████████▎                     | 40/101 [8:38:50<13:11:15, 778.28s/it]"
     ]
    },
    {
     "data": {
      "text/html": [
       "<pre style=\"white-space:pre;overflow-x:auto;line-height:normal;font-family:Menlo,'DejaVu Sans Mono',consolas,'Courier New',monospace\"></pre>\n"
      ],
      "text/plain": []
     },
     "metadata": {},
     "output_type": "display_data"
    },
    {
     "name": "stderr",
     "output_type": "stream",
     "text": [
      " 41%|██████████████▌                     | 41/101 [8:51:49<12:58:42, 778.71s/it]"
     ]
    },
    {
     "data": {
      "text/html": [
       "<pre style=\"white-space:pre;overflow-x:auto;line-height:normal;font-family:Menlo,'DejaVu Sans Mono',consolas,'Courier New',monospace\"></pre>\n"
      ],
      "text/plain": []
     },
     "metadata": {},
     "output_type": "display_data"
    },
    {
     "name": "stderr",
     "output_type": "stream",
     "text": [
      " 42%|██████████████▉                     | 42/101 [9:04:49<12:46:07, 779.11s/it]"
     ]
    },
    {
     "data": {
      "text/html": [
       "<pre style=\"white-space:pre;overflow-x:auto;line-height:normal;font-family:Menlo,'DejaVu Sans Mono',consolas,'Courier New',monospace\"></pre>\n"
      ],
      "text/plain": []
     },
     "metadata": {},
     "output_type": "display_data"
    },
    {
     "name": "stderr",
     "output_type": "stream",
     "text": [
      " 43%|███████████████▎                    | 43/101 [9:18:02<12:37:00, 783.11s/it]"
     ]
    },
    {
     "data": {
      "text/html": [
       "<pre style=\"white-space:pre;overflow-x:auto;line-height:normal;font-family:Menlo,'DejaVu Sans Mono',consolas,'Courier New',monospace\"></pre>\n"
      ],
      "text/plain": []
     },
     "metadata": {},
     "output_type": "display_data"
    },
    {
     "name": "stderr",
     "output_type": "stream",
     "text": [
      " 44%|███████████████▋                    | 44/101 [9:31:13<12:26:15, 785.53s/it]"
     ]
    },
    {
     "data": {
      "text/html": [
       "<pre style=\"white-space:pre;overflow-x:auto;line-height:normal;font-family:Menlo,'DejaVu Sans Mono',consolas,'Courier New',monospace\"></pre>\n"
      ],
      "text/plain": []
     },
     "metadata": {},
     "output_type": "display_data"
    },
    {
     "name": "stderr",
     "output_type": "stream",
     "text": [
      " 45%|████████████████                    | 45/101 [9:44:24<12:14:34, 787.04s/it]"
     ]
    },
    {
     "data": {
      "text/html": [
       "<pre style=\"white-space:pre;overflow-x:auto;line-height:normal;font-family:Menlo,'DejaVu Sans Mono',consolas,'Courier New',monospace\"></pre>\n"
      ],
      "text/plain": []
     },
     "metadata": {},
     "output_type": "display_data"
    },
    {
     "name": "stderr",
     "output_type": "stream",
     "text": [
      " 46%|████████████████▍                   | 46/101 [9:57:34<12:02:23, 788.07s/it]"
     ]
    },
    {
     "data": {
      "text/html": [
       "<pre style=\"white-space:pre;overflow-x:auto;line-height:normal;font-family:Menlo,'DejaVu Sans Mono',consolas,'Courier New',monospace\"></pre>\n"
      ],
      "text/plain": []
     },
     "metadata": {},
     "output_type": "display_data"
    },
    {
     "name": "stderr",
     "output_type": "stream",
     "text": [
      " 47%|████████████████▎                  | 47/101 [10:10:44<11:49:43, 788.59s/it]"
     ]
    },
    {
     "data": {
      "text/html": [
       "<pre style=\"white-space:pre;overflow-x:auto;line-height:normal;font-family:Menlo,'DejaVu Sans Mono',consolas,'Courier New',monospace\"></pre>\n"
      ],
      "text/plain": []
     },
     "metadata": {},
     "output_type": "display_data"
    },
    {
     "name": "stderr",
     "output_type": "stream",
     "text": [
      " 48%|████████████████▋                  | 48/101 [10:23:55<11:37:09, 789.23s/it]"
     ]
    },
    {
     "data": {
      "text/html": [
       "<pre style=\"white-space:pre;overflow-x:auto;line-height:normal;font-family:Menlo,'DejaVu Sans Mono',consolas,'Courier New',monospace\"></pre>\n"
      ],
      "text/plain": []
     },
     "metadata": {},
     "output_type": "display_data"
    },
    {
     "name": "stderr",
     "output_type": "stream",
     "text": [
      " 49%|████████████████▉                  | 49/101 [10:37:08<11:25:02, 790.44s/it]"
     ]
    },
    {
     "data": {
      "text/html": [
       "<pre style=\"white-space:pre;overflow-x:auto;line-height:normal;font-family:Menlo,'DejaVu Sans Mono',consolas,'Courier New',monospace\"></pre>\n"
      ],
      "text/plain": []
     },
     "metadata": {},
     "output_type": "display_data"
    },
    {
     "name": "stderr",
     "output_type": "stream",
     "text": [
      " 50%|█████████████████▎                 | 50/101 [10:50:21<11:12:37, 791.32s/it]"
     ]
    },
    {
     "data": {
      "text/html": [
       "<pre style=\"white-space:pre;overflow-x:auto;line-height:normal;font-family:Menlo,'DejaVu Sans Mono',consolas,'Courier New',monospace\"></pre>\n"
      ],
      "text/plain": []
     },
     "metadata": {},
     "output_type": "display_data"
    },
    {
     "name": "stderr",
     "output_type": "stream",
     "text": [
      " 50%|█████████████████▋                 | 51/101 [11:03:34<10:59:53, 791.87s/it]"
     ]
    },
    {
     "data": {
      "text/html": [
       "<pre style=\"white-space:pre;overflow-x:auto;line-height:normal;font-family:Menlo,'DejaVu Sans Mono',consolas,'Courier New',monospace\"></pre>\n"
      ],
      "text/plain": []
     },
     "metadata": {},
     "output_type": "display_data"
    },
    {
     "name": "stderr",
     "output_type": "stream",
     "text": [
      " 51%|██████████████████                 | 52/101 [11:16:45<10:46:23, 791.49s/it]"
     ]
    },
    {
     "data": {
      "text/html": [
       "<pre style=\"white-space:pre;overflow-x:auto;line-height:normal;font-family:Menlo,'DejaVu Sans Mono',consolas,'Courier New',monospace\"></pre>\n"
      ],
      "text/plain": []
     },
     "metadata": {},
     "output_type": "display_data"
    },
    {
     "name": "stderr",
     "output_type": "stream",
     "text": [
      " 52%|██████████████████▎                | 53/101 [11:29:54<10:32:29, 790.60s/it]"
     ]
    },
    {
     "data": {
      "text/html": [
       "<pre style=\"white-space:pre;overflow-x:auto;line-height:normal;font-family:Menlo,'DejaVu Sans Mono',consolas,'Courier New',monospace\"></pre>\n"
      ],
      "text/plain": []
     },
     "metadata": {},
     "output_type": "display_data"
    },
    {
     "name": "stderr",
     "output_type": "stream",
     "text": [
      " 53%|██████████████████▋                | 54/101 [11:43:02<10:18:54, 790.09s/it]"
     ]
    },
    {
     "data": {
      "text/html": [
       "<pre style=\"white-space:pre;overflow-x:auto;line-height:normal;font-family:Menlo,'DejaVu Sans Mono',consolas,'Courier New',monospace\"></pre>\n"
      ],
      "text/plain": []
     },
     "metadata": {},
     "output_type": "display_data"
    },
    {
     "name": "stderr",
     "output_type": "stream",
     "text": [
      " 54%|███████████████████                | 55/101 [11:56:18<10:06:54, 791.63s/it]"
     ]
    },
    {
     "data": {
      "text/html": [
       "<pre style=\"white-space:pre;overflow-x:auto;line-height:normal;font-family:Menlo,'DejaVu Sans Mono',consolas,'Courier New',monospace\"></pre>\n"
      ],
      "text/plain": []
     },
     "metadata": {},
     "output_type": "display_data"
    },
    {
     "name": "stderr",
     "output_type": "stream",
     "text": [
      " 55%|███████████████████▉                | 56/101 [12:09:29<9:53:39, 791.54s/it]"
     ]
    },
    {
     "data": {
      "text/html": [
       "<pre style=\"white-space:pre;overflow-x:auto;line-height:normal;font-family:Menlo,'DejaVu Sans Mono',consolas,'Courier New',monospace\"></pre>\n"
      ],
      "text/plain": []
     },
     "metadata": {},
     "output_type": "display_data"
    },
    {
     "name": "stderr",
     "output_type": "stream",
     "text": [
      " 56%|████████████████████▎               | 57/101 [12:22:40<9:40:21, 791.40s/it]"
     ]
    },
    {
     "data": {
      "text/html": [
       "<pre style=\"white-space:pre;overflow-x:auto;line-height:normal;font-family:Menlo,'DejaVu Sans Mono',consolas,'Courier New',monospace\"></pre>\n"
      ],
      "text/plain": []
     },
     "metadata": {},
     "output_type": "display_data"
    },
    {
     "name": "stderr",
     "output_type": "stream",
     "text": [
      " 57%|████████████████████▋               | 58/101 [12:35:52<9:27:14, 791.50s/it]"
     ]
    },
    {
     "data": {
      "text/html": [
       "<pre style=\"white-space:pre;overflow-x:auto;line-height:normal;font-family:Menlo,'DejaVu Sans Mono',consolas,'Courier New',monospace\"></pre>\n"
      ],
      "text/plain": []
     },
     "metadata": {},
     "output_type": "display_data"
    },
    {
     "name": "stderr",
     "output_type": "stream",
     "text": [
      " 58%|█████████████████████               | 59/101 [12:49:01<9:13:36, 790.87s/it]"
     ]
    },
    {
     "data": {
      "text/html": [
       "<pre style=\"white-space:pre;overflow-x:auto;line-height:normal;font-family:Menlo,'DejaVu Sans Mono',consolas,'Courier New',monospace\"></pre>\n"
      ],
      "text/plain": []
     },
     "metadata": {},
     "output_type": "display_data"
    },
    {
     "name": "stderr",
     "output_type": "stream",
     "text": [
      " 59%|█████████████████████▍              | 60/101 [13:02:10<9:00:02, 790.30s/it]"
     ]
    },
    {
     "data": {
      "text/html": [
       "<pre style=\"white-space:pre;overflow-x:auto;line-height:normal;font-family:Menlo,'DejaVu Sans Mono',consolas,'Courier New',monospace\"></pre>\n"
      ],
      "text/plain": []
     },
     "metadata": {},
     "output_type": "display_data"
    },
    {
     "name": "stderr",
     "output_type": "stream",
     "text": [
      " 60%|█████████████████████▋              | 61/101 [13:15:26<8:47:53, 791.83s/it]"
     ]
    },
    {
     "data": {
      "text/html": [
       "<pre style=\"white-space:pre;overflow-x:auto;line-height:normal;font-family:Menlo,'DejaVu Sans Mono',consolas,'Courier New',monospace\"></pre>\n"
      ],
      "text/plain": []
     },
     "metadata": {},
     "output_type": "display_data"
    },
    {
     "name": "stderr",
     "output_type": "stream",
     "text": [
      " 61%|██████████████████████              | 62/101 [13:28:38<8:34:49, 792.03s/it]"
     ]
    },
    {
     "data": {
      "text/html": [
       "<pre style=\"white-space:pre;overflow-x:auto;line-height:normal;font-family:Menlo,'DejaVu Sans Mono',consolas,'Courier New',monospace\"></pre>\n"
      ],
      "text/plain": []
     },
     "metadata": {},
     "output_type": "display_data"
    },
    {
     "name": "stderr",
     "output_type": "stream",
     "text": [
      " 62%|██████████████████████▍             | 63/101 [13:41:50<8:21:37, 792.04s/it]"
     ]
    },
    {
     "data": {
      "text/html": [
       "<pre style=\"white-space:pre;overflow-x:auto;line-height:normal;font-family:Menlo,'DejaVu Sans Mono',consolas,'Courier New',monospace\"></pre>\n"
      ],
      "text/plain": []
     },
     "metadata": {},
     "output_type": "display_data"
    },
    {
     "name": "stderr",
     "output_type": "stream",
     "text": [
      " 63%|██████████████████████▊             | 64/101 [13:55:02<8:08:25, 792.05s/it]"
     ]
    },
    {
     "data": {
      "text/html": [
       "<pre style=\"white-space:pre;overflow-x:auto;line-height:normal;font-family:Menlo,'DejaVu Sans Mono',consolas,'Courier New',monospace\"></pre>\n"
      ],
      "text/plain": []
     },
     "metadata": {},
     "output_type": "display_data"
    },
    {
     "name": "stderr",
     "output_type": "stream",
     "text": [
      " 64%|███████████████████████▏            | 65/101 [14:08:13<7:55:05, 791.81s/it]"
     ]
    },
    {
     "data": {
      "text/html": [
       "<pre style=\"white-space:pre;overflow-x:auto;line-height:normal;font-family:Menlo,'DejaVu Sans Mono',consolas,'Courier New',monospace\"></pre>\n"
      ],
      "text/plain": []
     },
     "metadata": {},
     "output_type": "display_data"
    },
    {
     "name": "stderr",
     "output_type": "stream",
     "text": [
      " 65%|███████████████████████▌            | 66/101 [14:21:25<7:41:45, 791.60s/it]"
     ]
    },
    {
     "data": {
      "text/html": [
       "<pre style=\"white-space:pre;overflow-x:auto;line-height:normal;font-family:Menlo,'DejaVu Sans Mono',consolas,'Courier New',monospace\"></pre>\n"
      ],
      "text/plain": []
     },
     "metadata": {},
     "output_type": "display_data"
    },
    {
     "name": "stderr",
     "output_type": "stream",
     "text": [
      " 66%|███████████████████████▉            | 67/101 [14:34:40<7:29:09, 792.62s/it]"
     ]
    },
    {
     "data": {
      "text/html": [
       "<pre style=\"white-space:pre;overflow-x:auto;line-height:normal;font-family:Menlo,'DejaVu Sans Mono',consolas,'Courier New',monospace\"></pre>\n"
      ],
      "text/plain": []
     },
     "metadata": {},
     "output_type": "display_data"
    },
    {
     "name": "stderr",
     "output_type": "stream",
     "text": [
      " 67%|████████████████████████▏           | 68/101 [14:47:50<7:15:37, 792.04s/it]"
     ]
    },
    {
     "data": {
      "text/html": [
       "<pre style=\"white-space:pre;overflow-x:auto;line-height:normal;font-family:Menlo,'DejaVu Sans Mono',consolas,'Courier New',monospace\"></pre>\n"
      ],
      "text/plain": []
     },
     "metadata": {},
     "output_type": "display_data"
    },
    {
     "name": "stderr",
     "output_type": "stream",
     "text": [
      " 68%|████████████████████████▌           | 69/101 [15:01:02<7:02:19, 791.87s/it]"
     ]
    },
    {
     "data": {
      "text/html": [
       "<pre style=\"white-space:pre;overflow-x:auto;line-height:normal;font-family:Menlo,'DejaVu Sans Mono',consolas,'Courier New',monospace\"></pre>\n"
      ],
      "text/plain": []
     },
     "metadata": {},
     "output_type": "display_data"
    },
    {
     "name": "stderr",
     "output_type": "stream",
     "text": [
      " 69%|████████████████████████▉           | 70/101 [15:14:12<6:48:53, 791.40s/it]"
     ]
    },
    {
     "data": {
      "text/html": [
       "<pre style=\"white-space:pre;overflow-x:auto;line-height:normal;font-family:Menlo,'DejaVu Sans Mono',consolas,'Courier New',monospace\"></pre>\n"
      ],
      "text/plain": []
     },
     "metadata": {},
     "output_type": "display_data"
    },
    {
     "name": "stderr",
     "output_type": "stream",
     "text": [
      " 70%|█████████████████████████▎          | 71/101 [15:27:21<6:35:21, 790.73s/it]"
     ]
    },
    {
     "data": {
      "text/html": [
       "<pre style=\"white-space:pre;overflow-x:auto;line-height:normal;font-family:Menlo,'DejaVu Sans Mono',consolas,'Courier New',monospace\"></pre>\n"
      ],
      "text/plain": []
     },
     "metadata": {},
     "output_type": "display_data"
    },
    {
     "name": "stderr",
     "output_type": "stream",
     "text": [
      " 71%|█████████████████████████▋          | 72/101 [15:40:31<6:22:03, 790.47s/it]"
     ]
    },
    {
     "data": {
      "text/html": [
       "<pre style=\"white-space:pre;overflow-x:auto;line-height:normal;font-family:Menlo,'DejaVu Sans Mono',consolas,'Courier New',monospace\"></pre>\n"
      ],
      "text/plain": []
     },
     "metadata": {},
     "output_type": "display_data"
    },
    {
     "name": "stderr",
     "output_type": "stream",
     "text": [
      " 72%|██████████████████████████          | 73/101 [15:53:42<6:08:54, 790.52s/it]"
     ]
    },
    {
     "data": {
      "text/html": [
       "<pre style=\"white-space:pre;overflow-x:auto;line-height:normal;font-family:Menlo,'DejaVu Sans Mono',consolas,'Courier New',monospace\"></pre>\n"
      ],
      "text/plain": []
     },
     "metadata": {},
     "output_type": "display_data"
    },
    {
     "name": "stderr",
     "output_type": "stream",
     "text": [
      " 73%|██████████████████████████▍         | 74/101 [16:06:55<5:56:09, 791.45s/it]"
     ]
    },
    {
     "data": {
      "text/html": [
       "<pre style=\"white-space:pre;overflow-x:auto;line-height:normal;font-family:Menlo,'DejaVu Sans Mono',consolas,'Courier New',monospace\"></pre>\n"
      ],
      "text/plain": []
     },
     "metadata": {},
     "output_type": "display_data"
    },
    {
     "name": "stderr",
     "output_type": "stream",
     "text": [
      " 74%|██████████████████████████▋         | 75/101 [16:20:08<5:43:09, 791.89s/it]"
     ]
    },
    {
     "data": {
      "text/html": [
       "<pre style=\"white-space:pre;overflow-x:auto;line-height:normal;font-family:Menlo,'DejaVu Sans Mono',consolas,'Courier New',monospace\"></pre>\n"
      ],
      "text/plain": []
     },
     "metadata": {},
     "output_type": "display_data"
    },
    {
     "name": "stderr",
     "output_type": "stream",
     "text": [
      " 75%|███████████████████████████         | 76/101 [16:33:19<5:29:46, 791.46s/it]"
     ]
    },
    {
     "data": {
      "text/html": [
       "<pre style=\"white-space:pre;overflow-x:auto;line-height:normal;font-family:Menlo,'DejaVu Sans Mono',consolas,'Courier New',monospace\"></pre>\n"
      ],
      "text/plain": []
     },
     "metadata": {},
     "output_type": "display_data"
    },
    {
     "name": "stderr",
     "output_type": "stream",
     "text": [
      " 76%|███████████████████████████▍        | 77/101 [16:46:29<5:16:28, 791.19s/it]"
     ]
    },
    {
     "data": {
      "text/html": [
       "<pre style=\"white-space:pre;overflow-x:auto;line-height:normal;font-family:Menlo,'DejaVu Sans Mono',consolas,'Courier New',monospace\"></pre>\n"
      ],
      "text/plain": []
     },
     "metadata": {},
     "output_type": "display_data"
    },
    {
     "name": "stderr",
     "output_type": "stream",
     "text": [
      " 77%|███████████████████████████▊        | 78/101 [16:59:39<5:03:06, 790.73s/it]"
     ]
    },
    {
     "data": {
      "text/html": [
       "<pre style=\"white-space:pre;overflow-x:auto;line-height:normal;font-family:Menlo,'DejaVu Sans Mono',consolas,'Courier New',monospace\"></pre>\n"
      ],
      "text/plain": []
     },
     "metadata": {},
     "output_type": "display_data"
    },
    {
     "name": "stderr",
     "output_type": "stream",
     "text": [
      " 78%|████████████████████████████▏       | 79/101 [17:12:48<4:49:43, 790.17s/it]"
     ]
    },
    {
     "data": {
      "text/html": [
       "<pre style=\"white-space:pre;overflow-x:auto;line-height:normal;font-family:Menlo,'DejaVu Sans Mono',consolas,'Courier New',monospace\"></pre>\n"
      ],
      "text/plain": []
     },
     "metadata": {},
     "output_type": "display_data"
    },
    {
     "name": "stderr",
     "output_type": "stream",
     "text": [
      " 79%|████████████████████████████▌       | 80/101 [17:26:03<4:37:02, 791.54s/it]"
     ]
    },
    {
     "data": {
      "text/html": [
       "<pre style=\"white-space:pre;overflow-x:auto;line-height:normal;font-family:Menlo,'DejaVu Sans Mono',consolas,'Courier New',monospace\"></pre>\n"
      ],
      "text/plain": []
     },
     "metadata": {},
     "output_type": "display_data"
    },
    {
     "name": "stderr",
     "output_type": "stream",
     "text": [
      " 80%|████████████████████████████▊       | 81/101 [17:39:15<4:23:57, 791.88s/it]"
     ]
    },
    {
     "data": {
      "text/html": [
       "<pre style=\"white-space:pre;overflow-x:auto;line-height:normal;font-family:Menlo,'DejaVu Sans Mono',consolas,'Courier New',monospace\"></pre>\n"
      ],
      "text/plain": []
     },
     "metadata": {},
     "output_type": "display_data"
    },
    {
     "name": "stderr",
     "output_type": "stream",
     "text": [
      " 81%|█████████████████████████████▏      | 82/101 [17:52:27<4:10:42, 791.72s/it]"
     ]
    },
    {
     "data": {
      "text/html": [
       "<pre style=\"white-space:pre;overflow-x:auto;line-height:normal;font-family:Menlo,'DejaVu Sans Mono',consolas,'Courier New',monospace\"></pre>\n"
      ],
      "text/plain": []
     },
     "metadata": {},
     "output_type": "display_data"
    },
    {
     "name": "stderr",
     "output_type": "stream",
     "text": [
      " 82%|█████████████████████████████▌      | 83/101 [18:05:36<3:57:19, 791.08s/it]"
     ]
    },
    {
     "data": {
      "text/html": [
       "<pre style=\"white-space:pre;overflow-x:auto;line-height:normal;font-family:Menlo,'DejaVu Sans Mono',consolas,'Courier New',monospace\"></pre>\n"
      ],
      "text/plain": []
     },
     "metadata": {},
     "output_type": "display_data"
    },
    {
     "name": "stderr",
     "output_type": "stream",
     "text": [
      " 83%|█████████████████████████████▉      | 84/101 [18:18:47<3:44:05, 790.92s/it]"
     ]
    },
    {
     "data": {
      "text/html": [
       "<pre style=\"white-space:pre;overflow-x:auto;line-height:normal;font-family:Menlo,'DejaVu Sans Mono',consolas,'Courier New',monospace\"></pre>\n"
      ],
      "text/plain": []
     },
     "metadata": {},
     "output_type": "display_data"
    },
    {
     "name": "stderr",
     "output_type": "stream",
     "text": [
      " 84%|██████████████████████████████▎     | 85/101 [18:31:47<3:30:01, 787.60s/it]"
     ]
    },
    {
     "data": {
      "text/html": [
       "<pre style=\"white-space:pre;overflow-x:auto;line-height:normal;font-family:Menlo,'DejaVu Sans Mono',consolas,'Courier New',monospace\"></pre>\n"
      ],
      "text/plain": []
     },
     "metadata": {},
     "output_type": "display_data"
    },
    {
     "name": "stderr",
     "output_type": "stream",
     "text": [
      " 85%|██████████████████████████████▋     | 86/101 [18:44:47<3:16:23, 785.58s/it]"
     ]
    },
    {
     "data": {
      "text/html": [
       "<pre style=\"white-space:pre;overflow-x:auto;line-height:normal;font-family:Menlo,'DejaVu Sans Mono',consolas,'Courier New',monospace\"></pre>\n"
      ],
      "text/plain": []
     },
     "metadata": {},
     "output_type": "display_data"
    },
    {
     "name": "stderr",
     "output_type": "stream",
     "text": [
      " 86%|███████████████████████████████     | 87/101 [18:57:48<3:02:56, 784.02s/it]"
     ]
    },
    {
     "data": {
      "text/html": [
       "<pre style=\"white-space:pre;overflow-x:auto;line-height:normal;font-family:Menlo,'DejaVu Sans Mono',consolas,'Courier New',monospace\"></pre>\n"
      ],
      "text/plain": []
     },
     "metadata": {},
     "output_type": "display_data"
    },
    {
     "name": "stderr",
     "output_type": "stream",
     "text": [
      " 87%|███████████████████████████████▎    | 88/101 [19:10:48<2:49:36, 782.84s/it]"
     ]
    },
    {
     "data": {
      "text/html": [
       "<pre style=\"white-space:pre;overflow-x:auto;line-height:normal;font-family:Menlo,'DejaVu Sans Mono',consolas,'Courier New',monospace\"></pre>\n"
      ],
      "text/plain": []
     },
     "metadata": {},
     "output_type": "display_data"
    },
    {
     "name": "stderr",
     "output_type": "stream",
     "text": [
      " 88%|███████████████████████████████▋    | 89/101 [19:23:45<2:36:12, 781.03s/it]"
     ]
    },
    {
     "data": {
      "text/html": [
       "<pre style=\"white-space:pre;overflow-x:auto;line-height:normal;font-family:Menlo,'DejaVu Sans Mono',consolas,'Courier New',monospace\"></pre>\n"
      ],
      "text/plain": []
     },
     "metadata": {},
     "output_type": "display_data"
    },
    {
     "name": "stderr",
     "output_type": "stream",
     "text": [
      " 89%|████████████████████████████████    | 90/101 [19:36:43<2:23:02, 780.21s/it]"
     ]
    },
    {
     "data": {
      "text/html": [
       "<pre style=\"white-space:pre;overflow-x:auto;line-height:normal;font-family:Menlo,'DejaVu Sans Mono',consolas,'Courier New',monospace\"></pre>\n"
      ],
      "text/plain": []
     },
     "metadata": {},
     "output_type": "display_data"
    },
    {
     "name": "stderr",
     "output_type": "stream",
     "text": [
      " 90%|████████████████████████████████▍   | 91/101 [19:49:41<2:09:55, 779.57s/it]"
     ]
    },
    {
     "data": {
      "text/html": [
       "<pre style=\"white-space:pre;overflow-x:auto;line-height:normal;font-family:Menlo,'DejaVu Sans Mono',consolas,'Courier New',monospace\"></pre>\n"
      ],
      "text/plain": []
     },
     "metadata": {},
     "output_type": "display_data"
    },
    {
     "name": "stderr",
     "output_type": "stream",
     "text": [
      " 91%|████████████████████████████████▊   | 92/101 [20:02:42<1:56:59, 779.89s/it]"
     ]
    },
    {
     "data": {
      "text/html": [
       "<pre style=\"white-space:pre;overflow-x:auto;line-height:normal;font-family:Menlo,'DejaVu Sans Mono',consolas,'Courier New',monospace\"></pre>\n"
      ],
      "text/plain": []
     },
     "metadata": {},
     "output_type": "display_data"
    },
    {
     "name": "stderr",
     "output_type": "stream",
     "text": [
      " 92%|█████████████████████████████████▏  | 93/101 [20:15:42<1:43:59, 779.94s/it]"
     ]
    },
    {
     "data": {
      "text/html": [
       "<pre style=\"white-space:pre;overflow-x:auto;line-height:normal;font-family:Menlo,'DejaVu Sans Mono',consolas,'Courier New',monospace\"></pre>\n"
      ],
      "text/plain": []
     },
     "metadata": {},
     "output_type": "display_data"
    },
    {
     "name": "stderr",
     "output_type": "stream",
     "text": [
      " 93%|█████████████████████████████████▌  | 94/101 [20:28:41<1:30:59, 779.88s/it]"
     ]
    },
    {
     "data": {
      "text/html": [
       "<pre style=\"white-space:pre;overflow-x:auto;line-height:normal;font-family:Menlo,'DejaVu Sans Mono',consolas,'Courier New',monospace\"></pre>\n"
      ],
      "text/plain": []
     },
     "metadata": {},
     "output_type": "display_data"
    },
    {
     "name": "stderr",
     "output_type": "stream",
     "text": [
      " 94%|█████████████████████████████████▊  | 95/101 [20:41:40<1:17:57, 779.61s/it]"
     ]
    },
    {
     "data": {
      "text/html": [
       "<pre style=\"white-space:pre;overflow-x:auto;line-height:normal;font-family:Menlo,'DejaVu Sans Mono',consolas,'Courier New',monospace\"></pre>\n"
      ],
      "text/plain": []
     },
     "metadata": {},
     "output_type": "display_data"
    },
    {
     "name": "stderr",
     "output_type": "stream",
     "text": [
      " 95%|██████████████████████████████████▏ | 96/101 [20:54:38<1:04:55, 779.12s/it]"
     ]
    },
    {
     "data": {
      "text/html": [
       "<pre style=\"white-space:pre;overflow-x:auto;line-height:normal;font-family:Menlo,'DejaVu Sans Mono',consolas,'Courier New',monospace\"></pre>\n"
      ],
      "text/plain": []
     },
     "metadata": {},
     "output_type": "display_data"
    },
    {
     "name": "stderr",
     "output_type": "stream",
     "text": [
      " 96%|████████████████████████████████████▍ | 97/101 [21:07:38<51:56, 779.25s/it]"
     ]
    },
    {
     "data": {
      "text/html": [
       "<pre style=\"white-space:pre;overflow-x:auto;line-height:normal;font-family:Menlo,'DejaVu Sans Mono',consolas,'Courier New',monospace\"></pre>\n"
      ],
      "text/plain": []
     },
     "metadata": {},
     "output_type": "display_data"
    },
    {
     "name": "stderr",
     "output_type": "stream",
     "text": [
      " 97%|████████████████████████████████████▊ | 98/101 [21:20:37<38:57, 779.06s/it]"
     ]
    },
    {
     "data": {
      "text/html": [
       "<pre style=\"white-space:pre;overflow-x:auto;line-height:normal;font-family:Menlo,'DejaVu Sans Mono',consolas,'Courier New',monospace\"></pre>\n"
      ],
      "text/plain": []
     },
     "metadata": {},
     "output_type": "display_data"
    },
    {
     "name": "stderr",
     "output_type": "stream",
     "text": [
      " 98%|█████████████████████████████████████▏| 99/101 [21:33:38<25:59, 779.79s/it]"
     ]
    },
    {
     "data": {
      "text/html": [
       "<pre style=\"white-space:pre;overflow-x:auto;line-height:normal;font-family:Menlo,'DejaVu Sans Mono',consolas,'Courier New',monospace\"></pre>\n"
      ],
      "text/plain": []
     },
     "metadata": {},
     "output_type": "display_data"
    },
    {
     "name": "stderr",
     "output_type": "stream",
     "text": [
      " 99%|████████████████████████████████████▋| 100/101 [21:46:36<12:59, 779.22s/it]"
     ]
    },
    {
     "data": {
      "text/html": [
       "<pre style=\"white-space:pre;overflow-x:auto;line-height:normal;font-family:Menlo,'DejaVu Sans Mono',consolas,'Courier New',monospace\"></pre>\n"
      ],
      "text/plain": []
     },
     "metadata": {},
     "output_type": "display_data"
    },
    {
     "name": "stderr",
     "output_type": "stream",
     "text": [
      "100%|█████████████████████████████████████| 101/101 [21:59:37<00:00, 783.94s/it]\n"
     ]
    },
    {
     "data": {
      "text/plain": [
       "<Figure size 640x480 with 0 Axes>"
      ]
     },
     "metadata": {},
     "output_type": "display_data"
    },
    {
     "data": {
      "text/plain": [
       "<Figure size 800x600 with 0 Axes>"
      ]
     },
     "metadata": {},
     "output_type": "display_data"
    },
    {
     "data": {
      "text/plain": [
       "<Figure size 800x600 with 0 Axes>"
      ]
     },
     "metadata": {},
     "output_type": "display_data"
    },
    {
     "data": {
      "text/plain": [
       "<Figure size 800x600 with 0 Axes>"
      ]
     },
     "metadata": {},
     "output_type": "display_data"
    },
    {
     "data": {
      "text/plain": [
       "<Figure size 800x600 with 0 Axes>"
      ]
     },
     "metadata": {},
     "output_type": "display_data"
    },
    {
     "data": {
      "text/plain": [
       "<Figure size 800x600 with 0 Axes>"
      ]
     },
     "metadata": {},
     "output_type": "display_data"
    },
    {
     "data": {
      "text/plain": [
       "<Figure size 800x600 with 0 Axes>"
      ]
     },
     "metadata": {},
     "output_type": "display_data"
    },
    {
     "data": {
      "text/plain": [
       "<Figure size 800x600 with 0 Axes>"
      ]
     },
     "metadata": {},
     "output_type": "display_data"
    },
    {
     "data": {
      "text/plain": [
       "<Figure size 800x600 with 0 Axes>"
      ]
     },
     "metadata": {},
     "output_type": "display_data"
    },
    {
     "data": {
      "text/plain": [
       "<Figure size 800x600 with 0 Axes>"
      ]
     },
     "metadata": {},
     "output_type": "display_data"
    },
    {
     "data": {
      "text/plain": [
       "<Figure size 800x600 with 0 Axes>"
      ]
     },
     "metadata": {},
     "output_type": "display_data"
    },
    {
     "data": {
      "text/plain": [
       "<Figure size 800x600 with 0 Axes>"
      ]
     },
     "metadata": {},
     "output_type": "display_data"
    },
    {
     "data": {
      "text/plain": [
       "<Figure size 800x600 with 0 Axes>"
      ]
     },
     "metadata": {},
     "output_type": "display_data"
    },
    {
     "data": {
      "text/plain": [
       "<Figure size 800x600 with 0 Axes>"
      ]
     },
     "metadata": {},
     "output_type": "display_data"
    },
    {
     "data": {
      "text/plain": [
       "<Figure size 800x600 with 0 Axes>"
      ]
     },
     "metadata": {},
     "output_type": "display_data"
    },
    {
     "data": {
      "text/plain": [
       "<Figure size 800x600 with 0 Axes>"
      ]
     },
     "metadata": {},
     "output_type": "display_data"
    },
    {
     "data": {
      "text/plain": [
       "<Figure size 800x600 with 0 Axes>"
      ]
     },
     "metadata": {},
     "output_type": "display_data"
    },
    {
     "data": {
      "text/plain": [
       "<Figure size 800x600 with 0 Axes>"
      ]
     },
     "metadata": {},
     "output_type": "display_data"
    },
    {
     "data": {
      "text/plain": [
       "<Figure size 800x600 with 0 Axes>"
      ]
     },
     "metadata": {},
     "output_type": "display_data"
    },
    {
     "data": {
      "text/plain": [
       "<Figure size 800x600 with 0 Axes>"
      ]
     },
     "metadata": {},
     "output_type": "display_data"
    },
    {
     "data": {
      "text/plain": [
       "<Figure size 800x600 with 0 Axes>"
      ]
     },
     "metadata": {},
     "output_type": "display_data"
    },
    {
     "data": {
      "text/plain": [
       "<Figure size 800x600 with 0 Axes>"
      ]
     },
     "metadata": {},
     "output_type": "display_data"
    },
    {
     "data": {
      "text/plain": [
       "<Figure size 800x600 with 0 Axes>"
      ]
     },
     "metadata": {},
     "output_type": "display_data"
    },
    {
     "data": {
      "text/plain": [
       "<Figure size 800x600 with 0 Axes>"
      ]
     },
     "metadata": {},
     "output_type": "display_data"
    },
    {
     "data": {
      "text/plain": [
       "<Figure size 800x600 with 0 Axes>"
      ]
     },
     "metadata": {},
     "output_type": "display_data"
    },
    {
     "data": {
      "text/plain": [
       "<Figure size 800x600 with 0 Axes>"
      ]
     },
     "metadata": {},
     "output_type": "display_data"
    },
    {
     "data": {
      "text/plain": [
       "<Figure size 800x600 with 0 Axes>"
      ]
     },
     "metadata": {},
     "output_type": "display_data"
    },
    {
     "data": {
      "text/plain": [
       "<Figure size 800x600 with 0 Axes>"
      ]
     },
     "metadata": {},
     "output_type": "display_data"
    },
    {
     "data": {
      "text/plain": [
       "<Figure size 800x600 with 0 Axes>"
      ]
     },
     "metadata": {},
     "output_type": "display_data"
    },
    {
     "data": {
      "text/plain": [
       "<Figure size 800x600 with 0 Axes>"
      ]
     },
     "metadata": {},
     "output_type": "display_data"
    },
    {
     "data": {
      "text/plain": [
       "<Figure size 800x600 with 0 Axes>"
      ]
     },
     "metadata": {},
     "output_type": "display_data"
    },
    {
     "data": {
      "text/plain": [
       "<Figure size 800x600 with 0 Axes>"
      ]
     },
     "metadata": {},
     "output_type": "display_data"
    },
    {
     "data": {
      "text/plain": [
       "<Figure size 800x600 with 0 Axes>"
      ]
     },
     "metadata": {},
     "output_type": "display_data"
    },
    {
     "data": {
      "text/plain": [
       "<Figure size 800x600 with 0 Axes>"
      ]
     },
     "metadata": {},
     "output_type": "display_data"
    },
    {
     "data": {
      "text/plain": [
       "<Figure size 800x600 with 0 Axes>"
      ]
     },
     "metadata": {},
     "output_type": "display_data"
    },
    {
     "data": {
      "text/plain": [
       "<Figure size 800x600 with 0 Axes>"
      ]
     },
     "metadata": {},
     "output_type": "display_data"
    },
    {
     "data": {
      "text/plain": [
       "<Figure size 800x600 with 0 Axes>"
      ]
     },
     "metadata": {},
     "output_type": "display_data"
    },
    {
     "data": {
      "text/plain": [
       "<Figure size 800x600 with 0 Axes>"
      ]
     },
     "metadata": {},
     "output_type": "display_data"
    },
    {
     "data": {
      "text/plain": [
       "<Figure size 800x600 with 0 Axes>"
      ]
     },
     "metadata": {},
     "output_type": "display_data"
    },
    {
     "data": {
      "text/plain": [
       "<Figure size 800x600 with 0 Axes>"
      ]
     },
     "metadata": {},
     "output_type": "display_data"
    },
    {
     "data": {
      "text/plain": [
       "<Figure size 800x600 with 0 Axes>"
      ]
     },
     "metadata": {},
     "output_type": "display_data"
    },
    {
     "data": {
      "text/plain": [
       "<Figure size 800x600 with 0 Axes>"
      ]
     },
     "metadata": {},
     "output_type": "display_data"
    },
    {
     "data": {
      "text/plain": [
       "<Figure size 800x600 with 0 Axes>"
      ]
     },
     "metadata": {},
     "output_type": "display_data"
    },
    {
     "data": {
      "text/plain": [
       "<Figure size 800x600 with 0 Axes>"
      ]
     },
     "metadata": {},
     "output_type": "display_data"
    },
    {
     "data": {
      "text/plain": [
       "<Figure size 800x600 with 0 Axes>"
      ]
     },
     "metadata": {},
     "output_type": "display_data"
    },
    {
     "data": {
      "text/plain": [
       "<Figure size 800x600 with 0 Axes>"
      ]
     },
     "metadata": {},
     "output_type": "display_data"
    },
    {
     "data": {
      "text/plain": [
       "<Figure size 800x600 with 0 Axes>"
      ]
     },
     "metadata": {},
     "output_type": "display_data"
    },
    {
     "data": {
      "text/plain": [
       "<Figure size 800x600 with 0 Axes>"
      ]
     },
     "metadata": {},
     "output_type": "display_data"
    },
    {
     "data": {
      "text/plain": [
       "<Figure size 800x600 with 0 Axes>"
      ]
     },
     "metadata": {},
     "output_type": "display_data"
    },
    {
     "data": {
      "text/plain": [
       "<Figure size 800x600 with 0 Axes>"
      ]
     },
     "metadata": {},
     "output_type": "display_data"
    },
    {
     "data": {
      "text/plain": [
       "<Figure size 800x600 with 0 Axes>"
      ]
     },
     "metadata": {},
     "output_type": "display_data"
    },
    {
     "data": {
      "text/plain": [
       "<Figure size 800x600 with 0 Axes>"
      ]
     },
     "metadata": {},
     "output_type": "display_data"
    },
    {
     "data": {
      "text/plain": [
       "<Figure size 800x600 with 0 Axes>"
      ]
     },
     "metadata": {},
     "output_type": "display_data"
    },
    {
     "data": {
      "text/plain": [
       "<Figure size 800x600 with 0 Axes>"
      ]
     },
     "metadata": {},
     "output_type": "display_data"
    },
    {
     "data": {
      "text/plain": [
       "<Figure size 800x600 with 0 Axes>"
      ]
     },
     "metadata": {},
     "output_type": "display_data"
    },
    {
     "data": {
      "text/plain": [
       "<Figure size 800x600 with 0 Axes>"
      ]
     },
     "metadata": {},
     "output_type": "display_data"
    },
    {
     "data": {
      "text/plain": [
       "<Figure size 800x600 with 0 Axes>"
      ]
     },
     "metadata": {},
     "output_type": "display_data"
    },
    {
     "data": {
      "text/plain": [
       "<Figure size 800x600 with 0 Axes>"
      ]
     },
     "metadata": {},
     "output_type": "display_data"
    },
    {
     "data": {
      "text/plain": [
       "<Figure size 800x600 with 0 Axes>"
      ]
     },
     "metadata": {},
     "output_type": "display_data"
    },
    {
     "data": {
      "text/plain": [
       "<Figure size 800x600 with 0 Axes>"
      ]
     },
     "metadata": {},
     "output_type": "display_data"
    },
    {
     "data": {
      "text/plain": [
       "<Figure size 800x600 with 0 Axes>"
      ]
     },
     "metadata": {},
     "output_type": "display_data"
    },
    {
     "data": {
      "text/plain": [
       "<Figure size 800x600 with 0 Axes>"
      ]
     },
     "metadata": {},
     "output_type": "display_data"
    },
    {
     "data": {
      "text/plain": [
       "<Figure size 800x600 with 0 Axes>"
      ]
     },
     "metadata": {},
     "output_type": "display_data"
    },
    {
     "data": {
      "text/plain": [
       "<Figure size 800x600 with 0 Axes>"
      ]
     },
     "metadata": {},
     "output_type": "display_data"
    },
    {
     "data": {
      "text/plain": [
       "<Figure size 800x600 with 0 Axes>"
      ]
     },
     "metadata": {},
     "output_type": "display_data"
    },
    {
     "data": {
      "text/plain": [
       "<Figure size 800x600 with 0 Axes>"
      ]
     },
     "metadata": {},
     "output_type": "display_data"
    },
    {
     "data": {
      "text/plain": [
       "<Figure size 800x600 with 0 Axes>"
      ]
     },
     "metadata": {},
     "output_type": "display_data"
    },
    {
     "data": {
      "text/plain": [
       "<Figure size 800x600 with 0 Axes>"
      ]
     },
     "metadata": {},
     "output_type": "display_data"
    },
    {
     "data": {
      "text/plain": [
       "<Figure size 800x600 with 0 Axes>"
      ]
     },
     "metadata": {},
     "output_type": "display_data"
    },
    {
     "data": {
      "text/plain": [
       "<Figure size 800x600 with 0 Axes>"
      ]
     },
     "metadata": {},
     "output_type": "display_data"
    },
    {
     "data": {
      "text/plain": [
       "<Figure size 800x600 with 0 Axes>"
      ]
     },
     "metadata": {},
     "output_type": "display_data"
    },
    {
     "data": {
      "text/plain": [
       "<Figure size 800x600 with 0 Axes>"
      ]
     },
     "metadata": {},
     "output_type": "display_data"
    },
    {
     "data": {
      "text/plain": [
       "<Figure size 800x600 with 0 Axes>"
      ]
     },
     "metadata": {},
     "output_type": "display_data"
    },
    {
     "data": {
      "text/plain": [
       "<Figure size 800x600 with 0 Axes>"
      ]
     },
     "metadata": {},
     "output_type": "display_data"
    },
    {
     "data": {
      "text/plain": [
       "<Figure size 800x600 with 0 Axes>"
      ]
     },
     "metadata": {},
     "output_type": "display_data"
    },
    {
     "data": {
      "text/plain": [
       "<Figure size 800x600 with 0 Axes>"
      ]
     },
     "metadata": {},
     "output_type": "display_data"
    },
    {
     "data": {
      "text/plain": [
       "<Figure size 800x600 with 0 Axes>"
      ]
     },
     "metadata": {},
     "output_type": "display_data"
    },
    {
     "data": {
      "text/plain": [
       "<Figure size 800x600 with 0 Axes>"
      ]
     },
     "metadata": {},
     "output_type": "display_data"
    },
    {
     "data": {
      "text/plain": [
       "<Figure size 800x600 with 0 Axes>"
      ]
     },
     "metadata": {},
     "output_type": "display_data"
    },
    {
     "data": {
      "text/plain": [
       "<Figure size 800x600 with 0 Axes>"
      ]
     },
     "metadata": {},
     "output_type": "display_data"
    },
    {
     "data": {
      "text/plain": [
       "<Figure size 800x600 with 0 Axes>"
      ]
     },
     "metadata": {},
     "output_type": "display_data"
    },
    {
     "data": {
      "text/plain": [
       "<Figure size 800x600 with 0 Axes>"
      ]
     },
     "metadata": {},
     "output_type": "display_data"
    },
    {
     "data": {
      "text/plain": [
       "<Figure size 800x600 with 0 Axes>"
      ]
     },
     "metadata": {},
     "output_type": "display_data"
    },
    {
     "data": {
      "text/plain": [
       "<Figure size 800x600 with 0 Axes>"
      ]
     },
     "metadata": {},
     "output_type": "display_data"
    },
    {
     "data": {
      "text/plain": [
       "<Figure size 800x600 with 0 Axes>"
      ]
     },
     "metadata": {},
     "output_type": "display_data"
    },
    {
     "data": {
      "text/plain": [
       "<Figure size 800x600 with 0 Axes>"
      ]
     },
     "metadata": {},
     "output_type": "display_data"
    },
    {
     "data": {
      "text/plain": [
       "<Figure size 800x600 with 0 Axes>"
      ]
     },
     "metadata": {},
     "output_type": "display_data"
    },
    {
     "data": {
      "text/plain": [
       "<Figure size 800x600 with 0 Axes>"
      ]
     },
     "metadata": {},
     "output_type": "display_data"
    },
    {
     "data": {
      "text/plain": [
       "<Figure size 800x600 with 0 Axes>"
      ]
     },
     "metadata": {},
     "output_type": "display_data"
    },
    {
     "data": {
      "text/plain": [
       "<Figure size 800x600 with 0 Axes>"
      ]
     },
     "metadata": {},
     "output_type": "display_data"
    },
    {
     "data": {
      "text/plain": [
       "<Figure size 800x600 with 0 Axes>"
      ]
     },
     "metadata": {},
     "output_type": "display_data"
    },
    {
     "data": {
      "text/plain": [
       "<Figure size 800x600 with 0 Axes>"
      ]
     },
     "metadata": {},
     "output_type": "display_data"
    },
    {
     "data": {
      "text/plain": [
       "<Figure size 800x600 with 0 Axes>"
      ]
     },
     "metadata": {},
     "output_type": "display_data"
    },
    {
     "data": {
      "text/plain": [
       "<Figure size 800x600 with 0 Axes>"
      ]
     },
     "metadata": {},
     "output_type": "display_data"
    },
    {
     "data": {
      "text/plain": [
       "<Figure size 800x600 with 0 Axes>"
      ]
     },
     "metadata": {},
     "output_type": "display_data"
    },
    {
     "data": {
      "text/plain": [
       "<Figure size 800x600 with 0 Axes>"
      ]
     },
     "metadata": {},
     "output_type": "display_data"
    },
    {
     "data": {
      "text/plain": [
       "<Figure size 800x600 with 0 Axes>"
      ]
     },
     "metadata": {},
     "output_type": "display_data"
    },
    {
     "data": {
      "text/plain": [
       "<Figure size 800x600 with 0 Axes>"
      ]
     },
     "metadata": {},
     "output_type": "display_data"
    },
    {
     "data": {
      "text/plain": [
       "<Figure size 800x600 with 0 Axes>"
      ]
     },
     "metadata": {},
     "output_type": "display_data"
    },
    {
     "data": {
      "text/plain": [
       "<Figure size 800x600 with 0 Axes>"
      ]
     },
     "metadata": {},
     "output_type": "display_data"
    },
    {
     "data": {
      "text/plain": [
       "<Figure size 800x600 with 0 Axes>"
      ]
     },
     "metadata": {},
     "output_type": "display_data"
    },
    {
     "data": {
      "text/plain": [
       "<Figure size 800x600 with 0 Axes>"
      ]
     },
     "metadata": {},
     "output_type": "display_data"
    }
   ],
   "source": [
    "import os\n",
    "import pandas as pd\n",
    "from tqdm import tqdm\n",
    "import matplotlib.pyplot as plt\n",
    "import seaborn as sns\n",
    "\n",
    "# Define the output directory and subdirectories\n",
    "output_dir = 'Default_AE_Default_Data/AE_Training_1'\n",
    "subfolders = {\n",
    "    'AE_Latent_Space_Data_TXT': os.path.join(output_dir, 'AE_Latent_Space_Data_TXT'),\n",
    "    'AE_Training_Loss_Data': os.path.join(output_dir, 'AE_Training_Loss_Data'),\n",
    "    'AE_Training_Loss_Graphs': os.path.join(output_dir, 'AE_Training_Loss_Graphs'),\n",
    "    'AE_Latent_Space_Graphs': os.path.join(output_dir, 'AE_Latent_Space_Graphs'),\n",
    "    'AE_Latent_Space_Data_PKL': os.path.join(output_dir, 'AE_Latent_Space_Data_PKL'),\n",
    "    'models': os.path.join(output_dir, 'models'),\n",
    "}\n",
    "\n",
    "# Create all subdirectories\n",
    "for folder in subfolders.values():\n",
    "    os.makedirs(folder, exist_ok=True)\n",
    "\n",
    "# Initialize the autoencoder with the loaded training data\n",
    "autoencoder = AE_Model(X_train_loaded)\n",
    "\n",
    "# Training loop\n",
    "for counts in tqdm(range(101)):\n",
    "    name = \"Autoencoder_Training\"\n",
    "\n",
    "    # Save the latent space predictions log\n",
    "    txt_file_path = os.path.join(subfolders['AE_Latent_Space_Data_TXT'], f\"{counts}_Latent_Space_Predictions_Log.txt\")\n",
    "    with open(txt_file_path, \"w\") as file:\n",
    "        # Train the model\n",
    "        history = autoencoder.fit(\n",
    "            X_train_loaded, X_train_loaded,\n",
    "            epochs=1000,\n",
    "            validation_data=(X_valid_loaded, X_valid_loaded),\n",
    "            verbose=0\n",
    "        )\n",
    "\n",
    "        # Save training loss history\n",
    "        training_history = pd.DataFrame(history.history)\n",
    "        history_file_path = os.path.join(subfolders['AE_Training_Loss_Data'], f\"{counts}_{name}_History.pkl\")\n",
    "        training_history.to_pickle(history_file_path)\n",
    "\n",
    "        # Save training loss graph\n",
    "        plt.plot(training_history)\n",
    "        graph_file_path = os.path.join(subfolders['AE_Training_Loss_Graphs'], f\"{counts}_{name}_History.png\")\n",
    "        plt.savefig(graph_file_path, dpi=300)\n",
    "        plt.clf()\n",
    "        plt.close()\n",
    "\n",
    "        # Define the latent space model\n",
    "        dr_model = tf.keras.models.Model(\n",
    "            inputs=autoencoder.input,\n",
    "            outputs=autoencoder.get_layer('ae_latent').output\n",
    "        )\n",
    "        dr_model.summary(print_fn=lambda x: file.write(x + '\\n'))\n",
    "\n",
    "        # Initialize latent space variables\n",
    "        x, y, z, indices = [], [], [], []\n",
    "\n",
    "        # Process validation data in batches\n",
    "        batch_size = 32\n",
    "        for batch_start in range(0, len(X_valid_loaded), batch_size):\n",
    "            batch_end = min(batch_start + batch_size, len(X_valid_loaded))\n",
    "            X_batch = np.array(X_valid_loaded.iloc[batch_start:batch_end])\n",
    "            y_batch = y_valid_loaded.iloc[batch_start:batch_end].values.flatten()\n",
    "\n",
    "            # Predict latent space values\n",
    "            op_batch = dr_model.predict(X_batch, verbose=0)\n",
    "            for i, op in enumerate(op_batch):\n",
    "                z.append(y_batch[i])\n",
    "                x.append(op[0])\n",
    "                y.append(op[1])\n",
    "                indices.append(y_valid_loaded.index[batch_start + i])\n",
    "                file.write(f\"Prediction {batch_start + i}: {op}\\n\")\n",
    "\n",
    "        # Save latent space scatter plot\n",
    "        df = pd.DataFrame({'x': x, 'y': y, 'z': [f\"trajectory-{k}\" for k in z], 'index': indices})\n",
    "        plt.figure(figsize=(8, 6))\n",
    "        sns.scatterplot(x='x', y='y', hue='z', data=df, s=10)\n",
    "        scatter_file_path = os.path.join(subfolders['AE_Latent_Space_Graphs'], f\"{counts}_Latent_Space.png\")\n",
    "        plt.savefig(scatter_file_path, dpi=300)\n",
    "        plt.clf()\n",
    "        plt.close()\n",
    "\n",
    "        # Save latent space data as pickle\n",
    "        pkl_file_path = os.path.join(subfolders['AE_Latent_Space_Data_PKL'], f\"{counts}_Latent_Space.pkl\")\n",
    "        df.to_pickle(pkl_file_path)\n",
    "\n",
    "        # Save the model\n",
    "        model_file_path = os.path.join(subfolders['models'], f\"saved_model_{counts}.keras\")\n",
    "        save_model(autoencoder, model_file_path)"
   ]
  },
  {
   "cell_type": "markdown",
   "id": "d23ac553-9b6f-4040-9a07-702e7f7c8e30",
   "metadata": {
    "jp-MarkdownHeadingCollapsed": true
   },
   "source": [
    "# Model 2"
   ]
  },
  {
   "cell_type": "code",
   "execution_count": null,
   "id": "bb79bd0a-3af7-49e3-88e1-3ddd243e816b",
   "metadata": {},
   "outputs": [],
   "source": [
    "base_folder = \"AE_Data/Unfiltered_Shuffled_Compaction_Data\"\n",
    "X_train_loaded, y_train_loaded, X_valid_loaded, y_valid_loaded = load_datasets(fold=2, base_folder=base_folder)"
   ]
  },
  {
   "cell_type": "code",
   "execution_count": null,
   "id": "594c7e69",
   "metadata": {
    "scrolled": true
   },
   "outputs": [],
   "source": [
    "import os\n",
    "import pandas as pd\n",
    "from tqdm import tqdm\n",
    "import matplotlib.pyplot as plt\n",
    "import seaborn as sns\n",
    "\n",
    "# Define the output directory and subdirectories\n",
    "output_dir = 'Default_AE_Default_Data/AE_Training_2'\n",
    "subfolders = {\n",
    "    'AE_Latent_Space_Data_TXT': os.path.join(output_dir, 'AE_Latent_Space_Data_TXT'),\n",
    "    'AE_Training_Loss_Data': os.path.join(output_dir, 'AE_Training_Loss_Data'),\n",
    "    'AE_Training_Loss_Graphs': os.path.join(output_dir, 'AE_Training_Loss_Graphs'),\n",
    "    'AE_Latent_Space_Graphs': os.path.join(output_dir, 'AE_Latent_Space_Graphs'),\n",
    "    'AE_Latent_Space_Data_PKL': os.path.join(output_dir, 'AE_Latent_Space_Data_PKL'),\n",
    "    'models': os.path.join(output_dir, 'models'),\n",
    "}\n",
    "\n",
    "# Create all subdirectories\n",
    "for folder in subfolders.values():\n",
    "    os.makedirs(folder, exist_ok=True)\n",
    "\n",
    "# Initialize the autoencoder with the loaded training data\n",
    "autoencoder = AE_Model(X_train_loaded)\n",
    "\n",
    "# Training loop\n",
    "for counts in tqdm(range(101)):\n",
    "    name = \"Autoencoder_Training\"\n",
    "\n",
    "    # Save the latent space predictions log\n",
    "    txt_file_path = os.path.join(subfolders['AE_Latent_Space_Data_TXT'], f\"{counts}_Latent_Space_Predictions_Log.txt\")\n",
    "    with open(txt_file_path, \"w\") as file:\n",
    "        # Train the model\n",
    "        history = autoencoder.fit(\n",
    "            X_train_loaded, X_train_loaded,\n",
    "            epochs=1000,\n",
    "            validation_data=(X_valid_loaded, X_valid_loaded),\n",
    "            verbose=0\n",
    "        )\n",
    "\n",
    "        # Save training loss history\n",
    "        training_history = pd.DataFrame(history.history)\n",
    "        history_file_path = os.path.join(subfolders['AE_Training_Loss_Data'], f\"{counts}_{name}_History.pkl\")\n",
    "        training_history.to_pickle(history_file_path)\n",
    "\n",
    "        # Save training loss graph\n",
    "        plt.plot(training_history)\n",
    "        graph_file_path = os.path.join(subfolders['AE_Training_Loss_Graphs'], f\"{counts}_{name}_History.png\")\n",
    "        plt.savefig(graph_file_path, dpi=300)\n",
    "        plt.clf()\n",
    "        plt.close()\n",
    "\n",
    "        # Define the latent space model\n",
    "        dr_model = tf.keras.models.Model(\n",
    "            inputs=autoencoder.input,\n",
    "            outputs=autoencoder.get_layer('ae_latent').output\n",
    "        )\n",
    "        dr_model.summary(print_fn=lambda x: file.write(x + '\\n'))\n",
    "\n",
    "        # Initialize latent space variables\n",
    "        x, y, z, indices = [], [], [], []\n",
    "\n",
    "        # Process validation data in batches\n",
    "        batch_size = 32\n",
    "        for batch_start in range(0, len(X_valid_loaded), batch_size):\n",
    "            batch_end = min(batch_start + batch_size, len(X_valid_loaded))\n",
    "            X_batch = np.array(X_valid_loaded.iloc[batch_start:batch_end])\n",
    "            y_batch = y_valid_loaded.iloc[batch_start:batch_end].values.flatten()\n",
    "\n",
    "            # Predict latent space values\n",
    "            op_batch = dr_model.predict(X_batch, verbose=0)\n",
    "            for i, op in enumerate(op_batch):\n",
    "                z.append(y_batch[i])\n",
    "                x.append(op[0])\n",
    "                y.append(op[1])\n",
    "                indices.append(y_valid_loaded.index[batch_start + i])\n",
    "                file.write(f\"Prediction {batch_start + i}: {op}\\n\")\n",
    "\n",
    "        # Save latent space scatter plot\n",
    "        df = pd.DataFrame({'x': x, 'y': y, 'z': [f\"trajectory-{k}\" for k in z], 'index': indices})\n",
    "        plt.figure(figsize=(8, 6))\n",
    "        sns.scatterplot(x='x', y='y', hue='z', data=df, s=10)\n",
    "        scatter_file_path = os.path.join(subfolders['AE_Latent_Space_Graphs'], f\"{counts}_Latent_Space.png\")\n",
    "        plt.savefig(scatter_file_path, dpi=300)\n",
    "        plt.clf()\n",
    "        plt.close()\n",
    "\n",
    "        # Save latent space data as pickle\n",
    "        pkl_file_path = os.path.join(subfolders['AE_Latent_Space_Data_PKL'], f\"{counts}_Latent_Space.pkl\")\n",
    "        df.to_pickle(pkl_file_path)\n",
    "\n",
    "        # Save the model\n",
    "        model_file_path = os.path.join(subfolders['models'], f\"saved_model_{counts}.keras\")\n",
    "        save_model(autoencoder, model_file_path)"
   ]
  },
  {
   "cell_type": "markdown",
   "id": "b9140d46-3ad5-47a6-bd71-b3292eb53f88",
   "metadata": {
    "jp-MarkdownHeadingCollapsed": true
   },
   "source": [
    "# Model 3"
   ]
  },
  {
   "cell_type": "code",
   "execution_count": null,
   "id": "efdfcb11-311b-4181-a6ea-c6e4fa7977b9",
   "metadata": {},
   "outputs": [],
   "source": [
    "base_folder = \"AE_Data/Unfiltered_Shuffled_Compaction_Data\"\n",
    "X_train_loaded, y_train_loaded, X_valid_loaded, y_valid_loaded = load_datasets(fold=3, base_folder=base_folder)"
   ]
  },
  {
   "cell_type": "code",
   "execution_count": null,
   "id": "f34f4b74",
   "metadata": {},
   "outputs": [],
   "source": [
    "import os\n",
    "import pandas as pd\n",
    "from tqdm import tqdm\n",
    "import matplotlib.pyplot as plt\n",
    "import seaborn as sns\n",
    "\n",
    "# Define the output directory and subdirectories\n",
    "output_dir = 'Default_AE_Default_Data/AE_Training_3'\n",
    "subfolders = {\n",
    "    'AE_Latent_Space_Data_TXT': os.path.join(output_dir, 'AE_Latent_Space_Data_TXT'),\n",
    "    'AE_Training_Loss_Data': os.path.join(output_dir, 'AE_Training_Loss_Data'),\n",
    "    'AE_Training_Loss_Graphs': os.path.join(output_dir, 'AE_Training_Loss_Graphs'),\n",
    "    'AE_Latent_Space_Graphs': os.path.join(output_dir, 'AE_Latent_Space_Graphs'),\n",
    "    'AE_Latent_Space_Data_PKL': os.path.join(output_dir, 'AE_Latent_Space_Data_PKL'),\n",
    "    'models': os.path.join(output_dir, 'models'),\n",
    "}\n",
    "\n",
    "# Create all subdirectories\n",
    "for folder in subfolders.values():\n",
    "    os.makedirs(folder, exist_ok=True)\n",
    "\n",
    "# Initialize the autoencoder with the loaded training data\n",
    "autoencoder = AE_Model(X_train_loaded)\n",
    "\n",
    "# Training loop\n",
    "for counts in tqdm(range(101)):\n",
    "    name = \"Autoencoder_Training\"\n",
    "\n",
    "    # Save the latent space predictions log\n",
    "    txt_file_path = os.path.join(subfolders['AE_Latent_Space_Data_TXT'], f\"{counts}_Latent_Space_Predictions_Log.txt\")\n",
    "    with open(txt_file_path, \"w\") as file:\n",
    "        # Train the model\n",
    "        history = autoencoder.fit(\n",
    "            X_train_loaded, X_train_loaded,\n",
    "            epochs=1000,\n",
    "            validation_data=(X_valid_loaded, X_valid_loaded),\n",
    "            verbose=0\n",
    "        )\n",
    "\n",
    "        # Save training loss history\n",
    "        training_history = pd.DataFrame(history.history)\n",
    "        history_file_path = os.path.join(subfolders['AE_Training_Loss_Data'], f\"{counts}_{name}_History.pkl\")\n",
    "        training_history.to_pickle(history_file_path)\n",
    "\n",
    "        # Save training loss graph\n",
    "        plt.plot(training_history)\n",
    "        graph_file_path = os.path.join(subfolders['AE_Training_Loss_Graphs'], f\"{counts}_{name}_History.png\")\n",
    "        plt.savefig(graph_file_path, dpi=300)\n",
    "        plt.clf()\n",
    "        plt.close()\n",
    "\n",
    "        # Define the latent space model\n",
    "        dr_model = tf.keras.models.Model(\n",
    "            inputs=autoencoder.input,\n",
    "            outputs=autoencoder.get_layer('ae_latent').output\n",
    "        )\n",
    "        dr_model.summary(print_fn=lambda x: file.write(x + '\\n'))\n",
    "\n",
    "        # Initialize latent space variables\n",
    "        x, y, z, indices = [], [], [], []\n",
    "\n",
    "        # Process validation data in batches\n",
    "        batch_size = 32\n",
    "        for batch_start in range(0, len(X_valid_loaded), batch_size):\n",
    "            batch_end = min(batch_start + batch_size, len(X_valid_loaded))\n",
    "            X_batch = np.array(X_valid_loaded.iloc[batch_start:batch_end])\n",
    "            y_batch = y_valid_loaded.iloc[batch_start:batch_end].values.flatten()\n",
    "\n",
    "            # Predict latent space values\n",
    "            op_batch = dr_model.predict(X_batch, verbose=0)\n",
    "            for i, op in enumerate(op_batch):\n",
    "                z.append(y_batch[i])\n",
    "                x.append(op[0])\n",
    "                y.append(op[1])\n",
    "                indices.append(y_valid_loaded.index[batch_start + i])\n",
    "                file.write(f\"Prediction {batch_start + i}: {op}\\n\")\n",
    "\n",
    "        # Save latent space scatter plot\n",
    "        df = pd.DataFrame({'x': x, 'y': y, 'z': [f\"trajectory-{k}\" for k in z], 'index': indices})\n",
    "        plt.figure(figsize=(8, 6))\n",
    "        sns.scatterplot(x='x', y='y', hue='z', data=df, s=10)\n",
    "        scatter_file_path = os.path.join(subfolders['AE_Latent_Space_Graphs'], f\"{counts}_Latent_Space.png\")\n",
    "        plt.savefig(scatter_file_path, dpi=300)\n",
    "        plt.clf()\n",
    "        plt.close()\n",
    "\n",
    "        # Save latent space data as pickle\n",
    "        pkl_file_path = os.path.join(subfolders['AE_Latent_Space_Data_PKL'], f\"{counts}_Latent_Space.pkl\")\n",
    "        df.to_pickle(pkl_file_path)\n",
    "\n",
    "        # Save the model\n",
    "        model_file_path = os.path.join(subfolders['models'], f\"saved_model_{counts}.keras\")\n",
    "        save_model(autoencoder, model_file_path)"
   ]
  },
  {
   "cell_type": "markdown",
   "id": "2470d2b7-1e3e-412e-9f20-f2c495986faa",
   "metadata": {
    "jp-MarkdownHeadingCollapsed": true
   },
   "source": [
    "# Model 4"
   ]
  },
  {
   "cell_type": "code",
   "execution_count": null,
   "id": "45e00cb9-fdd8-4ca8-a150-6114a9938312",
   "metadata": {},
   "outputs": [],
   "source": [
    "base_folder = \"AE_Data/Unfiltered_Shuffled_Compaction_Data\"\n",
    "X_train_loaded, y_train_loaded, X_valid_loaded, y_valid_loaded = load_datasets(fold=4, base_folder=base_folder)"
   ]
  },
  {
   "cell_type": "code",
   "execution_count": null,
   "id": "0bbbe63c",
   "metadata": {},
   "outputs": [],
   "source": [
    "import os\n",
    "import pandas as pd\n",
    "from tqdm import tqdm\n",
    "import matplotlib.pyplot as plt\n",
    "import seaborn as sns\n",
    "\n",
    "# Define the output directory and subdirectories\n",
    "output_dir = 'Default_AE_Default_Data/AE_Training_4'\n",
    "subfolders = {\n",
    "    'AE_Latent_Space_Data_TXT': os.path.join(output_dir, 'AE_Latent_Space_Data_TXT'),\n",
    "    'AE_Training_Loss_Data': os.path.join(output_dir, 'AE_Training_Loss_Data'),\n",
    "    'AE_Training_Loss_Graphs': os.path.join(output_dir, 'AE_Training_Loss_Graphs'),\n",
    "    'AE_Latent_Space_Graphs': os.path.join(output_dir, 'AE_Latent_Space_Graphs'),\n",
    "    'AE_Latent_Space_Data_PKL': os.path.join(output_dir, 'AE_Latent_Space_Data_PKL'),\n",
    "    'models': os.path.join(output_dir, 'models'),\n",
    "}\n",
    "\n",
    "# Create all subdirectories\n",
    "for folder in subfolders.values():\n",
    "    os.makedirs(folder, exist_ok=True)\n",
    "\n",
    "# Initialize the autoencoder with the loaded training data\n",
    "autoencoder = AE_Model(X_train_loaded)\n",
    "\n",
    "# Training loop\n",
    "for counts in tqdm(range(101)):\n",
    "    name = \"Autoencoder_Training\"\n",
    "\n",
    "    # Save the latent space predictions log\n",
    "    txt_file_path = os.path.join(subfolders['AE_Latent_Space_Data_TXT'], f\"{counts}_Latent_Space_Predictions_Log.txt\")\n",
    "    with open(txt_file_path, \"w\") as file:\n",
    "        # Train the model\n",
    "        history = autoencoder.fit(\n",
    "            X_train_loaded, X_train_loaded,\n",
    "            epochs=1000,\n",
    "            validation_data=(X_valid_loaded, X_valid_loaded),\n",
    "            verbose=0\n",
    "        )\n",
    "\n",
    "        # Save training loss history\n",
    "        training_history = pd.DataFrame(history.history)\n",
    "        history_file_path = os.path.join(subfolders['AE_Training_Loss_Data'], f\"{counts}_{name}_History.pkl\")\n",
    "        training_history.to_pickle(history_file_path)\n",
    "\n",
    "        # Save training loss graph\n",
    "        plt.plot(training_history)\n",
    "        graph_file_path = os.path.join(subfolders['AE_Training_Loss_Graphs'], f\"{counts}_{name}_History.png\")\n",
    "        plt.savefig(graph_file_path, dpi=300)\n",
    "        plt.clf()\n",
    "        plt.close()\n",
    "\n",
    "        # Define the latent space model\n",
    "        dr_model = tf.keras.models.Model(\n",
    "            inputs=autoencoder.input,\n",
    "            outputs=autoencoder.get_layer('ae_latent').output\n",
    "        )\n",
    "        dr_model.summary(print_fn=lambda x: file.write(x + '\\n'))\n",
    "\n",
    "        # Initialize latent space variables\n",
    "        x, y, z, indices = [], [], [], []\n",
    "\n",
    "        # Process validation data in batches\n",
    "        batch_size = 32\n",
    "        for batch_start in range(0, len(X_valid_loaded), batch_size):\n",
    "            batch_end = min(batch_start + batch_size, len(X_valid_loaded))\n",
    "            X_batch = np.array(X_valid_loaded.iloc[batch_start:batch_end])\n",
    "            y_batch = y_valid_loaded.iloc[batch_start:batch_end].values.flatten()\n",
    "\n",
    "            # Predict latent space values\n",
    "            op_batch = dr_model.predict(X_batch, verbose=0)\n",
    "            for i, op in enumerate(op_batch):\n",
    "                z.append(y_batch[i])\n",
    "                x.append(op[0])\n",
    "                y.append(op[1])\n",
    "                indices.append(y_valid_loaded.index[batch_start + i])\n",
    "                file.write(f\"Prediction {batch_start + i}: {op}\\n\")\n",
    "\n",
    "        # Save latent space scatter plot\n",
    "        df = pd.DataFrame({'x': x, 'y': y, 'z': [f\"trajectory-{k}\" for k in z], 'index': indices})\n",
    "        plt.figure(figsize=(8, 6))\n",
    "        sns.scatterplot(x='x', y='y', hue='z', data=df, s=10)\n",
    "        scatter_file_path = os.path.join(subfolders['AE_Latent_Space_Graphs'], f\"{counts}_Latent_Space.png\")\n",
    "        plt.savefig(scatter_file_path, dpi=300)\n",
    "        plt.clf()\n",
    "        plt.close()\n",
    "\n",
    "        # Save latent space data as pickle\n",
    "        pkl_file_path = os.path.join(subfolders['AE_Latent_Space_Data_PKL'], f\"{counts}_Latent_Space.pkl\")\n",
    "        df.to_pickle(pkl_file_path)\n",
    "\n",
    "        # Save the model\n",
    "        model_file_path = os.path.join(subfolders['models'], f\"saved_model_{counts}.keras\")\n",
    "        save_model(autoencoder, model_file_path)"
   ]
  },
  {
   "cell_type": "markdown",
   "id": "fcc42038-e1d1-41c2-b097-554e01e0280b",
   "metadata": {
    "jp-MarkdownHeadingCollapsed": true
   },
   "source": [
    "# Model 5"
   ]
  },
  {
   "cell_type": "code",
   "execution_count": null,
   "id": "a23acd60-76d3-4151-9eb8-9a4f34b0ef05",
   "metadata": {},
   "outputs": [],
   "source": [
    "base_folder = \"AE_Data/Unfiltered_Shuffled_Compaction_Data\"\n",
    "X_train_loaded, y_train_loaded, X_valid_loaded, y_valid_loaded = load_datasets(fold=5, base_folder=base_folder)"
   ]
  },
  {
   "cell_type": "code",
   "execution_count": null,
   "id": "8b2ef3e9-c9ee-4714-8912-c2ce7e2cb05a",
   "metadata": {},
   "outputs": [],
   "source": [
    "import os\n",
    "import pandas as pd\n",
    "from tqdm import tqdm\n",
    "import matplotlib.pyplot as plt\n",
    "import seaborn as sns\n",
    "\n",
    "# Define the output directory and subdirectories\n",
    "output_dir = 'Default_AE_Default_Data/AE_Training_5'\n",
    "subfolders = {\n",
    "    'AE_Latent_Space_Data_TXT': os.path.join(output_dir, 'AE_Latent_Space_Data_TXT'),\n",
    "    'AE_Training_Loss_Data': os.path.join(output_dir, 'AE_Training_Loss_Data'),\n",
    "    'AE_Training_Loss_Graphs': os.path.join(output_dir, 'AE_Training_Loss_Graphs'),\n",
    "    'AE_Latent_Space_Graphs': os.path.join(output_dir, 'AE_Latent_Space_Graphs'),\n",
    "    'AE_Latent_Space_Data_PKL': os.path.join(output_dir, 'AE_Latent_Space_Data_PKL'),\n",
    "    'models': os.path.join(output_dir, 'models'),\n",
    "}\n",
    "\n",
    "# Create all subdirectories\n",
    "for folder in subfolders.values():\n",
    "    os.makedirs(folder, exist_ok=True)\n",
    "\n",
    "# Initialize the autoencoder with the loaded training data\n",
    "autoencoder = AE_Model(X_train_loaded)\n",
    "\n",
    "# Training loop\n",
    "for counts in tqdm(range(101)):\n",
    "    name = \"Autoencoder_Training\"\n",
    "\n",
    "    # Save the latent space predictions log\n",
    "    txt_file_path = os.path.join(subfolders['AE_Latent_Space_Data_TXT'], f\"{counts}_Latent_Space_Predictions_Log.txt\")\n",
    "    with open(txt_file_path, \"w\") as file:\n",
    "        # Train the model\n",
    "        history = autoencoder.fit(\n",
    "            X_train_loaded, X_train_loaded,\n",
    "            epochs=1000,\n",
    "            validation_data=(X_valid_loaded, X_valid_loaded),\n",
    "            verbose=0\n",
    "        )\n",
    "\n",
    "        # Save training loss history\n",
    "        training_history = pd.DataFrame(history.history)\n",
    "        history_file_path = os.path.join(subfolders['AE_Training_Loss_Data'], f\"{counts}_{name}_History.pkl\")\n",
    "        training_history.to_pickle(history_file_path)\n",
    "\n",
    "        # Save training loss graph\n",
    "        plt.plot(training_history)\n",
    "        graph_file_path = os.path.join(subfolders['AE_Training_Loss_Graphs'], f\"{counts}_{name}_History.png\")\n",
    "        plt.savefig(graph_file_path, dpi=300)\n",
    "        plt.clf()\n",
    "        plt.close()\n",
    "\n",
    "        # Define the latent space model\n",
    "        dr_model = tf.keras.models.Model(\n",
    "            inputs=autoencoder.input,\n",
    "            outputs=autoencoder.get_layer('ae_latent').output\n",
    "        )\n",
    "        dr_model.summary(print_fn=lambda x: file.write(x + '\\n'))\n",
    "\n",
    "        # Initialize latent space variables\n",
    "        x, y, z, indices = [], [], [], []\n",
    "\n",
    "        # Process validation data in batches\n",
    "        batch_size = 32\n",
    "        for batch_start in range(0, len(X_valid_loaded), batch_size):\n",
    "            batch_end = min(batch_start + batch_size, len(X_valid_loaded))\n",
    "            X_batch = np.array(X_valid_loaded.iloc[batch_start:batch_end])\n",
    "            y_batch = y_valid_loaded.iloc[batch_start:batch_end].values.flatten()\n",
    "\n",
    "            # Predict latent space values\n",
    "            op_batch = dr_model.predict(X_batch, verbose=0)\n",
    "            for i, op in enumerate(op_batch):\n",
    "                z.append(y_batch[i])\n",
    "                x.append(op[0])\n",
    "                y.append(op[1])\n",
    "                indices.append(y_valid_loaded.index[batch_start + i])\n",
    "                file.write(f\"Prediction {batch_start + i}: {op}\\n\")\n",
    "\n",
    "        # Save latent space scatter plot\n",
    "        df = pd.DataFrame({'x': x, 'y': y, 'z': [f\"trajectory-{k}\" for k in z], 'index': indices})\n",
    "        plt.figure(figsize=(8, 6))\n",
    "        sns.scatterplot(x='x', y='y', hue='z', data=df, s=10)\n",
    "        scatter_file_path = os.path.join(subfolders['AE_Latent_Space_Graphs'], f\"{counts}_Latent_Space.png\")\n",
    "        plt.savefig(scatter_file_path, dpi=300)\n",
    "        plt.clf()\n",
    "        plt.close()\n",
    "\n",
    "        # Save latent space data as pickle\n",
    "        pkl_file_path = os.path.join(subfolders['AE_Latent_Space_Data_PKL'], f\"{counts}_Latent_Space.pkl\")\n",
    "        df.to_pickle(pkl_file_path)\n",
    "\n",
    "        # Save the model\n",
    "        model_file_path = os.path.join(subfolders['models'], f\"saved_model_{counts}.keras\")\n",
    "        save_model(autoencoder, model_file_path)"
   ]
  },
  {
   "cell_type": "markdown",
   "id": "5815ff9f-e46a-4947-accf-e5d83c1da2a6",
   "metadata": {
    "jp-MarkdownHeadingCollapsed": true
   },
   "source": [
    "# UnShuffled Raw Distance Data"
   ]
  },
  {
   "cell_type": "code",
   "execution_count": 3,
   "id": "ac5e3029-7271-4073-a343-f3b805c720df",
   "metadata": {},
   "outputs": [],
   "source": [
    "# Save the model using the recommended Keras format\n",
    "def save_model(model, model_path):\n",
    "    if not model_path.endswith('.keras'):\n",
    "        model_path += '.keras'\n",
    "    model.save(model_path)\n",
    "    \n",
    "# Load the model\n",
    "def load_existing_model(model_path):\n",
    "    return load_model(model_path)"
   ]
  },
  {
   "cell_type": "code",
   "execution_count": 4,
   "id": "dc44aba6-3f14-441c-8441-8e6675b42be2",
   "metadata": {},
   "outputs": [],
   "source": [
    "# Get autoencoder model\n",
    "def AE_Model(train_data, LeReLU_alpha=0.01, batch_size=256):\n",
    "    \n",
    "    input_layer = Input(shape=(train_data.shape[1],), name='ae_input')\n",
    "    \n",
    "    encoder = Dense(1024, activation=LeakyReLU(negative_slope=LeReLU_alpha), name='e1')(input_layer)\n",
    "    encoder = Dense(512, activation=LeakyReLU(negative_slope=LeReLU_alpha), name='e2')(encoder)\n",
    "    encoder = Dense(256, activation=LeakyReLU(negative_slope=LeReLU_alpha), name='e3')(encoder)\n",
    "    encoder = Dense(128, activation=LeakyReLU(negative_slope=LeReLU_alpha), name='e4')(encoder)\n",
    "    encoder = Dense(64, activation=LeakyReLU(negative_slope=LeReLU_alpha), name='e5')(encoder)\n",
    "    encoder = Dense(32, activation=LeakyReLU(negative_slope=LeReLU_alpha), name='e6')(encoder)\n",
    "\n",
    "    encoded = Dense(2, activation='linear', name='ae_latent')(encoder)\n",
    "    \n",
    "    decoder = Dense(32, activation=LeakyReLU(negative_slope=LeReLU_alpha), name='d6')(encoded)\n",
    "    decoder = Dense(64, activation=LeakyReLU(negative_slope=LeReLU_alpha), name='d5')(decoder)\n",
    "    decoder = Dense(128, activation=LeakyReLU(negative_slope=LeReLU_alpha), name='d4')(decoder)\n",
    "    decoder = Dense(256, activation=LeakyReLU(negative_slope=LeReLU_alpha), name='d3')(decoder)\n",
    "    decoder = Dense(512, activation=LeakyReLU(negative_slope=LeReLU_alpha), name='d2')(decoder)\n",
    "    decoder = Dense(1024, activation=LeakyReLU(negative_slope=LeReLU_alpha), name='d1')(decoder)\n",
    "\n",
    "    output_layer = Dense(train_data.shape[1], activation='linear', name='ae_output')(decoder)\n",
    "    \n",
    "    model = Model(inputs=input_layer, outputs=output_layer)\n",
    "    model.compile(optimizer=Adam(learning_rate=1e-5), loss=MeanSquaredError())\n",
    "    \n",
    "    model.summary()\n",
    "    \n",
    "    return model"
   ]
  },
  {
   "cell_type": "code",
   "execution_count": 5,
   "id": "27cc02cb-9dba-4672-ae4f-c433b2e45fbf",
   "metadata": {},
   "outputs": [],
   "source": [
    "base_folder = \"AE_Data/Unfiltered_UnShuffled_Compaction_Data\"\n",
    "X_train_loaded, y_train_loaded, X_valid_loaded, y_valid_loaded = load_datasets(fold=1, base_folder=base_folder)"
   ]
  },
  {
   "cell_type": "code",
   "execution_count": 7,
   "id": "832e65b2-ad6a-4824-9c86-c36cad26d2e0",
   "metadata": {},
   "outputs": [
    {
     "name": "stderr",
     "output_type": "stream",
     "text": [
      "WARNING: All log messages before absl::InitializeLog() is called are written to STDERR\n",
      "I0000 00:00:1732886411.338201    3919 cuda_executor.cc:1015] successful NUMA node read from SysFS had negative value (-1), but there must be at least one NUMA node, so returning NUMA node zero. See more at https://github.com/torvalds/linux/blob/v6.0/Documentation/ABI/testing/sysfs-bus-pci#L344-L355\n",
      "I0000 00:00:1732886411.412068    3919 cuda_executor.cc:1015] successful NUMA node read from SysFS had negative value (-1), but there must be at least one NUMA node, so returning NUMA node zero. See more at https://github.com/torvalds/linux/blob/v6.0/Documentation/ABI/testing/sysfs-bus-pci#L344-L355\n",
      "I0000 00:00:1732886411.412208    3919 cuda_executor.cc:1015] successful NUMA node read from SysFS had negative value (-1), but there must be at least one NUMA node, so returning NUMA node zero. See more at https://github.com/torvalds/linux/blob/v6.0/Documentation/ABI/testing/sysfs-bus-pci#L344-L355\n",
      "I0000 00:00:1732886411.413644    3919 cuda_executor.cc:1015] successful NUMA node read from SysFS had negative value (-1), but there must be at least one NUMA node, so returning NUMA node zero. See more at https://github.com/torvalds/linux/blob/v6.0/Documentation/ABI/testing/sysfs-bus-pci#L344-L355\n",
      "I0000 00:00:1732886411.413742    3919 cuda_executor.cc:1015] successful NUMA node read from SysFS had negative value (-1), but there must be at least one NUMA node, so returning NUMA node zero. See more at https://github.com/torvalds/linux/blob/v6.0/Documentation/ABI/testing/sysfs-bus-pci#L344-L355\n",
      "I0000 00:00:1732886411.413806    3919 cuda_executor.cc:1015] successful NUMA node read from SysFS had negative value (-1), but there must be at least one NUMA node, so returning NUMA node zero. See more at https://github.com/torvalds/linux/blob/v6.0/Documentation/ABI/testing/sysfs-bus-pci#L344-L355\n",
      "I0000 00:00:1732886411.470310    3919 cuda_executor.cc:1015] successful NUMA node read from SysFS had negative value (-1), but there must be at least one NUMA node, so returning NUMA node zero. See more at https://github.com/torvalds/linux/blob/v6.0/Documentation/ABI/testing/sysfs-bus-pci#L344-L355\n",
      "I0000 00:00:1732886411.470417    3919 cuda_executor.cc:1015] successful NUMA node read from SysFS had negative value (-1), but there must be at least one NUMA node, so returning NUMA node zero. See more at https://github.com/torvalds/linux/blob/v6.0/Documentation/ABI/testing/sysfs-bus-pci#L344-L355\n",
      "I0000 00:00:1732886411.470489    3919 cuda_executor.cc:1015] successful NUMA node read from SysFS had negative value (-1), but there must be at least one NUMA node, so returning NUMA node zero. See more at https://github.com/torvalds/linux/blob/v6.0/Documentation/ABI/testing/sysfs-bus-pci#L344-L355\n",
      "2024-11-29 13:20:11.470721: I tensorflow/core/common_runtime/gpu/gpu_device.cc:2021] Created device /job:localhost/replica:0/task:0/device:GPU:0 with 13909 MB memory:  -> device: 0, name: NVIDIA GeForce RTX 4080 SUPER, pci bus id: 0000:01:00.0, compute capability: 8.9\n"
     ]
    },
    {
     "data": {
      "text/html": [
       "<pre style=\"white-space:pre;overflow-x:auto;line-height:normal;font-family:Menlo,'DejaVu Sans Mono',consolas,'Courier New',monospace\"><span style=\"font-weight: bold\">Model: \"functional\"</span>\n",
       "</pre>\n"
      ],
      "text/plain": [
       "\u001b[1mModel: \"functional\"\u001b[0m\n"
      ]
     },
     "metadata": {},
     "output_type": "display_data"
    },
    {
     "data": {
      "text/html": [
       "<pre style=\"white-space:pre;overflow-x:auto;line-height:normal;font-family:Menlo,'DejaVu Sans Mono',consolas,'Courier New',monospace\">┏━━━━━━━━━━━━━━━━━━━━━━━━━━━━━━━━━┳━━━━━━━━━━━━━━━━━━━━━━━━┳━━━━━━━━━━━━━━━┓\n",
       "┃<span style=\"font-weight: bold\"> Layer (type)                    </span>┃<span style=\"font-weight: bold\"> Output Shape           </span>┃<span style=\"font-weight: bold\">       Param # </span>┃\n",
       "┡━━━━━━━━━━━━━━━━━━━━━━━━━━━━━━━━━╇━━━━━━━━━━━━━━━━━━━━━━━━╇━━━━━━━━━━━━━━━┩\n",
       "│ ae_input (<span style=\"color: #0087ff; text-decoration-color: #0087ff\">InputLayer</span>)           │ (<span style=\"color: #00d7ff; text-decoration-color: #00d7ff\">None</span>, <span style=\"color: #00af00; text-decoration-color: #00af00\">2175</span>)           │             <span style=\"color: #00af00; text-decoration-color: #00af00\">0</span> │\n",
       "├─────────────────────────────────┼────────────────────────┼───────────────┤\n",
       "│ e1 (<span style=\"color: #0087ff; text-decoration-color: #0087ff\">Dense</span>)                      │ (<span style=\"color: #00d7ff; text-decoration-color: #00d7ff\">None</span>, <span style=\"color: #00af00; text-decoration-color: #00af00\">1024</span>)           │     <span style=\"color: #00af00; text-decoration-color: #00af00\">2,228,224</span> │\n",
       "├─────────────────────────────────┼────────────────────────┼───────────────┤\n",
       "│ e2 (<span style=\"color: #0087ff; text-decoration-color: #0087ff\">Dense</span>)                      │ (<span style=\"color: #00d7ff; text-decoration-color: #00d7ff\">None</span>, <span style=\"color: #00af00; text-decoration-color: #00af00\">512</span>)            │       <span style=\"color: #00af00; text-decoration-color: #00af00\">524,800</span> │\n",
       "├─────────────────────────────────┼────────────────────────┼───────────────┤\n",
       "│ e3 (<span style=\"color: #0087ff; text-decoration-color: #0087ff\">Dense</span>)                      │ (<span style=\"color: #00d7ff; text-decoration-color: #00d7ff\">None</span>, <span style=\"color: #00af00; text-decoration-color: #00af00\">256</span>)            │       <span style=\"color: #00af00; text-decoration-color: #00af00\">131,328</span> │\n",
       "├─────────────────────────────────┼────────────────────────┼───────────────┤\n",
       "│ e4 (<span style=\"color: #0087ff; text-decoration-color: #0087ff\">Dense</span>)                      │ (<span style=\"color: #00d7ff; text-decoration-color: #00d7ff\">None</span>, <span style=\"color: #00af00; text-decoration-color: #00af00\">128</span>)            │        <span style=\"color: #00af00; text-decoration-color: #00af00\">32,896</span> │\n",
       "├─────────────────────────────────┼────────────────────────┼───────────────┤\n",
       "│ e5 (<span style=\"color: #0087ff; text-decoration-color: #0087ff\">Dense</span>)                      │ (<span style=\"color: #00d7ff; text-decoration-color: #00d7ff\">None</span>, <span style=\"color: #00af00; text-decoration-color: #00af00\">64</span>)             │         <span style=\"color: #00af00; text-decoration-color: #00af00\">8,256</span> │\n",
       "├─────────────────────────────────┼────────────────────────┼───────────────┤\n",
       "│ e6 (<span style=\"color: #0087ff; text-decoration-color: #0087ff\">Dense</span>)                      │ (<span style=\"color: #00d7ff; text-decoration-color: #00d7ff\">None</span>, <span style=\"color: #00af00; text-decoration-color: #00af00\">32</span>)             │         <span style=\"color: #00af00; text-decoration-color: #00af00\">2,080</span> │\n",
       "├─────────────────────────────────┼────────────────────────┼───────────────┤\n",
       "│ ae_latent (<span style=\"color: #0087ff; text-decoration-color: #0087ff\">Dense</span>)               │ (<span style=\"color: #00d7ff; text-decoration-color: #00d7ff\">None</span>, <span style=\"color: #00af00; text-decoration-color: #00af00\">2</span>)              │            <span style=\"color: #00af00; text-decoration-color: #00af00\">66</span> │\n",
       "├─────────────────────────────────┼────────────────────────┼───────────────┤\n",
       "│ d6 (<span style=\"color: #0087ff; text-decoration-color: #0087ff\">Dense</span>)                      │ (<span style=\"color: #00d7ff; text-decoration-color: #00d7ff\">None</span>, <span style=\"color: #00af00; text-decoration-color: #00af00\">32</span>)             │            <span style=\"color: #00af00; text-decoration-color: #00af00\">96</span> │\n",
       "├─────────────────────────────────┼────────────────────────┼───────────────┤\n",
       "│ d5 (<span style=\"color: #0087ff; text-decoration-color: #0087ff\">Dense</span>)                      │ (<span style=\"color: #00d7ff; text-decoration-color: #00d7ff\">None</span>, <span style=\"color: #00af00; text-decoration-color: #00af00\">64</span>)             │         <span style=\"color: #00af00; text-decoration-color: #00af00\">2,112</span> │\n",
       "├─────────────────────────────────┼────────────────────────┼───────────────┤\n",
       "│ d4 (<span style=\"color: #0087ff; text-decoration-color: #0087ff\">Dense</span>)                      │ (<span style=\"color: #00d7ff; text-decoration-color: #00d7ff\">None</span>, <span style=\"color: #00af00; text-decoration-color: #00af00\">128</span>)            │         <span style=\"color: #00af00; text-decoration-color: #00af00\">8,320</span> │\n",
       "├─────────────────────────────────┼────────────────────────┼───────────────┤\n",
       "│ d3 (<span style=\"color: #0087ff; text-decoration-color: #0087ff\">Dense</span>)                      │ (<span style=\"color: #00d7ff; text-decoration-color: #00d7ff\">None</span>, <span style=\"color: #00af00; text-decoration-color: #00af00\">256</span>)            │        <span style=\"color: #00af00; text-decoration-color: #00af00\">33,024</span> │\n",
       "├─────────────────────────────────┼────────────────────────┼───────────────┤\n",
       "│ d2 (<span style=\"color: #0087ff; text-decoration-color: #0087ff\">Dense</span>)                      │ (<span style=\"color: #00d7ff; text-decoration-color: #00d7ff\">None</span>, <span style=\"color: #00af00; text-decoration-color: #00af00\">512</span>)            │       <span style=\"color: #00af00; text-decoration-color: #00af00\">131,584</span> │\n",
       "├─────────────────────────────────┼────────────────────────┼───────────────┤\n",
       "│ d1 (<span style=\"color: #0087ff; text-decoration-color: #0087ff\">Dense</span>)                      │ (<span style=\"color: #00d7ff; text-decoration-color: #00d7ff\">None</span>, <span style=\"color: #00af00; text-decoration-color: #00af00\">1024</span>)           │       <span style=\"color: #00af00; text-decoration-color: #00af00\">525,312</span> │\n",
       "├─────────────────────────────────┼────────────────────────┼───────────────┤\n",
       "│ ae_output (<span style=\"color: #0087ff; text-decoration-color: #0087ff\">Dense</span>)               │ (<span style=\"color: #00d7ff; text-decoration-color: #00d7ff\">None</span>, <span style=\"color: #00af00; text-decoration-color: #00af00\">2175</span>)           │     <span style=\"color: #00af00; text-decoration-color: #00af00\">2,229,375</span> │\n",
       "└─────────────────────────────────┴────────────────────────┴───────────────┘\n",
       "</pre>\n"
      ],
      "text/plain": [
       "┏━━━━━━━━━━━━━━━━━━━━━━━━━━━━━━━━━┳━━━━━━━━━━━━━━━━━━━━━━━━┳━━━━━━━━━━━━━━━┓\n",
       "┃\u001b[1m \u001b[0m\u001b[1mLayer (type)                   \u001b[0m\u001b[1m \u001b[0m┃\u001b[1m \u001b[0m\u001b[1mOutput Shape          \u001b[0m\u001b[1m \u001b[0m┃\u001b[1m \u001b[0m\u001b[1m      Param #\u001b[0m\u001b[1m \u001b[0m┃\n",
       "┡━━━━━━━━━━━━━━━━━━━━━━━━━━━━━━━━━╇━━━━━━━━━━━━━━━━━━━━━━━━╇━━━━━━━━━━━━━━━┩\n",
       "│ ae_input (\u001b[38;5;33mInputLayer\u001b[0m)           │ (\u001b[38;5;45mNone\u001b[0m, \u001b[38;5;34m2175\u001b[0m)           │             \u001b[38;5;34m0\u001b[0m │\n",
       "├─────────────────────────────────┼────────────────────────┼───────────────┤\n",
       "│ e1 (\u001b[38;5;33mDense\u001b[0m)                      │ (\u001b[38;5;45mNone\u001b[0m, \u001b[38;5;34m1024\u001b[0m)           │     \u001b[38;5;34m2,228,224\u001b[0m │\n",
       "├─────────────────────────────────┼────────────────────────┼───────────────┤\n",
       "│ e2 (\u001b[38;5;33mDense\u001b[0m)                      │ (\u001b[38;5;45mNone\u001b[0m, \u001b[38;5;34m512\u001b[0m)            │       \u001b[38;5;34m524,800\u001b[0m │\n",
       "├─────────────────────────────────┼────────────────────────┼───────────────┤\n",
       "│ e3 (\u001b[38;5;33mDense\u001b[0m)                      │ (\u001b[38;5;45mNone\u001b[0m, \u001b[38;5;34m256\u001b[0m)            │       \u001b[38;5;34m131,328\u001b[0m │\n",
       "├─────────────────────────────────┼────────────────────────┼───────────────┤\n",
       "│ e4 (\u001b[38;5;33mDense\u001b[0m)                      │ (\u001b[38;5;45mNone\u001b[0m, \u001b[38;5;34m128\u001b[0m)            │        \u001b[38;5;34m32,896\u001b[0m │\n",
       "├─────────────────────────────────┼────────────────────────┼───────────────┤\n",
       "│ e5 (\u001b[38;5;33mDense\u001b[0m)                      │ (\u001b[38;5;45mNone\u001b[0m, \u001b[38;5;34m64\u001b[0m)             │         \u001b[38;5;34m8,256\u001b[0m │\n",
       "├─────────────────────────────────┼────────────────────────┼───────────────┤\n",
       "│ e6 (\u001b[38;5;33mDense\u001b[0m)                      │ (\u001b[38;5;45mNone\u001b[0m, \u001b[38;5;34m32\u001b[0m)             │         \u001b[38;5;34m2,080\u001b[0m │\n",
       "├─────────────────────────────────┼────────────────────────┼───────────────┤\n",
       "│ ae_latent (\u001b[38;5;33mDense\u001b[0m)               │ (\u001b[38;5;45mNone\u001b[0m, \u001b[38;5;34m2\u001b[0m)              │            \u001b[38;5;34m66\u001b[0m │\n",
       "├─────────────────────────────────┼────────────────────────┼───────────────┤\n",
       "│ d6 (\u001b[38;5;33mDense\u001b[0m)                      │ (\u001b[38;5;45mNone\u001b[0m, \u001b[38;5;34m32\u001b[0m)             │            \u001b[38;5;34m96\u001b[0m │\n",
       "├─────────────────────────────────┼────────────────────────┼───────────────┤\n",
       "│ d5 (\u001b[38;5;33mDense\u001b[0m)                      │ (\u001b[38;5;45mNone\u001b[0m, \u001b[38;5;34m64\u001b[0m)             │         \u001b[38;5;34m2,112\u001b[0m │\n",
       "├─────────────────────────────────┼────────────────────────┼───────────────┤\n",
       "│ d4 (\u001b[38;5;33mDense\u001b[0m)                      │ (\u001b[38;5;45mNone\u001b[0m, \u001b[38;5;34m128\u001b[0m)            │         \u001b[38;5;34m8,320\u001b[0m │\n",
       "├─────────────────────────────────┼────────────────────────┼───────────────┤\n",
       "│ d3 (\u001b[38;5;33mDense\u001b[0m)                      │ (\u001b[38;5;45mNone\u001b[0m, \u001b[38;5;34m256\u001b[0m)            │        \u001b[38;5;34m33,024\u001b[0m │\n",
       "├─────────────────────────────────┼────────────────────────┼───────────────┤\n",
       "│ d2 (\u001b[38;5;33mDense\u001b[0m)                      │ (\u001b[38;5;45mNone\u001b[0m, \u001b[38;5;34m512\u001b[0m)            │       \u001b[38;5;34m131,584\u001b[0m │\n",
       "├─────────────────────────────────┼────────────────────────┼───────────────┤\n",
       "│ d1 (\u001b[38;5;33mDense\u001b[0m)                      │ (\u001b[38;5;45mNone\u001b[0m, \u001b[38;5;34m1024\u001b[0m)           │       \u001b[38;5;34m525,312\u001b[0m │\n",
       "├─────────────────────────────────┼────────────────────────┼───────────────┤\n",
       "│ ae_output (\u001b[38;5;33mDense\u001b[0m)               │ (\u001b[38;5;45mNone\u001b[0m, \u001b[38;5;34m2175\u001b[0m)           │     \u001b[38;5;34m2,229,375\u001b[0m │\n",
       "└─────────────────────────────────┴────────────────────────┴───────────────┘\n"
      ]
     },
     "metadata": {},
     "output_type": "display_data"
    },
    {
     "data": {
      "text/html": [
       "<pre style=\"white-space:pre;overflow-x:auto;line-height:normal;font-family:Menlo,'DejaVu Sans Mono',consolas,'Courier New',monospace\"><span style=\"font-weight: bold\"> Total params: </span><span style=\"color: #00af00; text-decoration-color: #00af00\">5,857,473</span> (22.34 MB)\n",
       "</pre>\n"
      ],
      "text/plain": [
       "\u001b[1m Total params: \u001b[0m\u001b[38;5;34m5,857,473\u001b[0m (22.34 MB)\n"
      ]
     },
     "metadata": {},
     "output_type": "display_data"
    },
    {
     "data": {
      "text/html": [
       "<pre style=\"white-space:pre;overflow-x:auto;line-height:normal;font-family:Menlo,'DejaVu Sans Mono',consolas,'Courier New',monospace\"><span style=\"font-weight: bold\"> Trainable params: </span><span style=\"color: #00af00; text-decoration-color: #00af00\">5,857,473</span> (22.34 MB)\n",
       "</pre>\n"
      ],
      "text/plain": [
       "\u001b[1m Trainable params: \u001b[0m\u001b[38;5;34m5,857,473\u001b[0m (22.34 MB)\n"
      ]
     },
     "metadata": {},
     "output_type": "display_data"
    },
    {
     "data": {
      "text/html": [
       "<pre style=\"white-space:pre;overflow-x:auto;line-height:normal;font-family:Menlo,'DejaVu Sans Mono',consolas,'Courier New',monospace\"><span style=\"font-weight: bold\"> Non-trainable params: </span><span style=\"color: #00af00; text-decoration-color: #00af00\">0</span> (0.00 B)\n",
       "</pre>\n"
      ],
      "text/plain": [
       "\u001b[1m Non-trainable params: \u001b[0m\u001b[38;5;34m0\u001b[0m (0.00 B)\n"
      ]
     },
     "metadata": {},
     "output_type": "display_data"
    },
    {
     "name": "stderr",
     "output_type": "stream",
     "text": [
      "  0%|                                                   | 0/101 [00:00<?, ?it/s]WARNING: All log messages before absl::InitializeLog() is called are written to STDERR\n",
      "I0000 00:00:1732886413.620915    4310 service.cc:146] XLA service 0x7a17bc019420 initialized for platform CUDA (this does not guarantee that XLA will be used). Devices:\n",
      "I0000 00:00:1732886413.620941    4310 service.cc:154]   StreamExecutor device (0): NVIDIA GeForce RTX 4080 SUPER, Compute Capability 8.9\n",
      "2024-11-29 13:20:13.653291: I tensorflow/compiler/mlir/tensorflow/utils/dump_mlir_util.cc:268] disabling MLIR crash reproducer, set env var `MLIR_CRASH_REPRODUCER_DIRECTORY` to enable.\n",
      "2024-11-29 13:20:13.784695: I external/local_xla/xla/stream_executor/cuda/cuda_dnn.cc:531] Loaded cuDNN version 8907\n",
      "2024-11-29 13:20:14.223689: I external/local_xla/xla/stream_executor/cuda/cuda_asm_compiler.cc:393] ptxas warning : Registers are spilled to local memory in function 'gemm_fusion_dot_998', 364 bytes spill stores, 364 bytes spill loads\n",
      "\n",
      "2024-11-29 13:20:14.248877: I external/local_xla/xla/stream_executor/cuda/cuda_asm_compiler.cc:393] ptxas warning : Registers are spilled to local memory in function 'gemm_fusion_dot_998', 268 bytes spill stores, 268 bytes spill loads\n",
      "\n",
      "2024-11-29 13:20:14.319924: I external/local_xla/xla/stream_executor/cuda/cuda_asm_compiler.cc:393] ptxas warning : Registers are spilled to local memory in function 'gemm_fusion_dot_719', 196 bytes spill stores, 196 bytes spill loads\n",
      "\n",
      "2024-11-29 13:20:14.322292: I external/local_xla/xla/stream_executor/cuda/cuda_asm_compiler.cc:393] ptxas warning : Registers are spilled to local memory in function 'gemm_fusion_dot_719', 4 bytes spill stores, 4 bytes spill loads\n",
      "\n",
      "I0000 00:00:1732886415.094406    4310 device_compiler.h:188] Compiled cluster using XLA!  This line is logged at most once for the lifetime of the process.\n"
     ]
    },
    {
     "data": {
      "text/html": [
       "<pre style=\"white-space:pre;overflow-x:auto;line-height:normal;font-family:Menlo,'DejaVu Sans Mono',consolas,'Courier New',monospace\"></pre>\n"
      ],
      "text/plain": []
     },
     "metadata": {},
     "output_type": "display_data"
    },
    {
     "name": "stderr",
     "output_type": "stream",
     "text": [
      "  1%|▍                                      | 1/101 [12:47<21:18:51, 767.32s/it]"
     ]
    },
    {
     "data": {
      "text/html": [
       "<pre style=\"white-space:pre;overflow-x:auto;line-height:normal;font-family:Menlo,'DejaVu Sans Mono',consolas,'Courier New',monospace\"></pre>\n"
      ],
      "text/plain": []
     },
     "metadata": {},
     "output_type": "display_data"
    },
    {
     "name": "stderr",
     "output_type": "stream",
     "text": [
      "  2%|▊                                      | 2/101 [25:30<21:02:31, 765.17s/it]"
     ]
    },
    {
     "data": {
      "text/html": [
       "<pre style=\"white-space:pre;overflow-x:auto;line-height:normal;font-family:Menlo,'DejaVu Sans Mono',consolas,'Courier New',monospace\"></pre>\n"
      ],
      "text/plain": []
     },
     "metadata": {},
     "output_type": "display_data"
    },
    {
     "name": "stderr",
     "output_type": "stream",
     "text": [
      "  3%|█▏                                     | 3/101 [38:14<20:48:44, 764.54s/it]"
     ]
    },
    {
     "data": {
      "text/html": [
       "<pre style=\"white-space:pre;overflow-x:auto;line-height:normal;font-family:Menlo,'DejaVu Sans Mono',consolas,'Courier New',monospace\"></pre>\n"
      ],
      "text/plain": []
     },
     "metadata": {},
     "output_type": "display_data"
    },
    {
     "name": "stderr",
     "output_type": "stream",
     "text": [
      "  4%|█▌                                     | 4/101 [50:57<20:34:44, 763.76s/it]"
     ]
    },
    {
     "data": {
      "text/html": [
       "<pre style=\"white-space:pre;overflow-x:auto;line-height:normal;font-family:Menlo,'DejaVu Sans Mono',consolas,'Courier New',monospace\"></pre>\n"
      ],
      "text/plain": []
     },
     "metadata": {},
     "output_type": "display_data"
    },
    {
     "name": "stderr",
     "output_type": "stream",
     "text": [
      "  5%|█▊                                   | 5/101 [1:03:44<20:23:57, 764.97s/it]"
     ]
    },
    {
     "data": {
      "text/html": [
       "<pre style=\"white-space:pre;overflow-x:auto;line-height:normal;font-family:Menlo,'DejaVu Sans Mono',consolas,'Courier New',monospace\"></pre>\n"
      ],
      "text/plain": []
     },
     "metadata": {},
     "output_type": "display_data"
    },
    {
     "name": "stderr",
     "output_type": "stream",
     "text": [
      "  6%|██▏                                  | 6/101 [1:16:27<20:10:19, 764.42s/it]"
     ]
    },
    {
     "data": {
      "text/html": [
       "<pre style=\"white-space:pre;overflow-x:auto;line-height:normal;font-family:Menlo,'DejaVu Sans Mono',consolas,'Courier New',monospace\"></pre>\n"
      ],
      "text/plain": []
     },
     "metadata": {},
     "output_type": "display_data"
    },
    {
     "name": "stderr",
     "output_type": "stream",
     "text": [
      "  7%|██▌                                  | 7/101 [1:29:12<19:57:29, 764.36s/it]"
     ]
    },
    {
     "data": {
      "text/html": [
       "<pre style=\"white-space:pre;overflow-x:auto;line-height:normal;font-family:Menlo,'DejaVu Sans Mono',consolas,'Courier New',monospace\"></pre>\n"
      ],
      "text/plain": []
     },
     "metadata": {},
     "output_type": "display_data"
    },
    {
     "name": "stderr",
     "output_type": "stream",
     "text": [
      "  8%|██▉                                  | 8/101 [1:41:55<19:44:31, 764.21s/it]"
     ]
    },
    {
     "data": {
      "text/html": [
       "<pre style=\"white-space:pre;overflow-x:auto;line-height:normal;font-family:Menlo,'DejaVu Sans Mono',consolas,'Courier New',monospace\"></pre>\n"
      ],
      "text/plain": []
     },
     "metadata": {},
     "output_type": "display_data"
    },
    {
     "name": "stderr",
     "output_type": "stream",
     "text": [
      "  9%|███▎                                 | 9/101 [1:54:41<19:32:15, 764.52s/it]"
     ]
    },
    {
     "data": {
      "text/html": [
       "<pre style=\"white-space:pre;overflow-x:auto;line-height:normal;font-family:Menlo,'DejaVu Sans Mono',consolas,'Courier New',monospace\"></pre>\n"
      ],
      "text/plain": []
     },
     "metadata": {},
     "output_type": "display_data"
    },
    {
     "name": "stderr",
     "output_type": "stream",
     "text": [
      " 10%|███▌                                | 10/101 [2:07:25<19:19:17, 764.36s/it]"
     ]
    },
    {
     "data": {
      "text/html": [
       "<pre style=\"white-space:pre;overflow-x:auto;line-height:normal;font-family:Menlo,'DejaVu Sans Mono',consolas,'Courier New',monospace\"></pre>\n"
      ],
      "text/plain": []
     },
     "metadata": {},
     "output_type": "display_data"
    },
    {
     "name": "stderr",
     "output_type": "stream",
     "text": [
      " 11%|███▉                                | 11/101 [2:20:09<19:06:45, 764.50s/it]"
     ]
    },
    {
     "data": {
      "text/html": [
       "<pre style=\"white-space:pre;overflow-x:auto;line-height:normal;font-family:Menlo,'DejaVu Sans Mono',consolas,'Courier New',monospace\"></pre>\n"
      ],
      "text/plain": []
     },
     "metadata": {},
     "output_type": "display_data"
    },
    {
     "name": "stderr",
     "output_type": "stream",
     "text": [
      " 12%|████▎                               | 12/101 [2:32:54<18:54:14, 764.66s/it]"
     ]
    },
    {
     "data": {
      "text/html": [
       "<pre style=\"white-space:pre;overflow-x:auto;line-height:normal;font-family:Menlo,'DejaVu Sans Mono',consolas,'Courier New',monospace\"></pre>\n"
      ],
      "text/plain": []
     },
     "metadata": {},
     "output_type": "display_data"
    },
    {
     "name": "stderr",
     "output_type": "stream",
     "text": [
      " 13%|████▋                               | 13/101 [2:45:39<18:41:37, 764.75s/it]"
     ]
    },
    {
     "data": {
      "text/html": [
       "<pre style=\"white-space:pre;overflow-x:auto;line-height:normal;font-family:Menlo,'DejaVu Sans Mono',consolas,'Courier New',monospace\"></pre>\n"
      ],
      "text/plain": []
     },
     "metadata": {},
     "output_type": "display_data"
    },
    {
     "name": "stderr",
     "output_type": "stream",
     "text": [
      " 14%|████▉                               | 14/101 [2:58:22<18:27:53, 764.07s/it]"
     ]
    },
    {
     "data": {
      "text/html": [
       "<pre style=\"white-space:pre;overflow-x:auto;line-height:normal;font-family:Menlo,'DejaVu Sans Mono',consolas,'Courier New',monospace\"></pre>\n"
      ],
      "text/plain": []
     },
     "metadata": {},
     "output_type": "display_data"
    },
    {
     "name": "stderr",
     "output_type": "stream",
     "text": [
      " 15%|█████▎                              | 15/101 [3:11:07<18:15:25, 764.25s/it]"
     ]
    },
    {
     "data": {
      "text/html": [
       "<pre style=\"white-space:pre;overflow-x:auto;line-height:normal;font-family:Menlo,'DejaVu Sans Mono',consolas,'Courier New',monospace\"></pre>\n"
      ],
      "text/plain": []
     },
     "metadata": {},
     "output_type": "display_data"
    },
    {
     "name": "stderr",
     "output_type": "stream",
     "text": [
      " 16%|█████▋                              | 16/101 [3:23:53<18:03:45, 765.00s/it]"
     ]
    },
    {
     "data": {
      "text/html": [
       "<pre style=\"white-space:pre;overflow-x:auto;line-height:normal;font-family:Menlo,'DejaVu Sans Mono',consolas,'Courier New',monospace\"></pre>\n"
      ],
      "text/plain": []
     },
     "metadata": {},
     "output_type": "display_data"
    },
    {
     "name": "stderr",
     "output_type": "stream",
     "text": [
      " 17%|██████                              | 17/101 [3:36:39<17:51:08, 765.11s/it]"
     ]
    },
    {
     "data": {
      "text/html": [
       "<pre style=\"white-space:pre;overflow-x:auto;line-height:normal;font-family:Menlo,'DejaVu Sans Mono',consolas,'Courier New',monospace\"></pre>\n"
      ],
      "text/plain": []
     },
     "metadata": {},
     "output_type": "display_data"
    },
    {
     "name": "stderr",
     "output_type": "stream",
     "text": [
      " 18%|██████▍                             | 18/101 [3:49:25<17:39:01, 765.56s/it]"
     ]
    },
    {
     "data": {
      "text/html": [
       "<pre style=\"white-space:pre;overflow-x:auto;line-height:normal;font-family:Menlo,'DejaVu Sans Mono',consolas,'Courier New',monospace\"></pre>\n"
      ],
      "text/plain": []
     },
     "metadata": {},
     "output_type": "display_data"
    },
    {
     "name": "stderr",
     "output_type": "stream",
     "text": [
      " 19%|██████▊                             | 19/101 [4:02:11<17:26:20, 765.61s/it]"
     ]
    },
    {
     "data": {
      "text/html": [
       "<pre style=\"white-space:pre;overflow-x:auto;line-height:normal;font-family:Menlo,'DejaVu Sans Mono',consolas,'Courier New',monospace\"></pre>\n"
      ],
      "text/plain": []
     },
     "metadata": {},
     "output_type": "display_data"
    },
    {
     "name": "stderr",
     "output_type": "stream",
     "text": [
      " 20%|███████▏                            | 20/101 [4:14:58<17:13:58, 765.90s/it]"
     ]
    },
    {
     "data": {
      "text/html": [
       "<pre style=\"white-space:pre;overflow-x:auto;line-height:normal;font-family:Menlo,'DejaVu Sans Mono',consolas,'Courier New',monospace\"></pre>\n"
      ],
      "text/plain": []
     },
     "metadata": {},
     "output_type": "display_data"
    },
    {
     "name": "stderr",
     "output_type": "stream",
     "text": [
      " 21%|███████▍                            | 21/101 [4:27:47<17:02:39, 766.99s/it]"
     ]
    },
    {
     "data": {
      "text/html": [
       "<pre style=\"white-space:pre;overflow-x:auto;line-height:normal;font-family:Menlo,'DejaVu Sans Mono',consolas,'Courier New',monospace\"></pre>\n"
      ],
      "text/plain": []
     },
     "metadata": {},
     "output_type": "display_data"
    },
    {
     "name": "stderr",
     "output_type": "stream",
     "text": [
      " 22%|███████▊                            | 22/101 [4:40:34<16:50:00, 767.10s/it]"
     ]
    },
    {
     "data": {
      "text/html": [
       "<pre style=\"white-space:pre;overflow-x:auto;line-height:normal;font-family:Menlo,'DejaVu Sans Mono',consolas,'Courier New',monospace\"></pre>\n"
      ],
      "text/plain": []
     },
     "metadata": {},
     "output_type": "display_data"
    },
    {
     "name": "stderr",
     "output_type": "stream",
     "text": [
      " 23%|████████▏                           | 23/101 [4:53:22<16:37:28, 767.29s/it]"
     ]
    },
    {
     "data": {
      "text/html": [
       "<pre style=\"white-space:pre;overflow-x:auto;line-height:normal;font-family:Menlo,'DejaVu Sans Mono',consolas,'Courier New',monospace\"></pre>\n"
      ],
      "text/plain": []
     },
     "metadata": {},
     "output_type": "display_data"
    },
    {
     "name": "stderr",
     "output_type": "stream",
     "text": [
      " 24%|████████▌                           | 24/101 [5:06:09<16:24:33, 767.19s/it]"
     ]
    },
    {
     "data": {
      "text/html": [
       "<pre style=\"white-space:pre;overflow-x:auto;line-height:normal;font-family:Menlo,'DejaVu Sans Mono',consolas,'Courier New',monospace\"></pre>\n"
      ],
      "text/plain": []
     },
     "metadata": {},
     "output_type": "display_data"
    },
    {
     "name": "stderr",
     "output_type": "stream",
     "text": [
      " 25%|████████▉                           | 25/101 [5:18:59<16:12:40, 767.90s/it]"
     ]
    },
    {
     "data": {
      "text/html": [
       "<pre style=\"white-space:pre;overflow-x:auto;line-height:normal;font-family:Menlo,'DejaVu Sans Mono',consolas,'Courier New',monospace\"></pre>\n"
      ],
      "text/plain": []
     },
     "metadata": {},
     "output_type": "display_data"
    },
    {
     "name": "stderr",
     "output_type": "stream",
     "text": [
      " 26%|█████████▎                          | 26/101 [5:31:44<15:58:45, 767.00s/it]"
     ]
    },
    {
     "data": {
      "text/html": [
       "<pre style=\"white-space:pre;overflow-x:auto;line-height:normal;font-family:Menlo,'DejaVu Sans Mono',consolas,'Courier New',monospace\"></pre>\n"
      ],
      "text/plain": []
     },
     "metadata": {},
     "output_type": "display_data"
    },
    {
     "name": "stderr",
     "output_type": "stream",
     "text": [
      " 27%|█████████▌                          | 27/101 [5:44:33<15:46:42, 767.61s/it]"
     ]
    },
    {
     "data": {
      "text/html": [
       "<pre style=\"white-space:pre;overflow-x:auto;line-height:normal;font-family:Menlo,'DejaVu Sans Mono',consolas,'Courier New',monospace\"></pre>\n"
      ],
      "text/plain": []
     },
     "metadata": {},
     "output_type": "display_data"
    },
    {
     "name": "stderr",
     "output_type": "stream",
     "text": [
      " 28%|█████████▉                          | 28/101 [5:57:21<15:34:07, 767.77s/it]"
     ]
    },
    {
     "data": {
      "text/html": [
       "<pre style=\"white-space:pre;overflow-x:auto;line-height:normal;font-family:Menlo,'DejaVu Sans Mono',consolas,'Courier New',monospace\"></pre>\n"
      ],
      "text/plain": []
     },
     "metadata": {},
     "output_type": "display_data"
    },
    {
     "name": "stderr",
     "output_type": "stream",
     "text": [
      " 29%|██████████▎                         | 29/101 [6:10:07<15:20:42, 767.26s/it]"
     ]
    },
    {
     "data": {
      "text/html": [
       "<pre style=\"white-space:pre;overflow-x:auto;line-height:normal;font-family:Menlo,'DejaVu Sans Mono',consolas,'Courier New',monospace\"></pre>\n"
      ],
      "text/plain": []
     },
     "metadata": {},
     "output_type": "display_data"
    },
    {
     "name": "stderr",
     "output_type": "stream",
     "text": [
      " 30%|██████████▋                         | 30/101 [6:22:53<15:07:25, 766.84s/it]"
     ]
    },
    {
     "data": {
      "text/html": [
       "<pre style=\"white-space:pre;overflow-x:auto;line-height:normal;font-family:Menlo,'DejaVu Sans Mono',consolas,'Courier New',monospace\"></pre>\n"
      ],
      "text/plain": []
     },
     "metadata": {},
     "output_type": "display_data"
    },
    {
     "name": "stderr",
     "output_type": "stream",
     "text": [
      " 31%|███████████                         | 31/101 [6:35:39<14:54:21, 766.59s/it]"
     ]
    },
    {
     "data": {
      "text/html": [
       "<pre style=\"white-space:pre;overflow-x:auto;line-height:normal;font-family:Menlo,'DejaVu Sans Mono',consolas,'Courier New',monospace\"></pre>\n"
      ],
      "text/plain": []
     },
     "metadata": {},
     "output_type": "display_data"
    },
    {
     "name": "stderr",
     "output_type": "stream",
     "text": [
      " 32%|███████████▍                        | 32/101 [6:48:26<14:41:47, 766.78s/it]"
     ]
    },
    {
     "data": {
      "text/html": [
       "<pre style=\"white-space:pre;overflow-x:auto;line-height:normal;font-family:Menlo,'DejaVu Sans Mono',consolas,'Courier New',monospace\"></pre>\n"
      ],
      "text/plain": []
     },
     "metadata": {},
     "output_type": "display_data"
    },
    {
     "name": "stderr",
     "output_type": "stream",
     "text": [
      " 33%|███████████▊                        | 33/101 [7:01:13<14:29:09, 766.90s/it]"
     ]
    },
    {
     "data": {
      "text/html": [
       "<pre style=\"white-space:pre;overflow-x:auto;line-height:normal;font-family:Menlo,'DejaVu Sans Mono',consolas,'Courier New',monospace\"></pre>\n"
      ],
      "text/plain": []
     },
     "metadata": {},
     "output_type": "display_data"
    },
    {
     "name": "stderr",
     "output_type": "stream",
     "text": [
      " 34%|████████████                        | 34/101 [7:13:59<14:16:00, 766.58s/it]"
     ]
    },
    {
     "data": {
      "text/html": [
       "<pre style=\"white-space:pre;overflow-x:auto;line-height:normal;font-family:Menlo,'DejaVu Sans Mono',consolas,'Courier New',monospace\"></pre>\n"
      ],
      "text/plain": []
     },
     "metadata": {},
     "output_type": "display_data"
    },
    {
     "name": "stderr",
     "output_type": "stream",
     "text": [
      " 35%|████████████▍                       | 35/101 [7:26:54<14:05:54, 769.01s/it]"
     ]
    },
    {
     "data": {
      "text/html": [
       "<pre style=\"white-space:pre;overflow-x:auto;line-height:normal;font-family:Menlo,'DejaVu Sans Mono',consolas,'Courier New',monospace\"></pre>\n"
      ],
      "text/plain": []
     },
     "metadata": {},
     "output_type": "display_data"
    },
    {
     "name": "stderr",
     "output_type": "stream",
     "text": [
      " 36%|████████████▊                       | 36/101 [7:39:53<13:56:31, 772.18s/it]"
     ]
    },
    {
     "data": {
      "text/html": [
       "<pre style=\"white-space:pre;overflow-x:auto;line-height:normal;font-family:Menlo,'DejaVu Sans Mono',consolas,'Courier New',monospace\"></pre>\n"
      ],
      "text/plain": []
     },
     "metadata": {},
     "output_type": "display_data"
    },
    {
     "name": "stderr",
     "output_type": "stream",
     "text": [
      " 37%|█████████████▏                      | 37/101 [7:52:52<13:45:41, 774.09s/it]"
     ]
    },
    {
     "data": {
      "text/html": [
       "<pre style=\"white-space:pre;overflow-x:auto;line-height:normal;font-family:Menlo,'DejaVu Sans Mono',consolas,'Courier New',monospace\"></pre>\n"
      ],
      "text/plain": []
     },
     "metadata": {},
     "output_type": "display_data"
    },
    {
     "name": "stderr",
     "output_type": "stream",
     "text": [
      " 38%|█████████████▌                      | 38/101 [8:05:53<13:35:06, 776.30s/it]"
     ]
    },
    {
     "data": {
      "text/html": [
       "<pre style=\"white-space:pre;overflow-x:auto;line-height:normal;font-family:Menlo,'DejaVu Sans Mono',consolas,'Courier New',monospace\"></pre>\n"
      ],
      "text/plain": []
     },
     "metadata": {},
     "output_type": "display_data"
    },
    {
     "name": "stderr",
     "output_type": "stream",
     "text": [
      " 39%|█████████████▉                      | 39/101 [8:18:52<13:22:53, 776.99s/it]"
     ]
    },
    {
     "data": {
      "text/html": [
       "<pre style=\"white-space:pre;overflow-x:auto;line-height:normal;font-family:Menlo,'DejaVu Sans Mono',consolas,'Courier New',monospace\"></pre>\n"
      ],
      "text/plain": []
     },
     "metadata": {},
     "output_type": "display_data"
    },
    {
     "name": "stderr",
     "output_type": "stream",
     "text": [
      " 40%|██████████████▎                     | 40/101 [8:31:51<13:10:38, 777.69s/it]"
     ]
    },
    {
     "data": {
      "text/html": [
       "<pre style=\"white-space:pre;overflow-x:auto;line-height:normal;font-family:Menlo,'DejaVu Sans Mono',consolas,'Courier New',monospace\"></pre>\n"
      ],
      "text/plain": []
     },
     "metadata": {},
     "output_type": "display_data"
    },
    {
     "name": "stderr",
     "output_type": "stream",
     "text": [
      " 41%|██████████████▌                     | 41/101 [8:44:50<12:58:00, 778.02s/it]"
     ]
    },
    {
     "data": {
      "text/html": [
       "<pre style=\"white-space:pre;overflow-x:auto;line-height:normal;font-family:Menlo,'DejaVu Sans Mono',consolas,'Courier New',monospace\"></pre>\n"
      ],
      "text/plain": []
     },
     "metadata": {},
     "output_type": "display_data"
    },
    {
     "name": "stderr",
     "output_type": "stream",
     "text": [
      " 42%|██████████████▉                     | 42/101 [8:57:49<12:45:22, 778.35s/it]"
     ]
    },
    {
     "data": {
      "text/html": [
       "<pre style=\"white-space:pre;overflow-x:auto;line-height:normal;font-family:Menlo,'DejaVu Sans Mono',consolas,'Courier New',monospace\"></pre>\n"
      ],
      "text/plain": []
     },
     "metadata": {},
     "output_type": "display_data"
    },
    {
     "name": "stderr",
     "output_type": "stream",
     "text": [
      " 43%|███████████████▎                    | 43/101 [9:10:54<12:34:27, 780.47s/it]"
     ]
    },
    {
     "data": {
      "text/html": [
       "<pre style=\"white-space:pre;overflow-x:auto;line-height:normal;font-family:Menlo,'DejaVu Sans Mono',consolas,'Courier New',monospace\"></pre>\n"
      ],
      "text/plain": []
     },
     "metadata": {},
     "output_type": "display_data"
    },
    {
     "name": "stderr",
     "output_type": "stream",
     "text": [
      " 44%|███████████████▋                    | 44/101 [9:23:54<12:21:17, 780.31s/it]"
     ]
    },
    {
     "data": {
      "text/html": [
       "<pre style=\"white-space:pre;overflow-x:auto;line-height:normal;font-family:Menlo,'DejaVu Sans Mono',consolas,'Courier New',monospace\"></pre>\n"
      ],
      "text/plain": []
     },
     "metadata": {},
     "output_type": "display_data"
    },
    {
     "name": "stderr",
     "output_type": "stream",
     "text": [
      " 45%|████████████████                    | 45/101 [9:36:51<12:07:08, 779.09s/it]"
     ]
    },
    {
     "data": {
      "text/html": [
       "<pre style=\"white-space:pre;overflow-x:auto;line-height:normal;font-family:Menlo,'DejaVu Sans Mono',consolas,'Courier New',monospace\"></pre>\n"
      ],
      "text/plain": []
     },
     "metadata": {},
     "output_type": "display_data"
    },
    {
     "name": "stderr",
     "output_type": "stream",
     "text": [
      " 46%|████████████████▍                   | 46/101 [9:49:48<11:53:33, 778.43s/it]"
     ]
    },
    {
     "data": {
      "text/html": [
       "<pre style=\"white-space:pre;overflow-x:auto;line-height:normal;font-family:Menlo,'DejaVu Sans Mono',consolas,'Courier New',monospace\"></pre>\n"
      ],
      "text/plain": []
     },
     "metadata": {},
     "output_type": "display_data"
    },
    {
     "name": "stderr",
     "output_type": "stream",
     "text": [
      " 47%|████████████████▎                  | 47/101 [10:02:47<11:40:56, 778.82s/it]"
     ]
    },
    {
     "data": {
      "text/html": [
       "<pre style=\"white-space:pre;overflow-x:auto;line-height:normal;font-family:Menlo,'DejaVu Sans Mono',consolas,'Courier New',monospace\"></pre>\n"
      ],
      "text/plain": []
     },
     "metadata": {},
     "output_type": "display_data"
    },
    {
     "name": "stderr",
     "output_type": "stream",
     "text": [
      " 48%|████████████████▋                  | 48/101 [10:15:48<11:28:20, 779.25s/it]"
     ]
    },
    {
     "data": {
      "text/html": [
       "<pre style=\"white-space:pre;overflow-x:auto;line-height:normal;font-family:Menlo,'DejaVu Sans Mono',consolas,'Courier New',monospace\"></pre>\n"
      ],
      "text/plain": []
     },
     "metadata": {},
     "output_type": "display_data"
    },
    {
     "name": "stderr",
     "output_type": "stream",
     "text": [
      " 49%|████████████████▉                  | 49/101 [10:28:50<11:16:09, 780.18s/it]"
     ]
    },
    {
     "data": {
      "text/html": [
       "<pre style=\"white-space:pre;overflow-x:auto;line-height:normal;font-family:Menlo,'DejaVu Sans Mono',consolas,'Courier New',monospace\"></pre>\n"
      ],
      "text/plain": []
     },
     "metadata": {},
     "output_type": "display_data"
    },
    {
     "name": "stderr",
     "output_type": "stream",
     "text": [
      " 50%|█████████████████▎                 | 50/101 [10:41:49<11:02:58, 779.96s/it]"
     ]
    },
    {
     "data": {
      "text/html": [
       "<pre style=\"white-space:pre;overflow-x:auto;line-height:normal;font-family:Menlo,'DejaVu Sans Mono',consolas,'Courier New',monospace\"></pre>\n"
      ],
      "text/plain": []
     },
     "metadata": {},
     "output_type": "display_data"
    },
    {
     "name": "stderr",
     "output_type": "stream",
     "text": [
      " 50%|█████████████████▋                 | 51/101 [10:54:50<10:50:04, 780.09s/it]"
     ]
    },
    {
     "data": {
      "text/html": [
       "<pre style=\"white-space:pre;overflow-x:auto;line-height:normal;font-family:Menlo,'DejaVu Sans Mono',consolas,'Courier New',monospace\"></pre>\n"
      ],
      "text/plain": []
     },
     "metadata": {},
     "output_type": "display_data"
    },
    {
     "name": "stderr",
     "output_type": "stream",
     "text": [
      " 51%|██████████████████                 | 52/101 [11:07:49<10:36:51, 779.84s/it]"
     ]
    },
    {
     "data": {
      "text/html": [
       "<pre style=\"white-space:pre;overflow-x:auto;line-height:normal;font-family:Menlo,'DejaVu Sans Mono',consolas,'Courier New',monospace\"></pre>\n"
      ],
      "text/plain": []
     },
     "metadata": {},
     "output_type": "display_data"
    },
    {
     "name": "stderr",
     "output_type": "stream",
     "text": [
      " 52%|██████████████████▎                | 53/101 [11:20:48<10:23:37, 779.52s/it]"
     ]
    },
    {
     "data": {
      "text/html": [
       "<pre style=\"white-space:pre;overflow-x:auto;line-height:normal;font-family:Menlo,'DejaVu Sans Mono',consolas,'Courier New',monospace\"></pre>\n"
      ],
      "text/plain": []
     },
     "metadata": {},
     "output_type": "display_data"
    },
    {
     "name": "stderr",
     "output_type": "stream",
     "text": [
      " 53%|██████████████████▋                | 54/101 [11:33:52<10:11:46, 780.99s/it]"
     ]
    },
    {
     "data": {
      "text/html": [
       "<pre style=\"white-space:pre;overflow-x:auto;line-height:normal;font-family:Menlo,'DejaVu Sans Mono',consolas,'Courier New',monospace\"></pre>\n"
      ],
      "text/plain": []
     },
     "metadata": {},
     "output_type": "display_data"
    },
    {
     "name": "stderr",
     "output_type": "stream",
     "text": [
      " 54%|███████████████████▌                | 55/101 [11:46:54<9:58:54, 781.18s/it]"
     ]
    },
    {
     "data": {
      "text/html": [
       "<pre style=\"white-space:pre;overflow-x:auto;line-height:normal;font-family:Menlo,'DejaVu Sans Mono',consolas,'Courier New',monospace\"></pre>\n"
      ],
      "text/plain": []
     },
     "metadata": {},
     "output_type": "display_data"
    },
    {
     "name": "stderr",
     "output_type": "stream",
     "text": [
      " 55%|███████████████████▉                | 56/101 [11:59:54<9:45:38, 780.86s/it]"
     ]
    },
    {
     "data": {
      "text/html": [
       "<pre style=\"white-space:pre;overflow-x:auto;line-height:normal;font-family:Menlo,'DejaVu Sans Mono',consolas,'Courier New',monospace\"></pre>\n"
      ],
      "text/plain": []
     },
     "metadata": {},
     "output_type": "display_data"
    },
    {
     "name": "stderr",
     "output_type": "stream",
     "text": [
      " 56%|████████████████████▎               | 57/101 [12:12:54<9:32:25, 780.58s/it]"
     ]
    },
    {
     "data": {
      "text/html": [
       "<pre style=\"white-space:pre;overflow-x:auto;line-height:normal;font-family:Menlo,'DejaVu Sans Mono',consolas,'Courier New',monospace\"></pre>\n"
      ],
      "text/plain": []
     },
     "metadata": {},
     "output_type": "display_data"
    },
    {
     "name": "stderr",
     "output_type": "stream",
     "text": [
      " 57%|████████████████████▋               | 58/101 [12:25:54<9:19:13, 780.31s/it]"
     ]
    },
    {
     "data": {
      "text/html": [
       "<pre style=\"white-space:pre;overflow-x:auto;line-height:normal;font-family:Menlo,'DejaVu Sans Mono',consolas,'Courier New',monospace\"></pre>\n"
      ],
      "text/plain": []
     },
     "metadata": {},
     "output_type": "display_data"
    },
    {
     "name": "stderr",
     "output_type": "stream",
     "text": [
      " 58%|█████████████████████               | 59/101 [12:38:59<9:07:18, 781.87s/it]"
     ]
    },
    {
     "data": {
      "text/html": [
       "<pre style=\"white-space:pre;overflow-x:auto;line-height:normal;font-family:Menlo,'DejaVu Sans Mono',consolas,'Courier New',monospace\"></pre>\n"
      ],
      "text/plain": []
     },
     "metadata": {},
     "output_type": "display_data"
    },
    {
     "name": "stderr",
     "output_type": "stream",
     "text": [
      " 59%|█████████████████████▍              | 60/101 [12:52:00<8:54:07, 781.65s/it]"
     ]
    },
    {
     "data": {
      "text/html": [
       "<pre style=\"white-space:pre;overflow-x:auto;line-height:normal;font-family:Menlo,'DejaVu Sans Mono',consolas,'Courier New',monospace\"></pre>\n"
      ],
      "text/plain": []
     },
     "metadata": {},
     "output_type": "display_data"
    },
    {
     "name": "stderr",
     "output_type": "stream",
     "text": [
      " 60%|█████████████████████▋              | 61/101 [13:05:01<8:40:57, 781.43s/it]"
     ]
    },
    {
     "data": {
      "text/html": [
       "<pre style=\"white-space:pre;overflow-x:auto;line-height:normal;font-family:Menlo,'DejaVu Sans Mono',consolas,'Courier New',monospace\"></pre>\n"
      ],
      "text/plain": []
     },
     "metadata": {},
     "output_type": "display_data"
    },
    {
     "name": "stderr",
     "output_type": "stream",
     "text": [
      " 61%|██████████████████████              | 62/101 [13:17:59<8:27:16, 780.42s/it]"
     ]
    },
    {
     "data": {
      "text/html": [
       "<pre style=\"white-space:pre;overflow-x:auto;line-height:normal;font-family:Menlo,'DejaVu Sans Mono',consolas,'Courier New',monospace\"></pre>\n"
      ],
      "text/plain": []
     },
     "metadata": {},
     "output_type": "display_data"
    },
    {
     "name": "stderr",
     "output_type": "stream",
     "text": [
      " 62%|██████████████████████▍             | 63/101 [13:30:59<8:14:09, 780.25s/it]"
     ]
    },
    {
     "data": {
      "text/html": [
       "<pre style=\"white-space:pre;overflow-x:auto;line-height:normal;font-family:Menlo,'DejaVu Sans Mono',consolas,'Courier New',monospace\"></pre>\n"
      ],
      "text/plain": []
     },
     "metadata": {},
     "output_type": "display_data"
    },
    {
     "name": "stderr",
     "output_type": "stream",
     "text": [
      " 63%|██████████████████████▊             | 64/101 [13:43:57<8:00:46, 779.63s/it]"
     ]
    },
    {
     "data": {
      "text/html": [
       "<pre style=\"white-space:pre;overflow-x:auto;line-height:normal;font-family:Menlo,'DejaVu Sans Mono',consolas,'Courier New',monospace\"></pre>\n"
      ],
      "text/plain": []
     },
     "metadata": {},
     "output_type": "display_data"
    },
    {
     "name": "stderr",
     "output_type": "stream",
     "text": [
      " 64%|███████████████████████▏            | 65/101 [13:57:02<7:48:40, 781.14s/it]"
     ]
    },
    {
     "data": {
      "text/html": [
       "<pre style=\"white-space:pre;overflow-x:auto;line-height:normal;font-family:Menlo,'DejaVu Sans Mono',consolas,'Courier New',monospace\"></pre>\n"
      ],
      "text/plain": []
     },
     "metadata": {},
     "output_type": "display_data"
    },
    {
     "name": "stderr",
     "output_type": "stream",
     "text": [
      " 65%|███████████████████████▌            | 66/101 [14:10:04<7:35:50, 781.43s/it]"
     ]
    },
    {
     "data": {
      "text/html": [
       "<pre style=\"white-space:pre;overflow-x:auto;line-height:normal;font-family:Menlo,'DejaVu Sans Mono',consolas,'Courier New',monospace\"></pre>\n"
      ],
      "text/plain": []
     },
     "metadata": {},
     "output_type": "display_data"
    },
    {
     "name": "stderr",
     "output_type": "stream",
     "text": [
      " 66%|███████████████████████▉            | 67/101 [14:23:02<7:22:10, 780.32s/it]"
     ]
    },
    {
     "data": {
      "text/html": [
       "<pre style=\"white-space:pre;overflow-x:auto;line-height:normal;font-family:Menlo,'DejaVu Sans Mono',consolas,'Courier New',monospace\"></pre>\n"
      ],
      "text/plain": []
     },
     "metadata": {},
     "output_type": "display_data"
    },
    {
     "name": "stderr",
     "output_type": "stream",
     "text": [
      " 67%|████████████████████████▏           | 68/101 [14:36:01<7:08:56, 779.89s/it]"
     ]
    },
    {
     "data": {
      "text/html": [
       "<pre style=\"white-space:pre;overflow-x:auto;line-height:normal;font-family:Menlo,'DejaVu Sans Mono',consolas,'Courier New',monospace\"></pre>\n"
      ],
      "text/plain": []
     },
     "metadata": {},
     "output_type": "display_data"
    },
    {
     "name": "stderr",
     "output_type": "stream",
     "text": [
      " 68%|████████████████████████▌           | 69/101 [14:48:57<6:55:22, 778.84s/it]"
     ]
    },
    {
     "data": {
      "text/html": [
       "<pre style=\"white-space:pre;overflow-x:auto;line-height:normal;font-family:Menlo,'DejaVu Sans Mono',consolas,'Courier New',monospace\"></pre>\n"
      ],
      "text/plain": []
     },
     "metadata": {},
     "output_type": "display_data"
    },
    {
     "name": "stderr",
     "output_type": "stream",
     "text": [
      " 69%|████████████████████████▉           | 70/101 [15:01:57<6:42:33, 779.14s/it]"
     ]
    },
    {
     "data": {
      "text/html": [
       "<pre style=\"white-space:pre;overflow-x:auto;line-height:normal;font-family:Menlo,'DejaVu Sans Mono',consolas,'Courier New',monospace\"></pre>\n"
      ],
      "text/plain": []
     },
     "metadata": {},
     "output_type": "display_data"
    },
    {
     "name": "stderr",
     "output_type": "stream",
     "text": [
      " 70%|█████████████████████████▎          | 71/101 [15:15:01<6:30:18, 780.60s/it]"
     ]
    },
    {
     "data": {
      "text/html": [
       "<pre style=\"white-space:pre;overflow-x:auto;line-height:normal;font-family:Menlo,'DejaVu Sans Mono',consolas,'Courier New',monospace\"></pre>\n"
      ],
      "text/plain": []
     },
     "metadata": {},
     "output_type": "display_data"
    },
    {
     "name": "stderr",
     "output_type": "stream",
     "text": [
      " 71%|█████████████████████████▋          | 72/101 [15:28:01<6:17:17, 780.59s/it]"
     ]
    },
    {
     "data": {
      "text/html": [
       "<pre style=\"white-space:pre;overflow-x:auto;line-height:normal;font-family:Menlo,'DejaVu Sans Mono',consolas,'Courier New',monospace\"></pre>\n"
      ],
      "text/plain": []
     },
     "metadata": {},
     "output_type": "display_data"
    },
    {
     "name": "stderr",
     "output_type": "stream",
     "text": [
      " 72%|██████████████████████████          | 73/101 [15:41:00<6:04:04, 780.15s/it]"
     ]
    },
    {
     "data": {
      "text/html": [
       "<pre style=\"white-space:pre;overflow-x:auto;line-height:normal;font-family:Menlo,'DejaVu Sans Mono',consolas,'Courier New',monospace\"></pre>\n"
      ],
      "text/plain": []
     },
     "metadata": {},
     "output_type": "display_data"
    },
    {
     "name": "stderr",
     "output_type": "stream",
     "text": [
      " 73%|██████████████████████████▍         | 74/101 [15:53:59<5:50:49, 779.60s/it]"
     ]
    },
    {
     "data": {
      "text/html": [
       "<pre style=\"white-space:pre;overflow-x:auto;line-height:normal;font-family:Menlo,'DejaVu Sans Mono',consolas,'Courier New',monospace\"></pre>\n"
      ],
      "text/plain": []
     },
     "metadata": {},
     "output_type": "display_data"
    },
    {
     "name": "stderr",
     "output_type": "stream",
     "text": [
      " 74%|██████████████████████████▋         | 75/101 [16:06:59<5:37:51, 779.66s/it]"
     ]
    },
    {
     "data": {
      "text/html": [
       "<pre style=\"white-space:pre;overflow-x:auto;line-height:normal;font-family:Menlo,'DejaVu Sans Mono',consolas,'Courier New',monospace\"></pre>\n"
      ],
      "text/plain": []
     },
     "metadata": {},
     "output_type": "display_data"
    },
    {
     "name": "stderr",
     "output_type": "stream",
     "text": [
      " 75%|███████████████████████████         | 76/101 [16:20:05<5:25:44, 781.78s/it]"
     ]
    },
    {
     "data": {
      "text/html": [
       "<pre style=\"white-space:pre;overflow-x:auto;line-height:normal;font-family:Menlo,'DejaVu Sans Mono',consolas,'Courier New',monospace\"></pre>\n"
      ],
      "text/plain": []
     },
     "metadata": {},
     "output_type": "display_data"
    },
    {
     "name": "stderr",
     "output_type": "stream",
     "text": [
      " 76%|███████████████████████████▍        | 77/101 [16:33:08<5:12:48, 782.03s/it]"
     ]
    },
    {
     "data": {
      "text/html": [
       "<pre style=\"white-space:pre;overflow-x:auto;line-height:normal;font-family:Menlo,'DejaVu Sans Mono',consolas,'Courier New',monospace\"></pre>\n"
      ],
      "text/plain": []
     },
     "metadata": {},
     "output_type": "display_data"
    },
    {
     "name": "stderr",
     "output_type": "stream",
     "text": [
      " 77%|███████████████████████████▊        | 78/101 [16:46:08<4:59:31, 781.36s/it]"
     ]
    },
    {
     "data": {
      "text/html": [
       "<pre style=\"white-space:pre;overflow-x:auto;line-height:normal;font-family:Menlo,'DejaVu Sans Mono',consolas,'Courier New',monospace\"></pre>\n"
      ],
      "text/plain": []
     },
     "metadata": {},
     "output_type": "display_data"
    },
    {
     "name": "stderr",
     "output_type": "stream",
     "text": [
      " 78%|████████████████████████████▏       | 79/101 [16:59:08<4:46:25, 781.15s/it]"
     ]
    },
    {
     "data": {
      "text/html": [
       "<pre style=\"white-space:pre;overflow-x:auto;line-height:normal;font-family:Menlo,'DejaVu Sans Mono',consolas,'Courier New',monospace\"></pre>\n"
      ],
      "text/plain": []
     },
     "metadata": {},
     "output_type": "display_data"
    },
    {
     "name": "stderr",
     "output_type": "stream",
     "text": [
      " 79%|████████████████████████████▌       | 80/101 [17:12:07<4:33:08, 780.41s/it]"
     ]
    },
    {
     "data": {
      "text/html": [
       "<pre style=\"white-space:pre;overflow-x:auto;line-height:normal;font-family:Menlo,'DejaVu Sans Mono',consolas,'Courier New',monospace\"></pre>\n"
      ],
      "text/plain": []
     },
     "metadata": {},
     "output_type": "display_data"
    },
    {
     "name": "stderr",
     "output_type": "stream",
     "text": [
      " 80%|████████████████████████████▊       | 81/101 [17:25:05<4:19:51, 779.56s/it]"
     ]
    },
    {
     "data": {
      "text/html": [
       "<pre style=\"white-space:pre;overflow-x:auto;line-height:normal;font-family:Menlo,'DejaVu Sans Mono',consolas,'Courier New',monospace\"></pre>\n"
      ],
      "text/plain": []
     },
     "metadata": {},
     "output_type": "display_data"
    },
    {
     "name": "stderr",
     "output_type": "stream",
     "text": [
      " 81%|█████████████████████████████▏      | 82/101 [17:38:11<4:07:32, 781.72s/it]"
     ]
    },
    {
     "data": {
      "text/html": [
       "<pre style=\"white-space:pre;overflow-x:auto;line-height:normal;font-family:Menlo,'DejaVu Sans Mono',consolas,'Courier New',monospace\"></pre>\n"
      ],
      "text/plain": []
     },
     "metadata": {},
     "output_type": "display_data"
    },
    {
     "name": "stderr",
     "output_type": "stream",
     "text": [
      " 82%|█████████████████████████████▌      | 83/101 [17:51:12<3:54:23, 781.28s/it]"
     ]
    },
    {
     "data": {
      "text/html": [
       "<pre style=\"white-space:pre;overflow-x:auto;line-height:normal;font-family:Menlo,'DejaVu Sans Mono',consolas,'Courier New',monospace\"></pre>\n"
      ],
      "text/plain": []
     },
     "metadata": {},
     "output_type": "display_data"
    },
    {
     "name": "stderr",
     "output_type": "stream",
     "text": [
      " 83%|█████████████████████████████▉      | 84/101 [18:04:11<3:41:13, 780.80s/it]"
     ]
    },
    {
     "data": {
      "text/html": [
       "<pre style=\"white-space:pre;overflow-x:auto;line-height:normal;font-family:Menlo,'DejaVu Sans Mono',consolas,'Courier New',monospace\"></pre>\n"
      ],
      "text/plain": []
     },
     "metadata": {},
     "output_type": "display_data"
    },
    {
     "name": "stderr",
     "output_type": "stream",
     "text": [
      " 84%|██████████████████████████████▎     | 85/101 [18:17:08<3:27:54, 779.64s/it]"
     ]
    },
    {
     "data": {
      "text/html": [
       "<pre style=\"white-space:pre;overflow-x:auto;line-height:normal;font-family:Menlo,'DejaVu Sans Mono',consolas,'Courier New',monospace\"></pre>\n"
      ],
      "text/plain": []
     },
     "metadata": {},
     "output_type": "display_data"
    },
    {
     "name": "stderr",
     "output_type": "stream",
     "text": [
      " 85%|██████████████████████████████▋     | 86/101 [18:30:08<3:14:52, 779.51s/it]"
     ]
    },
    {
     "data": {
      "text/html": [
       "<pre style=\"white-space:pre;overflow-x:auto;line-height:normal;font-family:Menlo,'DejaVu Sans Mono',consolas,'Courier New',monospace\"></pre>\n"
      ],
      "text/plain": []
     },
     "metadata": {},
     "output_type": "display_data"
    },
    {
     "name": "stderr",
     "output_type": "stream",
     "text": [
      " 86%|███████████████████████████████     | 87/101 [18:43:06<3:01:49, 779.28s/it]"
     ]
    },
    {
     "data": {
      "text/html": [
       "<pre style=\"white-space:pre;overflow-x:auto;line-height:normal;font-family:Menlo,'DejaVu Sans Mono',consolas,'Courier New',monospace\"></pre>\n"
      ],
      "text/plain": []
     },
     "metadata": {},
     "output_type": "display_data"
    },
    {
     "name": "stderr",
     "output_type": "stream",
     "text": [
      " 87%|███████████████████████████████▎    | 88/101 [18:56:11<2:49:13, 781.01s/it]"
     ]
    },
    {
     "data": {
      "text/html": [
       "<pre style=\"white-space:pre;overflow-x:auto;line-height:normal;font-family:Menlo,'DejaVu Sans Mono',consolas,'Courier New',monospace\"></pre>\n"
      ],
      "text/plain": []
     },
     "metadata": {},
     "output_type": "display_data"
    },
    {
     "name": "stderr",
     "output_type": "stream",
     "text": [
      " 88%|███████████████████████████████▋    | 89/101 [19:09:14<2:36:17, 781.42s/it]"
     ]
    },
    {
     "data": {
      "text/html": [
       "<pre style=\"white-space:pre;overflow-x:auto;line-height:normal;font-family:Menlo,'DejaVu Sans Mono',consolas,'Courier New',monospace\"></pre>\n"
      ],
      "text/plain": []
     },
     "metadata": {},
     "output_type": "display_data"
    },
    {
     "name": "stderr",
     "output_type": "stream",
     "text": [
      " 89%|████████████████████████████████    | 90/101 [19:22:15<2:23:16, 781.49s/it]"
     ]
    },
    {
     "data": {
      "text/html": [
       "<pre style=\"white-space:pre;overflow-x:auto;line-height:normal;font-family:Menlo,'DejaVu Sans Mono',consolas,'Courier New',monospace\"></pre>\n"
      ],
      "text/plain": []
     },
     "metadata": {},
     "output_type": "display_data"
    },
    {
     "name": "stderr",
     "output_type": "stream",
     "text": [
      " 90%|████████████████████████████████▍   | 91/101 [19:35:05<2:09:40, 778.09s/it]"
     ]
    },
    {
     "data": {
      "text/html": [
       "<pre style=\"white-space:pre;overflow-x:auto;line-height:normal;font-family:Menlo,'DejaVu Sans Mono',consolas,'Courier New',monospace\"></pre>\n"
      ],
      "text/plain": []
     },
     "metadata": {},
     "output_type": "display_data"
    },
    {
     "name": "stderr",
     "output_type": "stream",
     "text": [
      " 91%|████████████████████████████████▊   | 92/101 [19:47:52<1:56:12, 774.76s/it]"
     ]
    },
    {
     "data": {
      "text/html": [
       "<pre style=\"white-space:pre;overflow-x:auto;line-height:normal;font-family:Menlo,'DejaVu Sans Mono',consolas,'Courier New',monospace\"></pre>\n"
      ],
      "text/plain": []
     },
     "metadata": {},
     "output_type": "display_data"
    },
    {
     "name": "stderr",
     "output_type": "stream",
     "text": [
      " 92%|█████████████████████████████████▏  | 93/101 [20:00:44<1:43:10, 773.76s/it]"
     ]
    },
    {
     "data": {
      "text/html": [
       "<pre style=\"white-space:pre;overflow-x:auto;line-height:normal;font-family:Menlo,'DejaVu Sans Mono',consolas,'Courier New',monospace\"></pre>\n"
      ],
      "text/plain": []
     },
     "metadata": {},
     "output_type": "display_data"
    },
    {
     "name": "stderr",
     "output_type": "stream",
     "text": [
      " 93%|█████████████████████████████████▌  | 94/101 [20:13:39<1:30:19, 774.26s/it]"
     ]
    },
    {
     "data": {
      "text/html": [
       "<pre style=\"white-space:pre;overflow-x:auto;line-height:normal;font-family:Menlo,'DejaVu Sans Mono',consolas,'Courier New',monospace\"></pre>\n"
      ],
      "text/plain": []
     },
     "metadata": {},
     "output_type": "display_data"
    },
    {
     "name": "stderr",
     "output_type": "stream",
     "text": [
      " 94%|█████████████████████████████████▊  | 95/101 [20:26:31<1:17:20, 773.39s/it]"
     ]
    },
    {
     "data": {
      "text/html": [
       "<pre style=\"white-space:pre;overflow-x:auto;line-height:normal;font-family:Menlo,'DejaVu Sans Mono',consolas,'Courier New',monospace\"></pre>\n"
      ],
      "text/plain": []
     },
     "metadata": {},
     "output_type": "display_data"
    },
    {
     "name": "stderr",
     "output_type": "stream",
     "text": [
      " 95%|██████████████████████████████████▏ | 96/101 [20:39:14<1:04:11, 770.26s/it]"
     ]
    },
    {
     "data": {
      "text/html": [
       "<pre style=\"white-space:pre;overflow-x:auto;line-height:normal;font-family:Menlo,'DejaVu Sans Mono',consolas,'Courier New',monospace\"></pre>\n"
      ],
      "text/plain": []
     },
     "metadata": {},
     "output_type": "display_data"
    },
    {
     "name": "stderr",
     "output_type": "stream",
     "text": [
      " 96%|████████████████████████████████████▍ | 97/101 [20:52:01<51:17, 769.36s/it]"
     ]
    },
    {
     "data": {
      "text/html": [
       "<pre style=\"white-space:pre;overflow-x:auto;line-height:normal;font-family:Menlo,'DejaVu Sans Mono',consolas,'Courier New',monospace\"></pre>\n"
      ],
      "text/plain": []
     },
     "metadata": {},
     "output_type": "display_data"
    },
    {
     "name": "stderr",
     "output_type": "stream",
     "text": [
      " 97%|████████████████████████████████████▊ | 98/101 [21:04:49<38:26, 768.93s/it]"
     ]
    },
    {
     "data": {
      "text/html": [
       "<pre style=\"white-space:pre;overflow-x:auto;line-height:normal;font-family:Menlo,'DejaVu Sans Mono',consolas,'Courier New',monospace\"></pre>\n"
      ],
      "text/plain": []
     },
     "metadata": {},
     "output_type": "display_data"
    },
    {
     "name": "stderr",
     "output_type": "stream",
     "text": [
      " 98%|█████████████████████████████████████▏| 99/101 [21:17:38<25:38, 769.11s/it]"
     ]
    },
    {
     "data": {
      "text/html": [
       "<pre style=\"white-space:pre;overflow-x:auto;line-height:normal;font-family:Menlo,'DejaVu Sans Mono',consolas,'Courier New',monospace\"></pre>\n"
      ],
      "text/plain": []
     },
     "metadata": {},
     "output_type": "display_data"
    },
    {
     "name": "stderr",
     "output_type": "stream",
     "text": [
      " 99%|████████████████████████████████████▋| 100/101 [21:30:29<12:49, 769.45s/it]"
     ]
    },
    {
     "data": {
      "text/html": [
       "<pre style=\"white-space:pre;overflow-x:auto;line-height:normal;font-family:Menlo,'DejaVu Sans Mono',consolas,'Courier New',monospace\"></pre>\n"
      ],
      "text/plain": []
     },
     "metadata": {},
     "output_type": "display_data"
    },
    {
     "name": "stderr",
     "output_type": "stream",
     "text": [
      "100%|█████████████████████████████████████| 101/101 [21:43:17<00:00, 774.23s/it]\n"
     ]
    }
   ],
   "source": [
    "import os\n",
    "import pandas as pd\n",
    "from tqdm import tqdm\n",
    "import matplotlib.pyplot as plt\n",
    "import seaborn as sns\n",
    "\n",
    "# Define the output directory and subdirectories\n",
    "output_dir = 'Default_AE_UnShuffled_Data/AE_Training_1'\n",
    "subfolders = {\n",
    "    'AE_Latent_Space_Data_TXT': os.path.join(output_dir, 'AE_Latent_Space_Data_TXT'),\n",
    "    'AE_Training_Loss_Data': os.path.join(output_dir, 'AE_Training_Loss_Data'),\n",
    "    'AE_Training_Loss_Graphs': os.path.join(output_dir, 'AE_Training_Loss_Graphs'),\n",
    "    'AE_Latent_Space_Graphs': os.path.join(output_dir, 'AE_Latent_Space_Graphs'),\n",
    "    'AE_Latent_Space_Data_PKL': os.path.join(output_dir, 'AE_Latent_Space_Data_PKL'),\n",
    "    'models': os.path.join(output_dir, 'models'),\n",
    "}\n",
    "\n",
    "# Create all subdirectories\n",
    "for folder in subfolders.values():\n",
    "    os.makedirs(folder, exist_ok=True)\n",
    "\n",
    "# Initialize the autoencoder with the loaded training data\n",
    "autoencoder = AE_Model(X_train_loaded)\n",
    "\n",
    "# Training loop\n",
    "for counts in tqdm(range(101)):\n",
    "    name = \"Autoencoder_Training\"\n",
    "\n",
    "    # Save the latent space predictions log\n",
    "    txt_file_path = os.path.join(subfolders['AE_Latent_Space_Data_TXT'], f\"{counts}_Latent_Space_Predictions_Log.txt\")\n",
    "    with open(txt_file_path, \"w\") as file:\n",
    "        # Train the model\n",
    "        history = autoencoder.fit(\n",
    "            X_train_loaded, X_train_loaded,\n",
    "            epochs=1000,\n",
    "            validation_data=(X_valid_loaded, X_valid_loaded),\n",
    "            verbose=0\n",
    "        )\n",
    "\n",
    "        # Save training loss history\n",
    "        training_history = pd.DataFrame(history.history)\n",
    "        history_file_path = os.path.join(subfolders['AE_Training_Loss_Data'], f\"{counts}_{name}_History.pkl\")\n",
    "        training_history.to_pickle(history_file_path)\n",
    "\n",
    "        # Save training loss graph\n",
    "        plt.plot(training_history)\n",
    "        graph_file_path = os.path.join(subfolders['AE_Training_Loss_Graphs'], f\"{counts}_{name}_History.png\")\n",
    "        plt.savefig(graph_file_path, dpi=300)\n",
    "        plt.clf()\n",
    "        plt.close()\n",
    "\n",
    "        # Define the latent space model\n",
    "        dr_model = tf.keras.models.Model(\n",
    "            inputs=autoencoder.input,\n",
    "            outputs=autoencoder.get_layer('ae_latent').output\n",
    "        )\n",
    "        dr_model.summary(print_fn=lambda x: file.write(x + '\\n'))\n",
    "\n",
    "        # Initialize latent space variables\n",
    "        x, y, z, indices = [], [], [], []\n",
    "\n",
    "        # Process validation data in batches\n",
    "        batch_size = 32\n",
    "        for batch_start in range(0, len(X_valid_loaded), batch_size):\n",
    "            batch_end = min(batch_start + batch_size, len(X_valid_loaded))\n",
    "            X_batch = np.array(X_valid_loaded.iloc[batch_start:batch_end])\n",
    "            y_batch = y_valid_loaded.iloc[batch_start:batch_end].values.flatten()\n",
    "\n",
    "            # Predict latent space values\n",
    "            op_batch = dr_model.predict(X_batch, verbose=0)\n",
    "            for i, op in enumerate(op_batch):\n",
    "                z.append(y_batch[i])\n",
    "                x.append(op[0])\n",
    "                y.append(op[1])\n",
    "                indices.append(y_valid_loaded.index[batch_start + i])\n",
    "                file.write(f\"Prediction {batch_start + i}: {op}\\n\")\n",
    "\n",
    "        # Save latent space scatter plot\n",
    "        df = pd.DataFrame({'x': x, 'y': y, 'z': [f\"trajectory-{k}\" for k in z], 'index': indices})\n",
    "        plt.figure(figsize=(8, 6))\n",
    "        sns.scatterplot(x='x', y='y', hue='z', data=df, s=10)\n",
    "        scatter_file_path = os.path.join(subfolders['AE_Latent_Space_Graphs'], f\"{counts}_Latent_Space.png\")\n",
    "        plt.savefig(scatter_file_path, dpi=300)\n",
    "        plt.clf()\n",
    "        plt.close()\n",
    "\n",
    "        # Save latent space data as pickle\n",
    "        pkl_file_path = os.path.join(subfolders['AE_Latent_Space_Data_PKL'], f\"{counts}_Latent_Space.pkl\")\n",
    "        df.to_pickle(pkl_file_path)\n",
    "\n",
    "        # Save the model\n",
    "        model_file_path = os.path.join(subfolders['models'], f\"saved_model_{counts}.keras\")\n",
    "        save_model(autoencoder, model_file_path)"
   ]
  },
  {
   "cell_type": "markdown",
   "id": "c579cb22-f828-4874-9e9c-695576f23585",
   "metadata": {},
   "source": [
    "# Batch Size 512"
   ]
  },
  {
   "cell_type": "markdown",
   "id": "114cea61-a8f1-4488-9bb6-d79aed13bbdd",
   "metadata": {
    "jp-MarkdownHeadingCollapsed": true
   },
   "source": [
    "# Model 1"
   ]
  },
  {
   "cell_type": "code",
   "execution_count": 5,
   "id": "10bb51bf-14bd-45f4-ad95-e14b250808ea",
   "metadata": {},
   "outputs": [],
   "source": [
    "# Save the model using the recommended Keras format\n",
    "def save_model(model, model_path):\n",
    "    if not model_path.endswith('.keras'):\n",
    "        model_path += '.keras'\n",
    "    model.save(model_path)\n",
    "    \n",
    "# Load the model\n",
    "def load_existing_model(model_path):\n",
    "    return load_model(model_path)"
   ]
  },
  {
   "cell_type": "code",
   "execution_count": 6,
   "id": "e13fb139-bad8-4bff-b04c-72fd98d739b5",
   "metadata": {},
   "outputs": [],
   "source": [
    "# Get autoencoder model\n",
    "def AE_Model(train_data, LeReLU_alpha=0.01, batch_size=512):\n",
    "    \n",
    "    input_layer = Input(shape=(train_data.shape[1],), name='ae_input')\n",
    "    \n",
    "    encoder = Dense(1024, activation=LeakyReLU(negative_slope=LeReLU_alpha), name='e1')(input_layer)\n",
    "    encoder = Dense(512, activation=LeakyReLU(negative_slope=LeReLU_alpha), name='e2')(encoder)\n",
    "    encoder = Dense(256, activation=LeakyReLU(negative_slope=LeReLU_alpha), name='e3')(encoder)\n",
    "    encoder = Dense(128, activation=LeakyReLU(negative_slope=LeReLU_alpha), name='e4')(encoder)\n",
    "    encoder = Dense(64, activation=LeakyReLU(negative_slope=LeReLU_alpha), name='e5')(encoder)\n",
    "    encoder = Dense(32, activation=LeakyReLU(negative_slope=LeReLU_alpha), name='e6')(encoder)\n",
    "\n",
    "    encoded = Dense(2, activation='linear', name='ae_latent')(encoder)\n",
    "    \n",
    "    decoder = Dense(32, activation=LeakyReLU(negative_slope=LeReLU_alpha), name='d6')(encoded)\n",
    "    decoder = Dense(64, activation=LeakyReLU(negative_slope=LeReLU_alpha), name='d5')(decoder)\n",
    "    decoder = Dense(128, activation=LeakyReLU(negative_slope=LeReLU_alpha), name='d4')(decoder)\n",
    "    decoder = Dense(256, activation=LeakyReLU(negative_slope=LeReLU_alpha), name='d3')(decoder)\n",
    "    decoder = Dense(512, activation=LeakyReLU(negative_slope=LeReLU_alpha), name='d2')(decoder)\n",
    "    decoder = Dense(1024, activation=LeakyReLU(negative_slope=LeReLU_alpha), name='d1')(decoder)\n",
    "\n",
    "    output_layer = Dense(train_data.shape[1], activation='linear', name='ae_output')(decoder)\n",
    "    \n",
    "    model = Model(inputs=input_layer, outputs=output_layer)\n",
    "    model.compile(optimizer=Adam(learning_rate=1e-5), loss=MeanSquaredError())\n",
    "    \n",
    "    model.summary()\n",
    "    \n",
    "    return model"
   ]
  },
  {
   "cell_type": "code",
   "execution_count": 7,
   "id": "1b6f2654-897e-4a59-989f-2bc67e60a604",
   "metadata": {},
   "outputs": [],
   "source": [
    "base_folder = \"AE_Data/Unfiltered_Shuffled_Compaction_Data\"\n",
    "X_train_loaded, y_train_loaded, X_valid_loaded, y_valid_loaded = load_datasets(fold=1, base_folder=base_folder)"
   ]
  },
  {
   "cell_type": "code",
   "execution_count": 9,
   "id": "04107fee-750b-42f1-9fff-9edf4f44c266",
   "metadata": {},
   "outputs": [
    {
     "data": {
      "text/html": [
       "<pre style=\"white-space:pre;overflow-x:auto;line-height:normal;font-family:Menlo,'DejaVu Sans Mono',consolas,'Courier New',monospace\"><span style=\"font-weight: bold\">Model: \"functional_2\"</span>\n",
       "</pre>\n"
      ],
      "text/plain": [
       "\u001b[1mModel: \"functional_2\"\u001b[0m\n"
      ]
     },
     "metadata": {},
     "output_type": "display_data"
    },
    {
     "data": {
      "text/html": [
       "<pre style=\"white-space:pre;overflow-x:auto;line-height:normal;font-family:Menlo,'DejaVu Sans Mono',consolas,'Courier New',monospace\">┏━━━━━━━━━━━━━━━━━━━━━━━━━━━━━━━━━┳━━━━━━━━━━━━━━━━━━━━━━━━┳━━━━━━━━━━━━━━━┓\n",
       "┃<span style=\"font-weight: bold\"> Layer (type)                    </span>┃<span style=\"font-weight: bold\"> Output Shape           </span>┃<span style=\"font-weight: bold\">       Param # </span>┃\n",
       "┡━━━━━━━━━━━━━━━━━━━━━━━━━━━━━━━━━╇━━━━━━━━━━━━━━━━━━━━━━━━╇━━━━━━━━━━━━━━━┩\n",
       "│ ae_input (<span style=\"color: #0087ff; text-decoration-color: #0087ff\">InputLayer</span>)           │ (<span style=\"color: #00d7ff; text-decoration-color: #00d7ff\">None</span>, <span style=\"color: #00af00; text-decoration-color: #00af00\">2175</span>)           │             <span style=\"color: #00af00; text-decoration-color: #00af00\">0</span> │\n",
       "├─────────────────────────────────┼────────────────────────┼───────────────┤\n",
       "│ e1 (<span style=\"color: #0087ff; text-decoration-color: #0087ff\">Dense</span>)                      │ (<span style=\"color: #00d7ff; text-decoration-color: #00d7ff\">None</span>, <span style=\"color: #00af00; text-decoration-color: #00af00\">1024</span>)           │     <span style=\"color: #00af00; text-decoration-color: #00af00\">2,228,224</span> │\n",
       "├─────────────────────────────────┼────────────────────────┼───────────────┤\n",
       "│ e2 (<span style=\"color: #0087ff; text-decoration-color: #0087ff\">Dense</span>)                      │ (<span style=\"color: #00d7ff; text-decoration-color: #00d7ff\">None</span>, <span style=\"color: #00af00; text-decoration-color: #00af00\">512</span>)            │       <span style=\"color: #00af00; text-decoration-color: #00af00\">524,800</span> │\n",
       "├─────────────────────────────────┼────────────────────────┼───────────────┤\n",
       "│ e3 (<span style=\"color: #0087ff; text-decoration-color: #0087ff\">Dense</span>)                      │ (<span style=\"color: #00d7ff; text-decoration-color: #00d7ff\">None</span>, <span style=\"color: #00af00; text-decoration-color: #00af00\">256</span>)            │       <span style=\"color: #00af00; text-decoration-color: #00af00\">131,328</span> │\n",
       "├─────────────────────────────────┼────────────────────────┼───────────────┤\n",
       "│ e4 (<span style=\"color: #0087ff; text-decoration-color: #0087ff\">Dense</span>)                      │ (<span style=\"color: #00d7ff; text-decoration-color: #00d7ff\">None</span>, <span style=\"color: #00af00; text-decoration-color: #00af00\">128</span>)            │        <span style=\"color: #00af00; text-decoration-color: #00af00\">32,896</span> │\n",
       "├─────────────────────────────────┼────────────────────────┼───────────────┤\n",
       "│ e5 (<span style=\"color: #0087ff; text-decoration-color: #0087ff\">Dense</span>)                      │ (<span style=\"color: #00d7ff; text-decoration-color: #00d7ff\">None</span>, <span style=\"color: #00af00; text-decoration-color: #00af00\">64</span>)             │         <span style=\"color: #00af00; text-decoration-color: #00af00\">8,256</span> │\n",
       "├─────────────────────────────────┼────────────────────────┼───────────────┤\n",
       "│ e6 (<span style=\"color: #0087ff; text-decoration-color: #0087ff\">Dense</span>)                      │ (<span style=\"color: #00d7ff; text-decoration-color: #00d7ff\">None</span>, <span style=\"color: #00af00; text-decoration-color: #00af00\">32</span>)             │         <span style=\"color: #00af00; text-decoration-color: #00af00\">2,080</span> │\n",
       "├─────────────────────────────────┼────────────────────────┼───────────────┤\n",
       "│ ae_latent (<span style=\"color: #0087ff; text-decoration-color: #0087ff\">Dense</span>)               │ (<span style=\"color: #00d7ff; text-decoration-color: #00d7ff\">None</span>, <span style=\"color: #00af00; text-decoration-color: #00af00\">2</span>)              │            <span style=\"color: #00af00; text-decoration-color: #00af00\">66</span> │\n",
       "├─────────────────────────────────┼────────────────────────┼───────────────┤\n",
       "│ d6 (<span style=\"color: #0087ff; text-decoration-color: #0087ff\">Dense</span>)                      │ (<span style=\"color: #00d7ff; text-decoration-color: #00d7ff\">None</span>, <span style=\"color: #00af00; text-decoration-color: #00af00\">32</span>)             │            <span style=\"color: #00af00; text-decoration-color: #00af00\">96</span> │\n",
       "├─────────────────────────────────┼────────────────────────┼───────────────┤\n",
       "│ d5 (<span style=\"color: #0087ff; text-decoration-color: #0087ff\">Dense</span>)                      │ (<span style=\"color: #00d7ff; text-decoration-color: #00d7ff\">None</span>, <span style=\"color: #00af00; text-decoration-color: #00af00\">64</span>)             │         <span style=\"color: #00af00; text-decoration-color: #00af00\">2,112</span> │\n",
       "├─────────────────────────────────┼────────────────────────┼───────────────┤\n",
       "│ d4 (<span style=\"color: #0087ff; text-decoration-color: #0087ff\">Dense</span>)                      │ (<span style=\"color: #00d7ff; text-decoration-color: #00d7ff\">None</span>, <span style=\"color: #00af00; text-decoration-color: #00af00\">128</span>)            │         <span style=\"color: #00af00; text-decoration-color: #00af00\">8,320</span> │\n",
       "├─────────────────────────────────┼────────────────────────┼───────────────┤\n",
       "│ d3 (<span style=\"color: #0087ff; text-decoration-color: #0087ff\">Dense</span>)                      │ (<span style=\"color: #00d7ff; text-decoration-color: #00d7ff\">None</span>, <span style=\"color: #00af00; text-decoration-color: #00af00\">256</span>)            │        <span style=\"color: #00af00; text-decoration-color: #00af00\">33,024</span> │\n",
       "├─────────────────────────────────┼────────────────────────┼───────────────┤\n",
       "│ d2 (<span style=\"color: #0087ff; text-decoration-color: #0087ff\">Dense</span>)                      │ (<span style=\"color: #00d7ff; text-decoration-color: #00d7ff\">None</span>, <span style=\"color: #00af00; text-decoration-color: #00af00\">512</span>)            │       <span style=\"color: #00af00; text-decoration-color: #00af00\">131,584</span> │\n",
       "├─────────────────────────────────┼────────────────────────┼───────────────┤\n",
       "│ d1 (<span style=\"color: #0087ff; text-decoration-color: #0087ff\">Dense</span>)                      │ (<span style=\"color: #00d7ff; text-decoration-color: #00d7ff\">None</span>, <span style=\"color: #00af00; text-decoration-color: #00af00\">1024</span>)           │       <span style=\"color: #00af00; text-decoration-color: #00af00\">525,312</span> │\n",
       "├─────────────────────────────────┼────────────────────────┼───────────────┤\n",
       "│ ae_output (<span style=\"color: #0087ff; text-decoration-color: #0087ff\">Dense</span>)               │ (<span style=\"color: #00d7ff; text-decoration-color: #00d7ff\">None</span>, <span style=\"color: #00af00; text-decoration-color: #00af00\">2175</span>)           │     <span style=\"color: #00af00; text-decoration-color: #00af00\">2,229,375</span> │\n",
       "└─────────────────────────────────┴────────────────────────┴───────────────┘\n",
       "</pre>\n"
      ],
      "text/plain": [
       "┏━━━━━━━━━━━━━━━━━━━━━━━━━━━━━━━━━┳━━━━━━━━━━━━━━━━━━━━━━━━┳━━━━━━━━━━━━━━━┓\n",
       "┃\u001b[1m \u001b[0m\u001b[1mLayer (type)                   \u001b[0m\u001b[1m \u001b[0m┃\u001b[1m \u001b[0m\u001b[1mOutput Shape          \u001b[0m\u001b[1m \u001b[0m┃\u001b[1m \u001b[0m\u001b[1m      Param #\u001b[0m\u001b[1m \u001b[0m┃\n",
       "┡━━━━━━━━━━━━━━━━━━━━━━━━━━━━━━━━━╇━━━━━━━━━━━━━━━━━━━━━━━━╇━━━━━━━━━━━━━━━┩\n",
       "│ ae_input (\u001b[38;5;33mInputLayer\u001b[0m)           │ (\u001b[38;5;45mNone\u001b[0m, \u001b[38;5;34m2175\u001b[0m)           │             \u001b[38;5;34m0\u001b[0m │\n",
       "├─────────────────────────────────┼────────────────────────┼───────────────┤\n",
       "│ e1 (\u001b[38;5;33mDense\u001b[0m)                      │ (\u001b[38;5;45mNone\u001b[0m, \u001b[38;5;34m1024\u001b[0m)           │     \u001b[38;5;34m2,228,224\u001b[0m │\n",
       "├─────────────────────────────────┼────────────────────────┼───────────────┤\n",
       "│ e2 (\u001b[38;5;33mDense\u001b[0m)                      │ (\u001b[38;5;45mNone\u001b[0m, \u001b[38;5;34m512\u001b[0m)            │       \u001b[38;5;34m524,800\u001b[0m │\n",
       "├─────────────────────────────────┼────────────────────────┼───────────────┤\n",
       "│ e3 (\u001b[38;5;33mDense\u001b[0m)                      │ (\u001b[38;5;45mNone\u001b[0m, \u001b[38;5;34m256\u001b[0m)            │       \u001b[38;5;34m131,328\u001b[0m │\n",
       "├─────────────────────────────────┼────────────────────────┼───────────────┤\n",
       "│ e4 (\u001b[38;5;33mDense\u001b[0m)                      │ (\u001b[38;5;45mNone\u001b[0m, \u001b[38;5;34m128\u001b[0m)            │        \u001b[38;5;34m32,896\u001b[0m │\n",
       "├─────────────────────────────────┼────────────────────────┼───────────────┤\n",
       "│ e5 (\u001b[38;5;33mDense\u001b[0m)                      │ (\u001b[38;5;45mNone\u001b[0m, \u001b[38;5;34m64\u001b[0m)             │         \u001b[38;5;34m8,256\u001b[0m │\n",
       "├─────────────────────────────────┼────────────────────────┼───────────────┤\n",
       "│ e6 (\u001b[38;5;33mDense\u001b[0m)                      │ (\u001b[38;5;45mNone\u001b[0m, \u001b[38;5;34m32\u001b[0m)             │         \u001b[38;5;34m2,080\u001b[0m │\n",
       "├─────────────────────────────────┼────────────────────────┼───────────────┤\n",
       "│ ae_latent (\u001b[38;5;33mDense\u001b[0m)               │ (\u001b[38;5;45mNone\u001b[0m, \u001b[38;5;34m2\u001b[0m)              │            \u001b[38;5;34m66\u001b[0m │\n",
       "├─────────────────────────────────┼────────────────────────┼───────────────┤\n",
       "│ d6 (\u001b[38;5;33mDense\u001b[0m)                      │ (\u001b[38;5;45mNone\u001b[0m, \u001b[38;5;34m32\u001b[0m)             │            \u001b[38;5;34m96\u001b[0m │\n",
       "├─────────────────────────────────┼────────────────────────┼───────────────┤\n",
       "│ d5 (\u001b[38;5;33mDense\u001b[0m)                      │ (\u001b[38;5;45mNone\u001b[0m, \u001b[38;5;34m64\u001b[0m)             │         \u001b[38;5;34m2,112\u001b[0m │\n",
       "├─────────────────────────────────┼────────────────────────┼───────────────┤\n",
       "│ d4 (\u001b[38;5;33mDense\u001b[0m)                      │ (\u001b[38;5;45mNone\u001b[0m, \u001b[38;5;34m128\u001b[0m)            │         \u001b[38;5;34m8,320\u001b[0m │\n",
       "├─────────────────────────────────┼────────────────────────┼───────────────┤\n",
       "│ d3 (\u001b[38;5;33mDense\u001b[0m)                      │ (\u001b[38;5;45mNone\u001b[0m, \u001b[38;5;34m256\u001b[0m)            │        \u001b[38;5;34m33,024\u001b[0m │\n",
       "├─────────────────────────────────┼────────────────────────┼───────────────┤\n",
       "│ d2 (\u001b[38;5;33mDense\u001b[0m)                      │ (\u001b[38;5;45mNone\u001b[0m, \u001b[38;5;34m512\u001b[0m)            │       \u001b[38;5;34m131,584\u001b[0m │\n",
       "├─────────────────────────────────┼────────────────────────┼───────────────┤\n",
       "│ d1 (\u001b[38;5;33mDense\u001b[0m)                      │ (\u001b[38;5;45mNone\u001b[0m, \u001b[38;5;34m1024\u001b[0m)           │       \u001b[38;5;34m525,312\u001b[0m │\n",
       "├─────────────────────────────────┼────────────────────────┼───────────────┤\n",
       "│ ae_output (\u001b[38;5;33mDense\u001b[0m)               │ (\u001b[38;5;45mNone\u001b[0m, \u001b[38;5;34m2175\u001b[0m)           │     \u001b[38;5;34m2,229,375\u001b[0m │\n",
       "└─────────────────────────────────┴────────────────────────┴───────────────┘\n"
      ]
     },
     "metadata": {},
     "output_type": "display_data"
    },
    {
     "data": {
      "text/html": [
       "<pre style=\"white-space:pre;overflow-x:auto;line-height:normal;font-family:Menlo,'DejaVu Sans Mono',consolas,'Courier New',monospace\"><span style=\"font-weight: bold\"> Total params: </span><span style=\"color: #00af00; text-decoration-color: #00af00\">5,857,473</span> (22.34 MB)\n",
       "</pre>\n"
      ],
      "text/plain": [
       "\u001b[1m Total params: \u001b[0m\u001b[38;5;34m5,857,473\u001b[0m (22.34 MB)\n"
      ]
     },
     "metadata": {},
     "output_type": "display_data"
    },
    {
     "data": {
      "text/html": [
       "<pre style=\"white-space:pre;overflow-x:auto;line-height:normal;font-family:Menlo,'DejaVu Sans Mono',consolas,'Courier New',monospace\"><span style=\"font-weight: bold\"> Trainable params: </span><span style=\"color: #00af00; text-decoration-color: #00af00\">5,857,473</span> (22.34 MB)\n",
       "</pre>\n"
      ],
      "text/plain": [
       "\u001b[1m Trainable params: \u001b[0m\u001b[38;5;34m5,857,473\u001b[0m (22.34 MB)\n"
      ]
     },
     "metadata": {},
     "output_type": "display_data"
    },
    {
     "data": {
      "text/html": [
       "<pre style=\"white-space:pre;overflow-x:auto;line-height:normal;font-family:Menlo,'DejaVu Sans Mono',consolas,'Courier New',monospace\"><span style=\"font-weight: bold\"> Non-trainable params: </span><span style=\"color: #00af00; text-decoration-color: #00af00\">0</span> (0.00 B)\n",
       "</pre>\n"
      ],
      "text/plain": [
       "\u001b[1m Non-trainable params: \u001b[0m\u001b[38;5;34m0\u001b[0m (0.00 B)\n"
      ]
     },
     "metadata": {},
     "output_type": "display_data"
    },
    {
     "name": "stderr",
     "output_type": "stream",
     "text": [
      "  0%|                                                   | 0/101 [00:00<?, ?it/s]"
     ]
    },
    {
     "data": {
      "text/html": [
       "<pre style=\"white-space:pre;overflow-x:auto;line-height:normal;font-family:Menlo,'DejaVu Sans Mono',consolas,'Courier New',monospace\"></pre>\n"
      ],
      "text/plain": []
     },
     "metadata": {},
     "output_type": "display_data"
    },
    {
     "name": "stderr",
     "output_type": "stream",
     "text": [
      "  1%|▍                                      | 1/101 [12:56<21:34:00, 776.41s/it]"
     ]
    },
    {
     "data": {
      "text/html": [
       "<pre style=\"white-space:pre;overflow-x:auto;line-height:normal;font-family:Menlo,'DejaVu Sans Mono',consolas,'Courier New',monospace\"></pre>\n"
      ],
      "text/plain": []
     },
     "metadata": {},
     "output_type": "display_data"
    },
    {
     "name": "stderr",
     "output_type": "stream",
     "text": [
      "  2%|▊                                      | 2/101 [25:50<21:18:32, 774.87s/it]"
     ]
    },
    {
     "data": {
      "text/html": [
       "<pre style=\"white-space:pre;overflow-x:auto;line-height:normal;font-family:Menlo,'DejaVu Sans Mono',consolas,'Courier New',monospace\"></pre>\n"
      ],
      "text/plain": []
     },
     "metadata": {},
     "output_type": "display_data"
    },
    {
     "name": "stderr",
     "output_type": "stream",
     "text": [
      "  3%|█▏                                     | 3/101 [38:39<21:01:36, 772.41s/it]"
     ]
    },
    {
     "data": {
      "text/html": [
       "<pre style=\"white-space:pre;overflow-x:auto;line-height:normal;font-family:Menlo,'DejaVu Sans Mono',consolas,'Courier New',monospace\"></pre>\n"
      ],
      "text/plain": []
     },
     "metadata": {},
     "output_type": "display_data"
    },
    {
     "name": "stderr",
     "output_type": "stream",
     "text": [
      "  4%|█▌                                     | 4/101 [51:29<20:46:45, 771.19s/it]"
     ]
    },
    {
     "data": {
      "text/html": [
       "<pre style=\"white-space:pre;overflow-x:auto;line-height:normal;font-family:Menlo,'DejaVu Sans Mono',consolas,'Courier New',monospace\"></pre>\n"
      ],
      "text/plain": []
     },
     "metadata": {},
     "output_type": "display_data"
    },
    {
     "name": "stderr",
     "output_type": "stream",
     "text": [
      "  5%|█▊                                   | 5/101 [1:04:34<20:42:20, 776.46s/it]"
     ]
    },
    {
     "data": {
      "text/html": [
       "<pre style=\"white-space:pre;overflow-x:auto;line-height:normal;font-family:Menlo,'DejaVu Sans Mono',consolas,'Courier New',monospace\"></pre>\n"
      ],
      "text/plain": []
     },
     "metadata": {},
     "output_type": "display_data"
    },
    {
     "name": "stderr",
     "output_type": "stream",
     "text": [
      "  6%|██▏                                  | 6/101 [1:17:38<20:33:30, 779.06s/it]"
     ]
    },
    {
     "data": {
      "text/html": [
       "<pre style=\"white-space:pre;overflow-x:auto;line-height:normal;font-family:Menlo,'DejaVu Sans Mono',consolas,'Courier New',monospace\"></pre>\n"
      ],
      "text/plain": []
     },
     "metadata": {},
     "output_type": "display_data"
    },
    {
     "name": "stderr",
     "output_type": "stream",
     "text": [
      "  7%|██▌                                  | 7/101 [1:30:42<20:22:57, 780.61s/it]"
     ]
    },
    {
     "data": {
      "text/html": [
       "<pre style=\"white-space:pre;overflow-x:auto;line-height:normal;font-family:Menlo,'DejaVu Sans Mono',consolas,'Courier New',monospace\"></pre>\n"
      ],
      "text/plain": []
     },
     "metadata": {},
     "output_type": "display_data"
    },
    {
     "name": "stderr",
     "output_type": "stream",
     "text": [
      "  8%|██▉                                  | 8/101 [1:43:48<20:12:29, 782.25s/it]"
     ]
    },
    {
     "data": {
      "text/html": [
       "<pre style=\"white-space:pre;overflow-x:auto;line-height:normal;font-family:Menlo,'DejaVu Sans Mono',consolas,'Courier New',monospace\"></pre>\n"
      ],
      "text/plain": []
     },
     "metadata": {},
     "output_type": "display_data"
    },
    {
     "name": "stderr",
     "output_type": "stream",
     "text": [
      "  9%|███▎                                 | 9/101 [1:56:52<20:00:19, 782.82s/it]"
     ]
    },
    {
     "data": {
      "text/html": [
       "<pre style=\"white-space:pre;overflow-x:auto;line-height:normal;font-family:Menlo,'DejaVu Sans Mono',consolas,'Courier New',monospace\"></pre>\n"
      ],
      "text/plain": []
     },
     "metadata": {},
     "output_type": "display_data"
    },
    {
     "name": "stderr",
     "output_type": "stream",
     "text": [
      " 10%|███▌                                | 10/101 [2:09:58<19:48:48, 783.83s/it]"
     ]
    },
    {
     "data": {
      "text/html": [
       "<pre style=\"white-space:pre;overflow-x:auto;line-height:normal;font-family:Menlo,'DejaVu Sans Mono',consolas,'Courier New',monospace\"></pre>\n"
      ],
      "text/plain": []
     },
     "metadata": {},
     "output_type": "display_data"
    },
    {
     "name": "stderr",
     "output_type": "stream",
     "text": [
      " 11%|███▉                                | 11/101 [2:23:04<19:36:40, 784.45s/it]"
     ]
    },
    {
     "data": {
      "text/html": [
       "<pre style=\"white-space:pre;overflow-x:auto;line-height:normal;font-family:Menlo,'DejaVu Sans Mono',consolas,'Courier New',monospace\"></pre>\n"
      ],
      "text/plain": []
     },
     "metadata": {},
     "output_type": "display_data"
    },
    {
     "name": "stderr",
     "output_type": "stream",
     "text": [
      " 12%|████▎                               | 12/101 [2:36:05<19:21:54, 783.30s/it]"
     ]
    },
    {
     "data": {
      "text/html": [
       "<pre style=\"white-space:pre;overflow-x:auto;line-height:normal;font-family:Menlo,'DejaVu Sans Mono',consolas,'Courier New',monospace\"></pre>\n"
      ],
      "text/plain": []
     },
     "metadata": {},
     "output_type": "display_data"
    },
    {
     "name": "stderr",
     "output_type": "stream",
     "text": [
      " 13%|████▋                               | 13/101 [2:49:08<19:08:38, 783.17s/it]"
     ]
    },
    {
     "data": {
      "text/html": [
       "<pre style=\"white-space:pre;overflow-x:auto;line-height:normal;font-family:Menlo,'DejaVu Sans Mono',consolas,'Courier New',monospace\"></pre>\n"
      ],
      "text/plain": []
     },
     "metadata": {},
     "output_type": "display_data"
    },
    {
     "name": "stderr",
     "output_type": "stream",
     "text": [
      " 14%|████▉                               | 14/101 [3:02:08<18:54:15, 782.25s/it]"
     ]
    },
    {
     "data": {
      "text/html": [
       "<pre style=\"white-space:pre;overflow-x:auto;line-height:normal;font-family:Menlo,'DejaVu Sans Mono',consolas,'Courier New',monospace\"></pre>\n"
      ],
      "text/plain": []
     },
     "metadata": {},
     "output_type": "display_data"
    },
    {
     "name": "stderr",
     "output_type": "stream",
     "text": [
      " 15%|█████▎                              | 15/101 [3:15:12<18:42:08, 782.89s/it]"
     ]
    },
    {
     "data": {
      "text/html": [
       "<pre style=\"white-space:pre;overflow-x:auto;line-height:normal;font-family:Menlo,'DejaVu Sans Mono',consolas,'Courier New',monospace\"></pre>\n"
      ],
      "text/plain": []
     },
     "metadata": {},
     "output_type": "display_data"
    },
    {
     "name": "stderr",
     "output_type": "stream",
     "text": [
      " 16%|█████▋                              | 16/101 [3:28:13<18:28:19, 782.34s/it]"
     ]
    },
    {
     "data": {
      "text/html": [
       "<pre style=\"white-space:pre;overflow-x:auto;line-height:normal;font-family:Menlo,'DejaVu Sans Mono',consolas,'Courier New',monospace\"></pre>\n"
      ],
      "text/plain": []
     },
     "metadata": {},
     "output_type": "display_data"
    },
    {
     "name": "stderr",
     "output_type": "stream",
     "text": [
      " 17%|██████                              | 17/101 [3:41:16<18:15:33, 782.54s/it]"
     ]
    },
    {
     "data": {
      "text/html": [
       "<pre style=\"white-space:pre;overflow-x:auto;line-height:normal;font-family:Menlo,'DejaVu Sans Mono',consolas,'Courier New',monospace\"></pre>\n"
      ],
      "text/plain": []
     },
     "metadata": {},
     "output_type": "display_data"
    },
    {
     "name": "stderr",
     "output_type": "stream",
     "text": [
      " 18%|██████▍                             | 18/101 [3:54:19<18:02:41, 782.66s/it]"
     ]
    },
    {
     "data": {
      "text/html": [
       "<pre style=\"white-space:pre;overflow-x:auto;line-height:normal;font-family:Menlo,'DejaVu Sans Mono',consolas,'Courier New',monospace\"></pre>\n"
      ],
      "text/plain": []
     },
     "metadata": {},
     "output_type": "display_data"
    },
    {
     "name": "stderr",
     "output_type": "stream",
     "text": [
      " 19%|██████▊                             | 19/101 [4:07:24<17:50:35, 783.36s/it]"
     ]
    },
    {
     "data": {
      "text/html": [
       "<pre style=\"white-space:pre;overflow-x:auto;line-height:normal;font-family:Menlo,'DejaVu Sans Mono',consolas,'Courier New',monospace\"></pre>\n"
      ],
      "text/plain": []
     },
     "metadata": {},
     "output_type": "display_data"
    },
    {
     "name": "stderr",
     "output_type": "stream",
     "text": [
      " 20%|███████▏                            | 20/101 [4:20:28<17:37:46, 783.54s/it]"
     ]
    },
    {
     "data": {
      "text/html": [
       "<pre style=\"white-space:pre;overflow-x:auto;line-height:normal;font-family:Menlo,'DejaVu Sans Mono',consolas,'Courier New',monospace\"></pre>\n"
      ],
      "text/plain": []
     },
     "metadata": {},
     "output_type": "display_data"
    },
    {
     "name": "stderr",
     "output_type": "stream",
     "text": [
      " 21%|███████▍                            | 21/101 [4:33:31<17:24:27, 783.34s/it]"
     ]
    },
    {
     "data": {
      "text/html": [
       "<pre style=\"white-space:pre;overflow-x:auto;line-height:normal;font-family:Menlo,'DejaVu Sans Mono',consolas,'Courier New',monospace\"></pre>\n"
      ],
      "text/plain": []
     },
     "metadata": {},
     "output_type": "display_data"
    },
    {
     "name": "stderr",
     "output_type": "stream",
     "text": [
      " 22%|███████▊                            | 22/101 [4:46:37<17:12:35, 784.25s/it]"
     ]
    },
    {
     "data": {
      "text/html": [
       "<pre style=\"white-space:pre;overflow-x:auto;line-height:normal;font-family:Menlo,'DejaVu Sans Mono',consolas,'Courier New',monospace\"></pre>\n"
      ],
      "text/plain": []
     },
     "metadata": {},
     "output_type": "display_data"
    },
    {
     "name": "stderr",
     "output_type": "stream",
     "text": [
      " 23%|████████▏                           | 23/101 [4:59:38<16:58:11, 783.22s/it]"
     ]
    },
    {
     "data": {
      "text/html": [
       "<pre style=\"white-space:pre;overflow-x:auto;line-height:normal;font-family:Menlo,'DejaVu Sans Mono',consolas,'Courier New',monospace\"></pre>\n"
      ],
      "text/plain": []
     },
     "metadata": {},
     "output_type": "display_data"
    },
    {
     "name": "stderr",
     "output_type": "stream",
     "text": [
      " 24%|████████▌                           | 24/101 [5:12:41<16:45:02, 783.15s/it]"
     ]
    },
    {
     "data": {
      "text/html": [
       "<pre style=\"white-space:pre;overflow-x:auto;line-height:normal;font-family:Menlo,'DejaVu Sans Mono',consolas,'Courier New',monospace\"></pre>\n"
      ],
      "text/plain": []
     },
     "metadata": {},
     "output_type": "display_data"
    },
    {
     "name": "stderr",
     "output_type": "stream",
     "text": [
      " 25%|████████▉                           | 25/101 [5:25:45<16:32:18, 783.40s/it]"
     ]
    },
    {
     "data": {
      "text/html": [
       "<pre style=\"white-space:pre;overflow-x:auto;line-height:normal;font-family:Menlo,'DejaVu Sans Mono',consolas,'Courier New',monospace\"></pre>\n"
      ],
      "text/plain": []
     },
     "metadata": {},
     "output_type": "display_data"
    },
    {
     "name": "stderr",
     "output_type": "stream",
     "text": [
      " 26%|█████████▎                          | 26/101 [5:38:50<16:19:52, 783.89s/it]"
     ]
    },
    {
     "data": {
      "text/html": [
       "<pre style=\"white-space:pre;overflow-x:auto;line-height:normal;font-family:Menlo,'DejaVu Sans Mono',consolas,'Courier New',monospace\"></pre>\n"
      ],
      "text/plain": []
     },
     "metadata": {},
     "output_type": "display_data"
    },
    {
     "name": "stderr",
     "output_type": "stream",
     "text": [
      " 27%|█████████▌                          | 27/101 [5:51:54<16:06:53, 783.97s/it]"
     ]
    },
    {
     "data": {
      "text/html": [
       "<pre style=\"white-space:pre;overflow-x:auto;line-height:normal;font-family:Menlo,'DejaVu Sans Mono',consolas,'Courier New',monospace\"></pre>\n"
      ],
      "text/plain": []
     },
     "metadata": {},
     "output_type": "display_data"
    },
    {
     "name": "stderr",
     "output_type": "stream",
     "text": [
      " 28%|█████████▉                          | 28/101 [6:04:56<15:52:52, 783.18s/it]"
     ]
    },
    {
     "data": {
      "text/html": [
       "<pre style=\"white-space:pre;overflow-x:auto;line-height:normal;font-family:Menlo,'DejaVu Sans Mono',consolas,'Courier New',monospace\"></pre>\n"
      ],
      "text/plain": []
     },
     "metadata": {},
     "output_type": "display_data"
    },
    {
     "name": "stderr",
     "output_type": "stream",
     "text": [
      " 29%|██████████▎                         | 29/101 [6:17:59<15:39:56, 783.28s/it]"
     ]
    },
    {
     "data": {
      "text/html": [
       "<pre style=\"white-space:pre;overflow-x:auto;line-height:normal;font-family:Menlo,'DejaVu Sans Mono',consolas,'Courier New',monospace\"></pre>\n"
      ],
      "text/plain": []
     },
     "metadata": {},
     "output_type": "display_data"
    },
    {
     "name": "stderr",
     "output_type": "stream",
     "text": [
      " 30%|██████████▋                         | 30/101 [6:31:01<15:26:20, 782.82s/it]"
     ]
    },
    {
     "data": {
      "text/html": [
       "<pre style=\"white-space:pre;overflow-x:auto;line-height:normal;font-family:Menlo,'DejaVu Sans Mono',consolas,'Courier New',monospace\"></pre>\n"
      ],
      "text/plain": []
     },
     "metadata": {},
     "output_type": "display_data"
    },
    {
     "name": "stderr",
     "output_type": "stream",
     "text": [
      " 31%|███████████                         | 31/101 [6:44:05<15:13:42, 783.17s/it]"
     ]
    },
    {
     "data": {
      "text/html": [
       "<pre style=\"white-space:pre;overflow-x:auto;line-height:normal;font-family:Menlo,'DejaVu Sans Mono',consolas,'Courier New',monospace\"></pre>\n"
      ],
      "text/plain": []
     },
     "metadata": {},
     "output_type": "display_data"
    },
    {
     "name": "stderr",
     "output_type": "stream",
     "text": [
      " 32%|███████████▍                        | 32/101 [6:57:09<15:00:52, 783.37s/it]"
     ]
    },
    {
     "data": {
      "text/html": [
       "<pre style=\"white-space:pre;overflow-x:auto;line-height:normal;font-family:Menlo,'DejaVu Sans Mono',consolas,'Courier New',monospace\"></pre>\n"
      ],
      "text/plain": []
     },
     "metadata": {},
     "output_type": "display_data"
    },
    {
     "name": "stderr",
     "output_type": "stream",
     "text": [
      " 33%|███████████▊                        | 33/101 [7:10:11<14:47:23, 782.99s/it]"
     ]
    },
    {
     "data": {
      "text/html": [
       "<pre style=\"white-space:pre;overflow-x:auto;line-height:normal;font-family:Menlo,'DejaVu Sans Mono',consolas,'Courier New',monospace\"></pre>\n"
      ],
      "text/plain": []
     },
     "metadata": {},
     "output_type": "display_data"
    },
    {
     "name": "stderr",
     "output_type": "stream",
     "text": [
      " 34%|████████████                        | 34/101 [7:23:14<14:34:21, 783.01s/it]"
     ]
    },
    {
     "data": {
      "text/html": [
       "<pre style=\"white-space:pre;overflow-x:auto;line-height:normal;font-family:Menlo,'DejaVu Sans Mono',consolas,'Courier New',monospace\"></pre>\n"
      ],
      "text/plain": []
     },
     "metadata": {},
     "output_type": "display_data"
    },
    {
     "name": "stderr",
     "output_type": "stream",
     "text": [
      " 35%|████████████▍                       | 35/101 [7:36:17<14:21:31, 783.21s/it]"
     ]
    },
    {
     "data": {
      "text/html": [
       "<pre style=\"white-space:pre;overflow-x:auto;line-height:normal;font-family:Menlo,'DejaVu Sans Mono',consolas,'Courier New',monospace\"></pre>\n"
      ],
      "text/plain": []
     },
     "metadata": {},
     "output_type": "display_data"
    },
    {
     "name": "stderr",
     "output_type": "stream",
     "text": [
      " 36%|████████████▊                       | 36/101 [7:49:20<14:08:18, 783.06s/it]"
     ]
    },
    {
     "data": {
      "text/html": [
       "<pre style=\"white-space:pre;overflow-x:auto;line-height:normal;font-family:Menlo,'DejaVu Sans Mono',consolas,'Courier New',monospace\"></pre>\n"
      ],
      "text/plain": []
     },
     "metadata": {},
     "output_type": "display_data"
    },
    {
     "name": "stderr",
     "output_type": "stream",
     "text": [
      " 37%|█████████████▏                      | 37/101 [8:02:26<13:56:09, 783.89s/it]"
     ]
    },
    {
     "data": {
      "text/html": [
       "<pre style=\"white-space:pre;overflow-x:auto;line-height:normal;font-family:Menlo,'DejaVu Sans Mono',consolas,'Courier New',monospace\"></pre>\n"
      ],
      "text/plain": []
     },
     "metadata": {},
     "output_type": "display_data"
    },
    {
     "name": "stderr",
     "output_type": "stream",
     "text": [
      " 38%|█████████████▌                      | 38/101 [8:15:33<13:43:56, 784.70s/it]"
     ]
    },
    {
     "data": {
      "text/html": [
       "<pre style=\"white-space:pre;overflow-x:auto;line-height:normal;font-family:Menlo,'DejaVu Sans Mono',consolas,'Courier New',monospace\"></pre>\n"
      ],
      "text/plain": []
     },
     "metadata": {},
     "output_type": "display_data"
    },
    {
     "name": "stderr",
     "output_type": "stream",
     "text": [
      " 39%|█████████████▉                      | 39/101 [8:28:36<13:30:19, 784.19s/it]"
     ]
    },
    {
     "data": {
      "text/html": [
       "<pre style=\"white-space:pre;overflow-x:auto;line-height:normal;font-family:Menlo,'DejaVu Sans Mono',consolas,'Courier New',monospace\"></pre>\n"
      ],
      "text/plain": []
     },
     "metadata": {},
     "output_type": "display_data"
    },
    {
     "name": "stderr",
     "output_type": "stream",
     "text": [
      " 40%|██████████████▎                     | 40/101 [8:41:40<13:17:13, 784.15s/it]"
     ]
    },
    {
     "data": {
      "text/html": [
       "<pre style=\"white-space:pre;overflow-x:auto;line-height:normal;font-family:Menlo,'DejaVu Sans Mono',consolas,'Courier New',monospace\"></pre>\n"
      ],
      "text/plain": []
     },
     "metadata": {},
     "output_type": "display_data"
    },
    {
     "name": "stderr",
     "output_type": "stream",
     "text": [
      " 41%|██████████████▌                     | 41/101 [8:54:42<13:03:36, 783.60s/it]"
     ]
    },
    {
     "data": {
      "text/html": [
       "<pre style=\"white-space:pre;overflow-x:auto;line-height:normal;font-family:Menlo,'DejaVu Sans Mono',consolas,'Courier New',monospace\"></pre>\n"
      ],
      "text/plain": []
     },
     "metadata": {},
     "output_type": "display_data"
    },
    {
     "name": "stderr",
     "output_type": "stream",
     "text": [
      " 42%|██████████████▉                     | 42/101 [9:07:45<12:50:22, 783.43s/it]"
     ]
    },
    {
     "data": {
      "text/html": [
       "<pre style=\"white-space:pre;overflow-x:auto;line-height:normal;font-family:Menlo,'DejaVu Sans Mono',consolas,'Courier New',monospace\"></pre>\n"
      ],
      "text/plain": []
     },
     "metadata": {},
     "output_type": "display_data"
    },
    {
     "name": "stderr",
     "output_type": "stream",
     "text": [
      " 43%|███████████████▎                    | 43/101 [9:20:50<12:37:42, 783.83s/it]"
     ]
    },
    {
     "data": {
      "text/html": [
       "<pre style=\"white-space:pre;overflow-x:auto;line-height:normal;font-family:Menlo,'DejaVu Sans Mono',consolas,'Courier New',monospace\"></pre>\n"
      ],
      "text/plain": []
     },
     "metadata": {},
     "output_type": "display_data"
    },
    {
     "name": "stderr",
     "output_type": "stream",
     "text": [
      " 44%|███████████████▋                    | 44/101 [9:33:54<12:24:51, 784.05s/it]"
     ]
    },
    {
     "data": {
      "text/html": [
       "<pre style=\"white-space:pre;overflow-x:auto;line-height:normal;font-family:Menlo,'DejaVu Sans Mono',consolas,'Courier New',monospace\"></pre>\n"
      ],
      "text/plain": []
     },
     "metadata": {},
     "output_type": "display_data"
    },
    {
     "name": "stderr",
     "output_type": "stream",
     "text": [
      " 45%|████████████████                    | 45/101 [9:46:58<12:11:35, 783.85s/it]"
     ]
    },
    {
     "data": {
      "text/html": [
       "<pre style=\"white-space:pre;overflow-x:auto;line-height:normal;font-family:Menlo,'DejaVu Sans Mono',consolas,'Courier New',monospace\"></pre>\n"
      ],
      "text/plain": []
     },
     "metadata": {},
     "output_type": "display_data"
    },
    {
     "name": "stderr",
     "output_type": "stream",
     "text": [
      " 46%|███████████████▉                   | 46/101 [10:00:01<11:58:26, 783.76s/it]"
     ]
    },
    {
     "data": {
      "text/html": [
       "<pre style=\"white-space:pre;overflow-x:auto;line-height:normal;font-family:Menlo,'DejaVu Sans Mono',consolas,'Courier New',monospace\"></pre>\n"
      ],
      "text/plain": []
     },
     "metadata": {},
     "output_type": "display_data"
    },
    {
     "name": "stderr",
     "output_type": "stream",
     "text": [
      " 47%|████████████████▎                  | 47/101 [10:13:03<11:44:48, 783.13s/it]"
     ]
    },
    {
     "data": {
      "text/html": [
       "<pre style=\"white-space:pre;overflow-x:auto;line-height:normal;font-family:Menlo,'DejaVu Sans Mono',consolas,'Courier New',monospace\"></pre>\n"
      ],
      "text/plain": []
     },
     "metadata": {},
     "output_type": "display_data"
    },
    {
     "name": "stderr",
     "output_type": "stream",
     "text": [
      " 48%|████████████████▋                  | 48/101 [10:26:06<11:31:47, 783.17s/it]"
     ]
    },
    {
     "data": {
      "text/html": [
       "<pre style=\"white-space:pre;overflow-x:auto;line-height:normal;font-family:Menlo,'DejaVu Sans Mono',consolas,'Courier New',monospace\"></pre>\n"
      ],
      "text/plain": []
     },
     "metadata": {},
     "output_type": "display_data"
    },
    {
     "name": "stderr",
     "output_type": "stream",
     "text": [
      " 49%|████████████████▉                  | 49/101 [10:39:11<11:19:08, 783.63s/it]"
     ]
    },
    {
     "data": {
      "text/html": [
       "<pre style=\"white-space:pre;overflow-x:auto;line-height:normal;font-family:Menlo,'DejaVu Sans Mono',consolas,'Courier New',monospace\"></pre>\n"
      ],
      "text/plain": []
     },
     "metadata": {},
     "output_type": "display_data"
    },
    {
     "name": "stderr",
     "output_type": "stream",
     "text": [
      " 50%|█████████████████▎                 | 50/101 [10:52:17<11:06:43, 784.37s/it]"
     ]
    },
    {
     "data": {
      "text/html": [
       "<pre style=\"white-space:pre;overflow-x:auto;line-height:normal;font-family:Menlo,'DejaVu Sans Mono',consolas,'Courier New',monospace\"></pre>\n"
      ],
      "text/plain": []
     },
     "metadata": {},
     "output_type": "display_data"
    },
    {
     "name": "stderr",
     "output_type": "stream",
     "text": [
      " 50%|█████████████████▋                 | 51/101 [11:05:21<10:53:34, 784.29s/it]"
     ]
    },
    {
     "data": {
      "text/html": [
       "<pre style=\"white-space:pre;overflow-x:auto;line-height:normal;font-family:Menlo,'DejaVu Sans Mono',consolas,'Courier New',monospace\"></pre>\n"
      ],
      "text/plain": []
     },
     "metadata": {},
     "output_type": "display_data"
    },
    {
     "name": "stderr",
     "output_type": "stream",
     "text": [
      " 51%|██████████████████                 | 52/101 [11:18:24<10:40:08, 783.85s/it]"
     ]
    },
    {
     "data": {
      "text/html": [
       "<pre style=\"white-space:pre;overflow-x:auto;line-height:normal;font-family:Menlo,'DejaVu Sans Mono',consolas,'Courier New',monospace\"></pre>\n"
      ],
      "text/plain": []
     },
     "metadata": {},
     "output_type": "display_data"
    },
    {
     "name": "stderr",
     "output_type": "stream",
     "text": [
      " 52%|██████████████████▎                | 53/101 [11:31:27<10:26:51, 783.57s/it]"
     ]
    },
    {
     "data": {
      "text/html": [
       "<pre style=\"white-space:pre;overflow-x:auto;line-height:normal;font-family:Menlo,'DejaVu Sans Mono',consolas,'Courier New',monospace\"></pre>\n"
      ],
      "text/plain": []
     },
     "metadata": {},
     "output_type": "display_data"
    },
    {
     "name": "stderr",
     "output_type": "stream",
     "text": [
      " 53%|██████████████████▋                | 54/101 [11:44:31<10:13:52, 783.67s/it]"
     ]
    },
    {
     "data": {
      "text/html": [
       "<pre style=\"white-space:pre;overflow-x:auto;line-height:normal;font-family:Menlo,'DejaVu Sans Mono',consolas,'Courier New',monospace\"></pre>\n"
      ],
      "text/plain": []
     },
     "metadata": {},
     "output_type": "display_data"
    },
    {
     "name": "stderr",
     "output_type": "stream",
     "text": [
      " 54%|███████████████████                | 55/101 [11:57:38<10:01:32, 784.62s/it]"
     ]
    },
    {
     "data": {
      "text/html": [
       "<pre style=\"white-space:pre;overflow-x:auto;line-height:normal;font-family:Menlo,'DejaVu Sans Mono',consolas,'Courier New',monospace\"></pre>\n"
      ],
      "text/plain": []
     },
     "metadata": {},
     "output_type": "display_data"
    },
    {
     "name": "stderr",
     "output_type": "stream",
     "text": [
      " 55%|███████████████████▉                | 56/101 [12:10:43<9:48:33, 784.74s/it]"
     ]
    },
    {
     "data": {
      "text/html": [
       "<pre style=\"white-space:pre;overflow-x:auto;line-height:normal;font-family:Menlo,'DejaVu Sans Mono',consolas,'Courier New',monospace\"></pre>\n"
      ],
      "text/plain": []
     },
     "metadata": {},
     "output_type": "display_data"
    },
    {
     "name": "stderr",
     "output_type": "stream",
     "text": [
      " 56%|████████████████████▎               | 57/101 [12:23:45<9:34:51, 783.90s/it]"
     ]
    },
    {
     "data": {
      "text/html": [
       "<pre style=\"white-space:pre;overflow-x:auto;line-height:normal;font-family:Menlo,'DejaVu Sans Mono',consolas,'Courier New',monospace\"></pre>\n"
      ],
      "text/plain": []
     },
     "metadata": {},
     "output_type": "display_data"
    },
    {
     "name": "stderr",
     "output_type": "stream",
     "text": [
      " 57%|████████████████████▋               | 58/101 [12:36:47<9:21:30, 783.50s/it]"
     ]
    },
    {
     "data": {
      "text/html": [
       "<pre style=\"white-space:pre;overflow-x:auto;line-height:normal;font-family:Menlo,'DejaVu Sans Mono',consolas,'Courier New',monospace\"></pre>\n"
      ],
      "text/plain": []
     },
     "metadata": {},
     "output_type": "display_data"
    },
    {
     "name": "stderr",
     "output_type": "stream",
     "text": [
      " 58%|█████████████████████               | 59/101 [12:49:50<9:08:22, 783.39s/it]"
     ]
    },
    {
     "data": {
      "text/html": [
       "<pre style=\"white-space:pre;overflow-x:auto;line-height:normal;font-family:Menlo,'DejaVu Sans Mono',consolas,'Courier New',monospace\"></pre>\n"
      ],
      "text/plain": []
     },
     "metadata": {},
     "output_type": "display_data"
    },
    {
     "name": "stderr",
     "output_type": "stream",
     "text": [
      " 59%|█████████████████████▍              | 60/101 [13:02:53<8:55:16, 783.32s/it]"
     ]
    },
    {
     "data": {
      "text/html": [
       "<pre style=\"white-space:pre;overflow-x:auto;line-height:normal;font-family:Menlo,'DejaVu Sans Mono',consolas,'Courier New',monospace\"></pre>\n"
      ],
      "text/plain": []
     },
     "metadata": {},
     "output_type": "display_data"
    },
    {
     "name": "stderr",
     "output_type": "stream",
     "text": [
      " 60%|█████████████████████▋              | 61/101 [13:16:02<8:43:12, 784.80s/it]"
     ]
    },
    {
     "data": {
      "text/html": [
       "<pre style=\"white-space:pre;overflow-x:auto;line-height:normal;font-family:Menlo,'DejaVu Sans Mono',consolas,'Courier New',monospace\"></pre>\n"
      ],
      "text/plain": []
     },
     "metadata": {},
     "output_type": "display_data"
    },
    {
     "name": "stderr",
     "output_type": "stream",
     "text": [
      " 61%|██████████████████████              | 62/101 [13:29:07<8:30:11, 784.90s/it]"
     ]
    },
    {
     "data": {
      "text/html": [
       "<pre style=\"white-space:pre;overflow-x:auto;line-height:normal;font-family:Menlo,'DejaVu Sans Mono',consolas,'Courier New',monospace\"></pre>\n"
      ],
      "text/plain": []
     },
     "metadata": {},
     "output_type": "display_data"
    },
    {
     "name": "stderr",
     "output_type": "stream",
     "text": [
      " 62%|██████████████████████▍             | 63/101 [13:42:11<8:17:01, 784.79s/it]"
     ]
    },
    {
     "data": {
      "text/html": [
       "<pre style=\"white-space:pre;overflow-x:auto;line-height:normal;font-family:Menlo,'DejaVu Sans Mono',consolas,'Courier New',monospace\"></pre>\n"
      ],
      "text/plain": []
     },
     "metadata": {},
     "output_type": "display_data"
    },
    {
     "name": "stderr",
     "output_type": "stream",
     "text": [
      " 63%|██████████████████████▊             | 64/101 [13:55:09<8:02:36, 782.59s/it]"
     ]
    },
    {
     "data": {
      "text/html": [
       "<pre style=\"white-space:pre;overflow-x:auto;line-height:normal;font-family:Menlo,'DejaVu Sans Mono',consolas,'Courier New',monospace\"></pre>\n"
      ],
      "text/plain": []
     },
     "metadata": {},
     "output_type": "display_data"
    },
    {
     "name": "stderr",
     "output_type": "stream",
     "text": [
      " 64%|███████████████████████▏            | 65/101 [14:07:55<7:46:37, 777.71s/it]"
     ]
    },
    {
     "data": {
      "text/html": [
       "<pre style=\"white-space:pre;overflow-x:auto;line-height:normal;font-family:Menlo,'DejaVu Sans Mono',consolas,'Courier New',monospace\"></pre>\n"
      ],
      "text/plain": []
     },
     "metadata": {},
     "output_type": "display_data"
    },
    {
     "name": "stderr",
     "output_type": "stream",
     "text": [
      " 65%|███████████████████████▌            | 66/101 [14:20:42<7:31:42, 774.36s/it]"
     ]
    },
    {
     "data": {
      "text/html": [
       "<pre style=\"white-space:pre;overflow-x:auto;line-height:normal;font-family:Menlo,'DejaVu Sans Mono',consolas,'Courier New',monospace\"></pre>\n"
      ],
      "text/plain": []
     },
     "metadata": {},
     "output_type": "display_data"
    },
    {
     "name": "stderr",
     "output_type": "stream",
     "text": [
      " 66%|███████████████████████▉            | 67/101 [14:33:29<7:17:33, 772.18s/it]"
     ]
    },
    {
     "data": {
      "text/html": [
       "<pre style=\"white-space:pre;overflow-x:auto;line-height:normal;font-family:Menlo,'DejaVu Sans Mono',consolas,'Courier New',monospace\"></pre>\n"
      ],
      "text/plain": []
     },
     "metadata": {},
     "output_type": "display_data"
    },
    {
     "name": "stderr",
     "output_type": "stream",
     "text": [
      " 67%|████████████████████████▏           | 68/101 [14:46:21<7:04:40, 772.14s/it]"
     ]
    },
    {
     "data": {
      "text/html": [
       "<pre style=\"white-space:pre;overflow-x:auto;line-height:normal;font-family:Menlo,'DejaVu Sans Mono',consolas,'Courier New',monospace\"></pre>\n"
      ],
      "text/plain": []
     },
     "metadata": {},
     "output_type": "display_data"
    },
    {
     "name": "stderr",
     "output_type": "stream",
     "text": [
      " 68%|████████████████████████▌           | 69/101 [14:59:10<6:51:17, 771.18s/it]"
     ]
    },
    {
     "data": {
      "text/html": [
       "<pre style=\"white-space:pre;overflow-x:auto;line-height:normal;font-family:Menlo,'DejaVu Sans Mono',consolas,'Courier New',monospace\"></pre>\n"
      ],
      "text/plain": []
     },
     "metadata": {},
     "output_type": "display_data"
    },
    {
     "name": "stderr",
     "output_type": "stream",
     "text": [
      " 69%|████████████████████████▉           | 70/101 [15:11:57<6:37:48, 769.94s/it]"
     ]
    },
    {
     "data": {
      "text/html": [
       "<pre style=\"white-space:pre;overflow-x:auto;line-height:normal;font-family:Menlo,'DejaVu Sans Mono',consolas,'Courier New',monospace\"></pre>\n"
      ],
      "text/plain": []
     },
     "metadata": {},
     "output_type": "display_data"
    },
    {
     "name": "stderr",
     "output_type": "stream",
     "text": [
      " 70%|█████████████████████████▎          | 71/101 [15:24:49<6:25:21, 770.72s/it]"
     ]
    },
    {
     "data": {
      "text/html": [
       "<pre style=\"white-space:pre;overflow-x:auto;line-height:normal;font-family:Menlo,'DejaVu Sans Mono',consolas,'Courier New',monospace\"></pre>\n"
      ],
      "text/plain": []
     },
     "metadata": {},
     "output_type": "display_data"
    },
    {
     "name": "stderr",
     "output_type": "stream",
     "text": [
      " 71%|█████████████████████████▋          | 72/101 [15:37:34<6:11:41, 769.02s/it]"
     ]
    },
    {
     "data": {
      "text/html": [
       "<pre style=\"white-space:pre;overflow-x:auto;line-height:normal;font-family:Menlo,'DejaVu Sans Mono',consolas,'Courier New',monospace\"></pre>\n"
      ],
      "text/plain": []
     },
     "metadata": {},
     "output_type": "display_data"
    },
    {
     "name": "stderr",
     "output_type": "stream",
     "text": [
      " 72%|██████████████████████████          | 73/101 [15:50:27<5:59:25, 770.19s/it]"
     ]
    },
    {
     "data": {
      "text/html": [
       "<pre style=\"white-space:pre;overflow-x:auto;line-height:normal;font-family:Menlo,'DejaVu Sans Mono',consolas,'Courier New',monospace\"></pre>\n"
      ],
      "text/plain": []
     },
     "metadata": {},
     "output_type": "display_data"
    },
    {
     "name": "stderr",
     "output_type": "stream",
     "text": [
      " 73%|██████████████████████████▍         | 74/101 [16:03:16<5:46:24, 769.78s/it]"
     ]
    },
    {
     "data": {
      "text/html": [
       "<pre style=\"white-space:pre;overflow-x:auto;line-height:normal;font-family:Menlo,'DejaVu Sans Mono',consolas,'Courier New',monospace\"></pre>\n"
      ],
      "text/plain": []
     },
     "metadata": {},
     "output_type": "display_data"
    },
    {
     "name": "stderr",
     "output_type": "stream",
     "text": [
      " 74%|██████████████████████████▋         | 75/101 [16:16:06<5:33:32, 769.72s/it]"
     ]
    },
    {
     "data": {
      "text/html": [
       "<pre style=\"white-space:pre;overflow-x:auto;line-height:normal;font-family:Menlo,'DejaVu Sans Mono',consolas,'Courier New',monospace\"></pre>\n"
      ],
      "text/plain": []
     },
     "metadata": {},
     "output_type": "display_data"
    },
    {
     "name": "stderr",
     "output_type": "stream",
     "text": [
      " 75%|███████████████████████████         | 76/101 [16:28:53<5:20:22, 768.91s/it]"
     ]
    },
    {
     "data": {
      "text/html": [
       "<pre style=\"white-space:pre;overflow-x:auto;line-height:normal;font-family:Menlo,'DejaVu Sans Mono',consolas,'Courier New',monospace\"></pre>\n"
      ],
      "text/plain": []
     },
     "metadata": {},
     "output_type": "display_data"
    },
    {
     "name": "stderr",
     "output_type": "stream",
     "text": [
      " 76%|███████████████████████████▍        | 77/101 [16:41:41<5:07:29, 768.73s/it]"
     ]
    },
    {
     "data": {
      "text/html": [
       "<pre style=\"white-space:pre;overflow-x:auto;line-height:normal;font-family:Menlo,'DejaVu Sans Mono',consolas,'Courier New',monospace\"></pre>\n"
      ],
      "text/plain": []
     },
     "metadata": {},
     "output_type": "display_data"
    },
    {
     "name": "stderr",
     "output_type": "stream",
     "text": [
      " 77%|███████████████████████████▊        | 78/101 [16:54:28<4:54:26, 768.10s/it]"
     ]
    },
    {
     "data": {
      "text/html": [
       "<pre style=\"white-space:pre;overflow-x:auto;line-height:normal;font-family:Menlo,'DejaVu Sans Mono',consolas,'Courier New',monospace\"></pre>\n"
      ],
      "text/plain": []
     },
     "metadata": {},
     "output_type": "display_data"
    },
    {
     "name": "stderr",
     "output_type": "stream",
     "text": [
      " 78%|████████████████████████████▏       | 79/101 [17:07:14<4:41:27, 767.59s/it]"
     ]
    },
    {
     "data": {
      "text/html": [
       "<pre style=\"white-space:pre;overflow-x:auto;line-height:normal;font-family:Menlo,'DejaVu Sans Mono',consolas,'Courier New',monospace\"></pre>\n"
      ],
      "text/plain": []
     },
     "metadata": {},
     "output_type": "display_data"
    },
    {
     "name": "stderr",
     "output_type": "stream",
     "text": [
      " 79%|████████████████████████████▌       | 80/101 [17:20:02<4:28:43, 767.80s/it]"
     ]
    },
    {
     "data": {
      "text/html": [
       "<pre style=\"white-space:pre;overflow-x:auto;line-height:normal;font-family:Menlo,'DejaVu Sans Mono',consolas,'Courier New',monospace\"></pre>\n"
      ],
      "text/plain": []
     },
     "metadata": {},
     "output_type": "display_data"
    },
    {
     "name": "stderr",
     "output_type": "stream",
     "text": [
      " 80%|████████████████████████████▊       | 81/101 [17:32:51<4:15:59, 767.95s/it]"
     ]
    },
    {
     "data": {
      "text/html": [
       "<pre style=\"white-space:pre;overflow-x:auto;line-height:normal;font-family:Menlo,'DejaVu Sans Mono',consolas,'Courier New',monospace\"></pre>\n"
      ],
      "text/plain": []
     },
     "metadata": {},
     "output_type": "display_data"
    },
    {
     "name": "stderr",
     "output_type": "stream",
     "text": [
      " 81%|█████████████████████████████▏      | 82/101 [17:45:38<4:03:07, 767.77s/it]"
     ]
    },
    {
     "data": {
      "text/html": [
       "<pre style=\"white-space:pre;overflow-x:auto;line-height:normal;font-family:Menlo,'DejaVu Sans Mono',consolas,'Courier New',monospace\"></pre>\n"
      ],
      "text/plain": []
     },
     "metadata": {},
     "output_type": "display_data"
    },
    {
     "name": "stderr",
     "output_type": "stream",
     "text": [
      " 82%|█████████████████████████████▌      | 83/101 [17:58:29<3:50:36, 768.67s/it]"
     ]
    },
    {
     "data": {
      "text/html": [
       "<pre style=\"white-space:pre;overflow-x:auto;line-height:normal;font-family:Menlo,'DejaVu Sans Mono',consolas,'Courier New',monospace\"></pre>\n"
      ],
      "text/plain": []
     },
     "metadata": {},
     "output_type": "display_data"
    },
    {
     "name": "stderr",
     "output_type": "stream",
     "text": [
      " 83%|█████████████████████████████▉      | 84/101 [18:11:19<3:37:53, 769.04s/it]"
     ]
    },
    {
     "data": {
      "text/html": [
       "<pre style=\"white-space:pre;overflow-x:auto;line-height:normal;font-family:Menlo,'DejaVu Sans Mono',consolas,'Courier New',monospace\"></pre>\n"
      ],
      "text/plain": []
     },
     "metadata": {},
     "output_type": "display_data"
    },
    {
     "name": "stderr",
     "output_type": "stream",
     "text": [
      " 84%|██████████████████████████████▎     | 85/101 [18:24:07<3:25:01, 768.87s/it]"
     ]
    },
    {
     "data": {
      "text/html": [
       "<pre style=\"white-space:pre;overflow-x:auto;line-height:normal;font-family:Menlo,'DejaVu Sans Mono',consolas,'Courier New',monospace\"></pre>\n"
      ],
      "text/plain": []
     },
     "metadata": {},
     "output_type": "display_data"
    },
    {
     "name": "stderr",
     "output_type": "stream",
     "text": [
      " 85%|██████████████████████████████▋     | 86/101 [18:36:55<3:12:08, 768.59s/it]"
     ]
    },
    {
     "data": {
      "text/html": [
       "<pre style=\"white-space:pre;overflow-x:auto;line-height:normal;font-family:Menlo,'DejaVu Sans Mono',consolas,'Courier New',monospace\"></pre>\n"
      ],
      "text/plain": []
     },
     "metadata": {},
     "output_type": "display_data"
    },
    {
     "name": "stderr",
     "output_type": "stream",
     "text": [
      " 86%|███████████████████████████████     | 87/101 [18:49:44<2:59:21, 768.67s/it]"
     ]
    },
    {
     "data": {
      "text/html": [
       "<pre style=\"white-space:pre;overflow-x:auto;line-height:normal;font-family:Menlo,'DejaVu Sans Mono',consolas,'Courier New',monospace\"></pre>\n"
      ],
      "text/plain": []
     },
     "metadata": {},
     "output_type": "display_data"
    },
    {
     "name": "stderr",
     "output_type": "stream",
     "text": [
      " 87%|███████████████████████████████▎    | 88/101 [19:02:31<2:46:27, 768.27s/it]"
     ]
    },
    {
     "data": {
      "text/html": [
       "<pre style=\"white-space:pre;overflow-x:auto;line-height:normal;font-family:Menlo,'DejaVu Sans Mono',consolas,'Courier New',monospace\"></pre>\n"
      ],
      "text/plain": []
     },
     "metadata": {},
     "output_type": "display_data"
    },
    {
     "name": "stderr",
     "output_type": "stream",
     "text": [
      " 88%|███████████████████████████████▋    | 89/101 [19:15:19<2:33:37, 768.09s/it]"
     ]
    },
    {
     "data": {
      "text/html": [
       "<pre style=\"white-space:pre;overflow-x:auto;line-height:normal;font-family:Menlo,'DejaVu Sans Mono',consolas,'Courier New',monospace\"></pre>\n"
      ],
      "text/plain": []
     },
     "metadata": {},
     "output_type": "display_data"
    },
    {
     "name": "stderr",
     "output_type": "stream",
     "text": [
      " 89%|████████████████████████████████    | 90/101 [19:28:05<2:20:41, 767.44s/it]"
     ]
    },
    {
     "data": {
      "text/html": [
       "<pre style=\"white-space:pre;overflow-x:auto;line-height:normal;font-family:Menlo,'DejaVu Sans Mono',consolas,'Courier New',monospace\"></pre>\n"
      ],
      "text/plain": []
     },
     "metadata": {},
     "output_type": "display_data"
    },
    {
     "name": "stderr",
     "output_type": "stream",
     "text": [
      " 90%|████████████████████████████████▍   | 91/101 [19:40:51<2:07:51, 767.11s/it]"
     ]
    },
    {
     "data": {
      "text/html": [
       "<pre style=\"white-space:pre;overflow-x:auto;line-height:normal;font-family:Menlo,'DejaVu Sans Mono',consolas,'Courier New',monospace\"></pre>\n"
      ],
      "text/plain": []
     },
     "metadata": {},
     "output_type": "display_data"
    },
    {
     "name": "stderr",
     "output_type": "stream",
     "text": [
      " 91%|████████████████████████████████▊   | 92/101 [19:53:39<1:55:04, 767.16s/it]"
     ]
    },
    {
     "data": {
      "text/html": [
       "<pre style=\"white-space:pre;overflow-x:auto;line-height:normal;font-family:Menlo,'DejaVu Sans Mono',consolas,'Courier New',monospace\"></pre>\n"
      ],
      "text/plain": []
     },
     "metadata": {},
     "output_type": "display_data"
    },
    {
     "name": "stderr",
     "output_type": "stream",
     "text": [
      " 92%|█████████████████████████████████▏  | 93/101 [20:06:26<1:42:18, 767.26s/it]"
     ]
    },
    {
     "data": {
      "text/html": [
       "<pre style=\"white-space:pre;overflow-x:auto;line-height:normal;font-family:Menlo,'DejaVu Sans Mono',consolas,'Courier New',monospace\"></pre>\n"
      ],
      "text/plain": []
     },
     "metadata": {},
     "output_type": "display_data"
    },
    {
     "name": "stderr",
     "output_type": "stream",
     "text": [
      " 93%|█████████████████████████████████▌  | 94/101 [20:19:13<1:29:29, 767.14s/it]"
     ]
    },
    {
     "data": {
      "text/html": [
       "<pre style=\"white-space:pre;overflow-x:auto;line-height:normal;font-family:Menlo,'DejaVu Sans Mono',consolas,'Courier New',monospace\"></pre>\n"
      ],
      "text/plain": []
     },
     "metadata": {},
     "output_type": "display_data"
    },
    {
     "name": "stderr",
     "output_type": "stream",
     "text": [
      " 94%|█████████████████████████████████▊  | 95/101 [20:32:00<1:16:41, 766.99s/it]"
     ]
    },
    {
     "data": {
      "text/html": [
       "<pre style=\"white-space:pre;overflow-x:auto;line-height:normal;font-family:Menlo,'DejaVu Sans Mono',consolas,'Courier New',monospace\"></pre>\n"
      ],
      "text/plain": []
     },
     "metadata": {},
     "output_type": "display_data"
    },
    {
     "name": "stderr",
     "output_type": "stream",
     "text": [
      " 95%|██████████████████████████████████▏ | 96/101 [20:44:45<1:03:53, 766.68s/it]"
     ]
    },
    {
     "data": {
      "text/html": [
       "<pre style=\"white-space:pre;overflow-x:auto;line-height:normal;font-family:Menlo,'DejaVu Sans Mono',consolas,'Courier New',monospace\"></pre>\n"
      ],
      "text/plain": []
     },
     "metadata": {},
     "output_type": "display_data"
    },
    {
     "name": "stderr",
     "output_type": "stream",
     "text": [
      " 96%|████████████████████████████████████▍ | 97/101 [20:57:32<51:06, 766.73s/it]"
     ]
    },
    {
     "data": {
      "text/html": [
       "<pre style=\"white-space:pre;overflow-x:auto;line-height:normal;font-family:Menlo,'DejaVu Sans Mono',consolas,'Courier New',monospace\"></pre>\n"
      ],
      "text/plain": []
     },
     "metadata": {},
     "output_type": "display_data"
    },
    {
     "name": "stderr",
     "output_type": "stream",
     "text": [
      " 97%|████████████████████████████████████▊ | 98/101 [21:10:20<38:20, 766.89s/it]"
     ]
    },
    {
     "data": {
      "text/html": [
       "<pre style=\"white-space:pre;overflow-x:auto;line-height:normal;font-family:Menlo,'DejaVu Sans Mono',consolas,'Courier New',monospace\"></pre>\n"
      ],
      "text/plain": []
     },
     "metadata": {},
     "output_type": "display_data"
    },
    {
     "name": "stderr",
     "output_type": "stream",
     "text": [
      " 98%|█████████████████████████████████████▏| 99/101 [21:23:06<25:33, 766.83s/it]"
     ]
    },
    {
     "data": {
      "text/html": [
       "<pre style=\"white-space:pre;overflow-x:auto;line-height:normal;font-family:Menlo,'DejaVu Sans Mono',consolas,'Courier New',monospace\"></pre>\n"
      ],
      "text/plain": []
     },
     "metadata": {},
     "output_type": "display_data"
    },
    {
     "name": "stderr",
     "output_type": "stream",
     "text": [
      " 99%|████████████████████████████████████▋| 100/101 [21:35:54<12:47, 767.23s/it]"
     ]
    },
    {
     "data": {
      "text/html": [
       "<pre style=\"white-space:pre;overflow-x:auto;line-height:normal;font-family:Menlo,'DejaVu Sans Mono',consolas,'Courier New',monospace\"></pre>\n"
      ],
      "text/plain": []
     },
     "metadata": {},
     "output_type": "display_data"
    },
    {
     "name": "stderr",
     "output_type": "stream",
     "text": [
      "100%|█████████████████████████████████████| 101/101 [21:48:43<00:00, 777.46s/it]\n"
     ]
    }
   ],
   "source": [
    "import os\n",
    "import pandas as pd\n",
    "from tqdm import tqdm\n",
    "import matplotlib.pyplot as plt\n",
    "import seaborn as sns\n",
    "\n",
    "# Define the output directory and subdirectories\n",
    "output_dir = 'Default_AE_BS_512_Default_Data/AE_Training_1'\n",
    "subfolders = {\n",
    "    'AE_Latent_Space_Data_TXT': os.path.join(output_dir, 'AE_Latent_Space_Data_TXT'),\n",
    "    'AE_Training_Loss_Data': os.path.join(output_dir, 'AE_Training_Loss_Data'),\n",
    "    'AE_Training_Loss_Graphs': os.path.join(output_dir, 'AE_Training_Loss_Graphs'),\n",
    "    'AE_Latent_Space_Graphs': os.path.join(output_dir, 'AE_Latent_Space_Graphs'),\n",
    "    'AE_Latent_Space_Data_PKL': os.path.join(output_dir, 'AE_Latent_Space_Data_PKL'),\n",
    "    'models': os.path.join(output_dir, 'models'),\n",
    "}\n",
    "\n",
    "# Create all subdirectories\n",
    "for folder in subfolders.values():\n",
    "    os.makedirs(folder, exist_ok=True)\n",
    "\n",
    "# Initialize the autoencoder with the loaded training data\n",
    "autoencoder = AE_Model(X_train_loaded)\n",
    "\n",
    "# Training loop\n",
    "for counts in tqdm(range(101)):\n",
    "    name = \"Autoencoder_Training\"\n",
    "\n",
    "    # Save the latent space predictions log\n",
    "    txt_file_path = os.path.join(subfolders['AE_Latent_Space_Data_TXT'], f\"{counts}_Latent_Space_Predictions_Log.txt\")\n",
    "    with open(txt_file_path, \"w\") as file:\n",
    "        # Train the model\n",
    "        history = autoencoder.fit(\n",
    "            X_train_loaded, X_train_loaded,\n",
    "            epochs=1000,\n",
    "            validation_data=(X_valid_loaded, X_valid_loaded),\n",
    "            verbose=0\n",
    "        )\n",
    "\n",
    "        # Save training loss history\n",
    "        training_history = pd.DataFrame(history.history)\n",
    "        history_file_path = os.path.join(subfolders['AE_Training_Loss_Data'], f\"{counts}_{name}_History.pkl\")\n",
    "        training_history.to_pickle(history_file_path)\n",
    "\n",
    "        # Save training loss graph\n",
    "        plt.plot(training_history)\n",
    "        graph_file_path = os.path.join(subfolders['AE_Training_Loss_Graphs'], f\"{counts}_{name}_History.png\")\n",
    "        plt.savefig(graph_file_path, dpi=300)\n",
    "        plt.clf()\n",
    "        plt.close()\n",
    "\n",
    "        # Define the latent space model\n",
    "        dr_model = tf.keras.models.Model(\n",
    "            inputs=autoencoder.input,\n",
    "            outputs=autoencoder.get_layer('ae_latent').output\n",
    "        )\n",
    "        dr_model.summary(print_fn=lambda x: file.write(x + '\\n'))\n",
    "\n",
    "        # Initialize latent space variables\n",
    "        x, y, z, indices = [], [], [], []\n",
    "\n",
    "        # Process validation data in batches\n",
    "        batch_size = 32\n",
    "        for batch_start in range(0, len(X_valid_loaded), batch_size):\n",
    "            batch_end = min(batch_start + batch_size, len(X_valid_loaded))\n",
    "            X_batch = np.array(X_valid_loaded.iloc[batch_start:batch_end])\n",
    "            y_batch = y_valid_loaded.iloc[batch_start:batch_end].values.flatten()\n",
    "\n",
    "            # Predict latent space values\n",
    "            op_batch = dr_model.predict(X_batch, verbose=0)\n",
    "            for i, op in enumerate(op_batch):\n",
    "                z.append(y_batch[i])\n",
    "                x.append(op[0])\n",
    "                y.append(op[1])\n",
    "                indices.append(y_valid_loaded.index[batch_start + i])\n",
    "                file.write(f\"Prediction {batch_start + i}: {op}\\n\")\n",
    "\n",
    "        # Save latent space scatter plot\n",
    "        df = pd.DataFrame({'x': x, 'y': y, 'z': [f\"trajectory-{k}\" for k in z], 'index': indices})\n",
    "        plt.figure(figsize=(8, 6))\n",
    "        sns.scatterplot(x='x', y='y', hue='z', data=df, s=10)\n",
    "        scatter_file_path = os.path.join(subfolders['AE_Latent_Space_Graphs'], f\"{counts}_Latent_Space.png\")\n",
    "        plt.savefig(scatter_file_path, dpi=300)\n",
    "        plt.clf()\n",
    "        plt.close()\n",
    "\n",
    "        # Save latent space data as pickle\n",
    "        pkl_file_path = os.path.join(subfolders['AE_Latent_Space_Data_PKL'], f\"{counts}_Latent_Space.pkl\")\n",
    "        df.to_pickle(pkl_file_path)\n",
    "\n",
    "        # Save the model\n",
    "        model_file_path = os.path.join(subfolders['models'], f\"saved_model_{counts}.keras\")\n",
    "        save_model(autoencoder, model_file_path)"
   ]
  },
  {
   "cell_type": "markdown",
   "id": "e4ba32d1-9606-4757-8aa9-0d55911b7014",
   "metadata": {},
   "source": [
    "# 8 Layer AE"
   ]
  },
  {
   "cell_type": "markdown",
   "id": "6455a6d3-12c9-48d9-b6cd-2be1bd616650",
   "metadata": {},
   "source": [
    "# Model 1"
   ]
  },
  {
   "cell_type": "code",
   "execution_count": null,
   "id": "c4c4ce11-6c78-4eaa-aefa-de76b5120048",
   "metadata": {},
   "outputs": [],
   "source": [
    "# Save the model using the recommended Keras format\n",
    "def save_model(model, model_path):\n",
    "    if not model_path.endswith('.keras'):\n",
    "        model_path += '.keras'\n",
    "    model.save(model_path)\n",
    "    \n",
    "# Load the model\n",
    "def load_existing_model(model_path):\n",
    "    return load_model(model_path)"
   ]
  },
  {
   "cell_type": "code",
   "execution_count": null,
   "id": "08818a19-167b-4731-9209-002591fada9f",
   "metadata": {},
   "outputs": [],
   "source": [
    "# Get autoencoder model\n",
    "def AE_Model(train_data, LeReLU_alpha=0.01, batch_size=256):\n",
    "    \n",
    "    input_layer = Input(shape=(train_data.shape[1],), name='ae_input')\n",
    "\n",
    "    encoder = Dense(4096, activation=LeakyReLU(negative_slope=LeReLU_alpha), name='e1')(input_layer)\n",
    "    encoder = Dense(2048, activation=LeakyReLU(negative_slope=LeReLU_alpha), name='e2')(encoder)\n",
    "    encoder = Dense(1024, activation=LeakyReLU(negative_slope=LeReLU_alpha), name='e3')(encoder)\n",
    "    encoder = Dense(512, activation=LeakyReLU(negative_slope=LeReLU_alpha), name='e4')(encoder)\n",
    "    encoder = Dense(256, activation=LeakyReLU(negative_slope=LeReLU_alpha), name='e5')(encoder)\n",
    "    encoder = Dense(128, activation=LeakyReLU(negative_slope=LeReLU_alpha), name='e6')(encoder)\n",
    "    encoder = Dense(64, activation=LeakyReLU(negative_slope=LeReLU_alpha), name='e7')(encoder)\n",
    "    encoder = Dense(32, activation=LeakyReLU(negative_slope=LeReLU_alpha), name='e8')(encoder)\n",
    "\n",
    "    encoded = Dense(2, activation='linear', name='ae_latent')(encoder)\n",
    "    \n",
    "    decoder = Dense(32, activation=LeakyReLU(negative_slope=LeReLU_alpha), name='d8')(encoded)\n",
    "    decoder = Dense(64, activation=LeakyReLU(negative_slope=LeReLU_alpha), name='d7')(decoder)\n",
    "    decoder = Dense(128, activation=LeakyReLU(negative_slope=LeReLU_alpha), name='d6')(decoder)\n",
    "    decoder = Dense(256, activation=LeakyReLU(negative_slope=LeReLU_alpha), name='d5')(decoder)\n",
    "    decoder = Dense(512, activation=LeakyReLU(negative_slope=LeReLU_alpha), name='d4')(decoder)\n",
    "    decoder = Dense(1024, activation=LeakyReLU(negative_slope=LeReLU_alpha), name='d3')(decoder)\n",
    "    decoder = Dense(2048, activation=LeakyReLU(negative_slope=LeReLU_alpha), name='d2')(decoder)\n",
    "    decoder = Dense(4096, activation=LeakyReLU(negative_slope=LeReLU_alpha), name='d1')(decoder)\n",
    "    \n",
    "\n",
    "    output_layer = Dense(train_data.shape[1], activation='linear', name='ae_output')(decoder)\n",
    "    \n",
    "    model = Model(inputs=input_layer, outputs=output_layer)\n",
    "    model.compile(optimizer=Adam(learning_rate=1e-5), loss=MeanSquaredError())\n",
    "    \n",
    "    model.summary()\n",
    "    \n",
    "    return model"
   ]
  },
  {
   "cell_type": "code",
   "execution_count": null,
   "id": "b601a555-f477-467f-b247-fcdce6a642eb",
   "metadata": {},
   "outputs": [],
   "source": [
    "def load_datasets(fold, base_folder):\n",
    "    \"\"\"\n",
    "    Load datasets for a specific fold.\n",
    "    \"\"\"\n",
    "    folder_name = os.path.join(base_folder, f'Training_Set_{fold}')\n",
    "    \n",
    "    X_train = pd.read_csv(os.path.join(folder_name, 'X_train_f.csv'), index_col=0)\n",
    "    y_train = pd.read_csv(os.path.join(folder_name, 'y_train_f.csv'), index_col=0)\n",
    "    X_valid = pd.read_csv(os.path.join(folder_name, 'X_valid_f.csv'), index_col=0)\n",
    "    y_valid = pd.read_csv(os.path.join(folder_name, 'y_valid_f.csv'), index_col=0)\n",
    "    \n",
    "    return X_train, y_train, X_valid, y_valid\n",
    "\n",
    "base_folder = \"AE_Data/Unfiltered_Shuffled_Compaction_Data\"\n",
    "X_train_loaded, y_train_loaded, X_valid_loaded, y_valid_loaded = load_datasets(fold=1, base_folder=base_folder)"
   ]
  },
  {
   "cell_type": "code",
   "execution_count": null,
   "id": "004c0025-3e42-40df-b65f-ba3b6ee50f09",
   "metadata": {},
   "outputs": [],
   "source": [
    "import os\n",
    "import pandas as pd\n",
    "from tqdm import tqdm\n",
    "import matplotlib.pyplot as plt\n",
    "import seaborn as sns\n",
    "\n",
    "# Define the output directory and subdirectories\n",
    "output_dir = '8_Layer_AE_Default_Data/AE_Training_1'\n",
    "subfolders = {\n",
    "    'AE_Latent_Space_Data_TXT': os.path.join(output_dir, 'AE_Latent_Space_Data_TXT'),\n",
    "    'AE_Training_Loss_Data': os.path.join(output_dir, 'AE_Training_Loss_Data'),\n",
    "    'AE_Training_Loss_Graphs': os.path.join(output_dir, 'AE_Training_Loss_Graphs'),\n",
    "    'AE_Latent_Space_Graphs': os.path.join(output_dir, 'AE_Latent_Space_Graphs'),\n",
    "    'AE_Latent_Space_Data_PKL': os.path.join(output_dir, 'AE_Latent_Space_Data_PKL'),\n",
    "    'models': os.path.join(output_dir, 'models'),\n",
    "}\n",
    "\n",
    "# Create all subdirectories\n",
    "for folder in subfolders.values():\n",
    "    os.makedirs(folder, exist_ok=True)\n",
    "\n",
    "# Initialize the autoencoder with the loaded training data\n",
    "autoencoder = AE_Model(X_train_loaded)\n",
    "\n",
    "# Training loop\n",
    "for counts in tqdm(range(20)):\n",
    "    name = \"Autoencoder_Training\"\n",
    "\n",
    "    # Save the latent space predictions log\n",
    "    txt_file_path = os.path.join(subfolders['AE_Latent_Space_Data_TXT'], f\"{counts}_Latent_Space_Predictions_Log.txt\")\n",
    "    with open(txt_file_path, \"w\") as file:\n",
    "        # Train the model\n",
    "        history = autoencoder.fit(\n",
    "            X_train_loaded, X_train_loaded,\n",
    "            epochs=1000,\n",
    "            validation_data=(X_valid_loaded, X_valid_loaded),\n",
    "            verbose=0\n",
    "        )\n",
    "\n",
    "        # Save training loss history\n",
    "        training_history = pd.DataFrame(history.history)\n",
    "        history_file_path = os.path.join(subfolders['AE_Training_Loss_Data'], f\"{counts}_{name}_History.pkl\")\n",
    "        training_history.to_pickle(history_file_path)\n",
    "\n",
    "        # Save training loss graph\n",
    "        plt.plot(training_history)\n",
    "        graph_file_path = os.path.join(subfolders['AE_Training_Loss_Graphs'], f\"{counts}_{name}_History.png\")\n",
    "        plt.savefig(graph_file_path, dpi=300)\n",
    "        plt.clf()\n",
    "        plt.close()\n",
    "\n",
    "        # Define the latent space model\n",
    "        dr_model = tf.keras.models.Model(\n",
    "            inputs=autoencoder.input,\n",
    "            outputs=autoencoder.get_layer('ae_latent').output\n",
    "        )\n",
    "        dr_model.summary(print_fn=lambda x: file.write(x + '\\n'))\n",
    "\n",
    "        # Initialize latent space variables\n",
    "        x, y, z, indices = [], [], [], []\n",
    "\n",
    "        # Process validation data in batches\n",
    "        batch_size = 32\n",
    "        for batch_start in range(0, len(X_valid_loaded), batch_size):\n",
    "            batch_end = min(batch_start + batch_size, len(X_valid_loaded))\n",
    "            X_batch = np.array(X_valid_loaded.iloc[batch_start:batch_end])\n",
    "            y_batch = y_valid_loaded.iloc[batch_start:batch_end].values.flatten()\n",
    "\n",
    "            # Predict latent space values\n",
    "            op_batch = dr_model.predict(X_batch, verbose=0)\n",
    "            for i, op in enumerate(op_batch):\n",
    "                z.append(y_batch[i])\n",
    "                x.append(op[0])\n",
    "                y.append(op[1])\n",
    "                indices.append(y_valid_loaded.index[batch_start + i])\n",
    "                file.write(f\"Prediction {batch_start + i}: {op}\\n\")\n",
    "\n",
    "        # Save latent space scatter plot\n",
    "        df = pd.DataFrame({'x': x, 'y': y, 'z': [f\"trajectory-{k}\" for k in z], 'index': indices})\n",
    "        plt.figure(figsize=(8, 6))\n",
    "        sns.scatterplot(x='x', y='y', hue='z', data=df, s=10)\n",
    "        scatter_file_path = os.path.join(subfolders['AE_Latent_Space_Graphs'], f\"{counts}_Latent_Space.png\")\n",
    "        plt.savefig(scatter_file_path, dpi=300)\n",
    "        plt.clf()\n",
    "        plt.close()\n",
    "\n",
    "        # Save latent space data as pickle\n",
    "        pkl_file_path = os.path.join(subfolders['AE_Latent_Space_Data_PKL'], f\"{counts}_Latent_Space.pkl\")\n",
    "        df.to_pickle(pkl_file_path)\n",
    "\n",
    "        # Save the model\n",
    "        model_file_path = os.path.join(subfolders['models'], f\"saved_model_{counts}.keras\")\n",
    "        save_model(autoencoder, model_file_path)"
   ]
  },
  {
   "cell_type": "markdown",
   "id": "c03a2a3d-1313-4aa1-913f-acc738c0f7df",
   "metadata": {},
   "source": [
    "# 7 Layer AE"
   ]
  },
  {
   "cell_type": "markdown",
   "id": "cbce683a-bcf6-48cb-9c62-5894b354ddbe",
   "metadata": {
    "jp-MarkdownHeadingCollapsed": true
   },
   "source": [
    "# Model 1"
   ]
  },
  {
   "cell_type": "code",
   "execution_count": null,
   "id": "239e2882-b586-428e-87a4-b4b315fddd4b",
   "metadata": {},
   "outputs": [],
   "source": [
    "# Save the model using the recommended Keras format\n",
    "def save_model(model, model_path):\n",
    "    if not model_path.endswith('.keras'):\n",
    "        model_path += '.keras'\n",
    "    model.save(model_path)\n",
    "    \n",
    "# Load the model\n",
    "def load_existing_model(model_path):\n",
    "    return load_model(model_path)"
   ]
  },
  {
   "cell_type": "code",
   "execution_count": null,
   "id": "ad8f3ea9-8a3c-4081-b650-2e66168b8125",
   "metadata": {},
   "outputs": [],
   "source": [
    "# Get autoencoder model\n",
    "def AE_Model(train_data, LeReLU_alpha=0.01, batch_size=256):\n",
    "    \n",
    "    input_layer = Input(shape=(train_data.shape[1],), name='ae_input')\n",
    "\n",
    "    encoder = Dense(2048, activation=LeakyReLU(negative_slope=LeReLU_alpha), name='e1')(input_layer)\n",
    "    encoder = Dense(1024, activation=LeakyReLU(negative_slope=LeReLU_alpha), name='e2')(encoder)\n",
    "    encoder = Dense(512, activation=LeakyReLU(negative_slope=LeReLU_alpha), name='e3')(encoder)\n",
    "    encoder = Dense(256, activation=LeakyReLU(negative_slope=LeReLU_alpha), name='e4')(encoder)\n",
    "    encoder = Dense(128, activation=LeakyReLU(negative_slope=LeReLU_alpha), name='e5')(encoder)\n",
    "    encoder = Dense(64, activation=LeakyReLU(negative_slope=LeReLU_alpha), name='e6')(encoder)\n",
    "    encoder = Dense(32, activation=LeakyReLU(negative_slope=LeReLU_alpha), name='e7')(encoder)\n",
    "\n",
    "    encoded = Dense(2, activation='linear', name='ae_latent')(encoder)\n",
    "    \n",
    "    decoder = Dense(32, activation=LeakyReLU(negative_slope=LeReLU_alpha), name='d7')(encoded)\n",
    "    decoder = Dense(64, activation=LeakyReLU(negative_slope=LeReLU_alpha), name='d6')(decoder)\n",
    "    decoder = Dense(128, activation=LeakyReLU(negative_slope=LeReLU_alpha), name='d5')(decoder)\n",
    "    decoder = Dense(256, activation=LeakyReLU(negative_slope=LeReLU_alpha), name='d4')(decoder)\n",
    "    decoder = Dense(512, activation=LeakyReLU(negative_slope=LeReLU_alpha), name='d3')(decoder)\n",
    "    decoder = Dense(1024, activation=LeakyReLU(negative_slope=LeReLU_alpha), name='d2')(decoder)\n",
    "    decoder = Dense(2048, activation=LeakyReLU(negative_slope=LeReLU_alpha), name='d1')(decoder)\n",
    "    \n",
    "\n",
    "    output_layer = Dense(train_data.shape[1], activation='linear', name='ae_output')(decoder)\n",
    "    \n",
    "    model = Model(inputs=input_layer, outputs=output_layer)\n",
    "    model.compile(optimizer=Adam(learning_rate=1e-5), loss=MeanSquaredError())\n",
    "    \n",
    "    model.summary()\n",
    "    \n",
    "    return model"
   ]
  },
  {
   "cell_type": "code",
   "execution_count": null,
   "id": "c992df64-3c46-4598-a131-78a1ec14695c",
   "metadata": {},
   "outputs": [],
   "source": [
    "def load_datasets(fold, base_folder):\n",
    "    \"\"\"\n",
    "    Load datasets for a specific fold.\n",
    "    \"\"\"\n",
    "    folder_name = os.path.join(base_folder, f'Training_Set_{fold}')\n",
    "    \n",
    "    X_train = pd.read_csv(os.path.join(folder_name, 'X_train_f.csv'), index_col=0)\n",
    "    y_train = pd.read_csv(os.path.join(folder_name, 'y_train_f.csv'), index_col=0)\n",
    "    X_valid = pd.read_csv(os.path.join(folder_name, 'X_valid_f.csv'), index_col=0)\n",
    "    y_valid = pd.read_csv(os.path.join(folder_name, 'y_valid_f.csv'), index_col=0)\n",
    "    \n",
    "    return X_train, y_train, X_valid, y_valid\n",
    "\n",
    "base_folder = \"AE_Data/Filtered_Shuffled_Compaction_Data\"\n",
    "X_train_loaded, y_train_loaded, X_valid_loaded, y_valid_loaded = load_datasets(fold=1, base_folder=base_folder)"
   ]
  },
  {
   "cell_type": "code",
   "execution_count": null,
   "id": "6a59fe91-967f-4f4c-b987-4220f62910a4",
   "metadata": {},
   "outputs": [],
   "source": [
    "import os\n",
    "import pandas as pd\n",
    "from tqdm import tqdm\n",
    "import matplotlib.pyplot as plt\n",
    "import seaborn as sns\n",
    "\n",
    "# Define the output directory and subdirectories\n",
    "output_dir = '7_Layer_AE_Default_Data/AE_Training_1'\n",
    "subfolders = {\n",
    "    'AE_Latent_Space_Data_TXT': os.path.join(output_dir, 'AE_Latent_Space_Data_TXT'),\n",
    "    'AE_Training_Loss_Data': os.path.join(output_dir, 'AE_Training_Loss_Data'),\n",
    "    'AE_Training_Loss_Graphs': os.path.join(output_dir, 'AE_Training_Loss_Graphs'),\n",
    "    'AE_Latent_Space_Graphs': os.path.join(output_dir, 'AE_Latent_Space_Graphs'),\n",
    "    'AE_Latent_Space_Data_PKL': os.path.join(output_dir, 'AE_Latent_Space_Data_PKL'),\n",
    "    'models': os.path.join(output_dir, 'models'),\n",
    "}\n",
    "\n",
    "# Create all subdirectories\n",
    "for folder in subfolders.values():\n",
    "    os.makedirs(folder, exist_ok=True)\n",
    "\n",
    "# Initialize the autoencoder with the loaded training data\n",
    "autoencoder = AE_Model(X_train_loaded)\n",
    "\n",
    "# Training loop\n",
    "for counts in tqdm(range(101)):\n",
    "    name = \"Autoencoder_Training\"\n",
    "\n",
    "    # Save the latent space predictions log\n",
    "    txt_file_path = os.path.join(subfolders['AE_Latent_Space_Data_TXT'], f\"{counts}_Latent_Space_Predictions_Log.txt\")\n",
    "    with open(txt_file_path, \"w\") as file:\n",
    "        # Train the model\n",
    "        history = autoencoder.fit(\n",
    "            X_train_loaded, X_train_loaded,\n",
    "            epochs=1000,\n",
    "            validation_data=(X_valid_loaded, X_valid_loaded),\n",
    "            verbose=0\n",
    "        )\n",
    "\n",
    "        # Save training loss history\n",
    "        training_history = pd.DataFrame(history.history)\n",
    "        history_file_path = os.path.join(subfolders['AE_Training_Loss_Data'], f\"{counts}_{name}_History.pkl\")\n",
    "        training_history.to_pickle(history_file_path)\n",
    "\n",
    "        # Save training loss graph\n",
    "        plt.plot(training_history)\n",
    "        graph_file_path = os.path.join(subfolders['AE_Training_Loss_Graphs'], f\"{counts}_{name}_History.png\")\n",
    "        plt.savefig(graph_file_path, dpi=300)\n",
    "        plt.clf()\n",
    "        plt.close()\n",
    "\n",
    "        # Define the latent space model\n",
    "        dr_model = tf.keras.models.Model(\n",
    "            inputs=autoencoder.input,\n",
    "            outputs=autoencoder.get_layer('ae_latent').output\n",
    "        )\n",
    "        dr_model.summary(print_fn=lambda x: file.write(x + '\\n'))\n",
    "\n",
    "        # Initialize latent space variables\n",
    "        x, y, z, indices = [], [], [], []\n",
    "\n",
    "        # Process validation data in batches\n",
    "        batch_size = 32\n",
    "        for batch_start in range(0, len(X_valid_loaded), batch_size):\n",
    "            batch_end = min(batch_start + batch_size, len(X_valid_loaded))\n",
    "            X_batch = np.array(X_valid_loaded.iloc[batch_start:batch_end])\n",
    "            y_batch = y_valid_loaded.iloc[batch_start:batch_end].values.flatten()\n",
    "\n",
    "            # Predict latent space values\n",
    "            op_batch = dr_model.predict(X_batch, verbose=0)\n",
    "            for i, op in enumerate(op_batch):\n",
    "                z.append(y_batch[i])\n",
    "                x.append(op[0])\n",
    "                y.append(op[1])\n",
    "                indices.append(y_valid_loaded.index[batch_start + i])\n",
    "                file.write(f\"Prediction {batch_start + i}: {op}\\n\")\n",
    "\n",
    "        # Save latent space scatter plot\n",
    "        df = pd.DataFrame({'x': x, 'y': y, 'z': [f\"trajectory-{k}\" for k in z], 'index': indices})\n",
    "        plt.figure(figsize=(8, 6))\n",
    "        sns.scatterplot(x='x', y='y', hue='z', data=df, s=10)\n",
    "        scatter_file_path = os.path.join(subfolders['AE_Latent_Space_Graphs'], f\"{counts}_Latent_Space.png\")\n",
    "        plt.savefig(scatter_file_path, dpi=300)\n",
    "        plt.clf()\n",
    "        plt.close()\n",
    "\n",
    "        # Save latent space data as pickle\n",
    "        pkl_file_path = os.path.join(subfolders['AE_Latent_Space_Data_PKL'], f\"{counts}_Latent_Space.pkl\")\n",
    "        df.to_pickle(pkl_file_path)\n",
    "\n",
    "        # Save the model\n",
    "        model_file_path = os.path.join(subfolders['models'], f\"saved_model_{counts}.keras\")\n",
    "        save_model(autoencoder, model_file_path)"
   ]
  },
  {
   "cell_type": "markdown",
   "id": "c4f8169a-fa8c-43c4-aac8-bee7ba21c4a6",
   "metadata": {
    "jp-MarkdownHeadingCollapsed": true
   },
   "source": [
    "# Reduce LR on Plateau"
   ]
  },
  {
   "cell_type": "code",
   "execution_count": 15,
   "id": "46c39c5c-d5d8-4675-bc96-1c663e14d0a3",
   "metadata": {},
   "outputs": [],
   "source": [
    "# Save the model using the recommended Keras format\n",
    "def save_model(model, model_path):\n",
    "    if not model_path.endswith('.keras'):\n",
    "        model_path += '.keras'\n",
    "    model.save(model_path)\n",
    "    \n",
    "# Load the model\n",
    "def load_existing_model(model_path):\n",
    "    return load_model(model_path)"
   ]
  },
  {
   "cell_type": "code",
   "execution_count": 16,
   "id": "3572704e-5e4e-43c5-9bac-34b63931ca97",
   "metadata": {},
   "outputs": [],
   "source": [
    "# Get autoencoder model\n",
    "def AE_Model(train_data, LeReLU_alpha=0.01, batch_size=256, learning_rate=1e-4):\n",
    "    input_layer = Input(shape=(train_data.shape[1],), name='ae_input')\n",
    "    \n",
    "    encoder = Dense(1024, activation=LeakyReLU(negative_slope=LeReLU_alpha), name='e1')(input_layer)\n",
    "    encoder = Dense(512, activation=LeakyReLU(negative_slope=LeReLU_alpha), name='e2')(encoder)\n",
    "    encoder = Dense(256, activation=LeakyReLU(negative_slope=LeReLU_alpha), name='e3')(encoder)\n",
    "    encoder = Dense(128, activation=LeakyReLU(negative_slope=LeReLU_alpha), name='e4')(encoder)\n",
    "    encoder = Dense(64, activation=LeakyReLU(negative_slope=LeReLU_alpha), name='e5')(encoder)\n",
    "    encoder = Dense(32, activation=LeakyReLU(negative_slope=LeReLU_alpha), name='e6')(encoder)\n",
    "\n",
    "    encoded = Dense(2, activation='linear', name='ae_latent')(encoder)\n",
    "    \n",
    "    decoder = Dense(32, activation=LeakyReLU(negative_slope=LeReLU_alpha), name='d6')(encoded)\n",
    "    decoder = Dense(64, activation=LeakyReLU(negative_slope=LeReLU_alpha), name='d5')(decoder)\n",
    "    decoder = Dense(128, activation=LeakyReLU(negative_slope=LeReLU_alpha), name='d4')(decoder)\n",
    "    decoder = Dense(256, activation=LeakyReLU(negative_slope=LeReLU_alpha), name='d3')(decoder)\n",
    "    decoder = Dense(512, activation=LeakyReLU(negative_slope=LeReLU_alpha), name='d2')(decoder)\n",
    "    decoder = Dense(1024, activation=LeakyReLU(negative_slope=LeReLU_alpha), name='d1')(decoder)\n",
    "\n",
    "    output_layer = Dense(train_data.shape[1], activation='linear', name='ae_output')(decoder)\n",
    "    \n",
    "    model = Model(inputs=input_layer, outputs=output_layer)\n",
    "    model.compile(optimizer=Adam(learning_rate=learning_rate), loss=MeanSquaredError())\n",
    "    \n",
    "    model.summary()\n",
    "    \n",
    "    return model"
   ]
  },
  {
   "cell_type": "markdown",
   "id": "22da8ffb-7881-4f5a-beda-768f1dec237c",
   "metadata": {
    "jp-MarkdownHeadingCollapsed": true
   },
   "source": [
    "# Model 1"
   ]
  },
  {
   "cell_type": "code",
   "execution_count": 17,
   "id": "9cc0368a-9800-4f9a-81fd-001f1e991dbb",
   "metadata": {},
   "outputs": [],
   "source": [
    "base_folder = \"AE_Data/Unfiltered_Shuffled_Compaction_Data\"\n",
    "X_train_loaded, y_train_loaded, X_valid_loaded, y_valid_loaded = load_datasets(fold=1, base_folder=base_folder)"
   ]
  },
  {
   "cell_type": "code",
   "execution_count": 18,
   "id": "80f32762-fb43-4b60-9056-cc00d9987f8d",
   "metadata": {
    "scrolled": true
   },
   "outputs": [
    {
     "data": {
      "text/html": [
       "<pre style=\"white-space:pre;overflow-x:auto;line-height:normal;font-family:Menlo,'DejaVu Sans Mono',consolas,'Courier New',monospace\"><span style=\"font-weight: bold\">Model: \"functional_108\"</span>\n",
       "</pre>\n"
      ],
      "text/plain": [
       "\u001b[1mModel: \"functional_108\"\u001b[0m\n"
      ]
     },
     "metadata": {},
     "output_type": "display_data"
    },
    {
     "data": {
      "text/html": [
       "<pre style=\"white-space:pre;overflow-x:auto;line-height:normal;font-family:Menlo,'DejaVu Sans Mono',consolas,'Courier New',monospace\">┏━━━━━━━━━━━━━━━━━━━━━━━━━━━━━━━━━┳━━━━━━━━━━━━━━━━━━━━━━━━┳━━━━━━━━━━━━━━━┓\n",
       "┃<span style=\"font-weight: bold\"> Layer (type)                    </span>┃<span style=\"font-weight: bold\"> Output Shape           </span>┃<span style=\"font-weight: bold\">       Param # </span>┃\n",
       "┡━━━━━━━━━━━━━━━━━━━━━━━━━━━━━━━━━╇━━━━━━━━━━━━━━━━━━━━━━━━╇━━━━━━━━━━━━━━━┩\n",
       "│ ae_input (<span style=\"color: #0087ff; text-decoration-color: #0087ff\">InputLayer</span>)           │ (<span style=\"color: #00d7ff; text-decoration-color: #00d7ff\">None</span>, <span style=\"color: #00af00; text-decoration-color: #00af00\">2175</span>)           │             <span style=\"color: #00af00; text-decoration-color: #00af00\">0</span> │\n",
       "├─────────────────────────────────┼────────────────────────┼───────────────┤\n",
       "│ e1 (<span style=\"color: #0087ff; text-decoration-color: #0087ff\">Dense</span>)                      │ (<span style=\"color: #00d7ff; text-decoration-color: #00d7ff\">None</span>, <span style=\"color: #00af00; text-decoration-color: #00af00\">1024</span>)           │     <span style=\"color: #00af00; text-decoration-color: #00af00\">2,228,224</span> │\n",
       "├─────────────────────────────────┼────────────────────────┼───────────────┤\n",
       "│ e2 (<span style=\"color: #0087ff; text-decoration-color: #0087ff\">Dense</span>)                      │ (<span style=\"color: #00d7ff; text-decoration-color: #00d7ff\">None</span>, <span style=\"color: #00af00; text-decoration-color: #00af00\">512</span>)            │       <span style=\"color: #00af00; text-decoration-color: #00af00\">524,800</span> │\n",
       "├─────────────────────────────────┼────────────────────────┼───────────────┤\n",
       "│ e3 (<span style=\"color: #0087ff; text-decoration-color: #0087ff\">Dense</span>)                      │ (<span style=\"color: #00d7ff; text-decoration-color: #00d7ff\">None</span>, <span style=\"color: #00af00; text-decoration-color: #00af00\">256</span>)            │       <span style=\"color: #00af00; text-decoration-color: #00af00\">131,328</span> │\n",
       "├─────────────────────────────────┼────────────────────────┼───────────────┤\n",
       "│ e4 (<span style=\"color: #0087ff; text-decoration-color: #0087ff\">Dense</span>)                      │ (<span style=\"color: #00d7ff; text-decoration-color: #00d7ff\">None</span>, <span style=\"color: #00af00; text-decoration-color: #00af00\">128</span>)            │        <span style=\"color: #00af00; text-decoration-color: #00af00\">32,896</span> │\n",
       "├─────────────────────────────────┼────────────────────────┼───────────────┤\n",
       "│ e5 (<span style=\"color: #0087ff; text-decoration-color: #0087ff\">Dense</span>)                      │ (<span style=\"color: #00d7ff; text-decoration-color: #00d7ff\">None</span>, <span style=\"color: #00af00; text-decoration-color: #00af00\">64</span>)             │         <span style=\"color: #00af00; text-decoration-color: #00af00\">8,256</span> │\n",
       "├─────────────────────────────────┼────────────────────────┼───────────────┤\n",
       "│ e6 (<span style=\"color: #0087ff; text-decoration-color: #0087ff\">Dense</span>)                      │ (<span style=\"color: #00d7ff; text-decoration-color: #00d7ff\">None</span>, <span style=\"color: #00af00; text-decoration-color: #00af00\">32</span>)             │         <span style=\"color: #00af00; text-decoration-color: #00af00\">2,080</span> │\n",
       "├─────────────────────────────────┼────────────────────────┼───────────────┤\n",
       "│ ae_latent (<span style=\"color: #0087ff; text-decoration-color: #0087ff\">Dense</span>)               │ (<span style=\"color: #00d7ff; text-decoration-color: #00d7ff\">None</span>, <span style=\"color: #00af00; text-decoration-color: #00af00\">2</span>)              │            <span style=\"color: #00af00; text-decoration-color: #00af00\">66</span> │\n",
       "├─────────────────────────────────┼────────────────────────┼───────────────┤\n",
       "│ d6 (<span style=\"color: #0087ff; text-decoration-color: #0087ff\">Dense</span>)                      │ (<span style=\"color: #00d7ff; text-decoration-color: #00d7ff\">None</span>, <span style=\"color: #00af00; text-decoration-color: #00af00\">32</span>)             │            <span style=\"color: #00af00; text-decoration-color: #00af00\">96</span> │\n",
       "├─────────────────────────────────┼────────────────────────┼───────────────┤\n",
       "│ d5 (<span style=\"color: #0087ff; text-decoration-color: #0087ff\">Dense</span>)                      │ (<span style=\"color: #00d7ff; text-decoration-color: #00d7ff\">None</span>, <span style=\"color: #00af00; text-decoration-color: #00af00\">64</span>)             │         <span style=\"color: #00af00; text-decoration-color: #00af00\">2,112</span> │\n",
       "├─────────────────────────────────┼────────────────────────┼───────────────┤\n",
       "│ d4 (<span style=\"color: #0087ff; text-decoration-color: #0087ff\">Dense</span>)                      │ (<span style=\"color: #00d7ff; text-decoration-color: #00d7ff\">None</span>, <span style=\"color: #00af00; text-decoration-color: #00af00\">128</span>)            │         <span style=\"color: #00af00; text-decoration-color: #00af00\">8,320</span> │\n",
       "├─────────────────────────────────┼────────────────────────┼───────────────┤\n",
       "│ d3 (<span style=\"color: #0087ff; text-decoration-color: #0087ff\">Dense</span>)                      │ (<span style=\"color: #00d7ff; text-decoration-color: #00d7ff\">None</span>, <span style=\"color: #00af00; text-decoration-color: #00af00\">256</span>)            │        <span style=\"color: #00af00; text-decoration-color: #00af00\">33,024</span> │\n",
       "├─────────────────────────────────┼────────────────────────┼───────────────┤\n",
       "│ d2 (<span style=\"color: #0087ff; text-decoration-color: #0087ff\">Dense</span>)                      │ (<span style=\"color: #00d7ff; text-decoration-color: #00d7ff\">None</span>, <span style=\"color: #00af00; text-decoration-color: #00af00\">512</span>)            │       <span style=\"color: #00af00; text-decoration-color: #00af00\">131,584</span> │\n",
       "├─────────────────────────────────┼────────────────────────┼───────────────┤\n",
       "│ d1 (<span style=\"color: #0087ff; text-decoration-color: #0087ff\">Dense</span>)                      │ (<span style=\"color: #00d7ff; text-decoration-color: #00d7ff\">None</span>, <span style=\"color: #00af00; text-decoration-color: #00af00\">1024</span>)           │       <span style=\"color: #00af00; text-decoration-color: #00af00\">525,312</span> │\n",
       "├─────────────────────────────────┼────────────────────────┼───────────────┤\n",
       "│ ae_output (<span style=\"color: #0087ff; text-decoration-color: #0087ff\">Dense</span>)               │ (<span style=\"color: #00d7ff; text-decoration-color: #00d7ff\">None</span>, <span style=\"color: #00af00; text-decoration-color: #00af00\">2175</span>)           │     <span style=\"color: #00af00; text-decoration-color: #00af00\">2,229,375</span> │\n",
       "└─────────────────────────────────┴────────────────────────┴───────────────┘\n",
       "</pre>\n"
      ],
      "text/plain": [
       "┏━━━━━━━━━━━━━━━━━━━━━━━━━━━━━━━━━┳━━━━━━━━━━━━━━━━━━━━━━━━┳━━━━━━━━━━━━━━━┓\n",
       "┃\u001b[1m \u001b[0m\u001b[1mLayer (type)                   \u001b[0m\u001b[1m \u001b[0m┃\u001b[1m \u001b[0m\u001b[1mOutput Shape          \u001b[0m\u001b[1m \u001b[0m┃\u001b[1m \u001b[0m\u001b[1m      Param #\u001b[0m\u001b[1m \u001b[0m┃\n",
       "┡━━━━━━━━━━━━━━━━━━━━━━━━━━━━━━━━━╇━━━━━━━━━━━━━━━━━━━━━━━━╇━━━━━━━━━━━━━━━┩\n",
       "│ ae_input (\u001b[38;5;33mInputLayer\u001b[0m)           │ (\u001b[38;5;45mNone\u001b[0m, \u001b[38;5;34m2175\u001b[0m)           │             \u001b[38;5;34m0\u001b[0m │\n",
       "├─────────────────────────────────┼────────────────────────┼───────────────┤\n",
       "│ e1 (\u001b[38;5;33mDense\u001b[0m)                      │ (\u001b[38;5;45mNone\u001b[0m, \u001b[38;5;34m1024\u001b[0m)           │     \u001b[38;5;34m2,228,224\u001b[0m │\n",
       "├─────────────────────────────────┼────────────────────────┼───────────────┤\n",
       "│ e2 (\u001b[38;5;33mDense\u001b[0m)                      │ (\u001b[38;5;45mNone\u001b[0m, \u001b[38;5;34m512\u001b[0m)            │       \u001b[38;5;34m524,800\u001b[0m │\n",
       "├─────────────────────────────────┼────────────────────────┼───────────────┤\n",
       "│ e3 (\u001b[38;5;33mDense\u001b[0m)                      │ (\u001b[38;5;45mNone\u001b[0m, \u001b[38;5;34m256\u001b[0m)            │       \u001b[38;5;34m131,328\u001b[0m │\n",
       "├─────────────────────────────────┼────────────────────────┼───────────────┤\n",
       "│ e4 (\u001b[38;5;33mDense\u001b[0m)                      │ (\u001b[38;5;45mNone\u001b[0m, \u001b[38;5;34m128\u001b[0m)            │        \u001b[38;5;34m32,896\u001b[0m │\n",
       "├─────────────────────────────────┼────────────────────────┼───────────────┤\n",
       "│ e5 (\u001b[38;5;33mDense\u001b[0m)                      │ (\u001b[38;5;45mNone\u001b[0m, \u001b[38;5;34m64\u001b[0m)             │         \u001b[38;5;34m8,256\u001b[0m │\n",
       "├─────────────────────────────────┼────────────────────────┼───────────────┤\n",
       "│ e6 (\u001b[38;5;33mDense\u001b[0m)                      │ (\u001b[38;5;45mNone\u001b[0m, \u001b[38;5;34m32\u001b[0m)             │         \u001b[38;5;34m2,080\u001b[0m │\n",
       "├─────────────────────────────────┼────────────────────────┼───────────────┤\n",
       "│ ae_latent (\u001b[38;5;33mDense\u001b[0m)               │ (\u001b[38;5;45mNone\u001b[0m, \u001b[38;5;34m2\u001b[0m)              │            \u001b[38;5;34m66\u001b[0m │\n",
       "├─────────────────────────────────┼────────────────────────┼───────────────┤\n",
       "│ d6 (\u001b[38;5;33mDense\u001b[0m)                      │ (\u001b[38;5;45mNone\u001b[0m, \u001b[38;5;34m32\u001b[0m)             │            \u001b[38;5;34m96\u001b[0m │\n",
       "├─────────────────────────────────┼────────────────────────┼───────────────┤\n",
       "│ d5 (\u001b[38;5;33mDense\u001b[0m)                      │ (\u001b[38;5;45mNone\u001b[0m, \u001b[38;5;34m64\u001b[0m)             │         \u001b[38;5;34m2,112\u001b[0m │\n",
       "├─────────────────────────────────┼────────────────────────┼───────────────┤\n",
       "│ d4 (\u001b[38;5;33mDense\u001b[0m)                      │ (\u001b[38;5;45mNone\u001b[0m, \u001b[38;5;34m128\u001b[0m)            │         \u001b[38;5;34m8,320\u001b[0m │\n",
       "├─────────────────────────────────┼────────────────────────┼───────────────┤\n",
       "│ d3 (\u001b[38;5;33mDense\u001b[0m)                      │ (\u001b[38;5;45mNone\u001b[0m, \u001b[38;5;34m256\u001b[0m)            │        \u001b[38;5;34m33,024\u001b[0m │\n",
       "├─────────────────────────────────┼────────────────────────┼───────────────┤\n",
       "│ d2 (\u001b[38;5;33mDense\u001b[0m)                      │ (\u001b[38;5;45mNone\u001b[0m, \u001b[38;5;34m512\u001b[0m)            │       \u001b[38;5;34m131,584\u001b[0m │\n",
       "├─────────────────────────────────┼────────────────────────┼───────────────┤\n",
       "│ d1 (\u001b[38;5;33mDense\u001b[0m)                      │ (\u001b[38;5;45mNone\u001b[0m, \u001b[38;5;34m1024\u001b[0m)           │       \u001b[38;5;34m525,312\u001b[0m │\n",
       "├─────────────────────────────────┼────────────────────────┼───────────────┤\n",
       "│ ae_output (\u001b[38;5;33mDense\u001b[0m)               │ (\u001b[38;5;45mNone\u001b[0m, \u001b[38;5;34m2175\u001b[0m)           │     \u001b[38;5;34m2,229,375\u001b[0m │\n",
       "└─────────────────────────────────┴────────────────────────┴───────────────┘\n"
      ]
     },
     "metadata": {},
     "output_type": "display_data"
    },
    {
     "data": {
      "text/html": [
       "<pre style=\"white-space:pre;overflow-x:auto;line-height:normal;font-family:Menlo,'DejaVu Sans Mono',consolas,'Courier New',monospace\"><span style=\"font-weight: bold\"> Total params: </span><span style=\"color: #00af00; text-decoration-color: #00af00\">5,857,473</span> (22.34 MB)\n",
       "</pre>\n"
      ],
      "text/plain": [
       "\u001b[1m Total params: \u001b[0m\u001b[38;5;34m5,857,473\u001b[0m (22.34 MB)\n"
      ]
     },
     "metadata": {},
     "output_type": "display_data"
    },
    {
     "data": {
      "text/html": [
       "<pre style=\"white-space:pre;overflow-x:auto;line-height:normal;font-family:Menlo,'DejaVu Sans Mono',consolas,'Courier New',monospace\"><span style=\"font-weight: bold\"> Trainable params: </span><span style=\"color: #00af00; text-decoration-color: #00af00\">5,857,473</span> (22.34 MB)\n",
       "</pre>\n"
      ],
      "text/plain": [
       "\u001b[1m Trainable params: \u001b[0m\u001b[38;5;34m5,857,473\u001b[0m (22.34 MB)\n"
      ]
     },
     "metadata": {},
     "output_type": "display_data"
    },
    {
     "data": {
      "text/html": [
       "<pre style=\"white-space:pre;overflow-x:auto;line-height:normal;font-family:Menlo,'DejaVu Sans Mono',consolas,'Courier New',monospace\"><span style=\"font-weight: bold\"> Non-trainable params: </span><span style=\"color: #00af00; text-decoration-color: #00af00\">0</span> (0.00 B)\n",
       "</pre>\n"
      ],
      "text/plain": [
       "\u001b[1m Non-trainable params: \u001b[0m\u001b[38;5;34m0\u001b[0m (0.00 B)\n"
      ]
     },
     "metadata": {},
     "output_type": "display_data"
    },
    {
     "name": "stderr",
     "output_type": "stream",
     "text": [
      "  0%|                                                   | 0/101 [00:00<?, ?it/s]"
     ]
    },
    {
     "data": {
      "text/html": [
       "<pre style=\"white-space:pre;overflow-x:auto;line-height:normal;font-family:Menlo,'DejaVu Sans Mono',consolas,'Courier New',monospace\"></pre>\n"
      ],
      "text/plain": []
     },
     "metadata": {},
     "output_type": "display_data"
    },
    {
     "name": "stderr",
     "output_type": "stream",
     "text": [
      "  1%|▍                                      | 1/101 [13:06<21:51:10, 786.71s/it]"
     ]
    },
    {
     "data": {
      "text/html": [
       "<pre style=\"white-space:pre;overflow-x:auto;line-height:normal;font-family:Menlo,'DejaVu Sans Mono',consolas,'Courier New',monospace\"></pre>\n"
      ],
      "text/plain": []
     },
     "metadata": {},
     "output_type": "display_data"
    },
    {
     "name": "stderr",
     "output_type": "stream",
     "text": [
      "  2%|▊                                      | 2/101 [26:07<21:32:11, 783.15s/it]"
     ]
    },
    {
     "data": {
      "text/html": [
       "<pre style=\"white-space:pre;overflow-x:auto;line-height:normal;font-family:Menlo,'DejaVu Sans Mono',consolas,'Courier New',monospace\"></pre>\n"
      ],
      "text/plain": []
     },
     "metadata": {},
     "output_type": "display_data"
    },
    {
     "name": "stderr",
     "output_type": "stream",
     "text": [
      "  3%|█▏                                     | 3/101 [39:10<21:19:02, 783.09s/it]"
     ]
    },
    {
     "data": {
      "text/html": [
       "<pre style=\"white-space:pre;overflow-x:auto;line-height:normal;font-family:Menlo,'DejaVu Sans Mono',consolas,'Courier New',monospace\"></pre>\n"
      ],
      "text/plain": []
     },
     "metadata": {},
     "output_type": "display_data"
    },
    {
     "name": "stderr",
     "output_type": "stream",
     "text": [
      "  4%|█▌                                     | 4/101 [52:14<21:06:32, 783.43s/it]"
     ]
    },
    {
     "data": {
      "text/html": [
       "<pre style=\"white-space:pre;overflow-x:auto;line-height:normal;font-family:Menlo,'DejaVu Sans Mono',consolas,'Courier New',monospace\"></pre>\n"
      ],
      "text/plain": []
     },
     "metadata": {},
     "output_type": "display_data"
    },
    {
     "name": "stderr",
     "output_type": "stream",
     "text": [
      "  5%|█▊                                   | 5/101 [1:05:17<20:53:27, 783.41s/it]"
     ]
    },
    {
     "data": {
      "text/html": [
       "<pre style=\"white-space:pre;overflow-x:auto;line-height:normal;font-family:Menlo,'DejaVu Sans Mono',consolas,'Courier New',monospace\"></pre>\n"
      ],
      "text/plain": []
     },
     "metadata": {},
     "output_type": "display_data"
    },
    {
     "name": "stderr",
     "output_type": "stream",
     "text": [
      "  6%|██▏                                  | 6/101 [1:18:23<20:41:32, 784.14s/it]"
     ]
    },
    {
     "data": {
      "text/html": [
       "<pre style=\"white-space:pre;overflow-x:auto;line-height:normal;font-family:Menlo,'DejaVu Sans Mono',consolas,'Courier New',monospace\"></pre>\n"
      ],
      "text/plain": []
     },
     "metadata": {},
     "output_type": "display_data"
    },
    {
     "name": "stderr",
     "output_type": "stream",
     "text": [
      "  7%|██▌                                  | 7/101 [1:31:24<20:27:11, 783.31s/it]"
     ]
    },
    {
     "data": {
      "text/html": [
       "<pre style=\"white-space:pre;overflow-x:auto;line-height:normal;font-family:Menlo,'DejaVu Sans Mono',consolas,'Courier New',monospace\"></pre>\n"
      ],
      "text/plain": []
     },
     "metadata": {},
     "output_type": "display_data"
    },
    {
     "name": "stderr",
     "output_type": "stream",
     "text": [
      "  8%|██▉                                  | 8/101 [1:44:31<20:15:33, 784.24s/it]"
     ]
    },
    {
     "data": {
      "text/html": [
       "<pre style=\"white-space:pre;overflow-x:auto;line-height:normal;font-family:Menlo,'DejaVu Sans Mono',consolas,'Courier New',monospace\"></pre>\n"
      ],
      "text/plain": []
     },
     "metadata": {},
     "output_type": "display_data"
    },
    {
     "name": "stderr",
     "output_type": "stream",
     "text": [
      "  9%|███▎                                 | 9/101 [1:57:32<20:01:22, 783.50s/it]"
     ]
    },
    {
     "data": {
      "text/html": [
       "<pre style=\"white-space:pre;overflow-x:auto;line-height:normal;font-family:Menlo,'DejaVu Sans Mono',consolas,'Courier New',monospace\"></pre>\n"
      ],
      "text/plain": []
     },
     "metadata": {},
     "output_type": "display_data"
    },
    {
     "name": "stderr",
     "output_type": "stream",
     "text": [
      " 10%|███▌                                | 10/101 [2:10:34<19:47:31, 782.98s/it]"
     ]
    },
    {
     "data": {
      "text/html": [
       "<pre style=\"white-space:pre;overflow-x:auto;line-height:normal;font-family:Menlo,'DejaVu Sans Mono',consolas,'Courier New',monospace\"></pre>\n"
      ],
      "text/plain": []
     },
     "metadata": {},
     "output_type": "display_data"
    },
    {
     "name": "stderr",
     "output_type": "stream",
     "text": [
      " 11%|███▉                                | 11/101 [2:23:37<19:34:09, 782.77s/it]"
     ]
    },
    {
     "data": {
      "text/html": [
       "<pre style=\"white-space:pre;overflow-x:auto;line-height:normal;font-family:Menlo,'DejaVu Sans Mono',consolas,'Courier New',monospace\"></pre>\n"
      ],
      "text/plain": []
     },
     "metadata": {},
     "output_type": "display_data"
    },
    {
     "name": "stderr",
     "output_type": "stream",
     "text": [
      " 12%|████▎                               | 12/101 [2:36:34<19:18:41, 781.14s/it]"
     ]
    },
    {
     "data": {
      "text/html": [
       "<pre style=\"white-space:pre;overflow-x:auto;line-height:normal;font-family:Menlo,'DejaVu Sans Mono',consolas,'Courier New',monospace\"></pre>\n"
      ],
      "text/plain": []
     },
     "metadata": {},
     "output_type": "display_data"
    },
    {
     "name": "stderr",
     "output_type": "stream",
     "text": [
      " 13%|████▋                               | 13/101 [2:49:35<19:05:29, 781.02s/it]"
     ]
    },
    {
     "data": {
      "text/html": [
       "<pre style=\"white-space:pre;overflow-x:auto;line-height:normal;font-family:Menlo,'DejaVu Sans Mono',consolas,'Courier New',monospace\"></pre>\n"
      ],
      "text/plain": []
     },
     "metadata": {},
     "output_type": "display_data"
    },
    {
     "name": "stderr",
     "output_type": "stream",
     "text": [
      " 14%|████▉                               | 14/101 [3:02:34<18:51:39, 780.45s/it]"
     ]
    },
    {
     "data": {
      "text/html": [
       "<pre style=\"white-space:pre;overflow-x:auto;line-height:normal;font-family:Menlo,'DejaVu Sans Mono',consolas,'Courier New',monospace\"></pre>\n"
      ],
      "text/plain": []
     },
     "metadata": {},
     "output_type": "display_data"
    },
    {
     "name": "stderr",
     "output_type": "stream",
     "text": [
      " 15%|█████▎                              | 15/101 [3:15:39<18:40:33, 781.78s/it]"
     ]
    },
    {
     "data": {
      "text/html": [
       "<pre style=\"white-space:pre;overflow-x:auto;line-height:normal;font-family:Menlo,'DejaVu Sans Mono',consolas,'Courier New',monospace\"></pre>\n"
      ],
      "text/plain": []
     },
     "metadata": {},
     "output_type": "display_data"
    },
    {
     "name": "stderr",
     "output_type": "stream",
     "text": [
      " 16%|█████▋                              | 16/101 [3:28:39<18:26:48, 781.27s/it]"
     ]
    },
    {
     "data": {
      "text/html": [
       "<pre style=\"white-space:pre;overflow-x:auto;line-height:normal;font-family:Menlo,'DejaVu Sans Mono',consolas,'Courier New',monospace\"></pre>\n"
      ],
      "text/plain": []
     },
     "metadata": {},
     "output_type": "display_data"
    },
    {
     "name": "stderr",
     "output_type": "stream",
     "text": [
      " 17%|██████                              | 17/101 [3:41:39<18:13:22, 780.98s/it]"
     ]
    },
    {
     "data": {
      "text/html": [
       "<pre style=\"white-space:pre;overflow-x:auto;line-height:normal;font-family:Menlo,'DejaVu Sans Mono',consolas,'Courier New',monospace\"></pre>\n"
      ],
      "text/plain": []
     },
     "metadata": {},
     "output_type": "display_data"
    },
    {
     "name": "stderr",
     "output_type": "stream",
     "text": [
      " 18%|██████▍                             | 18/101 [3:54:39<17:59:58, 780.71s/it]"
     ]
    },
    {
     "data": {
      "text/html": [
       "<pre style=\"white-space:pre;overflow-x:auto;line-height:normal;font-family:Menlo,'DejaVu Sans Mono',consolas,'Courier New',monospace\"></pre>\n"
      ],
      "text/plain": []
     },
     "metadata": {},
     "output_type": "display_data"
    },
    {
     "name": "stderr",
     "output_type": "stream",
     "text": [
      " 19%|██████▊                             | 19/101 [4:07:41<17:47:22, 781.01s/it]"
     ]
    },
    {
     "data": {
      "text/html": [
       "<pre style=\"white-space:pre;overflow-x:auto;line-height:normal;font-family:Menlo,'DejaVu Sans Mono',consolas,'Courier New',monospace\"></pre>\n"
      ],
      "text/plain": []
     },
     "metadata": {},
     "output_type": "display_data"
    },
    {
     "name": "stderr",
     "output_type": "stream",
     "text": [
      " 20%|███████▏                            | 20/101 [4:20:40<17:33:30, 780.37s/it]"
     ]
    },
    {
     "data": {
      "text/html": [
       "<pre style=\"white-space:pre;overflow-x:auto;line-height:normal;font-family:Menlo,'DejaVu Sans Mono',consolas,'Courier New',monospace\"></pre>\n"
      ],
      "text/plain": []
     },
     "metadata": {},
     "output_type": "display_data"
    },
    {
     "name": "stderr",
     "output_type": "stream",
     "text": [
      " 21%|███████▍                            | 21/101 [4:33:39<17:20:09, 780.11s/it]"
     ]
    },
    {
     "data": {
      "text/html": [
       "<pre style=\"white-space:pre;overflow-x:auto;line-height:normal;font-family:Menlo,'DejaVu Sans Mono',consolas,'Courier New',monospace\"></pre>\n"
      ],
      "text/plain": []
     },
     "metadata": {},
     "output_type": "display_data"
    },
    {
     "name": "stderr",
     "output_type": "stream",
     "text": [
      " 22%|███████▊                            | 22/101 [4:46:39<17:07:03, 780.04s/it]"
     ]
    },
    {
     "data": {
      "text/html": [
       "<pre style=\"white-space:pre;overflow-x:auto;line-height:normal;font-family:Menlo,'DejaVu Sans Mono',consolas,'Courier New',monospace\"></pre>\n"
      ],
      "text/plain": []
     },
     "metadata": {},
     "output_type": "display_data"
    },
    {
     "name": "stderr",
     "output_type": "stream",
     "text": [
      " 23%|████████▏                           | 23/101 [4:59:42<16:55:12, 780.93s/it]"
     ]
    },
    {
     "data": {
      "text/html": [
       "<pre style=\"white-space:pre;overflow-x:auto;line-height:normal;font-family:Menlo,'DejaVu Sans Mono',consolas,'Courier New',monospace\"></pre>\n"
      ],
      "text/plain": []
     },
     "metadata": {},
     "output_type": "display_data"
    },
    {
     "name": "stderr",
     "output_type": "stream",
     "text": [
      " 24%|████████▌                           | 24/101 [5:12:42<16:41:37, 780.49s/it]"
     ]
    },
    {
     "data": {
      "text/html": [
       "<pre style=\"white-space:pre;overflow-x:auto;line-height:normal;font-family:Menlo,'DejaVu Sans Mono',consolas,'Courier New',monospace\"></pre>\n"
      ],
      "text/plain": []
     },
     "metadata": {},
     "output_type": "display_data"
    },
    {
     "name": "stderr",
     "output_type": "stream",
     "text": [
      " 25%|████████▉                           | 25/101 [5:25:42<16:28:44, 780.59s/it]"
     ]
    },
    {
     "data": {
      "text/html": [
       "<pre style=\"white-space:pre;overflow-x:auto;line-height:normal;font-family:Menlo,'DejaVu Sans Mono',consolas,'Courier New',monospace\"></pre>\n"
      ],
      "text/plain": []
     },
     "metadata": {},
     "output_type": "display_data"
    },
    {
     "name": "stderr",
     "output_type": "stream",
     "text": [
      " 26%|█████████▎                          | 26/101 [5:38:44<16:15:55, 780.74s/it]"
     ]
    },
    {
     "data": {
      "text/html": [
       "<pre style=\"white-space:pre;overflow-x:auto;line-height:normal;font-family:Menlo,'DejaVu Sans Mono',consolas,'Courier New',monospace\"></pre>\n"
      ],
      "text/plain": []
     },
     "metadata": {},
     "output_type": "display_data"
    },
    {
     "name": "stderr",
     "output_type": "stream",
     "text": [
      " 27%|█████████▌                          | 27/101 [5:51:42<16:02:04, 780.06s/it]"
     ]
    },
    {
     "data": {
      "text/html": [
       "<pre style=\"white-space:pre;overflow-x:auto;line-height:normal;font-family:Menlo,'DejaVu Sans Mono',consolas,'Courier New',monospace\"></pre>\n"
      ],
      "text/plain": []
     },
     "metadata": {},
     "output_type": "display_data"
    },
    {
     "name": "stderr",
     "output_type": "stream",
     "text": [
      " 28%|█████████▉                          | 28/101 [6:04:42<15:49:06, 780.09s/it]"
     ]
    },
    {
     "data": {
      "text/html": [
       "<pre style=\"white-space:pre;overflow-x:auto;line-height:normal;font-family:Menlo,'DejaVu Sans Mono',consolas,'Courier New',monospace\"></pre>\n"
      ],
      "text/plain": []
     },
     "metadata": {},
     "output_type": "display_data"
    },
    {
     "name": "stderr",
     "output_type": "stream",
     "text": [
      " 29%|██████████▎                         | 29/101 [6:17:40<15:35:22, 779.48s/it]"
     ]
    },
    {
     "data": {
      "text/html": [
       "<pre style=\"white-space:pre;overflow-x:auto;line-height:normal;font-family:Menlo,'DejaVu Sans Mono',consolas,'Courier New',monospace\"></pre>\n"
      ],
      "text/plain": []
     },
     "metadata": {},
     "output_type": "display_data"
    },
    {
     "name": "stderr",
     "output_type": "stream",
     "text": [
      " 30%|██████████▋                         | 30/101 [6:30:39<15:22:11, 779.32s/it]"
     ]
    },
    {
     "data": {
      "text/html": [
       "<pre style=\"white-space:pre;overflow-x:auto;line-height:normal;font-family:Menlo,'DejaVu Sans Mono',consolas,'Courier New',monospace\"></pre>\n"
      ],
      "text/plain": []
     },
     "metadata": {},
     "output_type": "display_data"
    },
    {
     "name": "stderr",
     "output_type": "stream",
     "text": [
      " 31%|███████████                         | 31/101 [6:43:41<15:09:54, 779.93s/it]"
     ]
    },
    {
     "data": {
      "text/html": [
       "<pre style=\"white-space:pre;overflow-x:auto;line-height:normal;font-family:Menlo,'DejaVu Sans Mono',consolas,'Courier New',monospace\"></pre>\n"
      ],
      "text/plain": []
     },
     "metadata": {},
     "output_type": "display_data"
    },
    {
     "name": "stderr",
     "output_type": "stream",
     "text": [
      " 32%|███████████▍                        | 32/101 [6:56:39<14:56:27, 779.53s/it]"
     ]
    },
    {
     "data": {
      "text/html": [
       "<pre style=\"white-space:pre;overflow-x:auto;line-height:normal;font-family:Menlo,'DejaVu Sans Mono',consolas,'Courier New',monospace\"></pre>\n"
      ],
      "text/plain": []
     },
     "metadata": {},
     "output_type": "display_data"
    },
    {
     "name": "stderr",
     "output_type": "stream",
     "text": [
      " 33%|███████████▊                        | 33/101 [7:09:38<14:43:20, 779.42s/it]"
     ]
    },
    {
     "data": {
      "text/html": [
       "<pre style=\"white-space:pre;overflow-x:auto;line-height:normal;font-family:Menlo,'DejaVu Sans Mono',consolas,'Courier New',monospace\"></pre>\n"
      ],
      "text/plain": []
     },
     "metadata": {},
     "output_type": "display_data"
    },
    {
     "name": "stderr",
     "output_type": "stream",
     "text": [
      " 34%|████████████                        | 34/101 [7:22:36<14:29:53, 779.00s/it]"
     ]
    },
    {
     "data": {
      "text/html": [
       "<pre style=\"white-space:pre;overflow-x:auto;line-height:normal;font-family:Menlo,'DejaVu Sans Mono',consolas,'Courier New',monospace\"></pre>\n"
      ],
      "text/plain": []
     },
     "metadata": {},
     "output_type": "display_data"
    },
    {
     "name": "stderr",
     "output_type": "stream",
     "text": [
      " 35%|████████████▍                       | 35/101 [7:35:37<14:17:29, 779.54s/it]"
     ]
    },
    {
     "data": {
      "text/html": [
       "<pre style=\"white-space:pre;overflow-x:auto;line-height:normal;font-family:Menlo,'DejaVu Sans Mono',consolas,'Courier New',monospace\"></pre>\n"
      ],
      "text/plain": []
     },
     "metadata": {},
     "output_type": "display_data"
    },
    {
     "name": "stderr",
     "output_type": "stream",
     "text": [
      " 36%|████████████▊                       | 36/101 [7:48:36<14:04:20, 779.40s/it]"
     ]
    },
    {
     "data": {
      "text/html": [
       "<pre style=\"white-space:pre;overflow-x:auto;line-height:normal;font-family:Menlo,'DejaVu Sans Mono',consolas,'Courier New',monospace\"></pre>\n"
      ],
      "text/plain": []
     },
     "metadata": {},
     "output_type": "display_data"
    },
    {
     "name": "stderr",
     "output_type": "stream",
     "text": [
      " 37%|█████████████▏                      | 37/101 [8:01:37<13:51:51, 779.87s/it]"
     ]
    },
    {
     "data": {
      "text/html": [
       "<pre style=\"white-space:pre;overflow-x:auto;line-height:normal;font-family:Menlo,'DejaVu Sans Mono',consolas,'Courier New',monospace\"></pre>\n"
      ],
      "text/plain": []
     },
     "metadata": {},
     "output_type": "display_data"
    },
    {
     "name": "stderr",
     "output_type": "stream",
     "text": [
      " 38%|█████████████▌                      | 38/101 [8:14:40<13:39:56, 780.89s/it]"
     ]
    },
    {
     "data": {
      "text/html": [
       "<pre style=\"white-space:pre;overflow-x:auto;line-height:normal;font-family:Menlo,'DejaVu Sans Mono',consolas,'Courier New',monospace\"></pre>\n"
      ],
      "text/plain": []
     },
     "metadata": {},
     "output_type": "display_data"
    },
    {
     "name": "stderr",
     "output_type": "stream",
     "text": [
      " 39%|█████████████▉                      | 39/101 [8:27:39<13:26:06, 780.11s/it]"
     ]
    },
    {
     "data": {
      "text/html": [
       "<pre style=\"white-space:pre;overflow-x:auto;line-height:normal;font-family:Menlo,'DejaVu Sans Mono',consolas,'Courier New',monospace\"></pre>\n"
      ],
      "text/plain": []
     },
     "metadata": {},
     "output_type": "display_data"
    },
    {
     "name": "stderr",
     "output_type": "stream",
     "text": [
      " 40%|██████████████▎                     | 40/101 [8:40:40<13:13:33, 780.55s/it]"
     ]
    },
    {
     "data": {
      "text/html": [
       "<pre style=\"white-space:pre;overflow-x:auto;line-height:normal;font-family:Menlo,'DejaVu Sans Mono',consolas,'Courier New',monospace\"></pre>\n"
      ],
      "text/plain": []
     },
     "metadata": {},
     "output_type": "display_data"
    },
    {
     "name": "stderr",
     "output_type": "stream",
     "text": [
      " 41%|██████████████▌                     | 41/101 [8:53:37<12:59:22, 779.38s/it]"
     ]
    },
    {
     "data": {
      "text/html": [
       "<pre style=\"white-space:pre;overflow-x:auto;line-height:normal;font-family:Menlo,'DejaVu Sans Mono',consolas,'Courier New',monospace\"></pre>\n"
      ],
      "text/plain": []
     },
     "metadata": {},
     "output_type": "display_data"
    },
    {
     "name": "stderr",
     "output_type": "stream",
     "text": [
      " 42%|██████████████▉                     | 42/101 [9:06:37<12:46:39, 779.66s/it]"
     ]
    },
    {
     "data": {
      "text/html": [
       "<pre style=\"white-space:pre;overflow-x:auto;line-height:normal;font-family:Menlo,'DejaVu Sans Mono',consolas,'Courier New',monospace\"></pre>\n"
      ],
      "text/plain": []
     },
     "metadata": {},
     "output_type": "display_data"
    },
    {
     "name": "stderr",
     "output_type": "stream",
     "text": [
      " 43%|███████████████▎                    | 43/101 [9:19:37<12:33:34, 779.56s/it]"
     ]
    },
    {
     "data": {
      "text/html": [
       "<pre style=\"white-space:pre;overflow-x:auto;line-height:normal;font-family:Menlo,'DejaVu Sans Mono',consolas,'Courier New',monospace\"></pre>\n"
      ],
      "text/plain": []
     },
     "metadata": {},
     "output_type": "display_data"
    },
    {
     "name": "stderr",
     "output_type": "stream",
     "text": [
      " 44%|███████████████▋                    | 44/101 [9:32:35<12:20:07, 779.09s/it]"
     ]
    },
    {
     "data": {
      "text/html": [
       "<pre style=\"white-space:pre;overflow-x:auto;line-height:normal;font-family:Menlo,'DejaVu Sans Mono',consolas,'Courier New',monospace\"></pre>\n"
      ],
      "text/plain": []
     },
     "metadata": {},
     "output_type": "display_data"
    },
    {
     "name": "stderr",
     "output_type": "stream",
     "text": [
      " 45%|████████████████                    | 45/101 [9:45:33<12:06:55, 778.84s/it]"
     ]
    },
    {
     "data": {
      "text/html": [
       "<pre style=\"white-space:pre;overflow-x:auto;line-height:normal;font-family:Menlo,'DejaVu Sans Mono',consolas,'Courier New',monospace\"></pre>\n"
      ],
      "text/plain": []
     },
     "metadata": {},
     "output_type": "display_data"
    },
    {
     "name": "stderr",
     "output_type": "stream",
     "text": [
      " 46%|████████████████▍                   | 46/101 [9:58:33<11:54:14, 779.18s/it]"
     ]
    },
    {
     "data": {
      "text/html": [
       "<pre style=\"white-space:pre;overflow-x:auto;line-height:normal;font-family:Menlo,'DejaVu Sans Mono',consolas,'Courier New',monospace\"></pre>\n"
      ],
      "text/plain": []
     },
     "metadata": {},
     "output_type": "display_data"
    },
    {
     "name": "stderr",
     "output_type": "stream",
     "text": [
      " 47%|████████████████▎                  | 47/101 [10:11:34<11:41:44, 779.71s/it]"
     ]
    },
    {
     "data": {
      "text/html": [
       "<pre style=\"white-space:pre;overflow-x:auto;line-height:normal;font-family:Menlo,'DejaVu Sans Mono',consolas,'Courier New',monospace\"></pre>\n"
      ],
      "text/plain": []
     },
     "metadata": {},
     "output_type": "display_data"
    },
    {
     "name": "stderr",
     "output_type": "stream",
     "text": [
      " 48%|████████████████▋                  | 48/101 [10:24:33<11:28:30, 779.43s/it]"
     ]
    },
    {
     "data": {
      "text/html": [
       "<pre style=\"white-space:pre;overflow-x:auto;line-height:normal;font-family:Menlo,'DejaVu Sans Mono',consolas,'Courier New',monospace\"></pre>\n"
      ],
      "text/plain": []
     },
     "metadata": {},
     "output_type": "display_data"
    },
    {
     "name": "stderr",
     "output_type": "stream",
     "text": [
      " 49%|████████████████▉                  | 49/101 [10:37:30<11:15:02, 778.90s/it]"
     ]
    },
    {
     "data": {
      "text/html": [
       "<pre style=\"white-space:pre;overflow-x:auto;line-height:normal;font-family:Menlo,'DejaVu Sans Mono',consolas,'Courier New',monospace\"></pre>\n"
      ],
      "text/plain": []
     },
     "metadata": {},
     "output_type": "display_data"
    },
    {
     "name": "stderr",
     "output_type": "stream",
     "text": [
      " 50%|█████████████████▎                 | 50/101 [10:50:29<11:02:03, 778.90s/it]"
     ]
    },
    {
     "data": {
      "text/html": [
       "<pre style=\"white-space:pre;overflow-x:auto;line-height:normal;font-family:Menlo,'DejaVu Sans Mono',consolas,'Courier New',monospace\"></pre>\n"
      ],
      "text/plain": []
     },
     "metadata": {},
     "output_type": "display_data"
    },
    {
     "name": "stderr",
     "output_type": "stream",
     "text": [
      " 50%|█████████████████▋                 | 51/101 [11:03:26<10:48:37, 778.35s/it]"
     ]
    },
    {
     "data": {
      "text/html": [
       "<pre style=\"white-space:pre;overflow-x:auto;line-height:normal;font-family:Menlo,'DejaVu Sans Mono',consolas,'Courier New',monospace\"></pre>\n"
      ],
      "text/plain": []
     },
     "metadata": {},
     "output_type": "display_data"
    },
    {
     "name": "stderr",
     "output_type": "stream",
     "text": [
      " 51%|██████████████████                 | 52/101 [11:16:25<10:35:39, 778.36s/it]"
     ]
    },
    {
     "data": {
      "text/html": [
       "<pre style=\"white-space:pre;overflow-x:auto;line-height:normal;font-family:Menlo,'DejaVu Sans Mono',consolas,'Courier New',monospace\"></pre>\n"
      ],
      "text/plain": []
     },
     "metadata": {},
     "output_type": "display_data"
    },
    {
     "name": "stderr",
     "output_type": "stream",
     "text": [
      " 52%|██████████████████▎                | 53/101 [11:29:21<10:22:16, 777.84s/it]"
     ]
    },
    {
     "data": {
      "text/html": [
       "<pre style=\"white-space:pre;overflow-x:auto;line-height:normal;font-family:Menlo,'DejaVu Sans Mono',consolas,'Courier New',monospace\"></pre>\n"
      ],
      "text/plain": []
     },
     "metadata": {},
     "output_type": "display_data"
    },
    {
     "name": "stderr",
     "output_type": "stream",
     "text": [
      " 53%|██████████████████▋                | 54/101 [11:42:23<10:10:20, 779.17s/it]"
     ]
    },
    {
     "data": {
      "text/html": [
       "<pre style=\"white-space:pre;overflow-x:auto;line-height:normal;font-family:Menlo,'DejaVu Sans Mono',consolas,'Courier New',monospace\"></pre>\n"
      ],
      "text/plain": []
     },
     "metadata": {},
     "output_type": "display_data"
    },
    {
     "name": "stderr",
     "output_type": "stream",
     "text": [
      " 54%|███████████████████▌                | 55/101 [11:55:25<9:57:50, 779.80s/it]"
     ]
    },
    {
     "data": {
      "text/html": [
       "<pre style=\"white-space:pre;overflow-x:auto;line-height:normal;font-family:Menlo,'DejaVu Sans Mono',consolas,'Courier New',monospace\"></pre>\n"
      ],
      "text/plain": []
     },
     "metadata": {},
     "output_type": "display_data"
    },
    {
     "name": "stderr",
     "output_type": "stream",
     "text": [
      " 55%|███████████████████▉                | 56/101 [12:08:24<9:44:39, 779.55s/it]"
     ]
    },
    {
     "data": {
      "text/html": [
       "<pre style=\"white-space:pre;overflow-x:auto;line-height:normal;font-family:Menlo,'DejaVu Sans Mono',consolas,'Courier New',monospace\"></pre>\n"
      ],
      "text/plain": []
     },
     "metadata": {},
     "output_type": "display_data"
    },
    {
     "name": "stderr",
     "output_type": "stream",
     "text": [
      " 56%|████████████████████▎               | 57/101 [12:21:23<9:31:34, 779.42s/it]"
     ]
    },
    {
     "data": {
      "text/html": [
       "<pre style=\"white-space:pre;overflow-x:auto;line-height:normal;font-family:Menlo,'DejaVu Sans Mono',consolas,'Courier New',monospace\"></pre>\n"
      ],
      "text/plain": []
     },
     "metadata": {},
     "output_type": "display_data"
    },
    {
     "name": "stderr",
     "output_type": "stream",
     "text": [
      " 57%|████████████████████▋               | 58/101 [12:34:22<9:18:32, 779.35s/it]"
     ]
    },
    {
     "data": {
      "text/html": [
       "<pre style=\"white-space:pre;overflow-x:auto;line-height:normal;font-family:Menlo,'DejaVu Sans Mono',consolas,'Courier New',monospace\"></pre>\n"
      ],
      "text/plain": []
     },
     "metadata": {},
     "output_type": "display_data"
    },
    {
     "name": "stderr",
     "output_type": "stream",
     "text": [
      " 58%|█████████████████████               | 59/101 [12:47:20<9:05:11, 778.84s/it]"
     ]
    },
    {
     "data": {
      "text/html": [
       "<pre style=\"white-space:pre;overflow-x:auto;line-height:normal;font-family:Menlo,'DejaVu Sans Mono',consolas,'Courier New',monospace\"></pre>\n"
      ],
      "text/plain": []
     },
     "metadata": {},
     "output_type": "display_data"
    },
    {
     "name": "stderr",
     "output_type": "stream",
     "text": [
      " 59%|█████████████████████▍              | 60/101 [13:00:17<8:51:56, 778.45s/it]"
     ]
    },
    {
     "data": {
      "text/html": [
       "<pre style=\"white-space:pre;overflow-x:auto;line-height:normal;font-family:Menlo,'DejaVu Sans Mono',consolas,'Courier New',monospace\"></pre>\n"
      ],
      "text/plain": []
     },
     "metadata": {},
     "output_type": "display_data"
    },
    {
     "name": "stderr",
     "output_type": "stream",
     "text": [
      " 60%|█████████████████████▋              | 61/101 [13:13:14<8:38:41, 778.04s/it]"
     ]
    },
    {
     "data": {
      "text/html": [
       "<pre style=\"white-space:pre;overflow-x:auto;line-height:normal;font-family:Menlo,'DejaVu Sans Mono',consolas,'Courier New',monospace\"></pre>\n"
      ],
      "text/plain": []
     },
     "metadata": {},
     "output_type": "display_data"
    },
    {
     "name": "stderr",
     "output_type": "stream",
     "text": [
      " 61%|██████████████████████              | 62/101 [13:26:16<8:26:28, 779.18s/it]"
     ]
    },
    {
     "data": {
      "text/html": [
       "<pre style=\"white-space:pre;overflow-x:auto;line-height:normal;font-family:Menlo,'DejaVu Sans Mono',consolas,'Courier New',monospace\"></pre>\n"
      ],
      "text/plain": []
     },
     "metadata": {},
     "output_type": "display_data"
    },
    {
     "name": "stderr",
     "output_type": "stream",
     "text": [
      " 62%|██████████████████████▍             | 63/101 [13:39:17<8:13:52, 779.79s/it]"
     ]
    },
    {
     "data": {
      "text/html": [
       "<pre style=\"white-space:pre;overflow-x:auto;line-height:normal;font-family:Menlo,'DejaVu Sans Mono',consolas,'Courier New',monospace\"></pre>\n"
      ],
      "text/plain": []
     },
     "metadata": {},
     "output_type": "display_data"
    },
    {
     "name": "stderr",
     "output_type": "stream",
     "text": [
      " 63%|██████████████████████▊             | 64/101 [13:52:18<8:01:06, 780.18s/it]"
     ]
    },
    {
     "data": {
      "text/html": [
       "<pre style=\"white-space:pre;overflow-x:auto;line-height:normal;font-family:Menlo,'DejaVu Sans Mono',consolas,'Courier New',monospace\"></pre>\n"
      ],
      "text/plain": []
     },
     "metadata": {},
     "output_type": "display_data"
    },
    {
     "name": "stderr",
     "output_type": "stream",
     "text": [
      " 64%|███████████████████████▏            | 65/101 [14:05:18<7:47:57, 779.93s/it]"
     ]
    },
    {
     "data": {
      "text/html": [
       "<pre style=\"white-space:pre;overflow-x:auto;line-height:normal;font-family:Menlo,'DejaVu Sans Mono',consolas,'Courier New',monospace\"></pre>\n"
      ],
      "text/plain": []
     },
     "metadata": {},
     "output_type": "display_data"
    },
    {
     "name": "stderr",
     "output_type": "stream",
     "text": [
      " 65%|███████████████████████▌            | 66/101 [14:18:15<7:34:27, 779.08s/it]"
     ]
    },
    {
     "data": {
      "text/html": [
       "<pre style=\"white-space:pre;overflow-x:auto;line-height:normal;font-family:Menlo,'DejaVu Sans Mono',consolas,'Courier New',monospace\"></pre>\n"
      ],
      "text/plain": []
     },
     "metadata": {},
     "output_type": "display_data"
    },
    {
     "name": "stderr",
     "output_type": "stream",
     "text": [
      " 66%|███████████████████████▉            | 67/101 [14:31:13<7:21:19, 778.80s/it]"
     ]
    },
    {
     "data": {
      "text/html": [
       "<pre style=\"white-space:pre;overflow-x:auto;line-height:normal;font-family:Menlo,'DejaVu Sans Mono',consolas,'Courier New',monospace\"></pre>\n"
      ],
      "text/plain": []
     },
     "metadata": {},
     "output_type": "display_data"
    },
    {
     "name": "stderr",
     "output_type": "stream",
     "text": [
      " 67%|████████████████████████▏           | 68/101 [14:44:11<7:08:11, 778.52s/it]"
     ]
    },
    {
     "data": {
      "text/html": [
       "<pre style=\"white-space:pre;overflow-x:auto;line-height:normal;font-family:Menlo,'DejaVu Sans Mono',consolas,'Courier New',monospace\"></pre>\n"
      ],
      "text/plain": []
     },
     "metadata": {},
     "output_type": "display_data"
    },
    {
     "name": "stderr",
     "output_type": "stream",
     "text": [
      " 68%|████████████████████████▌           | 69/101 [14:57:10<6:55:17, 778.66s/it]"
     ]
    },
    {
     "data": {
      "text/html": [
       "<pre style=\"white-space:pre;overflow-x:auto;line-height:normal;font-family:Menlo,'DejaVu Sans Mono',consolas,'Courier New',monospace\"></pre>\n"
      ],
      "text/plain": []
     },
     "metadata": {},
     "output_type": "display_data"
    },
    {
     "name": "stderr",
     "output_type": "stream",
     "text": [
      " 69%|████████████████████████▉           | 70/101 [15:10:13<6:42:56, 779.89s/it]"
     ]
    },
    {
     "data": {
      "text/html": [
       "<pre style=\"white-space:pre;overflow-x:auto;line-height:normal;font-family:Menlo,'DejaVu Sans Mono',consolas,'Courier New',monospace\"></pre>\n"
      ],
      "text/plain": []
     },
     "metadata": {},
     "output_type": "display_data"
    },
    {
     "name": "stderr",
     "output_type": "stream",
     "text": [
      " 70%|█████████████████████████▎          | 71/101 [15:23:11<6:29:43, 779.45s/it]"
     ]
    },
    {
     "data": {
      "text/html": [
       "<pre style=\"white-space:pre;overflow-x:auto;line-height:normal;font-family:Menlo,'DejaVu Sans Mono',consolas,'Courier New',monospace\"></pre>\n"
      ],
      "text/plain": []
     },
     "metadata": {},
     "output_type": "display_data"
    },
    {
     "name": "stderr",
     "output_type": "stream",
     "text": [
      " 71%|█████████████████████████▋          | 72/101 [15:36:11<6:16:50, 779.69s/it]"
     ]
    },
    {
     "data": {
      "text/html": [
       "<pre style=\"white-space:pre;overflow-x:auto;line-height:normal;font-family:Menlo,'DejaVu Sans Mono',consolas,'Courier New',monospace\"></pre>\n"
      ],
      "text/plain": []
     },
     "metadata": {},
     "output_type": "display_data"
    },
    {
     "name": "stderr",
     "output_type": "stream",
     "text": [
      " 72%|██████████████████████████          | 73/101 [15:49:11<6:03:51, 779.70s/it]"
     ]
    },
    {
     "data": {
      "text/html": [
       "<pre style=\"white-space:pre;overflow-x:auto;line-height:normal;font-family:Menlo,'DejaVu Sans Mono',consolas,'Courier New',monospace\"></pre>\n"
      ],
      "text/plain": []
     },
     "metadata": {},
     "output_type": "display_data"
    },
    {
     "name": "stderr",
     "output_type": "stream",
     "text": [
      " 73%|██████████████████████████▍         | 74/101 [16:02:08<5:50:31, 778.94s/it]"
     ]
    },
    {
     "data": {
      "text/html": [
       "<pre style=\"white-space:pre;overflow-x:auto;line-height:normal;font-family:Menlo,'DejaVu Sans Mono',consolas,'Courier New',monospace\"></pre>\n"
      ],
      "text/plain": []
     },
     "metadata": {},
     "output_type": "display_data"
    },
    {
     "name": "stderr",
     "output_type": "stream",
     "text": [
      " 74%|██████████████████████████▋         | 75/101 [16:15:06<5:37:24, 778.64s/it]"
     ]
    },
    {
     "data": {
      "text/html": [
       "<pre style=\"white-space:pre;overflow-x:auto;line-height:normal;font-family:Menlo,'DejaVu Sans Mono',consolas,'Courier New',monospace\"></pre>\n"
      ],
      "text/plain": []
     },
     "metadata": {},
     "output_type": "display_data"
    },
    {
     "name": "stderr",
     "output_type": "stream",
     "text": [
      " 75%|███████████████████████████         | 76/101 [16:28:02<5:24:03, 777.75s/it]"
     ]
    },
    {
     "data": {
      "text/html": [
       "<pre style=\"white-space:pre;overflow-x:auto;line-height:normal;font-family:Menlo,'DejaVu Sans Mono',consolas,'Courier New',monospace\"></pre>\n"
      ],
      "text/plain": []
     },
     "metadata": {},
     "output_type": "display_data"
    },
    {
     "name": "stderr",
     "output_type": "stream",
     "text": [
      " 76%|███████████████████████████▍        | 77/101 [16:40:58<5:10:57, 777.40s/it]"
     ]
    },
    {
     "data": {
      "text/html": [
       "<pre style=\"white-space:pre;overflow-x:auto;line-height:normal;font-family:Menlo,'DejaVu Sans Mono',consolas,'Courier New',monospace\"></pre>\n"
      ],
      "text/plain": []
     },
     "metadata": {},
     "output_type": "display_data"
    },
    {
     "name": "stderr",
     "output_type": "stream",
     "text": [
      " 77%|███████████████████████████▊        | 78/101 [16:54:02<4:58:43, 779.30s/it]"
     ]
    },
    {
     "data": {
      "text/html": [
       "<pre style=\"white-space:pre;overflow-x:auto;line-height:normal;font-family:Menlo,'DejaVu Sans Mono',consolas,'Courier New',monospace\"></pre>\n"
      ],
      "text/plain": []
     },
     "metadata": {},
     "output_type": "display_data"
    },
    {
     "name": "stderr",
     "output_type": "stream",
     "text": [
      " 78%|████████████████████████████▏       | 79/101 [17:07:01<4:45:40, 779.10s/it]"
     ]
    },
    {
     "data": {
      "text/html": [
       "<pre style=\"white-space:pre;overflow-x:auto;line-height:normal;font-family:Menlo,'DejaVu Sans Mono',consolas,'Courier New',monospace\"></pre>\n"
      ],
      "text/plain": []
     },
     "metadata": {},
     "output_type": "display_data"
    },
    {
     "name": "stderr",
     "output_type": "stream",
     "text": [
      " 79%|████████████████████████████▌       | 80/101 [17:20:00<4:32:40, 779.09s/it]"
     ]
    },
    {
     "data": {
      "text/html": [
       "<pre style=\"white-space:pre;overflow-x:auto;line-height:normal;font-family:Menlo,'DejaVu Sans Mono',consolas,'Courier New',monospace\"></pre>\n"
      ],
      "text/plain": []
     },
     "metadata": {},
     "output_type": "display_data"
    },
    {
     "name": "stderr",
     "output_type": "stream",
     "text": [
      " 80%|████████████████████████████▊       | 81/101 [17:32:59<4:19:41, 779.08s/it]"
     ]
    },
    {
     "data": {
      "text/html": [
       "<pre style=\"white-space:pre;overflow-x:auto;line-height:normal;font-family:Menlo,'DejaVu Sans Mono',consolas,'Courier New',monospace\"></pre>\n"
      ],
      "text/plain": []
     },
     "metadata": {},
     "output_type": "display_data"
    },
    {
     "name": "stderr",
     "output_type": "stream",
     "text": [
      " 81%|█████████████████████████████▏      | 82/101 [17:45:58<4:06:40, 778.98s/it]"
     ]
    },
    {
     "data": {
      "text/html": [
       "<pre style=\"white-space:pre;overflow-x:auto;line-height:normal;font-family:Menlo,'DejaVu Sans Mono',consolas,'Courier New',monospace\"></pre>\n"
      ],
      "text/plain": []
     },
     "metadata": {},
     "output_type": "display_data"
    },
    {
     "name": "stderr",
     "output_type": "stream",
     "text": [
      " 82%|█████████████████████████████▌      | 83/101 [17:58:56<3:53:40, 778.94s/it]"
     ]
    },
    {
     "data": {
      "text/html": [
       "<pre style=\"white-space:pre;overflow-x:auto;line-height:normal;font-family:Menlo,'DejaVu Sans Mono',consolas,'Courier New',monospace\"></pre>\n"
      ],
      "text/plain": []
     },
     "metadata": {},
     "output_type": "display_data"
    },
    {
     "name": "stderr",
     "output_type": "stream",
     "text": [
      " 83%|█████████████████████████████▉      | 84/101 [18:11:54<3:40:32, 778.40s/it]"
     ]
    },
    {
     "data": {
      "text/html": [
       "<pre style=\"white-space:pre;overflow-x:auto;line-height:normal;font-family:Menlo,'DejaVu Sans Mono',consolas,'Courier New',monospace\"></pre>\n"
      ],
      "text/plain": []
     },
     "metadata": {},
     "output_type": "display_data"
    },
    {
     "name": "stderr",
     "output_type": "stream",
     "text": [
      " 84%|██████████████████████████████▎     | 85/101 [18:24:50<3:27:26, 777.93s/it]"
     ]
    },
    {
     "data": {
      "text/html": [
       "<pre style=\"white-space:pre;overflow-x:auto;line-height:normal;font-family:Menlo,'DejaVu Sans Mono',consolas,'Courier New',monospace\"></pre>\n"
      ],
      "text/plain": []
     },
     "metadata": {},
     "output_type": "display_data"
    },
    {
     "name": "stderr",
     "output_type": "stream",
     "text": [
      " 85%|██████████████████████████████▋     | 86/101 [18:37:50<3:14:38, 778.55s/it]"
     ]
    },
    {
     "data": {
      "text/html": [
       "<pre style=\"white-space:pre;overflow-x:auto;line-height:normal;font-family:Menlo,'DejaVu Sans Mono',consolas,'Courier New',monospace\"></pre>\n"
      ],
      "text/plain": []
     },
     "metadata": {},
     "output_type": "display_data"
    },
    {
     "name": "stderr",
     "output_type": "stream",
     "text": [
      " 86%|███████████████████████████████     | 87/101 [18:50:51<3:01:48, 779.20s/it]"
     ]
    },
    {
     "data": {
      "text/html": [
       "<pre style=\"white-space:pre;overflow-x:auto;line-height:normal;font-family:Menlo,'DejaVu Sans Mono',consolas,'Courier New',monospace\"></pre>\n"
      ],
      "text/plain": []
     },
     "metadata": {},
     "output_type": "display_data"
    },
    {
     "name": "stderr",
     "output_type": "stream",
     "text": [
      " 87%|███████████████████████████████▎    | 88/101 [19:03:51<2:48:51, 779.38s/it]"
     ]
    },
    {
     "data": {
      "text/html": [
       "<pre style=\"white-space:pre;overflow-x:auto;line-height:normal;font-family:Menlo,'DejaVu Sans Mono',consolas,'Courier New',monospace\"></pre>\n"
      ],
      "text/plain": []
     },
     "metadata": {},
     "output_type": "display_data"
    },
    {
     "name": "stderr",
     "output_type": "stream",
     "text": [
      " 88%|███████████████████████████████▋    | 89/101 [19:16:50<2:35:50, 779.24s/it]"
     ]
    },
    {
     "data": {
      "text/html": [
       "<pre style=\"white-space:pre;overflow-x:auto;line-height:normal;font-family:Menlo,'DejaVu Sans Mono',consolas,'Courier New',monospace\"></pre>\n"
      ],
      "text/plain": []
     },
     "metadata": {},
     "output_type": "display_data"
    },
    {
     "name": "stderr",
     "output_type": "stream",
     "text": [
      " 89%|████████████████████████████████    | 90/101 [19:29:50<2:22:55, 779.55s/it]"
     ]
    },
    {
     "data": {
      "text/html": [
       "<pre style=\"white-space:pre;overflow-x:auto;line-height:normal;font-family:Menlo,'DejaVu Sans Mono',consolas,'Courier New',monospace\"></pre>\n"
      ],
      "text/plain": []
     },
     "metadata": {},
     "output_type": "display_data"
    },
    {
     "name": "stderr",
     "output_type": "stream",
     "text": [
      " 90%|████████████████████████████████▍   | 91/101 [19:42:49<2:09:52, 779.27s/it]"
     ]
    },
    {
     "data": {
      "text/html": [
       "<pre style=\"white-space:pre;overflow-x:auto;line-height:normal;font-family:Menlo,'DejaVu Sans Mono',consolas,'Courier New',monospace\"></pre>\n"
      ],
      "text/plain": []
     },
     "metadata": {},
     "output_type": "display_data"
    },
    {
     "name": "stderr",
     "output_type": "stream",
     "text": [
      " 91%|████████████████████████████████▊   | 92/101 [19:55:47<1:56:50, 778.99s/it]"
     ]
    },
    {
     "data": {
      "text/html": [
       "<pre style=\"white-space:pre;overflow-x:auto;line-height:normal;font-family:Menlo,'DejaVu Sans Mono',consolas,'Courier New',monospace\"></pre>\n"
      ],
      "text/plain": []
     },
     "metadata": {},
     "output_type": "display_data"
    },
    {
     "name": "stderr",
     "output_type": "stream",
     "text": [
      " 92%|█████████████████████████████████▏  | 93/101 [20:08:45<1:43:50, 778.78s/it]"
     ]
    },
    {
     "data": {
      "text/html": [
       "<pre style=\"white-space:pre;overflow-x:auto;line-height:normal;font-family:Menlo,'DejaVu Sans Mono',consolas,'Courier New',monospace\"></pre>\n"
      ],
      "text/plain": []
     },
     "metadata": {},
     "output_type": "display_data"
    },
    {
     "name": "stderr",
     "output_type": "stream",
     "text": [
      " 93%|█████████████████████████████████▌  | 94/101 [20:21:48<1:31:00, 780.01s/it]"
     ]
    },
    {
     "data": {
      "text/html": [
       "<pre style=\"white-space:pre;overflow-x:auto;line-height:normal;font-family:Menlo,'DejaVu Sans Mono',consolas,'Courier New',monospace\"></pre>\n"
      ],
      "text/plain": []
     },
     "metadata": {},
     "output_type": "display_data"
    },
    {
     "name": "stderr",
     "output_type": "stream",
     "text": [
      " 94%|█████████████████████████████████▊  | 95/101 [20:34:50<1:18:03, 780.54s/it]"
     ]
    },
    {
     "data": {
      "text/html": [
       "<pre style=\"white-space:pre;overflow-x:auto;line-height:normal;font-family:Menlo,'DejaVu Sans Mono',consolas,'Courier New',monospace\"></pre>\n"
      ],
      "text/plain": []
     },
     "metadata": {},
     "output_type": "display_data"
    },
    {
     "name": "stderr",
     "output_type": "stream",
     "text": [
      " 95%|██████████████████████████████████▏ | 96/101 [20:47:51<1:05:02, 780.57s/it]"
     ]
    },
    {
     "data": {
      "text/html": [
       "<pre style=\"white-space:pre;overflow-x:auto;line-height:normal;font-family:Menlo,'DejaVu Sans Mono',consolas,'Courier New',monospace\"></pre>\n"
      ],
      "text/plain": []
     },
     "metadata": {},
     "output_type": "display_data"
    },
    {
     "name": "stderr",
     "output_type": "stream",
     "text": [
      " 96%|████████████████████████████████████▍ | 97/101 [21:00:56<52:08, 782.08s/it]"
     ]
    },
    {
     "data": {
      "text/html": [
       "<pre style=\"white-space:pre;overflow-x:auto;line-height:normal;font-family:Menlo,'DejaVu Sans Mono',consolas,'Courier New',monospace\"></pre>\n"
      ],
      "text/plain": []
     },
     "metadata": {},
     "output_type": "display_data"
    },
    {
     "name": "stderr",
     "output_type": "stream",
     "text": [
      " 97%|████████████████████████████████████▊ | 98/101 [21:14:02<39:09, 783.11s/it]"
     ]
    },
    {
     "data": {
      "text/html": [
       "<pre style=\"white-space:pre;overflow-x:auto;line-height:normal;font-family:Menlo,'DejaVu Sans Mono',consolas,'Courier New',monospace\"></pre>\n"
      ],
      "text/plain": []
     },
     "metadata": {},
     "output_type": "display_data"
    },
    {
     "name": "stderr",
     "output_type": "stream",
     "text": [
      " 98%|█████████████████████████████████████▏| 99/101 [21:27:01<26:03, 781.86s/it]"
     ]
    },
    {
     "data": {
      "text/html": [
       "<pre style=\"white-space:pre;overflow-x:auto;line-height:normal;font-family:Menlo,'DejaVu Sans Mono',consolas,'Courier New',monospace\"></pre>\n"
      ],
      "text/plain": []
     },
     "metadata": {},
     "output_type": "display_data"
    },
    {
     "name": "stderr",
     "output_type": "stream",
     "text": [
      " 99%|████████████████████████████████████▋| 100/101 [21:39:58<13:00, 780.57s/it]"
     ]
    },
    {
     "data": {
      "text/html": [
       "<pre style=\"white-space:pre;overflow-x:auto;line-height:normal;font-family:Menlo,'DejaVu Sans Mono',consolas,'Courier New',monospace\"></pre>\n"
      ],
      "text/plain": []
     },
     "metadata": {},
     "output_type": "display_data"
    },
    {
     "name": "stderr",
     "output_type": "stream",
     "text": [
      "100%|█████████████████████████████████████| 101/101 [21:52:58<00:00, 779.99s/it]\n"
     ]
    }
   ],
   "source": [
    "## Learning Rate Multiply by 0.5 if sum val_loss (E900-E1000) / sum val_loss(E0-E100) > 0.9\n",
    "import os\n",
    "import pandas as pd\n",
    "from tqdm import tqdm\n",
    "import matplotlib.pyplot as plt\n",
    "import seaborn as sns\n",
    "\n",
    "# Define the output directory and subdirectories\n",
    "output_dir = 'Default_AE_Default_Data_RLROP/AE_Training_1'\n",
    "subfolders = {\n",
    "    'AE_Latent_Space_Data_TXT': os.path.join(output_dir, 'AE_Latent_Space_Data_TXT'),\n",
    "    'AE_Training_Loss_Data': os.path.join(output_dir, 'AE_Training_Loss_Data'),\n",
    "    'AE_Training_Loss_Graphs': os.path.join(output_dir, 'AE_Training_Loss_Graphs'),\n",
    "    'AE_Latent_Space_Graphs': os.path.join(output_dir, 'AE_Latent_Space_Graphs'),\n",
    "    'AE_Latent_Space_Data_PKL': os.path.join(output_dir, 'AE_Latent_Space_Data_PKL'),\n",
    "    'models': os.path.join(output_dir, 'models'),\n",
    "}\n",
    "\n",
    "# Create all subdirectories\n",
    "for folder in subfolders.values():\n",
    "    os.makedirs(folder, exist_ok=True)\n",
    "\n",
    "# Initialize the autoencoder with the loaded training data\n",
    "initial_learning_rate = 1e-4\n",
    "min_learning_rate = 1e-6\n",
    "autoencoder = AE_Model(X_train_loaded, learning_rate=initial_learning_rate)\n",
    "\n",
    "# Initialize variables for RLROP\n",
    "current_lr = initial_learning_rate\n",
    "\n",
    "# Training loop\n",
    "for counts in tqdm(range(101)):\n",
    "    name = \"Autoencoder_Training\"\n",
    "\n",
    "    # Save the latent space predictions log\n",
    "    txt_file_path = os.path.join(subfolders['AE_Latent_Space_Data_TXT'], f\"{counts}_Latent_Space_Predictions_Log.txt\")\n",
    "    with open(txt_file_path, \"w\") as file:\n",
    "        # Train the model\n",
    "        history = autoencoder.fit(\n",
    "            X_train_loaded, X_train_loaded,\n",
    "            epochs=1000,\n",
    "            validation_data=(X_valid_loaded, X_valid_loaded),\n",
    "            verbose=0\n",
    "        )\n",
    "\n",
    "        # Save training loss history\n",
    "        training_history = pd.DataFrame(history.history)\n",
    "        history_file_path = os.path.join(subfolders['AE_Training_Loss_Data'], f\"{counts}_{name}_History.pkl\")\n",
    "        training_history.to_pickle(history_file_path)\n",
    "\n",
    "        # Save training loss graph\n",
    "        plt.plot(training_history['loss'], label='Train Loss')\n",
    "        plt.plot(training_history['val_loss'], label='Validation Loss')\n",
    "        plt.title(f\"{name} (LR={current_lr:.1e})\")\n",
    "        plt.legend()\n",
    "        graph_file_path = os.path.join(subfolders['AE_Training_Loss_Graphs'], f\"{counts}_{name}_History.png\")\n",
    "        plt.savefig(graph_file_path, dpi=300)\n",
    "        plt.clf()\n",
    "        plt.close()\n",
    "\n",
    "        # Define the latent space model\n",
    "        dr_model = tf.keras.models.Model(\n",
    "            inputs=autoencoder.input,\n",
    "            outputs=autoencoder.get_layer('ae_latent').output\n",
    "        )\n",
    "        dr_model.summary(print_fn=lambda x: file.write(x + '\\n'))\n",
    "\n",
    "        # Initialize latent space variables\n",
    "        x, y, z, indices = [], [], [], []\n",
    "\n",
    "        # Process validation data in batches\n",
    "        batch_size = 32\n",
    "        for batch_start in range(0, len(X_valid_loaded), batch_size):\n",
    "            batch_end = min(batch_start + batch_size, len(X_valid_loaded))\n",
    "            X_batch = np.array(X_valid_loaded.iloc[batch_start:batch_end])\n",
    "            y_batch = y_valid_loaded.iloc[batch_start:batch_end].values.flatten()\n",
    "\n",
    "            # Predict latent space values\n",
    "            op_batch = dr_model.predict(X_batch, verbose=0)\n",
    "            for i, op in enumerate(op_batch):\n",
    "                z.append(y_batch[i])\n",
    "                x.append(op[0])\n",
    "                y.append(op[1])\n",
    "                indices.append(y_valid_loaded.index[batch_start + i])\n",
    "                file.write(f\"Prediction {batch_start + i}: {op}\\n\")\n",
    "\n",
    "        # Save latent space scatter plot\n",
    "        df = pd.DataFrame({'x': x, 'y': y, 'z': [f\"trajectory-{k}\" for k in z], 'index': indices})\n",
    "        plt.figure(figsize=(8, 6))\n",
    "        sns.scatterplot(x='x', y='y', hue='z', data=df, s=10)\n",
    "        scatter_file_path = os.path.join(subfolders['AE_Latent_Space_Graphs'], f\"{counts}_Latent_Space.png\")\n",
    "        plt.savefig(scatter_file_path, dpi=300)\n",
    "        plt.clf()\n",
    "        plt.close()\n",
    "\n",
    "        # Save latent space data as pickle\n",
    "        pkl_file_path = os.path.join(subfolders['AE_Latent_Space_Data_PKL'], f\"{counts}_Latent_Space.pkl\")\n",
    "        df.to_pickle(pkl_file_path)\n",
    "\n",
    "        # Save the model\n",
    "        model_file_path = os.path.join(subfolders['models'], f\"saved_model_{counts}.keras\")\n",
    "        save_model(autoencoder, model_file_path)\n",
    "\n",
    "        # Implement RLROP: Calculate average validation loss reduction\n",
    "        if counts > 0:\n",
    "            first_100_avg = training_history['val_loss'][:100].mean()\n",
    "            last_100_avg = training_history['val_loss'][-100:].mean()\n",
    "            if (first_100_avg - last_100_avg) / first_100_avg < 0.1:\n",
    "                current_lr = max(current_lr * 0.5, min_learning_rate)\n",
    "                autoencoder.optimizer.learning_rate.assign(current_lr)"
   ]
  },
  {
   "cell_type": "markdown",
   "id": "d23fc992-67c1-408a-a076-68f36edeb8dc",
   "metadata": {
    "jp-MarkdownHeadingCollapsed": true
   },
   "source": [
    "# Shuffled, Filtered Dataset"
   ]
  },
  {
   "cell_type": "code",
   "execution_count": 2,
   "id": "2c615a0f-1a5a-4c91-8c19-279c0429331c",
   "metadata": {},
   "outputs": [],
   "source": [
    "# Save the model using the recommended Keras format\n",
    "def save_model(model, model_path):\n",
    "    if not model_path.endswith('.keras'):\n",
    "        model_path += '.keras'\n",
    "    model.save(model_path)\n",
    "    \n",
    "# Load the model\n",
    "def load_existing_model(model_path):\n",
    "    return load_model(model_path)"
   ]
  },
  {
   "cell_type": "code",
   "execution_count": 3,
   "id": "ff57dfd7-14a9-4459-b76e-920048c542ac",
   "metadata": {},
   "outputs": [],
   "source": [
    "# Get autoencoder model\n",
    "def AE_Model(train_data, LeReLU_alpha=0.01, batch_size=256):\n",
    "    \n",
    "    input_layer = Input(shape=(train_data.shape[1],), name='ae_input')\n",
    "    \n",
    "    encoder = Dense(1024, activation=LeakyReLU(negative_slope=LeReLU_alpha), name='e1')(input_layer)\n",
    "    encoder = Dense(512, activation=LeakyReLU(negative_slope=LeReLU_alpha), name='e2')(encoder)\n",
    "    encoder = Dense(256, activation=LeakyReLU(negative_slope=LeReLU_alpha), name='e3')(encoder)\n",
    "    encoder = Dense(128, activation=LeakyReLU(negative_slope=LeReLU_alpha), name='e4')(encoder)\n",
    "    encoder = Dense(64, activation=LeakyReLU(negative_slope=LeReLU_alpha), name='e5')(encoder)\n",
    "    encoder = Dense(32, activation=LeakyReLU(negative_slope=LeReLU_alpha), name='e6')(encoder)\n",
    "\n",
    "    encoded = Dense(2, activation='linear', name='ae_latent')(encoder)\n",
    "    \n",
    "    decoder = Dense(32, activation=LeakyReLU(negative_slope=LeReLU_alpha), name='d6')(encoded)\n",
    "    decoder = Dense(64, activation=LeakyReLU(negative_slope=LeReLU_alpha), name='d5')(decoder)\n",
    "    decoder = Dense(128, activation=LeakyReLU(negative_slope=LeReLU_alpha), name='d4')(decoder)\n",
    "    decoder = Dense(256, activation=LeakyReLU(negative_slope=LeReLU_alpha), name='d3')(decoder)\n",
    "    decoder = Dense(512, activation=LeakyReLU(negative_slope=LeReLU_alpha), name='d2')(decoder)\n",
    "    decoder = Dense(1024, activation=LeakyReLU(negative_slope=LeReLU_alpha), name='d1')(decoder)\n",
    "\n",
    "    output_layer = Dense(train_data.shape[1], activation='linear', name='ae_output')(decoder)\n",
    "    \n",
    "    model = Model(inputs=input_layer, outputs=output_layer)\n",
    "    model.compile(optimizer=Adam(learning_rate=1e-5), loss=MeanSquaredError())\n",
    "    \n",
    "    model.summary()\n",
    "    \n",
    "    return model"
   ]
  },
  {
   "cell_type": "code",
   "execution_count": 4,
   "id": "61cb14cf-8548-4eda-8fbb-269ff591506e",
   "metadata": {},
   "outputs": [],
   "source": [
    "def load_datasets(fold, base_folder):\n",
    "    \"\"\"\n",
    "    Load datasets for a specific fold.\n",
    "    \"\"\"\n",
    "    folder_name = os.path.join(base_folder, f'Training_Set_{fold}')\n",
    "    \n",
    "    X_train = pd.read_csv(os.path.join(folder_name, 'X_train_f.csv'), index_col=0)\n",
    "    y_train = pd.read_csv(os.path.join(folder_name, 'y_train_f.csv'), index_col=0)\n",
    "    X_valid = pd.read_csv(os.path.join(folder_name, 'X_valid_f.csv'), index_col=0)\n",
    "    y_valid = pd.read_csv(os.path.join(folder_name, 'y_valid_f.csv'), index_col=0)\n",
    "    \n",
    "    return X_train, y_train, X_valid, y_valid\n",
    "\n",
    "base_folder = \"AE_Data/Filtered_Shuffled_Compaction_Data\"\n",
    "X_train_loaded, y_train_loaded, X_valid_loaded, y_valid_loaded = load_datasets(fold=1, base_folder=base_folder)"
   ]
  },
  {
   "cell_type": "code",
   "execution_count": 5,
   "id": "018877fe-92ef-4f6e-b091-9d00fdc96d96",
   "metadata": {},
   "outputs": [
    {
     "name": "stdout",
     "output_type": "stream",
     "text": [
      "             10        26        29        30        38         7         8  \\\n",
      "32823  0.581820  0.580513  0.465041  0.219771  0.394883  0.369550  0.414636   \n",
      "28505  0.605215  0.357156  0.805869  0.619109  0.487875  0.147931  0.142953   \n",
      "6689   0.458832  0.222296  0.751903  0.273659  0.483952  0.260578  0.636252   \n",
      "36572  0.242426  0.269379  0.401734  0.490664  0.503974  0.245061  0.803909   \n",
      "12335  0.546329  0.397127  0.774965  0.125088  0.447993  0.149885  0.678769   \n",
      "...         ...       ...       ...       ...       ...       ...       ...   \n",
      "6265   0.625532  0.281942  0.681292  0.164125  0.666801  0.155468  0.574162   \n",
      "11284  0.532060  0.722206  0.678063  0.189079  0.550389  0.267015  0.705913   \n",
      "38158  0.247786  0.795716  0.586447  0.505211  0.549095  0.369128  0.542627   \n",
      "860    0.467415  0.540923  0.864833  0.199565  0.800465  0.178709  0.074222   \n",
      "15795  0.530086  0.638857  0.831911  0.242039  0.624472  0.318827  0.628040   \n",
      "\n",
      "             28        43       8.1  ...         2      7.16         1  \\\n",
      "32823  0.428368  0.684828  0.706962  ...  0.687210  0.449347  0.693475   \n",
      "28505  0.469294  0.462892  0.167712  ...  0.308110  0.324597  0.266379   \n",
      "6689   0.711919  0.601453  0.279082  ...  0.202036  0.197412  0.202302   \n",
      "36572  0.202073  0.230641  0.611974  ...  0.302101  0.234059  0.277148   \n",
      "12335  0.633756  0.205434  0.393446  ...  0.143461  0.110481  0.117267   \n",
      "...         ...       ...       ...  ...       ...       ...       ...   \n",
      "6265   0.714733  0.737952  0.483014  ...  0.174689  0.236799  0.203019   \n",
      "11284  0.679842  0.228420  0.436311  ...  0.139586  0.208500  0.190844   \n",
      "38158  0.389777  0.829351  0.457042  ...  0.462823  0.621930  0.483999   \n",
      "860    0.645383  0.229916  0.153764  ...  0.289513  0.183425  0.319708   \n",
      "15795  0.636628  0.291551  0.655764  ...  0.136828  0.109008  0.094119   \n",
      "\n",
      "            1.1       1.2       1.3       1.4       1.5       1.6       1.7  \n",
      "32823  0.694198  0.630996  0.584345  0.552251  0.562286  0.598024  0.541341  \n",
      "28505  0.314441  0.315827  0.357124  0.401633  0.384585  0.373119  0.417056  \n",
      "6689   0.250079  0.261647  0.307803  0.345759  0.319028  0.271572  0.323520  \n",
      "36572  0.331902  0.304404  0.266866  0.315961  0.354973  0.374173  0.441916  \n",
      "12335  0.174909  0.153159  0.207319  0.219687  0.228765  0.243190  0.277121  \n",
      "...         ...       ...       ...       ...       ...       ...       ...  \n",
      "6265   0.237175  0.265186  0.230909  0.238307  0.259338  0.221081  0.292414  \n",
      "11284  0.193529  0.123223  0.123085  0.178708  0.187493  0.145413  0.173624  \n",
      "38158  0.448382  0.508844  0.490085  0.534063  0.523270  0.532764  0.492972  \n",
      "860    0.244638  0.209171  0.166978  0.251074  0.246572  0.205787  0.207751  \n",
      "15795  0.084413  0.113461  0.108405  0.026038  0.052450  0.117833  0.057711  \n",
      "\n",
      "[32000 rows x 122 columns]\n"
     ]
    }
   ],
   "source": [
    "print(X_train_loaded)"
   ]
  },
  {
   "cell_type": "code",
   "execution_count": 6,
   "id": "831b63fe-eaa9-40dd-8b95-ec20354c8f27",
   "metadata": {},
   "outputs": [
    {
     "name": "stderr",
     "output_type": "stream",
     "text": [
      "WARNING: All log messages before absl::InitializeLog() is called are written to STDERR\n",
      "I0000 00:00:1733076887.172368    4131 cuda_executor.cc:1015] successful NUMA node read from SysFS had negative value (-1), but there must be at least one NUMA node, so returning NUMA node zero. See more at https://github.com/torvalds/linux/blob/v6.0/Documentation/ABI/testing/sysfs-bus-pci#L344-L355\n",
      "I0000 00:00:1733076887.239965    4131 cuda_executor.cc:1015] successful NUMA node read from SysFS had negative value (-1), but there must be at least one NUMA node, so returning NUMA node zero. See more at https://github.com/torvalds/linux/blob/v6.0/Documentation/ABI/testing/sysfs-bus-pci#L344-L355\n",
      "I0000 00:00:1733076887.240081    4131 cuda_executor.cc:1015] successful NUMA node read from SysFS had negative value (-1), but there must be at least one NUMA node, so returning NUMA node zero. See more at https://github.com/torvalds/linux/blob/v6.0/Documentation/ABI/testing/sysfs-bus-pci#L344-L355\n",
      "I0000 00:00:1733076887.241761    4131 cuda_executor.cc:1015] successful NUMA node read from SysFS had negative value (-1), but there must be at least one NUMA node, so returning NUMA node zero. See more at https://github.com/torvalds/linux/blob/v6.0/Documentation/ABI/testing/sysfs-bus-pci#L344-L355\n",
      "I0000 00:00:1733076887.241857    4131 cuda_executor.cc:1015] successful NUMA node read from SysFS had negative value (-1), but there must be at least one NUMA node, so returning NUMA node zero. See more at https://github.com/torvalds/linux/blob/v6.0/Documentation/ABI/testing/sysfs-bus-pci#L344-L355\n",
      "I0000 00:00:1733076887.241920    4131 cuda_executor.cc:1015] successful NUMA node read from SysFS had negative value (-1), but there must be at least one NUMA node, so returning NUMA node zero. See more at https://github.com/torvalds/linux/blob/v6.0/Documentation/ABI/testing/sysfs-bus-pci#L344-L355\n",
      "I0000 00:00:1733076887.285813    4131 cuda_executor.cc:1015] successful NUMA node read from SysFS had negative value (-1), but there must be at least one NUMA node, so returning NUMA node zero. See more at https://github.com/torvalds/linux/blob/v6.0/Documentation/ABI/testing/sysfs-bus-pci#L344-L355\n",
      "I0000 00:00:1733076887.285893    4131 cuda_executor.cc:1015] successful NUMA node read from SysFS had negative value (-1), but there must be at least one NUMA node, so returning NUMA node zero. See more at https://github.com/torvalds/linux/blob/v6.0/Documentation/ABI/testing/sysfs-bus-pci#L344-L355\n",
      "I0000 00:00:1733076887.285947    4131 cuda_executor.cc:1015] successful NUMA node read from SysFS had negative value (-1), but there must be at least one NUMA node, so returning NUMA node zero. See more at https://github.com/torvalds/linux/blob/v6.0/Documentation/ABI/testing/sysfs-bus-pci#L344-L355\n",
      "2024-12-01 18:14:47.286160: I tensorflow/core/common_runtime/gpu/gpu_device.cc:2021] Created device /job:localhost/replica:0/task:0/device:GPU:0 with 13837 MB memory:  -> device: 0, name: NVIDIA GeForce RTX 4080 SUPER, pci bus id: 0000:01:00.0, compute capability: 8.9\n"
     ]
    },
    {
     "data": {
      "text/html": [
       "<pre style=\"white-space:pre;overflow-x:auto;line-height:normal;font-family:Menlo,'DejaVu Sans Mono',consolas,'Courier New',monospace\"><span style=\"font-weight: bold\">Model: \"functional\"</span>\n",
       "</pre>\n"
      ],
      "text/plain": [
       "\u001b[1mModel: \"functional\"\u001b[0m\n"
      ]
     },
     "metadata": {},
     "output_type": "display_data"
    },
    {
     "data": {
      "text/html": [
       "<pre style=\"white-space:pre;overflow-x:auto;line-height:normal;font-family:Menlo,'DejaVu Sans Mono',consolas,'Courier New',monospace\">┏━━━━━━━━━━━━━━━━━━━━━━━━━━━━━━━━━┳━━━━━━━━━━━━━━━━━━━━━━━━┳━━━━━━━━━━━━━━━┓\n",
       "┃<span style=\"font-weight: bold\"> Layer (type)                    </span>┃<span style=\"font-weight: bold\"> Output Shape           </span>┃<span style=\"font-weight: bold\">       Param # </span>┃\n",
       "┡━━━━━━━━━━━━━━━━━━━━━━━━━━━━━━━━━╇━━━━━━━━━━━━━━━━━━━━━━━━╇━━━━━━━━━━━━━━━┩\n",
       "│ ae_input (<span style=\"color: #0087ff; text-decoration-color: #0087ff\">InputLayer</span>)           │ (<span style=\"color: #00d7ff; text-decoration-color: #00d7ff\">None</span>, <span style=\"color: #00af00; text-decoration-color: #00af00\">122</span>)            │             <span style=\"color: #00af00; text-decoration-color: #00af00\">0</span> │\n",
       "├─────────────────────────────────┼────────────────────────┼───────────────┤\n",
       "│ e1 (<span style=\"color: #0087ff; text-decoration-color: #0087ff\">Dense</span>)                      │ (<span style=\"color: #00d7ff; text-decoration-color: #00d7ff\">None</span>, <span style=\"color: #00af00; text-decoration-color: #00af00\">1024</span>)           │       <span style=\"color: #00af00; text-decoration-color: #00af00\">125,952</span> │\n",
       "├─────────────────────────────────┼────────────────────────┼───────────────┤\n",
       "│ e2 (<span style=\"color: #0087ff; text-decoration-color: #0087ff\">Dense</span>)                      │ (<span style=\"color: #00d7ff; text-decoration-color: #00d7ff\">None</span>, <span style=\"color: #00af00; text-decoration-color: #00af00\">512</span>)            │       <span style=\"color: #00af00; text-decoration-color: #00af00\">524,800</span> │\n",
       "├─────────────────────────────────┼────────────────────────┼───────────────┤\n",
       "│ e3 (<span style=\"color: #0087ff; text-decoration-color: #0087ff\">Dense</span>)                      │ (<span style=\"color: #00d7ff; text-decoration-color: #00d7ff\">None</span>, <span style=\"color: #00af00; text-decoration-color: #00af00\">256</span>)            │       <span style=\"color: #00af00; text-decoration-color: #00af00\">131,328</span> │\n",
       "├─────────────────────────────────┼────────────────────────┼───────────────┤\n",
       "│ e4 (<span style=\"color: #0087ff; text-decoration-color: #0087ff\">Dense</span>)                      │ (<span style=\"color: #00d7ff; text-decoration-color: #00d7ff\">None</span>, <span style=\"color: #00af00; text-decoration-color: #00af00\">128</span>)            │        <span style=\"color: #00af00; text-decoration-color: #00af00\">32,896</span> │\n",
       "├─────────────────────────────────┼────────────────────────┼───────────────┤\n",
       "│ e5 (<span style=\"color: #0087ff; text-decoration-color: #0087ff\">Dense</span>)                      │ (<span style=\"color: #00d7ff; text-decoration-color: #00d7ff\">None</span>, <span style=\"color: #00af00; text-decoration-color: #00af00\">64</span>)             │         <span style=\"color: #00af00; text-decoration-color: #00af00\">8,256</span> │\n",
       "├─────────────────────────────────┼────────────────────────┼───────────────┤\n",
       "│ e6 (<span style=\"color: #0087ff; text-decoration-color: #0087ff\">Dense</span>)                      │ (<span style=\"color: #00d7ff; text-decoration-color: #00d7ff\">None</span>, <span style=\"color: #00af00; text-decoration-color: #00af00\">32</span>)             │         <span style=\"color: #00af00; text-decoration-color: #00af00\">2,080</span> │\n",
       "├─────────────────────────────────┼────────────────────────┼───────────────┤\n",
       "│ ae_latent (<span style=\"color: #0087ff; text-decoration-color: #0087ff\">Dense</span>)               │ (<span style=\"color: #00d7ff; text-decoration-color: #00d7ff\">None</span>, <span style=\"color: #00af00; text-decoration-color: #00af00\">2</span>)              │            <span style=\"color: #00af00; text-decoration-color: #00af00\">66</span> │\n",
       "├─────────────────────────────────┼────────────────────────┼───────────────┤\n",
       "│ d6 (<span style=\"color: #0087ff; text-decoration-color: #0087ff\">Dense</span>)                      │ (<span style=\"color: #00d7ff; text-decoration-color: #00d7ff\">None</span>, <span style=\"color: #00af00; text-decoration-color: #00af00\">32</span>)             │            <span style=\"color: #00af00; text-decoration-color: #00af00\">96</span> │\n",
       "├─────────────────────────────────┼────────────────────────┼───────────────┤\n",
       "│ d5 (<span style=\"color: #0087ff; text-decoration-color: #0087ff\">Dense</span>)                      │ (<span style=\"color: #00d7ff; text-decoration-color: #00d7ff\">None</span>, <span style=\"color: #00af00; text-decoration-color: #00af00\">64</span>)             │         <span style=\"color: #00af00; text-decoration-color: #00af00\">2,112</span> │\n",
       "├─────────────────────────────────┼────────────────────────┼───────────────┤\n",
       "│ d4 (<span style=\"color: #0087ff; text-decoration-color: #0087ff\">Dense</span>)                      │ (<span style=\"color: #00d7ff; text-decoration-color: #00d7ff\">None</span>, <span style=\"color: #00af00; text-decoration-color: #00af00\">128</span>)            │         <span style=\"color: #00af00; text-decoration-color: #00af00\">8,320</span> │\n",
       "├─────────────────────────────────┼────────────────────────┼───────────────┤\n",
       "│ d3 (<span style=\"color: #0087ff; text-decoration-color: #0087ff\">Dense</span>)                      │ (<span style=\"color: #00d7ff; text-decoration-color: #00d7ff\">None</span>, <span style=\"color: #00af00; text-decoration-color: #00af00\">256</span>)            │        <span style=\"color: #00af00; text-decoration-color: #00af00\">33,024</span> │\n",
       "├─────────────────────────────────┼────────────────────────┼───────────────┤\n",
       "│ d2 (<span style=\"color: #0087ff; text-decoration-color: #0087ff\">Dense</span>)                      │ (<span style=\"color: #00d7ff; text-decoration-color: #00d7ff\">None</span>, <span style=\"color: #00af00; text-decoration-color: #00af00\">512</span>)            │       <span style=\"color: #00af00; text-decoration-color: #00af00\">131,584</span> │\n",
       "├─────────────────────────────────┼────────────────────────┼───────────────┤\n",
       "│ d1 (<span style=\"color: #0087ff; text-decoration-color: #0087ff\">Dense</span>)                      │ (<span style=\"color: #00d7ff; text-decoration-color: #00d7ff\">None</span>, <span style=\"color: #00af00; text-decoration-color: #00af00\">1024</span>)           │       <span style=\"color: #00af00; text-decoration-color: #00af00\">525,312</span> │\n",
       "├─────────────────────────────────┼────────────────────────┼───────────────┤\n",
       "│ ae_output (<span style=\"color: #0087ff; text-decoration-color: #0087ff\">Dense</span>)               │ (<span style=\"color: #00d7ff; text-decoration-color: #00d7ff\">None</span>, <span style=\"color: #00af00; text-decoration-color: #00af00\">122</span>)            │       <span style=\"color: #00af00; text-decoration-color: #00af00\">125,050</span> │\n",
       "└─────────────────────────────────┴────────────────────────┴───────────────┘\n",
       "</pre>\n"
      ],
      "text/plain": [
       "┏━━━━━━━━━━━━━━━━━━━━━━━━━━━━━━━━━┳━━━━━━━━━━━━━━━━━━━━━━━━┳━━━━━━━━━━━━━━━┓\n",
       "┃\u001b[1m \u001b[0m\u001b[1mLayer (type)                   \u001b[0m\u001b[1m \u001b[0m┃\u001b[1m \u001b[0m\u001b[1mOutput Shape          \u001b[0m\u001b[1m \u001b[0m┃\u001b[1m \u001b[0m\u001b[1m      Param #\u001b[0m\u001b[1m \u001b[0m┃\n",
       "┡━━━━━━━━━━━━━━━━━━━━━━━━━━━━━━━━━╇━━━━━━━━━━━━━━━━━━━━━━━━╇━━━━━━━━━━━━━━━┩\n",
       "│ ae_input (\u001b[38;5;33mInputLayer\u001b[0m)           │ (\u001b[38;5;45mNone\u001b[0m, \u001b[38;5;34m122\u001b[0m)            │             \u001b[38;5;34m0\u001b[0m │\n",
       "├─────────────────────────────────┼────────────────────────┼───────────────┤\n",
       "│ e1 (\u001b[38;5;33mDense\u001b[0m)                      │ (\u001b[38;5;45mNone\u001b[0m, \u001b[38;5;34m1024\u001b[0m)           │       \u001b[38;5;34m125,952\u001b[0m │\n",
       "├─────────────────────────────────┼────────────────────────┼───────────────┤\n",
       "│ e2 (\u001b[38;5;33mDense\u001b[0m)                      │ (\u001b[38;5;45mNone\u001b[0m, \u001b[38;5;34m512\u001b[0m)            │       \u001b[38;5;34m524,800\u001b[0m │\n",
       "├─────────────────────────────────┼────────────────────────┼───────────────┤\n",
       "│ e3 (\u001b[38;5;33mDense\u001b[0m)                      │ (\u001b[38;5;45mNone\u001b[0m, \u001b[38;5;34m256\u001b[0m)            │       \u001b[38;5;34m131,328\u001b[0m │\n",
       "├─────────────────────────────────┼────────────────────────┼───────────────┤\n",
       "│ e4 (\u001b[38;5;33mDense\u001b[0m)                      │ (\u001b[38;5;45mNone\u001b[0m, \u001b[38;5;34m128\u001b[0m)            │        \u001b[38;5;34m32,896\u001b[0m │\n",
       "├─────────────────────────────────┼────────────────────────┼───────────────┤\n",
       "│ e5 (\u001b[38;5;33mDense\u001b[0m)                      │ (\u001b[38;5;45mNone\u001b[0m, \u001b[38;5;34m64\u001b[0m)             │         \u001b[38;5;34m8,256\u001b[0m │\n",
       "├─────────────────────────────────┼────────────────────────┼───────────────┤\n",
       "│ e6 (\u001b[38;5;33mDense\u001b[0m)                      │ (\u001b[38;5;45mNone\u001b[0m, \u001b[38;5;34m32\u001b[0m)             │         \u001b[38;5;34m2,080\u001b[0m │\n",
       "├─────────────────────────────────┼────────────────────────┼───────────────┤\n",
       "│ ae_latent (\u001b[38;5;33mDense\u001b[0m)               │ (\u001b[38;5;45mNone\u001b[0m, \u001b[38;5;34m2\u001b[0m)              │            \u001b[38;5;34m66\u001b[0m │\n",
       "├─────────────────────────────────┼────────────────────────┼───────────────┤\n",
       "│ d6 (\u001b[38;5;33mDense\u001b[0m)                      │ (\u001b[38;5;45mNone\u001b[0m, \u001b[38;5;34m32\u001b[0m)             │            \u001b[38;5;34m96\u001b[0m │\n",
       "├─────────────────────────────────┼────────────────────────┼───────────────┤\n",
       "│ d5 (\u001b[38;5;33mDense\u001b[0m)                      │ (\u001b[38;5;45mNone\u001b[0m, \u001b[38;5;34m64\u001b[0m)             │         \u001b[38;5;34m2,112\u001b[0m │\n",
       "├─────────────────────────────────┼────────────────────────┼───────────────┤\n",
       "│ d4 (\u001b[38;5;33mDense\u001b[0m)                      │ (\u001b[38;5;45mNone\u001b[0m, \u001b[38;5;34m128\u001b[0m)            │         \u001b[38;5;34m8,320\u001b[0m │\n",
       "├─────────────────────────────────┼────────────────────────┼───────────────┤\n",
       "│ d3 (\u001b[38;5;33mDense\u001b[0m)                      │ (\u001b[38;5;45mNone\u001b[0m, \u001b[38;5;34m256\u001b[0m)            │        \u001b[38;5;34m33,024\u001b[0m │\n",
       "├─────────────────────────────────┼────────────────────────┼───────────────┤\n",
       "│ d2 (\u001b[38;5;33mDense\u001b[0m)                      │ (\u001b[38;5;45mNone\u001b[0m, \u001b[38;5;34m512\u001b[0m)            │       \u001b[38;5;34m131,584\u001b[0m │\n",
       "├─────────────────────────────────┼────────────────────────┼───────────────┤\n",
       "│ d1 (\u001b[38;5;33mDense\u001b[0m)                      │ (\u001b[38;5;45mNone\u001b[0m, \u001b[38;5;34m1024\u001b[0m)           │       \u001b[38;5;34m525,312\u001b[0m │\n",
       "├─────────────────────────────────┼────────────────────────┼───────────────┤\n",
       "│ ae_output (\u001b[38;5;33mDense\u001b[0m)               │ (\u001b[38;5;45mNone\u001b[0m, \u001b[38;5;34m122\u001b[0m)            │       \u001b[38;5;34m125,050\u001b[0m │\n",
       "└─────────────────────────────────┴────────────────────────┴───────────────┘\n"
      ]
     },
     "metadata": {},
     "output_type": "display_data"
    },
    {
     "data": {
      "text/html": [
       "<pre style=\"white-space:pre;overflow-x:auto;line-height:normal;font-family:Menlo,'DejaVu Sans Mono',consolas,'Courier New',monospace\"><span style=\"font-weight: bold\"> Total params: </span><span style=\"color: #00af00; text-decoration-color: #00af00\">1,650,876</span> (6.30 MB)\n",
       "</pre>\n"
      ],
      "text/plain": [
       "\u001b[1m Total params: \u001b[0m\u001b[38;5;34m1,650,876\u001b[0m (6.30 MB)\n"
      ]
     },
     "metadata": {},
     "output_type": "display_data"
    },
    {
     "data": {
      "text/html": [
       "<pre style=\"white-space:pre;overflow-x:auto;line-height:normal;font-family:Menlo,'DejaVu Sans Mono',consolas,'Courier New',monospace\"><span style=\"font-weight: bold\"> Trainable params: </span><span style=\"color: #00af00; text-decoration-color: #00af00\">1,650,876</span> (6.30 MB)\n",
       "</pre>\n"
      ],
      "text/plain": [
       "\u001b[1m Trainable params: \u001b[0m\u001b[38;5;34m1,650,876\u001b[0m (6.30 MB)\n"
      ]
     },
     "metadata": {},
     "output_type": "display_data"
    },
    {
     "data": {
      "text/html": [
       "<pre style=\"white-space:pre;overflow-x:auto;line-height:normal;font-family:Menlo,'DejaVu Sans Mono',consolas,'Courier New',monospace\"><span style=\"font-weight: bold\"> Non-trainable params: </span><span style=\"color: #00af00; text-decoration-color: #00af00\">0</span> (0.00 B)\n",
       "</pre>\n"
      ],
      "text/plain": [
       "\u001b[1m Non-trainable params: \u001b[0m\u001b[38;5;34m0\u001b[0m (0.00 B)\n"
      ]
     },
     "metadata": {},
     "output_type": "display_data"
    },
    {
     "name": "stderr",
     "output_type": "stream",
     "text": [
      "  0%|                                                   | 0/101 [00:00<?, ?it/s]WARNING: All log messages before absl::InitializeLog() is called are written to STDERR\n",
      "I0000 00:00:1733076888.812731    4256 service.cc:146] XLA service 0x708ef00198a0 initialized for platform CUDA (this does not guarantee that XLA will be used). Devices:\n",
      "I0000 00:00:1733076888.812747    4256 service.cc:154]   StreamExecutor device (0): NVIDIA GeForce RTX 4080 SUPER, Compute Capability 8.9\n",
      "2024-12-01 18:14:48.841904: I tensorflow/compiler/mlir/tensorflow/utils/dump_mlir_util.cc:268] disabling MLIR crash reproducer, set env var `MLIR_CRASH_REPRODUCER_DIRECTORY` to enable.\n",
      "2024-12-01 18:14:48.971537: I external/local_xla/xla/stream_executor/cuda/cuda_dnn.cc:531] Loaded cuDNN version 8907\n",
      "I0000 00:00:1733076890.097025    4256 device_compiler.h:188] Compiled cluster using XLA!  This line is logged at most once for the lifetime of the process.\n"
     ]
    },
    {
     "data": {
      "text/html": [
       "<pre style=\"white-space:pre;overflow-x:auto;line-height:normal;font-family:Menlo,'DejaVu Sans Mono',consolas,'Courier New',monospace\"></pre>\n"
      ],
      "text/plain": []
     },
     "metadata": {},
     "output_type": "display_data"
    },
    {
     "name": "stderr",
     "output_type": "stream",
     "text": [
      "  1%|▍                                      | 1/101 [08:37<14:21:54, 517.15s/it]"
     ]
    },
    {
     "data": {
      "text/html": [
       "<pre style=\"white-space:pre;overflow-x:auto;line-height:normal;font-family:Menlo,'DejaVu Sans Mono',consolas,'Courier New',monospace\"></pre>\n"
      ],
      "text/plain": []
     },
     "metadata": {},
     "output_type": "display_data"
    },
    {
     "name": "stderr",
     "output_type": "stream",
     "text": [
      "  2%|▊                                      | 2/101 [17:14<14:13:23, 517.20s/it]"
     ]
    },
    {
     "data": {
      "text/html": [
       "<pre style=\"white-space:pre;overflow-x:auto;line-height:normal;font-family:Menlo,'DejaVu Sans Mono',consolas,'Courier New',monospace\"></pre>\n"
      ],
      "text/plain": []
     },
     "metadata": {},
     "output_type": "display_data"
    },
    {
     "name": "stderr",
     "output_type": "stream",
     "text": [
      "  3%|█▏                                     | 3/101 [25:49<14:02:51, 516.03s/it]"
     ]
    },
    {
     "data": {
      "text/html": [
       "<pre style=\"white-space:pre;overflow-x:auto;line-height:normal;font-family:Menlo,'DejaVu Sans Mono',consolas,'Courier New',monospace\"></pre>\n"
      ],
      "text/plain": []
     },
     "metadata": {},
     "output_type": "display_data"
    },
    {
     "name": "stderr",
     "output_type": "stream",
     "text": [
      "  4%|█▌                                     | 4/101 [34:27<13:55:52, 517.04s/it]"
     ]
    },
    {
     "data": {
      "text/html": [
       "<pre style=\"white-space:pre;overflow-x:auto;line-height:normal;font-family:Menlo,'DejaVu Sans Mono',consolas,'Courier New',monospace\"></pre>\n"
      ],
      "text/plain": []
     },
     "metadata": {},
     "output_type": "display_data"
    },
    {
     "name": "stderr",
     "output_type": "stream",
     "text": [
      "  5%|█▉                                     | 5/101 [43:01<13:45:41, 516.05s/it]"
     ]
    },
    {
     "data": {
      "text/html": [
       "<pre style=\"white-space:pre;overflow-x:auto;line-height:normal;font-family:Menlo,'DejaVu Sans Mono',consolas,'Courier New',monospace\"></pre>\n"
      ],
      "text/plain": []
     },
     "metadata": {},
     "output_type": "display_data"
    },
    {
     "name": "stderr",
     "output_type": "stream",
     "text": [
      "  6%|██▎                                    | 6/101 [51:35<13:35:49, 515.26s/it]"
     ]
    },
    {
     "data": {
      "text/html": [
       "<pre style=\"white-space:pre;overflow-x:auto;line-height:normal;font-family:Menlo,'DejaVu Sans Mono',consolas,'Courier New',monospace\"></pre>\n"
      ],
      "text/plain": []
     },
     "metadata": {},
     "output_type": "display_data"
    },
    {
     "name": "stderr",
     "output_type": "stream",
     "text": [
      "  7%|██▌                                  | 7/101 [1:00:11<13:27:47, 515.62s/it]"
     ]
    },
    {
     "data": {
      "text/html": [
       "<pre style=\"white-space:pre;overflow-x:auto;line-height:normal;font-family:Menlo,'DejaVu Sans Mono',consolas,'Courier New',monospace\"></pre>\n"
      ],
      "text/plain": []
     },
     "metadata": {},
     "output_type": "display_data"
    },
    {
     "name": "stderr",
     "output_type": "stream",
     "text": [
      "  8%|██▉                                  | 8/101 [1:08:47<13:19:00, 515.48s/it]"
     ]
    },
    {
     "data": {
      "text/html": [
       "<pre style=\"white-space:pre;overflow-x:auto;line-height:normal;font-family:Menlo,'DejaVu Sans Mono',consolas,'Courier New',monospace\"></pre>\n"
      ],
      "text/plain": []
     },
     "metadata": {},
     "output_type": "display_data"
    },
    {
     "name": "stderr",
     "output_type": "stream",
     "text": [
      "  9%|███▎                                 | 9/101 [1:17:22<13:10:10, 515.33s/it]"
     ]
    },
    {
     "data": {
      "text/html": [
       "<pre style=\"white-space:pre;overflow-x:auto;line-height:normal;font-family:Menlo,'DejaVu Sans Mono',consolas,'Courier New',monospace\"></pre>\n"
      ],
      "text/plain": []
     },
     "metadata": {},
     "output_type": "display_data"
    },
    {
     "name": "stderr",
     "output_type": "stream",
     "text": [
      " 10%|███▌                                | 10/101 [1:25:57<13:01:42, 515.41s/it]"
     ]
    },
    {
     "data": {
      "text/html": [
       "<pre style=\"white-space:pre;overflow-x:auto;line-height:normal;font-family:Menlo,'DejaVu Sans Mono',consolas,'Courier New',monospace\"></pre>\n"
      ],
      "text/plain": []
     },
     "metadata": {},
     "output_type": "display_data"
    },
    {
     "name": "stderr",
     "output_type": "stream",
     "text": [
      " 11%|███▉                                | 11/101 [1:34:36<12:54:35, 516.39s/it]"
     ]
    },
    {
     "data": {
      "text/html": [
       "<pre style=\"white-space:pre;overflow-x:auto;line-height:normal;font-family:Menlo,'DejaVu Sans Mono',consolas,'Courier New',monospace\"></pre>\n"
      ],
      "text/plain": []
     },
     "metadata": {},
     "output_type": "display_data"
    },
    {
     "name": "stderr",
     "output_type": "stream",
     "text": [
      " 12%|████▎                               | 12/101 [1:43:12<12:45:47, 516.26s/it]"
     ]
    },
    {
     "data": {
      "text/html": [
       "<pre style=\"white-space:pre;overflow-x:auto;line-height:normal;font-family:Menlo,'DejaVu Sans Mono',consolas,'Courier New',monospace\"></pre>\n"
      ],
      "text/plain": []
     },
     "metadata": {},
     "output_type": "display_data"
    },
    {
     "name": "stderr",
     "output_type": "stream",
     "text": [
      " 13%|████▋                               | 13/101 [1:51:48<12:37:10, 516.25s/it]"
     ]
    },
    {
     "data": {
      "text/html": [
       "<pre style=\"white-space:pre;overflow-x:auto;line-height:normal;font-family:Menlo,'DejaVu Sans Mono',consolas,'Courier New',monospace\"></pre>\n"
      ],
      "text/plain": []
     },
     "metadata": {},
     "output_type": "display_data"
    },
    {
     "name": "stderr",
     "output_type": "stream",
     "text": [
      " 14%|████▉                               | 14/101 [2:00:22<12:27:40, 515.64s/it]"
     ]
    },
    {
     "data": {
      "text/html": [
       "<pre style=\"white-space:pre;overflow-x:auto;line-height:normal;font-family:Menlo,'DejaVu Sans Mono',consolas,'Courier New',monospace\"></pre>\n"
      ],
      "text/plain": []
     },
     "metadata": {},
     "output_type": "display_data"
    },
    {
     "name": "stderr",
     "output_type": "stream",
     "text": [
      " 15%|█████▎                              | 15/101 [2:08:58<12:18:54, 515.52s/it]"
     ]
    },
    {
     "data": {
      "text/html": [
       "<pre style=\"white-space:pre;overflow-x:auto;line-height:normal;font-family:Menlo,'DejaVu Sans Mono',consolas,'Courier New',monospace\"></pre>\n"
      ],
      "text/plain": []
     },
     "metadata": {},
     "output_type": "display_data"
    },
    {
     "name": "stderr",
     "output_type": "stream",
     "text": [
      " 16%|█████▋                              | 16/101 [2:17:34<12:10:45, 515.83s/it]"
     ]
    },
    {
     "data": {
      "text/html": [
       "<pre style=\"white-space:pre;overflow-x:auto;line-height:normal;font-family:Menlo,'DejaVu Sans Mono',consolas,'Courier New',monospace\"></pre>\n"
      ],
      "text/plain": []
     },
     "metadata": {},
     "output_type": "display_data"
    },
    {
     "name": "stderr",
     "output_type": "stream",
     "text": [
      " 17%|██████                              | 17/101 [2:26:10<12:02:12, 515.87s/it]"
     ]
    },
    {
     "data": {
      "text/html": [
       "<pre style=\"white-space:pre;overflow-x:auto;line-height:normal;font-family:Menlo,'DejaVu Sans Mono',consolas,'Courier New',monospace\"></pre>\n"
      ],
      "text/plain": []
     },
     "metadata": {},
     "output_type": "display_data"
    },
    {
     "name": "stderr",
     "output_type": "stream",
     "text": [
      " 18%|██████▍                             | 18/101 [2:34:47<11:53:59, 516.13s/it]"
     ]
    },
    {
     "data": {
      "text/html": [
       "<pre style=\"white-space:pre;overflow-x:auto;line-height:normal;font-family:Menlo,'DejaVu Sans Mono',consolas,'Courier New',monospace\"></pre>\n"
      ],
      "text/plain": []
     },
     "metadata": {},
     "output_type": "display_data"
    },
    {
     "name": "stderr",
     "output_type": "stream",
     "text": [
      " 19%|██████▊                             | 19/101 [2:43:28<11:47:19, 517.56s/it]"
     ]
    },
    {
     "data": {
      "text/html": [
       "<pre style=\"white-space:pre;overflow-x:auto;line-height:normal;font-family:Menlo,'DejaVu Sans Mono',consolas,'Courier New',monospace\"></pre>\n"
      ],
      "text/plain": []
     },
     "metadata": {},
     "output_type": "display_data"
    },
    {
     "name": "stderr",
     "output_type": "stream",
     "text": [
      " 20%|███████▏                            | 20/101 [2:52:03<11:37:45, 516.86s/it]"
     ]
    },
    {
     "data": {
      "text/html": [
       "<pre style=\"white-space:pre;overflow-x:auto;line-height:normal;font-family:Menlo,'DejaVu Sans Mono',consolas,'Courier New',monospace\"></pre>\n"
      ],
      "text/plain": []
     },
     "metadata": {},
     "output_type": "display_data"
    },
    {
     "name": "stderr",
     "output_type": "stream",
     "text": [
      " 21%|███████▍                            | 21/101 [3:00:44<11:30:42, 518.03s/it]"
     ]
    },
    {
     "data": {
      "text/html": [
       "<pre style=\"white-space:pre;overflow-x:auto;line-height:normal;font-family:Menlo,'DejaVu Sans Mono',consolas,'Courier New',monospace\"></pre>\n"
      ],
      "text/plain": []
     },
     "metadata": {},
     "output_type": "display_data"
    },
    {
     "name": "stderr",
     "output_type": "stream",
     "text": [
      " 22%|███████▊                            | 22/101 [3:09:20<11:21:24, 517.52s/it]"
     ]
    },
    {
     "data": {
      "text/html": [
       "<pre style=\"white-space:pre;overflow-x:auto;line-height:normal;font-family:Menlo,'DejaVu Sans Mono',consolas,'Courier New',monospace\"></pre>\n"
      ],
      "text/plain": []
     },
     "metadata": {},
     "output_type": "display_data"
    },
    {
     "name": "stderr",
     "output_type": "stream",
     "text": [
      " 23%|████████▏                           | 23/101 [3:17:55<11:11:39, 516.66s/it]"
     ]
    },
    {
     "data": {
      "text/html": [
       "<pre style=\"white-space:pre;overflow-x:auto;line-height:normal;font-family:Menlo,'DejaVu Sans Mono',consolas,'Courier New',monospace\"></pre>\n"
      ],
      "text/plain": []
     },
     "metadata": {},
     "output_type": "display_data"
    },
    {
     "name": "stderr",
     "output_type": "stream",
     "text": [
      " 24%|████████▌                           | 24/101 [3:26:30<11:02:26, 516.18s/it]"
     ]
    },
    {
     "data": {
      "text/html": [
       "<pre style=\"white-space:pre;overflow-x:auto;line-height:normal;font-family:Menlo,'DejaVu Sans Mono',consolas,'Courier New',monospace\"></pre>\n"
      ],
      "text/plain": []
     },
     "metadata": {},
     "output_type": "display_data"
    },
    {
     "name": "stderr",
     "output_type": "stream",
     "text": [
      " 25%|████████▉                           | 25/101 [3:35:10<10:55:26, 517.46s/it]"
     ]
    },
    {
     "data": {
      "text/html": [
       "<pre style=\"white-space:pre;overflow-x:auto;line-height:normal;font-family:Menlo,'DejaVu Sans Mono',consolas,'Courier New',monospace\"></pre>\n"
      ],
      "text/plain": []
     },
     "metadata": {},
     "output_type": "display_data"
    },
    {
     "name": "stderr",
     "output_type": "stream",
     "text": [
      " 26%|█████████▎                          | 26/101 [3:44:00<10:51:32, 521.24s/it]"
     ]
    },
    {
     "data": {
      "text/html": [
       "<pre style=\"white-space:pre;overflow-x:auto;line-height:normal;font-family:Menlo,'DejaVu Sans Mono',consolas,'Courier New',monospace\"></pre>\n"
      ],
      "text/plain": []
     },
     "metadata": {},
     "output_type": "display_data"
    },
    {
     "name": "stderr",
     "output_type": "stream",
     "text": [
      " 27%|█████████▌                          | 27/101 [3:52:54<10:47:25, 524.94s/it]"
     ]
    },
    {
     "data": {
      "text/html": [
       "<pre style=\"white-space:pre;overflow-x:auto;line-height:normal;font-family:Menlo,'DejaVu Sans Mono',consolas,'Courier New',monospace\"></pre>\n"
      ],
      "text/plain": []
     },
     "metadata": {},
     "output_type": "display_data"
    },
    {
     "name": "stderr",
     "output_type": "stream",
     "text": [
      " 28%|█████████▉                          | 28/101 [4:01:48<10:41:59, 527.66s/it]"
     ]
    },
    {
     "data": {
      "text/html": [
       "<pre style=\"white-space:pre;overflow-x:auto;line-height:normal;font-family:Menlo,'DejaVu Sans Mono',consolas,'Courier New',monospace\"></pre>\n"
      ],
      "text/plain": []
     },
     "metadata": {},
     "output_type": "display_data"
    },
    {
     "name": "stderr",
     "output_type": "stream",
     "text": [
      " 29%|██████████▎                         | 29/101 [4:10:39<10:34:19, 528.60s/it]"
     ]
    },
    {
     "data": {
      "text/html": [
       "<pre style=\"white-space:pre;overflow-x:auto;line-height:normal;font-family:Menlo,'DejaVu Sans Mono',consolas,'Courier New',monospace\"></pre>\n"
      ],
      "text/plain": []
     },
     "metadata": {},
     "output_type": "display_data"
    },
    {
     "name": "stderr",
     "output_type": "stream",
     "text": [
      " 30%|██████████▋                         | 30/101 [4:19:31<10:26:50, 529.73s/it]"
     ]
    },
    {
     "data": {
      "text/html": [
       "<pre style=\"white-space:pre;overflow-x:auto;line-height:normal;font-family:Menlo,'DejaVu Sans Mono',consolas,'Courier New',monospace\"></pre>\n"
      ],
      "text/plain": []
     },
     "metadata": {},
     "output_type": "display_data"
    },
    {
     "name": "stderr",
     "output_type": "stream",
     "text": [
      " 31%|███████████                         | 31/101 [4:28:25<10:19:24, 530.92s/it]"
     ]
    },
    {
     "data": {
      "text/html": [
       "<pre style=\"white-space:pre;overflow-x:auto;line-height:normal;font-family:Menlo,'DejaVu Sans Mono',consolas,'Courier New',monospace\"></pre>\n"
      ],
      "text/plain": []
     },
     "metadata": {},
     "output_type": "display_data"
    },
    {
     "name": "stderr",
     "output_type": "stream",
     "text": [
      " 32%|███████████▍                        | 32/101 [4:37:20<10:12:02, 532.21s/it]"
     ]
    },
    {
     "data": {
      "text/html": [
       "<pre style=\"white-space:pre;overflow-x:auto;line-height:normal;font-family:Menlo,'DejaVu Sans Mono',consolas,'Courier New',monospace\"></pre>\n"
      ],
      "text/plain": []
     },
     "metadata": {},
     "output_type": "display_data"
    },
    {
     "name": "stderr",
     "output_type": "stream",
     "text": [
      " 33%|███████████▊                        | 33/101 [4:46:13<10:03:30, 532.50s/it]"
     ]
    },
    {
     "data": {
      "text/html": [
       "<pre style=\"white-space:pre;overflow-x:auto;line-height:normal;font-family:Menlo,'DejaVu Sans Mono',consolas,'Courier New',monospace\"></pre>\n"
      ],
      "text/plain": []
     },
     "metadata": {},
     "output_type": "display_data"
    },
    {
     "name": "stderr",
     "output_type": "stream",
     "text": [
      " 34%|████████████▍                        | 34/101 [4:55:06<9:54:42, 532.58s/it]"
     ]
    },
    {
     "data": {
      "text/html": [
       "<pre style=\"white-space:pre;overflow-x:auto;line-height:normal;font-family:Menlo,'DejaVu Sans Mono',consolas,'Courier New',monospace\"></pre>\n"
      ],
      "text/plain": []
     },
     "metadata": {},
     "output_type": "display_data"
    },
    {
     "name": "stderr",
     "output_type": "stream",
     "text": [
      " 35%|████████████▊                        | 35/101 [5:03:58<9:45:47, 532.54s/it]"
     ]
    },
    {
     "data": {
      "text/html": [
       "<pre style=\"white-space:pre;overflow-x:auto;line-height:normal;font-family:Menlo,'DejaVu Sans Mono',consolas,'Courier New',monospace\"></pre>\n"
      ],
      "text/plain": []
     },
     "metadata": {},
     "output_type": "display_data"
    },
    {
     "name": "stderr",
     "output_type": "stream",
     "text": [
      " 36%|█████████████▏                       | 36/101 [5:12:50<9:36:32, 532.19s/it]"
     ]
    },
    {
     "data": {
      "text/html": [
       "<pre style=\"white-space:pre;overflow-x:auto;line-height:normal;font-family:Menlo,'DejaVu Sans Mono',consolas,'Courier New',monospace\"></pre>\n"
      ],
      "text/plain": []
     },
     "metadata": {},
     "output_type": "display_data"
    },
    {
     "name": "stderr",
     "output_type": "stream",
     "text": [
      " 37%|█████████████▌                       | 37/101 [5:21:46<9:28:50, 533.29s/it]"
     ]
    },
    {
     "data": {
      "text/html": [
       "<pre style=\"white-space:pre;overflow-x:auto;line-height:normal;font-family:Menlo,'DejaVu Sans Mono',consolas,'Courier New',monospace\"></pre>\n"
      ],
      "text/plain": []
     },
     "metadata": {},
     "output_type": "display_data"
    },
    {
     "name": "stderr",
     "output_type": "stream",
     "text": [
      " 38%|█████████████▉                       | 38/101 [5:30:40<9:20:12, 533.54s/it]"
     ]
    },
    {
     "data": {
      "text/html": [
       "<pre style=\"white-space:pre;overflow-x:auto;line-height:normal;font-family:Menlo,'DejaVu Sans Mono',consolas,'Courier New',monospace\"></pre>\n"
      ],
      "text/plain": []
     },
     "metadata": {},
     "output_type": "display_data"
    },
    {
     "name": "stderr",
     "output_type": "stream",
     "text": [
      " 39%|██████████████▎                      | 39/101 [5:39:32<9:10:54, 533.13s/it]"
     ]
    },
    {
     "data": {
      "text/html": [
       "<pre style=\"white-space:pre;overflow-x:auto;line-height:normal;font-family:Menlo,'DejaVu Sans Mono',consolas,'Courier New',monospace\"></pre>\n"
      ],
      "text/plain": []
     },
     "metadata": {},
     "output_type": "display_data"
    },
    {
     "name": "stderr",
     "output_type": "stream",
     "text": [
      " 40%|██████████████▋                      | 40/101 [5:48:26<9:02:20, 533.45s/it]"
     ]
    },
    {
     "data": {
      "text/html": [
       "<pre style=\"white-space:pre;overflow-x:auto;line-height:normal;font-family:Menlo,'DejaVu Sans Mono',consolas,'Courier New',monospace\"></pre>\n"
      ],
      "text/plain": []
     },
     "metadata": {},
     "output_type": "display_data"
    },
    {
     "name": "stderr",
     "output_type": "stream",
     "text": [
      " 41%|███████████████                      | 41/101 [5:57:19<8:53:27, 533.46s/it]"
     ]
    },
    {
     "data": {
      "text/html": [
       "<pre style=\"white-space:pre;overflow-x:auto;line-height:normal;font-family:Menlo,'DejaVu Sans Mono',consolas,'Courier New',monospace\"></pre>\n"
      ],
      "text/plain": []
     },
     "metadata": {},
     "output_type": "display_data"
    },
    {
     "name": "stderr",
     "output_type": "stream",
     "text": [
      " 42%|███████████████▍                     | 42/101 [6:06:11<8:43:59, 532.87s/it]"
     ]
    },
    {
     "data": {
      "text/html": [
       "<pre style=\"white-space:pre;overflow-x:auto;line-height:normal;font-family:Menlo,'DejaVu Sans Mono',consolas,'Courier New',monospace\"></pre>\n"
      ],
      "text/plain": []
     },
     "metadata": {},
     "output_type": "display_data"
    },
    {
     "name": "stderr",
     "output_type": "stream",
     "text": [
      " 43%|███████████████▊                     | 43/101 [6:15:06<8:35:43, 533.50s/it]"
     ]
    },
    {
     "data": {
      "text/html": [
       "<pre style=\"white-space:pre;overflow-x:auto;line-height:normal;font-family:Menlo,'DejaVu Sans Mono',consolas,'Courier New',monospace\"></pre>\n"
      ],
      "text/plain": []
     },
     "metadata": {},
     "output_type": "display_data"
    },
    {
     "name": "stderr",
     "output_type": "stream",
     "text": [
      " 44%|████████████████                     | 44/101 [6:23:58<8:26:29, 533.15s/it]"
     ]
    },
    {
     "data": {
      "text/html": [
       "<pre style=\"white-space:pre;overflow-x:auto;line-height:normal;font-family:Menlo,'DejaVu Sans Mono',consolas,'Courier New',monospace\"></pre>\n"
      ],
      "text/plain": []
     },
     "metadata": {},
     "output_type": "display_data"
    },
    {
     "name": "stderr",
     "output_type": "stream",
     "text": [
      " 45%|████████████████▍                    | 45/101 [6:32:52<8:17:52, 533.43s/it]"
     ]
    },
    {
     "data": {
      "text/html": [
       "<pre style=\"white-space:pre;overflow-x:auto;line-height:normal;font-family:Menlo,'DejaVu Sans Mono',consolas,'Courier New',monospace\"></pre>\n"
      ],
      "text/plain": []
     },
     "metadata": {},
     "output_type": "display_data"
    },
    {
     "name": "stderr",
     "output_type": "stream",
     "text": [
      " 46%|████████████████▊                    | 46/101 [6:41:46<8:08:54, 533.36s/it]"
     ]
    },
    {
     "data": {
      "text/html": [
       "<pre style=\"white-space:pre;overflow-x:auto;line-height:normal;font-family:Menlo,'DejaVu Sans Mono',consolas,'Courier New',monospace\"></pre>\n"
      ],
      "text/plain": []
     },
     "metadata": {},
     "output_type": "display_data"
    },
    {
     "name": "stderr",
     "output_type": "stream",
     "text": [
      " 47%|█████████████████▏                   | 47/101 [6:50:36<7:59:15, 532.50s/it]"
     ]
    },
    {
     "data": {
      "text/html": [
       "<pre style=\"white-space:pre;overflow-x:auto;line-height:normal;font-family:Menlo,'DejaVu Sans Mono',consolas,'Courier New',monospace\"></pre>\n"
      ],
      "text/plain": []
     },
     "metadata": {},
     "output_type": "display_data"
    },
    {
     "name": "stderr",
     "output_type": "stream",
     "text": [
      " 48%|█████████████████▌                   | 48/101 [6:59:34<7:51:41, 534.00s/it]"
     ]
    },
    {
     "data": {
      "text/html": [
       "<pre style=\"white-space:pre;overflow-x:auto;line-height:normal;font-family:Menlo,'DejaVu Sans Mono',consolas,'Courier New',monospace\"></pre>\n"
      ],
      "text/plain": []
     },
     "metadata": {},
     "output_type": "display_data"
    },
    {
     "name": "stderr",
     "output_type": "stream",
     "text": [
      " 49%|█████████████████▉                   | 49/101 [7:08:27<7:42:36, 533.78s/it]"
     ]
    },
    {
     "data": {
      "text/html": [
       "<pre style=\"white-space:pre;overflow-x:auto;line-height:normal;font-family:Menlo,'DejaVu Sans Mono',consolas,'Courier New',monospace\"></pre>\n"
      ],
      "text/plain": []
     },
     "metadata": {},
     "output_type": "display_data"
    },
    {
     "name": "stderr",
     "output_type": "stream",
     "text": [
      " 50%|██████████████████▎                  | 50/101 [7:17:19<7:33:24, 533.42s/it]"
     ]
    },
    {
     "data": {
      "text/html": [
       "<pre style=\"white-space:pre;overflow-x:auto;line-height:normal;font-family:Menlo,'DejaVu Sans Mono',consolas,'Courier New',monospace\"></pre>\n"
      ],
      "text/plain": []
     },
     "metadata": {},
     "output_type": "display_data"
    },
    {
     "name": "stderr",
     "output_type": "stream",
     "text": [
      " 50%|██████████████████▋                  | 51/101 [7:26:12<7:24:25, 533.30s/it]"
     ]
    },
    {
     "data": {
      "text/html": [
       "<pre style=\"white-space:pre;overflow-x:auto;line-height:normal;font-family:Menlo,'DejaVu Sans Mono',consolas,'Courier New',monospace\"></pre>\n"
      ],
      "text/plain": []
     },
     "metadata": {},
     "output_type": "display_data"
    },
    {
     "name": "stderr",
     "output_type": "stream",
     "text": [
      " 51%|███████████████████                  | 52/101 [7:35:03<7:14:45, 532.36s/it]"
     ]
    },
    {
     "data": {
      "text/html": [
       "<pre style=\"white-space:pre;overflow-x:auto;line-height:normal;font-family:Menlo,'DejaVu Sans Mono',consolas,'Courier New',monospace\"></pre>\n"
      ],
      "text/plain": []
     },
     "metadata": {},
     "output_type": "display_data"
    },
    {
     "name": "stderr",
     "output_type": "stream",
     "text": [
      " 52%|███████████████████▍                 | 53/101 [7:43:54<7:05:39, 532.07s/it]"
     ]
    },
    {
     "data": {
      "text/html": [
       "<pre style=\"white-space:pre;overflow-x:auto;line-height:normal;font-family:Menlo,'DejaVu Sans Mono',consolas,'Courier New',monospace\"></pre>\n"
      ],
      "text/plain": []
     },
     "metadata": {},
     "output_type": "display_data"
    },
    {
     "name": "stderr",
     "output_type": "stream",
     "text": [
      " 53%|███████████████████▊                 | 54/101 [7:52:50<6:57:45, 533.31s/it]"
     ]
    },
    {
     "data": {
      "text/html": [
       "<pre style=\"white-space:pre;overflow-x:auto;line-height:normal;font-family:Menlo,'DejaVu Sans Mono',consolas,'Courier New',monospace\"></pre>\n"
      ],
      "text/plain": []
     },
     "metadata": {},
     "output_type": "display_data"
    },
    {
     "name": "stderr",
     "output_type": "stream",
     "text": [
      " 54%|████████████████████▏                | 55/101 [8:01:44<6:48:54, 533.35s/it]"
     ]
    },
    {
     "data": {
      "text/html": [
       "<pre style=\"white-space:pre;overflow-x:auto;line-height:normal;font-family:Menlo,'DejaVu Sans Mono',consolas,'Courier New',monospace\"></pre>\n"
      ],
      "text/plain": []
     },
     "metadata": {},
     "output_type": "display_data"
    },
    {
     "name": "stderr",
     "output_type": "stream",
     "text": [
      " 55%|████████████████████▌                | 56/101 [8:10:36<6:39:43, 532.97s/it]"
     ]
    },
    {
     "data": {
      "text/html": [
       "<pre style=\"white-space:pre;overflow-x:auto;line-height:normal;font-family:Menlo,'DejaVu Sans Mono',consolas,'Courier New',monospace\"></pre>\n"
      ],
      "text/plain": []
     },
     "metadata": {},
     "output_type": "display_data"
    },
    {
     "name": "stderr",
     "output_type": "stream",
     "text": [
      " 56%|████████████████████▉                | 57/101 [8:19:29<6:30:51, 532.99s/it]"
     ]
    },
    {
     "data": {
      "text/html": [
       "<pre style=\"white-space:pre;overflow-x:auto;line-height:normal;font-family:Menlo,'DejaVu Sans Mono',consolas,'Courier New',monospace\"></pre>\n"
      ],
      "text/plain": []
     },
     "metadata": {},
     "output_type": "display_data"
    },
    {
     "name": "stderr",
     "output_type": "stream",
     "text": [
      " 57%|█████████████████████▏               | 58/101 [8:28:21<6:21:51, 532.82s/it]"
     ]
    },
    {
     "data": {
      "text/html": [
       "<pre style=\"white-space:pre;overflow-x:auto;line-height:normal;font-family:Menlo,'DejaVu Sans Mono',consolas,'Courier New',monospace\"></pre>\n"
      ],
      "text/plain": []
     },
     "metadata": {},
     "output_type": "display_data"
    },
    {
     "name": "stderr",
     "output_type": "stream",
     "text": [
      " 58%|█████████████████████▌               | 59/101 [8:37:19<6:14:05, 534.41s/it]"
     ]
    },
    {
     "data": {
      "text/html": [
       "<pre style=\"white-space:pre;overflow-x:auto;line-height:normal;font-family:Menlo,'DejaVu Sans Mono',consolas,'Courier New',monospace\"></pre>\n"
      ],
      "text/plain": []
     },
     "metadata": {},
     "output_type": "display_data"
    },
    {
     "name": "stderr",
     "output_type": "stream",
     "text": [
      " 59%|█████████████████████▉               | 60/101 [8:46:14<6:05:09, 534.38s/it]"
     ]
    },
    {
     "data": {
      "text/html": [
       "<pre style=\"white-space:pre;overflow-x:auto;line-height:normal;font-family:Menlo,'DejaVu Sans Mono',consolas,'Courier New',monospace\"></pre>\n"
      ],
      "text/plain": []
     },
     "metadata": {},
     "output_type": "display_data"
    },
    {
     "name": "stderr",
     "output_type": "stream",
     "text": [
      " 60%|██████████████████████▎              | 61/101 [8:55:06<5:55:57, 533.93s/it]"
     ]
    },
    {
     "data": {
      "text/html": [
       "<pre style=\"white-space:pre;overflow-x:auto;line-height:normal;font-family:Menlo,'DejaVu Sans Mono',consolas,'Courier New',monospace\"></pre>\n"
      ],
      "text/plain": []
     },
     "metadata": {},
     "output_type": "display_data"
    },
    {
     "name": "stderr",
     "output_type": "stream",
     "text": [
      " 61%|██████████████████████▋              | 62/101 [9:03:59<5:46:41, 533.36s/it]"
     ]
    },
    {
     "data": {
      "text/html": [
       "<pre style=\"white-space:pre;overflow-x:auto;line-height:normal;font-family:Menlo,'DejaVu Sans Mono',consolas,'Courier New',monospace\"></pre>\n"
      ],
      "text/plain": []
     },
     "metadata": {},
     "output_type": "display_data"
    },
    {
     "name": "stderr",
     "output_type": "stream",
     "text": [
      " 62%|███████████████████████              | 63/101 [9:12:50<5:37:30, 532.90s/it]"
     ]
    },
    {
     "data": {
      "text/html": [
       "<pre style=\"white-space:pre;overflow-x:auto;line-height:normal;font-family:Menlo,'DejaVu Sans Mono',consolas,'Courier New',monospace\"></pre>\n"
      ],
      "text/plain": []
     },
     "metadata": {},
     "output_type": "display_data"
    },
    {
     "name": "stderr",
     "output_type": "stream",
     "text": [
      " 63%|███████████████████████▍             | 64/101 [9:21:47<5:29:20, 534.07s/it]"
     ]
    },
    {
     "data": {
      "text/html": [
       "<pre style=\"white-space:pre;overflow-x:auto;line-height:normal;font-family:Menlo,'DejaVu Sans Mono',consolas,'Courier New',monospace\"></pre>\n"
      ],
      "text/plain": []
     },
     "metadata": {},
     "output_type": "display_data"
    },
    {
     "name": "stderr",
     "output_type": "stream",
     "text": [
      " 64%|███████████████████████▊             | 65/101 [9:30:43<5:20:42, 534.51s/it]"
     ]
    },
    {
     "data": {
      "text/html": [
       "<pre style=\"white-space:pre;overflow-x:auto;line-height:normal;font-family:Menlo,'DejaVu Sans Mono',consolas,'Courier New',monospace\"></pre>\n"
      ],
      "text/plain": []
     },
     "metadata": {},
     "output_type": "display_data"
    },
    {
     "name": "stderr",
     "output_type": "stream",
     "text": [
      " 65%|████████████████████████▏            | 66/101 [9:39:38<5:11:59, 534.83s/it]"
     ]
    },
    {
     "data": {
      "text/html": [
       "<pre style=\"white-space:pre;overflow-x:auto;line-height:normal;font-family:Menlo,'DejaVu Sans Mono',consolas,'Courier New',monospace\"></pre>\n"
      ],
      "text/plain": []
     },
     "metadata": {},
     "output_type": "display_data"
    },
    {
     "name": "stderr",
     "output_type": "stream",
     "text": [
      " 66%|████████████████████████▌            | 67/101 [9:48:31<5:02:40, 534.12s/it]"
     ]
    },
    {
     "data": {
      "text/html": [
       "<pre style=\"white-space:pre;overflow-x:auto;line-height:normal;font-family:Menlo,'DejaVu Sans Mono',consolas,'Courier New',monospace\"></pre>\n"
      ],
      "text/plain": []
     },
     "metadata": {},
     "output_type": "display_data"
    },
    {
     "name": "stderr",
     "output_type": "stream",
     "text": [
      " 67%|████████████████████████▉            | 68/101 [9:57:22<4:53:21, 533.37s/it]"
     ]
    },
    {
     "data": {
      "text/html": [
       "<pre style=\"white-space:pre;overflow-x:auto;line-height:normal;font-family:Menlo,'DejaVu Sans Mono',consolas,'Courier New',monospace\"></pre>\n"
      ],
      "text/plain": []
     },
     "metadata": {},
     "output_type": "display_data"
    },
    {
     "name": "stderr",
     "output_type": "stream",
     "text": [
      " 68%|████████████████████████▌           | 69/101 [10:06:18<4:44:45, 533.93s/it]"
     ]
    },
    {
     "data": {
      "text/html": [
       "<pre style=\"white-space:pre;overflow-x:auto;line-height:normal;font-family:Menlo,'DejaVu Sans Mono',consolas,'Courier New',monospace\"></pre>\n"
      ],
      "text/plain": []
     },
     "metadata": {},
     "output_type": "display_data"
    },
    {
     "name": "stderr",
     "output_type": "stream",
     "text": [
      " 69%|████████████████████████▉           | 70/101 [10:15:16<4:36:33, 535.27s/it]"
     ]
    },
    {
     "data": {
      "text/html": [
       "<pre style=\"white-space:pre;overflow-x:auto;line-height:normal;font-family:Menlo,'DejaVu Sans Mono',consolas,'Courier New',monospace\"></pre>\n"
      ],
      "text/plain": []
     },
     "metadata": {},
     "output_type": "display_data"
    },
    {
     "name": "stderr",
     "output_type": "stream",
     "text": [
      " 70%|█████████████████████████▎          | 71/101 [10:24:11<4:27:39, 535.33s/it]"
     ]
    },
    {
     "data": {
      "text/html": [
       "<pre style=\"white-space:pre;overflow-x:auto;line-height:normal;font-family:Menlo,'DejaVu Sans Mono',consolas,'Courier New',monospace\"></pre>\n"
      ],
      "text/plain": []
     },
     "metadata": {},
     "output_type": "display_data"
    },
    {
     "name": "stderr",
     "output_type": "stream",
     "text": [
      " 71%|█████████████████████████▋          | 72/101 [10:33:03<4:18:13, 534.24s/it]"
     ]
    },
    {
     "data": {
      "text/html": [
       "<pre style=\"white-space:pre;overflow-x:auto;line-height:normal;font-family:Menlo,'DejaVu Sans Mono',consolas,'Courier New',monospace\"></pre>\n"
      ],
      "text/plain": []
     },
     "metadata": {},
     "output_type": "display_data"
    },
    {
     "name": "stderr",
     "output_type": "stream",
     "text": [
      " 72%|██████████████████████████          | 73/101 [10:41:56<4:09:09, 533.90s/it]"
     ]
    },
    {
     "data": {
      "text/html": [
       "<pre style=\"white-space:pre;overflow-x:auto;line-height:normal;font-family:Menlo,'DejaVu Sans Mono',consolas,'Courier New',monospace\"></pre>\n"
      ],
      "text/plain": []
     },
     "metadata": {},
     "output_type": "display_data"
    },
    {
     "name": "stderr",
     "output_type": "stream",
     "text": [
      " 73%|██████████████████████████▍         | 74/101 [10:50:50<4:00:10, 533.72s/it]"
     ]
    },
    {
     "data": {
      "text/html": [
       "<pre style=\"white-space:pre;overflow-x:auto;line-height:normal;font-family:Menlo,'DejaVu Sans Mono',consolas,'Courier New',monospace\"></pre>\n"
      ],
      "text/plain": []
     },
     "metadata": {},
     "output_type": "display_data"
    },
    {
     "name": "stderr",
     "output_type": "stream",
     "text": [
      " 74%|██████████████████████████▋         | 75/101 [10:59:41<3:51:02, 533.16s/it]"
     ]
    },
    {
     "data": {
      "text/html": [
       "<pre style=\"white-space:pre;overflow-x:auto;line-height:normal;font-family:Menlo,'DejaVu Sans Mono',consolas,'Courier New',monospace\"></pre>\n"
      ],
      "text/plain": []
     },
     "metadata": {},
     "output_type": "display_data"
    },
    {
     "name": "stderr",
     "output_type": "stream",
     "text": [
      " 75%|███████████████████████████         | 76/101 [11:08:38<3:42:36, 534.26s/it]"
     ]
    },
    {
     "data": {
      "text/html": [
       "<pre style=\"white-space:pre;overflow-x:auto;line-height:normal;font-family:Menlo,'DejaVu Sans Mono',consolas,'Courier New',monospace\"></pre>\n"
      ],
      "text/plain": []
     },
     "metadata": {},
     "output_type": "display_data"
    },
    {
     "name": "stderr",
     "output_type": "stream",
     "text": [
      " 76%|███████████████████████████▍        | 77/101 [11:17:35<3:34:03, 535.15s/it]"
     ]
    },
    {
     "data": {
      "text/html": [
       "<pre style=\"white-space:pre;overflow-x:auto;line-height:normal;font-family:Menlo,'DejaVu Sans Mono',consolas,'Courier New',monospace\"></pre>\n"
      ],
      "text/plain": []
     },
     "metadata": {},
     "output_type": "display_data"
    },
    {
     "name": "stderr",
     "output_type": "stream",
     "text": [
      " 77%|███████████████████████████▊        | 78/101 [11:26:29<3:25:00, 534.79s/it]"
     ]
    },
    {
     "data": {
      "text/html": [
       "<pre style=\"white-space:pre;overflow-x:auto;line-height:normal;font-family:Menlo,'DejaVu Sans Mono',consolas,'Courier New',monospace\"></pre>\n"
      ],
      "text/plain": []
     },
     "metadata": {},
     "output_type": "display_data"
    },
    {
     "name": "stderr",
     "output_type": "stream",
     "text": [
      " 78%|████████████████████████████▏       | 79/101 [11:35:22<3:15:51, 534.16s/it]"
     ]
    },
    {
     "data": {
      "text/html": [
       "<pre style=\"white-space:pre;overflow-x:auto;line-height:normal;font-family:Menlo,'DejaVu Sans Mono',consolas,'Courier New',monospace\"></pre>\n"
      ],
      "text/plain": []
     },
     "metadata": {},
     "output_type": "display_data"
    },
    {
     "name": "stderr",
     "output_type": "stream",
     "text": [
      " 79%|████████████████████████████▌       | 80/101 [11:44:14<3:06:43, 533.48s/it]"
     ]
    },
    {
     "data": {
      "text/html": [
       "<pre style=\"white-space:pre;overflow-x:auto;line-height:normal;font-family:Menlo,'DejaVu Sans Mono',consolas,'Courier New',monospace\"></pre>\n"
      ],
      "text/plain": []
     },
     "metadata": {},
     "output_type": "display_data"
    },
    {
     "name": "stderr",
     "output_type": "stream",
     "text": [
      " 80%|████████████████████████████▊       | 81/101 [11:53:11<2:58:08, 534.43s/it]"
     ]
    },
    {
     "data": {
      "text/html": [
       "<pre style=\"white-space:pre;overflow-x:auto;line-height:normal;font-family:Menlo,'DejaVu Sans Mono',consolas,'Courier New',monospace\"></pre>\n"
      ],
      "text/plain": []
     },
     "metadata": {},
     "output_type": "display_data"
    },
    {
     "name": "stderr",
     "output_type": "stream",
     "text": [
      " 81%|█████████████████████████████▏      | 82/101 [12:02:07<2:49:25, 535.01s/it]"
     ]
    },
    {
     "data": {
      "text/html": [
       "<pre style=\"white-space:pre;overflow-x:auto;line-height:normal;font-family:Menlo,'DejaVu Sans Mono',consolas,'Courier New',monospace\"></pre>\n"
      ],
      "text/plain": []
     },
     "metadata": {},
     "output_type": "display_data"
    },
    {
     "name": "stderr",
     "output_type": "stream",
     "text": [
      " 82%|█████████████████████████████▌      | 83/101 [12:11:01<2:40:23, 534.63s/it]"
     ]
    },
    {
     "data": {
      "text/html": [
       "<pre style=\"white-space:pre;overflow-x:auto;line-height:normal;font-family:Menlo,'DejaVu Sans Mono',consolas,'Courier New',monospace\"></pre>\n"
      ],
      "text/plain": []
     },
     "metadata": {},
     "output_type": "display_data"
    },
    {
     "name": "stderr",
     "output_type": "stream",
     "text": [
      " 83%|█████████████████████████████▉      | 84/101 [12:19:54<2:31:23, 534.35s/it]"
     ]
    },
    {
     "data": {
      "text/html": [
       "<pre style=\"white-space:pre;overflow-x:auto;line-height:normal;font-family:Menlo,'DejaVu Sans Mono',consolas,'Courier New',monospace\"></pre>\n"
      ],
      "text/plain": []
     },
     "metadata": {},
     "output_type": "display_data"
    },
    {
     "name": "stderr",
     "output_type": "stream",
     "text": [
      " 84%|██████████████████████████████▎     | 85/101 [12:28:47<2:22:22, 533.90s/it]"
     ]
    },
    {
     "data": {
      "text/html": [
       "<pre style=\"white-space:pre;overflow-x:auto;line-height:normal;font-family:Menlo,'DejaVu Sans Mono',consolas,'Courier New',monospace\"></pre>\n"
      ],
      "text/plain": []
     },
     "metadata": {},
     "output_type": "display_data"
    },
    {
     "name": "stderr",
     "output_type": "stream",
     "text": [
      " 85%|██████████████████████████████▋     | 86/101 [12:37:39<2:13:17, 533.14s/it]"
     ]
    },
    {
     "data": {
      "text/html": [
       "<pre style=\"white-space:pre;overflow-x:auto;line-height:normal;font-family:Menlo,'DejaVu Sans Mono',consolas,'Courier New',monospace\"></pre>\n"
      ],
      "text/plain": []
     },
     "metadata": {},
     "output_type": "display_data"
    },
    {
     "name": "stderr",
     "output_type": "stream",
     "text": [
      " 86%|███████████████████████████████     | 87/101 [12:46:37<2:04:45, 534.65s/it]"
     ]
    },
    {
     "data": {
      "text/html": [
       "<pre style=\"white-space:pre;overflow-x:auto;line-height:normal;font-family:Menlo,'DejaVu Sans Mono',consolas,'Courier New',monospace\"></pre>\n"
      ],
      "text/plain": []
     },
     "metadata": {},
     "output_type": "display_data"
    },
    {
     "name": "stderr",
     "output_type": "stream",
     "text": [
      " 87%|███████████████████████████████▎    | 88/101 [12:55:31<1:55:48, 534.51s/it]"
     ]
    },
    {
     "data": {
      "text/html": [
       "<pre style=\"white-space:pre;overflow-x:auto;line-height:normal;font-family:Menlo,'DejaVu Sans Mono',consolas,'Courier New',monospace\"></pre>\n"
      ],
      "text/plain": []
     },
     "metadata": {},
     "output_type": "display_data"
    },
    {
     "name": "stderr",
     "output_type": "stream",
     "text": [
      " 88%|███████████████████████████████▋    | 89/101 [13:04:25<1:46:51, 534.30s/it]"
     ]
    },
    {
     "data": {
      "text/html": [
       "<pre style=\"white-space:pre;overflow-x:auto;line-height:normal;font-family:Menlo,'DejaVu Sans Mono',consolas,'Courier New',monospace\"></pre>\n"
      ],
      "text/plain": []
     },
     "metadata": {},
     "output_type": "display_data"
    },
    {
     "name": "stderr",
     "output_type": "stream",
     "text": [
      " 89%|████████████████████████████████    | 90/101 [13:13:17<1:37:50, 533.67s/it]"
     ]
    },
    {
     "data": {
      "text/html": [
       "<pre style=\"white-space:pre;overflow-x:auto;line-height:normal;font-family:Menlo,'DejaVu Sans Mono',consolas,'Courier New',monospace\"></pre>\n"
      ],
      "text/plain": []
     },
     "metadata": {},
     "output_type": "display_data"
    },
    {
     "name": "stderr",
     "output_type": "stream",
     "text": [
      " 90%|████████████████████████████████▍   | 91/101 [13:22:08<1:28:48, 532.89s/it]"
     ]
    },
    {
     "data": {
      "text/html": [
       "<pre style=\"white-space:pre;overflow-x:auto;line-height:normal;font-family:Menlo,'DejaVu Sans Mono',consolas,'Courier New',monospace\"></pre>\n"
      ],
      "text/plain": []
     },
     "metadata": {},
     "output_type": "display_data"
    },
    {
     "name": "stderr",
     "output_type": "stream",
     "text": [
      " 91%|████████████████████████████████▊   | 92/101 [13:31:00<1:19:54, 532.73s/it]"
     ]
    },
    {
     "data": {
      "text/html": [
       "<pre style=\"white-space:pre;overflow-x:auto;line-height:normal;font-family:Menlo,'DejaVu Sans Mono',consolas,'Courier New',monospace\"></pre>\n"
      ],
      "text/plain": []
     },
     "metadata": {},
     "output_type": "display_data"
    },
    {
     "name": "stderr",
     "output_type": "stream",
     "text": [
      " 92%|█████████████████████████████████▏  | 93/101 [13:39:59<1:11:16, 534.52s/it]"
     ]
    },
    {
     "data": {
      "text/html": [
       "<pre style=\"white-space:pre;overflow-x:auto;line-height:normal;font-family:Menlo,'DejaVu Sans Mono',consolas,'Courier New',monospace\"></pre>\n"
      ],
      "text/plain": []
     },
     "metadata": {},
     "output_type": "display_data"
    },
    {
     "name": "stderr",
     "output_type": "stream",
     "text": [
      " 93%|█████████████████████████████████▌  | 94/101 [13:48:54<1:02:22, 534.63s/it]"
     ]
    },
    {
     "data": {
      "text/html": [
       "<pre style=\"white-space:pre;overflow-x:auto;line-height:normal;font-family:Menlo,'DejaVu Sans Mono',consolas,'Courier New',monospace\"></pre>\n"
      ],
      "text/plain": []
     },
     "metadata": {},
     "output_type": "display_data"
    },
    {
     "name": "stderr",
     "output_type": "stream",
     "text": [
      " 94%|███████████████████████████████████▋  | 95/101 [13:57:48<53:27, 534.52s/it]"
     ]
    },
    {
     "data": {
      "text/html": [
       "<pre style=\"white-space:pre;overflow-x:auto;line-height:normal;font-family:Menlo,'DejaVu Sans Mono',consolas,'Courier New',monospace\"></pre>\n"
      ],
      "text/plain": []
     },
     "metadata": {},
     "output_type": "display_data"
    },
    {
     "name": "stderr",
     "output_type": "stream",
     "text": [
      " 95%|████████████████████████████████████  | 96/101 [14:06:43<44:33, 534.70s/it]"
     ]
    },
    {
     "data": {
      "text/html": [
       "<pre style=\"white-space:pre;overflow-x:auto;line-height:normal;font-family:Menlo,'DejaVu Sans Mono',consolas,'Courier New',monospace\"></pre>\n"
      ],
      "text/plain": []
     },
     "metadata": {},
     "output_type": "display_data"
    },
    {
     "name": "stderr",
     "output_type": "stream",
     "text": [
      " 96%|████████████████████████████████████▍ | 97/101 [14:15:35<35:35, 533.89s/it]"
     ]
    },
    {
     "data": {
      "text/html": [
       "<pre style=\"white-space:pre;overflow-x:auto;line-height:normal;font-family:Menlo,'DejaVu Sans Mono',consolas,'Courier New',monospace\"></pre>\n"
      ],
      "text/plain": []
     },
     "metadata": {},
     "output_type": "display_data"
    },
    {
     "name": "stderr",
     "output_type": "stream",
     "text": [
      " 97%|████████████████████████████████████▊ | 98/101 [14:24:32<26:43, 534.59s/it]"
     ]
    },
    {
     "data": {
      "text/html": [
       "<pre style=\"white-space:pre;overflow-x:auto;line-height:normal;font-family:Menlo,'DejaVu Sans Mono',consolas,'Courier New',monospace\"></pre>\n"
      ],
      "text/plain": []
     },
     "metadata": {},
     "output_type": "display_data"
    },
    {
     "name": "stderr",
     "output_type": "stream",
     "text": [
      " 98%|█████████████████████████████████████▏| 99/101 [14:33:20<17:45, 532.80s/it]"
     ]
    },
    {
     "data": {
      "text/html": [
       "<pre style=\"white-space:pre;overflow-x:auto;line-height:normal;font-family:Menlo,'DejaVu Sans Mono',consolas,'Courier New',monospace\"></pre>\n"
      ],
      "text/plain": []
     },
     "metadata": {},
     "output_type": "display_data"
    },
    {
     "name": "stderr",
     "output_type": "stream",
     "text": [
      " 99%|████████████████████████████████████▋| 100/101 [14:41:56<08:47, 527.67s/it]"
     ]
    },
    {
     "data": {
      "text/html": [
       "<pre style=\"white-space:pre;overflow-x:auto;line-height:normal;font-family:Menlo,'DejaVu Sans Mono',consolas,'Courier New',monospace\"></pre>\n"
      ],
      "text/plain": []
     },
     "metadata": {},
     "output_type": "display_data"
    },
    {
     "name": "stderr",
     "output_type": "stream",
     "text": [
      "100%|█████████████████████████████████████| 101/101 [14:50:32<00:00, 529.03s/it]\n"
     ]
    }
   ],
   "source": [
    "import os\n",
    "import pandas as pd\n",
    "from tqdm import tqdm\n",
    "import matplotlib.pyplot as plt\n",
    "import seaborn as sns\n",
    "\n",
    "# Define the output directory and subdirectories\n",
    "output_dir = 'Default_AE_Filtered_Data/AE_Training_1'\n",
    "subfolders = {\n",
    "    'AE_Latent_Space_Data_TXT': os.path.join(output_dir, 'AE_Latent_Space_Data_TXT'),\n",
    "    'AE_Training_Loss_Data': os.path.join(output_dir, 'AE_Training_Loss_Data'),\n",
    "    'AE_Training_Loss_Graphs': os.path.join(output_dir, 'AE_Training_Loss_Graphs'),\n",
    "    'AE_Latent_Space_Graphs': os.path.join(output_dir, 'AE_Latent_Space_Graphs'),\n",
    "    'AE_Latent_Space_Data_PKL': os.path.join(output_dir, 'AE_Latent_Space_Data_PKL'),\n",
    "    'models': os.path.join(output_dir, 'models'),\n",
    "}\n",
    "\n",
    "# Create all subdirectories\n",
    "for folder in subfolders.values():\n",
    "    os.makedirs(folder, exist_ok=True)\n",
    "\n",
    "# Initialize the autoencoder with the loaded training data\n",
    "autoencoder = AE_Model(X_train_loaded)\n",
    "\n",
    "# Training loop\n",
    "for counts in tqdm(range(101)):\n",
    "    name = \"Autoencoder_Training\"\n",
    "\n",
    "    # Save the latent space predictions log\n",
    "    txt_file_path = os.path.join(subfolders['AE_Latent_Space_Data_TXT'], f\"{counts}_Latent_Space_Predictions_Log.txt\")\n",
    "    with open(txt_file_path, \"w\") as file:\n",
    "        # Train the model\n",
    "        history = autoencoder.fit(\n",
    "            X_train_loaded, X_train_loaded,\n",
    "            epochs=1000,\n",
    "            validation_data=(X_valid_loaded, X_valid_loaded),\n",
    "            verbose=0\n",
    "        )\n",
    "\n",
    "        # Save training loss history\n",
    "        training_history = pd.DataFrame(history.history)\n",
    "        history_file_path = os.path.join(subfolders['AE_Training_Loss_Data'], f\"{counts}_{name}_History.pkl\")\n",
    "        training_history.to_pickle(history_file_path)\n",
    "\n",
    "        # Save training loss graph\n",
    "        plt.plot(training_history)\n",
    "        graph_file_path = os.path.join(subfolders['AE_Training_Loss_Graphs'], f\"{counts}_{name}_History.png\")\n",
    "        plt.savefig(graph_file_path, dpi=300)\n",
    "        plt.clf()\n",
    "        plt.close()\n",
    "\n",
    "        # Define the latent space model\n",
    "        dr_model = tf.keras.models.Model(\n",
    "            inputs=autoencoder.input,\n",
    "            outputs=autoencoder.get_layer('ae_latent').output\n",
    "        )\n",
    "        dr_model.summary(print_fn=lambda x: file.write(x + '\\n'))\n",
    "\n",
    "        # Initialize latent space variables\n",
    "        x, y, z, indices = [], [], [], []\n",
    "\n",
    "        # Process validation data in batches\n",
    "        batch_size = 32\n",
    "        for batch_start in range(0, len(X_valid_loaded), batch_size):\n",
    "            batch_end = min(batch_start + batch_size, len(X_valid_loaded))\n",
    "            X_batch = np.array(X_valid_loaded.iloc[batch_start:batch_end])\n",
    "            y_batch = y_valid_loaded.iloc[batch_start:batch_end].values.flatten()\n",
    "\n",
    "            # Predict latent space values\n",
    "            op_batch = dr_model.predict(X_batch, verbose=0)\n",
    "            for i, op in enumerate(op_batch):\n",
    "                z.append(y_batch[i])\n",
    "                x.append(op[0])\n",
    "                y.append(op[1])\n",
    "                indices.append(y_valid_loaded.index[batch_start + i])\n",
    "                file.write(f\"Prediction {batch_start + i}: {op}\\n\")\n",
    "\n",
    "        # Save latent space scatter plot\n",
    "        df = pd.DataFrame({'x': x, 'y': y, 'z': [f\"trajectory-{k}\" for k in z], 'index': indices})\n",
    "        plt.figure(figsize=(8, 6))\n",
    "        sns.scatterplot(x='x', y='y', hue='z', data=df, s=10)\n",
    "        scatter_file_path = os.path.join(subfolders['AE_Latent_Space_Graphs'], f\"{counts}_Latent_Space.png\")\n",
    "        plt.savefig(scatter_file_path, dpi=300)\n",
    "        plt.clf()\n",
    "        plt.close()\n",
    "\n",
    "        # Save latent space data as pickle\n",
    "        pkl_file_path = os.path.join(subfolders['AE_Latent_Space_Data_PKL'], f\"{counts}_Latent_Space.pkl\")\n",
    "        df.to_pickle(pkl_file_path)\n",
    "\n",
    "        # Save the model\n",
    "        model_file_path = os.path.join(subfolders['models'], f\"saved_model_{counts}.keras\")\n",
    "        save_model(autoencoder, model_file_path)"
   ]
  },
  {
   "cell_type": "markdown",
   "id": "5ed0ba33-8d72-4d57-b58f-ae3de412accd",
   "metadata": {
    "jp-MarkdownHeadingCollapsed": true
   },
   "source": [
    "# Restart Training"
   ]
  },
  {
   "cell_type": "code",
   "execution_count": null,
   "id": "e30d5de9-6256-4b0c-a6e6-e70e3f5bf210",
   "metadata": {},
   "outputs": [],
   "source": [
    "# base_folder = \"AE_Data/Filtered_Shuffled_Compaction_Data\"\n",
    "X_train_loaded, y_train_loaded, X_valid_loaded, y_valid_loaded = load_datasets(fold=1, base_folder=base_folder)"
   ]
  },
  {
   "cell_type": "code",
   "execution_count": null,
   "id": "335c8856-dc1a-4399-8adb-fded54960d13",
   "metadata": {},
   "outputs": [],
   "source": [
    "def save_model(model, model_path):\n",
    "    if not model_path.endswith('.keras'):\n",
    "        model_path += '.keras'\n",
    "    model.save(model_path)\n",
    "\n",
    "def load_existing_model(model_path):\n",
    "    return load_model(model_path)"
   ]
  },
  {
   "cell_type": "code",
   "execution_count": null,
   "id": "80d7ddc8-a25a-4f8e-8ec9-182315343a56",
   "metadata": {},
   "outputs": [],
   "source": [
    "import os\n",
    "import pandas as pd\n",
    "from tqdm import tqdm\n",
    "import matplotlib.pyplot as plt\n",
    "import seaborn as sns\n",
    "from tensorflow.keras.models import load_model\n",
    "import numpy as np\n",
    "\n",
    "# Define the output directory and subdirectories\n",
    "# output_dir = 'Default_AE_Default_Data/AE_Training_X'\n",
    "subfolders = {\n",
    "    'AE_Latent_Space_Data_TXT': os.path.join(output_dir, 'AE_Latent_Space_Data_TXT'),\n",
    "    'AE_Training_Loss_Data': os.path.join(output_dir, 'AE_Training_Loss_Data'),\n",
    "    'AE_Training_Loss_Graphs': os.path.join(output_dir, 'AE_Training_Loss_Graphs'),\n",
    "    'AE_Latent_Space_Graphs': os.path.join(output_dir, 'AE_Latent_Space_Graphs'),\n",
    "    'AE_Latent_Space_Data_PKL': os.path.join(output_dir, 'AE_Latent_Space_Data_PKL'),\n",
    "    'models': os.path.join(output_dir, 'models'),\n",
    "}\n",
    "\n",
    "# Create all subdirectories if they don't exist\n",
    "for folder in subfolders.values():\n",
    "    os.makedirs(folder, exist_ok=True)\n",
    "\n",
    "# Load the model from the last saved checkpoint\n",
    "# checkpoint_epoch_set = XXX\n",
    "model_file_path = os.path.join(subfolders['models'], f\"saved_model_{checkpoint_epoch_set}.keras\")\n",
    "autoencoder = load_model(model_file_path)\n",
    "\n",
    "# Resume training loop starting from the specified epoch set\n",
    "for counts in tqdm(range(checkpoint_epoch_set + 1, 101)):\n",
    "    name = \"Autoencoder_Training\"\n",
    "\n",
    "    # Save the latent space predictions log\n",
    "    txt_file_path = os.path.join(subfolders['AE_Latent_Space_Data_TXT'], f\"{counts}_Latent_Space_Predictions_Log.txt\")\n",
    "    with open(txt_file_path, \"w\") as file:\n",
    "        # Train the model\n",
    "        history = autoencoder.fit(\n",
    "            X_train_loaded, X_train_loaded,\n",
    "            epochs=1000,\n",
    "            validation_data=(X_valid_loaded, X_valid_loaded),\n",
    "            verbose=0\n",
    "        )\n",
    "\n",
    "        # Save training loss history\n",
    "        training_history = pd.DataFrame(history.history)\n",
    "        history_file_path = os.path.join(subfolders['AE_Training_Loss_Data'], f\"{counts}_{name}_History.pkl\")\n",
    "        training_history.to_pickle(history_file_path)\n",
    "\n",
    "        # Save training loss graph\n",
    "        plt.plot(training_history)\n",
    "        graph_file_path = os.path.join(subfolders['AE_Training_Loss_Graphs'], f\"{counts}_{name}_History.png\")\n",
    "        plt.savefig(graph_file_path, dpi=300)\n",
    "        plt.clf()\n",
    "        plt.close()\n",
    "\n",
    "        # Define the latent space model\n",
    "        dr_model = tf.keras.models.Model(\n",
    "            inputs=autoencoder.input,\n",
    "            outputs=autoencoder.get_layer('ae_latent').output\n",
    "        )\n",
    "        dr_model.summary(print_fn=lambda x: file.write(x + '\\n'))\n",
    "\n",
    "        # Initialize latent space variables\n",
    "        x, y, z, indices = [], [], [], []\n",
    "\n",
    "        # Process validation data in batches\n",
    "        batch_size = 32\n",
    "        for batch_start in range(0, len(X_valid_loaded), batch_size):\n",
    "            batch_end = min(batch_start + batch_size, len(X_valid_loaded))\n",
    "            X_batch = np.array(X_valid_loaded.iloc[batch_start:batch_end])\n",
    "            y_batch = y_valid_loaded.iloc[batch_start:batch_end].values.flatten()\n",
    "\n",
    "            # Predict latent space values\n",
    "            op_batch = dr_model.predict(X_batch, verbose=0)\n",
    "            for i, op in enumerate(op_batch):\n",
    "                z.append(y_batch[i])\n",
    "                x.append(op[0])\n",
    "                y.append(op[1])\n",
    "                indices.append(y_valid_loaded.index[batch_start + i])\n",
    "                file.write(f\"Prediction {batch_start + i}: {op}\\n\")\n",
    "\n",
    "        # Save latent space scatter plot\n",
    "        df = pd.DataFrame({'x': x, 'y': y, 'z': [f\"trajectory-{k}\" for k in z], 'index': indices})\n",
    "        plt.figure(figsize=(8, 6))\n",
    "        sns.scatterplot(x='x', y='y', hue='z', data=df, s=10)\n",
    "        scatter_file_path = os.path.join(subfolders['AE_Latent_Space_Graphs'], f\"{counts}_Latent_Space.png\")\n",
    "        plt.savefig(scatter_file_path, dpi=300)\n",
    "        plt.clf()\n",
    "        plt.close()\n",
    "\n",
    "        # Save latent space data as pickle\n",
    "        pkl_file_path = os.path.join(subfolders['AE_Latent_Space_Data_PKL'], f\"{counts}_Latent_Space.pkl\")\n",
    "        df.to_pickle(pkl_file_path)\n",
    "\n",
    "        # Save the model\n",
    "        model_file_path = os.path.join(subfolders['models'], f\"saved_model_{counts}.keras\")\n",
    "        autoencoder.save(model_file_path)"
   ]
  },
  {
   "cell_type": "markdown",
   "id": "b4625bdc-0cc4-4d22-92bd-a9f5eb598cd4",
   "metadata": {
    "jp-MarkdownHeadingCollapsed": true
   },
   "source": [
    "# Original Training Code"
   ]
  },
  {
   "cell_type": "raw",
   "id": "bbc27436-64cf-4857-b89b-1a2a2030c0eb",
   "metadata": {},
   "source": [
    "# Create the directory if it does not exist\n",
    "output_dir = 'Default_AE_Default_Data/AE_Training_5'\n",
    "os.makedirs(output_dir, exist_ok=True)\n",
    "\n",
    "# Initialize the autoencoder with the loaded training data\n",
    "autoencoder = AE_Model(X_train_loaded)\n",
    "\n",
    "for counts in tqdm(range(101)):\n",
    "    name = \"Autoencoder_Training\"\n",
    "    output_path = os.path.join(output_dir,  f\"{counts}_Latent_Space_Predictions_Log.txt\")\n",
    "    with open(output_path, \"w\") as file:\n",
    "        history = autoencoder.fit(X_train_loaded, X_train_loaded, epochs=1000, validation_data=(X_valid_loaded, X_valid_loaded), verbose=2)\n",
    "\n",
    "        training_history = pd.DataFrame(history.history)\n",
    "        plt.plot(training_history)\n",
    "        file_name_0 = os.path.join(output_dir, str(counts) + \"_\" + name + \"_History\")\n",
    "        training_history.to_pickle(file_name_0)\n",
    "        file_name_1 = os.path.join(output_dir, str(counts) + \"_\" + name + \"_History.png\")\n",
    "        plt.savefig(file_name_1, dpi=300)\n",
    "        plt.clf()\n",
    "\n",
    "        dr_model = tf.keras.models.Model(inputs=autoencoder.input, outputs=autoencoder.get_layer('ae_latent').output)\n",
    "        dr_model.summary(print_fn=lambda x: file.write(x + '\\n'))\n",
    "\n",
    "        batch_size = 32\n",
    "        x = []\n",
    "        y = []\n",
    "        z = []\n",
    "        indices = []\n",
    "\n",
    "        # Process validation data in batches\n",
    "        for batch_start in range(0, len(X_valid_loaded), batch_size):\n",
    "            batch_end = min(batch_start + batch_size, len(X_valid_loaded))\n",
    "            X_batch = np.array(X_valid_loaded.iloc[batch_start:batch_end])\n",
    "            y_batch = y_valid_loaded.iloc[batch_start:batch_end].values.flatten()\n",
    "\n",
    "            # Make predictions for this batch\n",
    "            op_batch = dr_model.predict(X_batch, verbose=0)\n",
    "\n",
    "            # Process and store the results\n",
    "            for i, op in enumerate(op_batch):\n",
    "                z.append(y_batch[i])\n",
    "                x.append(op[0])\n",
    "                y.append(op[1])\n",
    "                indices.append(y_valid_loaded.index[batch_start + i])\n",
    "                file.write(f\"Prediction {batch_start + i}: {op}\\n\")\n",
    "\n",
    "        # Construct and save the data frame\n",
    "        df = pd.DataFrame()\n",
    "        df['x'] = x\n",
    "        df['y'] = y\n",
    "        df['z'] = [\"trajectory-\" + str(k) for k in z]\n",
    "        df['index'] = indices\n",
    "\n",
    "        plt.figure(figsize=(8, 6))\n",
    "        fig = sns.scatterplot(x='x', y='y', hue='z', data=df, s=10)\n",
    "        file_name_2 = os.path.join(output_dir, str(counts) + \"_Latent_Space.png\")\n",
    "        fig.figure.savefig(file_name_2, dpi=300)\n",
    "        plt.clf()\n",
    "\n",
    "        file_name_3 = os.path.join(output_dir, str(counts) + '_Latent_Space')\n",
    "        df.to_pickle(file_name_3)\n",
    "\n",
    "        # Save the model in a folder within the designated directory\n",
    "        model_dir = os.path.join(output_dir, 'models')\n",
    "        os.makedirs(model_dir, exist_ok=True)\n",
    "        file_name = os.path.join(model_dir, 'saved_model_' + str(counts))\n",
    "        save_model(autoencoder, file_name)"
   ]
  },
  {
   "cell_type": "markdown",
   "id": "8581fdca",
   "metadata": {},
   "source": [
    "# Generating Full Latent Space Representations:"
   ]
  },
  {
   "cell_type": "code",
   "execution_count": null,
   "id": "44f67dfa",
   "metadata": {},
   "outputs": [],
   "source": [
    "# Concatenate training and validation datasets\n",
    "X_loaded = pd.concat([X_train_loaded, X_valid_loaded], axis=0)"
   ]
  },
  {
   "cell_type": "code",
   "execution_count": null,
   "id": "229a5cfc",
   "metadata": {},
   "outputs": [],
   "source": [
    "# Function to create the latent space representations and save to CSV\n",
    "def generate_and_save_latent_space_representations(model_path, data, output_dir, output_filename):\n",
    "    # Load the saved model\n",
    "    autoencoder = load_model(model_path)\n",
    "\n",
    "    # Create a model to get the latent space representation\n",
    "    dr_model = tf.keras.models.Model(inputs=autoencoder.get_layer('ae_input').input,\n",
    "                                     outputs=autoencoder.get_layer('ae_latent').output)\n",
    "    \n",
    "    # Generate latent space representations for the entire dataset\n",
    "    latent_space_representations = dr_model.predict(data, verbose=1)\n",
    "\n",
    "    # Create a DataFrame to store the representations with the index from the input data\n",
    "    df_latent_space = pd.DataFrame(latent_space_representations, columns=['x', 'y'], index=data.index)\n",
    "    \n",
    "    # Create output directory if it doesn't exist\n",
    "    os.makedirs(output_dir, exist_ok=True)\n",
    "\n",
    "    # Save the DataFrame to a CSV file\n",
    "    output_filepath = os.path.join(output_dir, output_filename)\n",
    "    df_latent_space.to_pickle(output_filepath)\n",
    "\n",
    "    print(f\"Latent space representations saved to {output_filepath}\")\n",
    "\n",
    "# Specify the path to the saved model\n",
    "model_path = 'AE_Training_1/models/saved_model_20.keras'\n",
    "\n",
    "# Specify the output directory and filename\n",
    "output_dir = 'Full_LSPs_Same_Training_Data'\n",
    "output_filename = 'AE1_ES_20_LSR_Full'\n",
    "\n",
    "# Generate and save the latent space representations\n",
    "generate_and_save_latent_space_representations(model_path, X_loaded, output_dir, output_filename)"
   ]
  },
  {
   "cell_type": "code",
   "execution_count": null,
   "id": "23209fd8",
   "metadata": {},
   "outputs": [],
   "source": [
    "# Function to create the latent space representations and save to CSV\n",
    "def generate_and_save_latent_space_representations(model_path, data, output_dir, output_filename):\n",
    "    # Load the saved model\n",
    "    autoencoder = load_model(model_path)\n",
    "\n",
    "    # Create a model to get the latent space representation\n",
    "    dr_model = tf.keras.models.Model(inputs=autoencoder.get_layer('ae_input').input,\n",
    "                                     outputs=autoencoder.get_layer('ae_latent').output)\n",
    "    \n",
    "    # Generate latent space representations for the entire dataset\n",
    "    latent_space_representations = dr_model.predict(data, verbose=1)\n",
    "\n",
    "    # Create a DataFrame to store the representations with the index from the input data\n",
    "    df_latent_space = pd.DataFrame(latent_space_representations, columns=['x', 'y'], index=data.index)\n",
    "    \n",
    "    # Create output directory if it doesn't exist\n",
    "    os.makedirs(output_dir, exist_ok=True)\n",
    "\n",
    "    # Save the DataFrame to a CSV file\n",
    "    output_filepath = os.path.join(output_dir, output_filename)\n",
    "    df_latent_space.to_pickle(output_filepath)\n",
    "\n",
    "    print(f\"Latent space representations saved to {output_filepath}\")\n",
    "\n",
    "# Specify the path to the saved model\n",
    "model_path = 'AE_Training_2/models/saved_model_20.keras'\n",
    "\n",
    "# Specify the output directory and filename\n",
    "output_dir = 'Full_LSPs_Same_Training_Data'\n",
    "output_filename = 'AE2_ES_20_LSR_Full'\n",
    "\n",
    "# Generate and save the latent space representations\n",
    "generate_and_save_latent_space_representations(model_path, X_loaded, output_dir, output_filename)"
   ]
  },
  {
   "cell_type": "code",
   "execution_count": null,
   "id": "855e418e",
   "metadata": {},
   "outputs": [],
   "source": [
    "# Function to create the latent space representations and save to CSV\n",
    "def generate_and_save_latent_space_representations(model_path, data, output_dir, output_filename):\n",
    "    # Load the saved model\n",
    "    autoencoder = load_model(model_path)\n",
    "\n",
    "    # Create a model to get the latent space representation\n",
    "    dr_model = tf.keras.models.Model(inputs=autoencoder.get_layer('ae_input').input,\n",
    "                                     outputs=autoencoder.get_layer('ae_latent').output)\n",
    "    \n",
    "    # Generate latent space representations for the entire dataset\n",
    "    latent_space_representations = dr_model.predict(data, verbose=1)\n",
    "\n",
    "    # Create a DataFrame to store the representations with the index from the input data\n",
    "    df_latent_space = pd.DataFrame(latent_space_representations, columns=['x', 'y'], index=data.index)\n",
    "    \n",
    "    # Create output directory if it doesn't exist\n",
    "    os.makedirs(output_dir, exist_ok=True)\n",
    "\n",
    "    # Save the DataFrame to a CSV file\n",
    "    output_filepath = os.path.join(output_dir, output_filename)\n",
    "    df_latent_space.to_pickle(output_filepath)\n",
    "\n",
    "    print(f\"Latent space representations saved to {output_filepath}\")\n",
    "\n",
    "# Specify the path to the saved model\n",
    "model_path = 'AE_Training_3/models/saved_model_20.keras'\n",
    "\n",
    "# Specify the output directory and filename\n",
    "output_dir = 'Full_LSPs_Same_Training_Data'\n",
    "output_filename = 'AE3_ES_20_LSR_Full'\n",
    "\n",
    "# Generate and save the latent space representations\n",
    "generate_and_save_latent_space_representations(model_path, X_loaded, output_dir, output_filename)"
   ]
  },
  {
   "cell_type": "code",
   "execution_count": null,
   "id": "a93651a3",
   "metadata": {},
   "outputs": [],
   "source": [
    "# Function to create the latent space representations and save to CSV\n",
    "def generate_and_save_latent_space_representations(model_path, data, output_dir, output_filename):\n",
    "    # Load the saved model\n",
    "    autoencoder = load_model(model_path)\n",
    "\n",
    "    # Create a model to get the latent space representation\n",
    "    dr_model = tf.keras.models.Model(inputs=autoencoder.get_layer('ae_input').input,\n",
    "                                     outputs=autoencoder.get_layer('ae_latent').output)\n",
    "    \n",
    "    # Generate latent space representations for the entire dataset\n",
    "    latent_space_representations = dr_model.predict(data, verbose=1)\n",
    "\n",
    "    # Create a DataFrame to store the representations with the index from the input data\n",
    "    df_latent_space = pd.DataFrame(latent_space_representations, columns=['x', 'y'], index=data.index)\n",
    "    \n",
    "    # Create output directory if it doesn't exist\n",
    "    os.makedirs(output_dir, exist_ok=True)\n",
    "\n",
    "    # Save the DataFrame to a CSV file\n",
    "    output_filepath = os.path.join(output_dir, output_filename)\n",
    "    df_latent_space.to_pickle(output_filepath)\n",
    "\n",
    "    print(f\"Latent space representations saved to {output_filepath}\")\n",
    "\n",
    "# Specify the path to the saved model\n",
    "model_path = 'AE_Training_4/models/saved_model_20.keras'\n",
    "\n",
    "# Specify the output directory and filename\n",
    "output_dir = 'Full_LSPs_Same_Training_Data'\n",
    "output_filename = 'AE4_ES_20_LSR_Full'\n",
    "\n",
    "# Generate and save the latent space representations\n",
    "generate_and_save_latent_space_representations(model_path, X_loaded, output_dir, output_filename)"
   ]
  },
  {
   "cell_type": "markdown",
   "id": "e7b700d5",
   "metadata": {},
   "source": [
    "# Load Latent Space Data For Clustering"
   ]
  },
  {
   "cell_type": "code",
   "execution_count": null,
   "id": "a6e45c89",
   "metadata": {},
   "outputs": [],
   "source": [
    "import os\n",
    "import gc\n",
    "import numpy as np\n",
    "import pandas as pd\n",
    "from PIL import Image\n",
    "from tqdm import tqdm\n",
    "import matplotlib.pyplot as plt\n",
    "from sklearn.utils import shuffle\n",
    "from matplotlib.image import imread\n",
    "from sklearn.preprocessing import StandardScaler\n",
    "from scipy.cluster.hierarchy import linkage, fcluster\n",
    "\n",
    "import MDAnalysis as mda\n",
    "from itertools import combinations\n",
    "from mpl_toolkits.mplot3d import Axes3D\n",
    "from MDAnalysis.analysis import align, rms, distances\n",
    "\n",
    "# Load the topology and trajectory files for both MD simulations\n",
    "u1 = mda.Universe(\"myc_091-160_stripped.prmtop\", \"aMD_091-160_no1-4_stripped.nc\")\n",
    "u2 = mda.Universe(\"myc_091-160_D132-H_stripped.prmtop\", \"aMD_091-160_D132-H_no1-4_stripped.nc\")"
   ]
  },
  {
   "cell_type": "code",
   "execution_count": null,
   "id": "d577c00e",
   "metadata": {},
   "outputs": [],
   "source": [
    "# Latent Space 1\n",
    "folder_name_1 = 'Full_LSPs'\n",
    "file_name_1 = 'AE_Fold_1_ES_6.csv'\n",
    "latent_1 = pd.read_csv(f'{folder_name_1}/{file_name_1}')\n",
    "\n",
    "# Latent Space 2\n",
    "folder_name_2 = 'Full_LSPs'\n",
    "file_name_2 = 'AE_Fold_2_ES_6.csv'\n",
    "latent_2 = pd.read_csv(f'{folder_name_2}/{file_name_2}')\n",
    "\n",
    "# Latent Space 3\n",
    "folder_name_3 = 'Full_LSPs'\n",
    "file_name_3 = 'AE_Fold_3_ES_6.csv'\n",
    "latent_3 = pd.read_csv(f'{folder_name_3}/{file_name_3}')\n",
    "\n",
    "# Latent Space 4\n",
    "folder_name_4 = 'Full_LSPs'\n",
    "file_name_4 = 'AE_Fold_4_ES_6.csv'\n",
    "latent_4 = pd.read_csv(f'{folder_name_4}/{file_name_4}')\n",
    "\n",
    "# Latent Space 5\n",
    "folder_name_5 = 'Full_LSPs'\n",
    "file_name_5 = 'AE_Fold_5_ES_6.csv'\n",
    "latent_5 = pd.read_csv(f'{folder_name_5}/{file_name_5}')"
   ]
  },
  {
   "cell_type": "markdown",
   "id": "4b563df1",
   "metadata": {},
   "source": [
    "# Clustering (Batched)"
   ]
  },
  {
   "cell_type": "code",
   "execution_count": null,
   "id": "8a60ea36",
   "metadata": {},
   "outputs": [],
   "source": [
    "threshold_val = 1.0\n",
    "length_val = 1\n",
    "\n",
    "# Function to perform clustering in batches\n",
    "def batch_clustering(data, batch_size, threshold):\n",
    "    clusters = []\n",
    "    start = 0\n",
    "    while start < data.shape[0]:\n",
    "        end = min(start + batch_size, data.shape[0])\n",
    "        batch = data[start:end]\n",
    "        linkage_matrix = linkage(batch, method='ward')\n",
    "        batch_clusters = fcluster(linkage_matrix, t=threshold, criterion='distance')\n",
    "        clusters.extend(batch_clusters)\n",
    "        start = end\n",
    "    return np.array(clusters)\n",
    "\n",
    "# Define a function to process and cluster each latent space in batches\n",
    "def process_and_cluster_in_batches(latent_df, scaler, batch_size, threshold=threshold_val):\n",
    "    coords = latent_df[['x', 'y']].values\n",
    "    coords_scaled = scaler.fit_transform(coords)\n",
    "    clusters = batch_clustering(coords_scaled, batch_size, threshold)\n",
    "    return clusters\n",
    "\n",
    "# Initialize the scaler\n",
    "scaler = StandardScaler()\n",
    "\n",
    "# List of latent DataFrames\n",
    "latent_dfs = [latent_1, latent_2, latent_3, latent_4, latent_5]\n",
    "\n",
    "# Dictionary to store clusters\n",
    "clusters_dict = {}\n",
    "\n",
    "# Define batch size and threshold\n",
    "batch_size = 20000\n",
    "threshold = threshold_val\n",
    "\n",
    "# Process and cluster each latent DataFrame in batches\n",
    "for i, latent_df in enumerate(latent_dfs, start=1):\n",
    "    clusters_dict[f'clusters{i}'] = process_and_cluster_in_batches(latent_df, scaler, batch_size, threshold)\n",
    "\n",
    "# Combine the cluster assignments from all latent spaces\n",
    "combined_clusters = np.vstack(list(clusters_dict.values())).T\n",
    "\n",
    "# Find consensus clusters\n",
    "consensus_clusters = {}\n",
    "for i, cluster_tuple in enumerate(combined_clusters):\n",
    "    cluster_tuple = tuple(cluster_tuple)\n",
    "    if cluster_tuple not in consensus_clusters:\n",
    "        consensus_clusters[cluster_tuple] = []\n",
    "    consensus_clusters[cluster_tuple].append(int(latent_1.iloc[i, 0]))\n",
    "\n",
    "# Filter out singleton clusters (clusters with only one member)\n",
    "consensus_clusters = {k: v for k, v in consensus_clusters.items() if len(v) > length_val}\n",
    "\n",
    "# Calculate cluster sizes for plotting\n",
    "cluster_sizes = {k: len(v) for k, v in consensus_clusters.items()}\n",
    "\n",
    "# Visualization function\n",
    "def plot_clusters(latent, clusters, cluster_sizes, title):\n",
    "    cluster_count = pd.Series(clusters).value_counts()\n",
    "    sizes = cluster_count.loc[clusters].values\n",
    "    \n",
    "    plt.figure(figsize=(10, 8))\n",
    "    scatter = plt.scatter(latent['x'], latent['y'], c=clusters, s=sizes, cmap='viridis', marker='o', alpha=0.6)\n",
    "    plt.title(title)\n",
    "    plt.xlabel('X')\n",
    "    plt.ylabel('Y')\n",
    "    plt.colorbar(scatter, label='Cluster')\n",
    "    plt.show()\n",
    "\n",
    "# Add cluster labels to the DataFrames for plotting and plot each\n",
    "for i, latent_df in enumerate(latent_dfs, start=1):\n",
    "    latent_df['cluster'] = clusters_dict[f'clusters{i}']\n",
    "    plot_clusters(latent_df, latent_df['cluster'], cluster_sizes, f'Clusters in Latent Space {i}')"
   ]
  },
  {
   "cell_type": "code",
   "execution_count": null,
   "id": "24fd5fe2",
   "metadata": {},
   "outputs": [],
   "source": [
    "# Group the DataFrame by 'cluster' and print the indices sorted by the cluster\n",
    "clustered_indices = latent_1.groupby('cluster', group_keys=False).apply(lambda df: df.index.tolist(), include_groups=False)\n",
    "\n",
    "# Print the indices sorted by the cluster\n",
    "for cluster_id, indices in clustered_indices.items():\n",
    "    print(f\"Cluster {cluster_id}: {indices}\")"
   ]
  },
  {
   "cell_type": "code",
   "execution_count": null,
   "id": "ed0b77f5",
   "metadata": {},
   "outputs": [],
   "source": [
    "# Group the DataFrame by 'cluster' and count the number of indices in each cluster\n",
    "cluster_counts = latent_1['cluster'].value_counts().sort_values()\n",
    "\n",
    "# Print the clusters and their counts sorted by the number of indices in ascending order\n",
    "for cluster_id, count in cluster_counts.items():\n",
    "    print(f\"Cluster {cluster_id}: {count}\")"
   ]
  },
  {
   "cell_type": "markdown",
   "id": "37ca5cd1",
   "metadata": {},
   "source": [
    "# Generate Cluster Statistics"
   ]
  },
  {
   "cell_type": "code",
   "execution_count": null,
   "id": "228a3504",
   "metadata": {},
   "outputs": [],
   "source": [
    "import os\n",
    "import pandas as pd\n",
    "import numpy as np\n",
    "import MDAnalysis as mda\n",
    "from MDAnalysis.analysis import align\n",
    "from tqdm import tqdm\n",
    "\n",
    "threshold_val = 1.0\n",
    "length_val = 1\n",
    "minimum_indices = 1\n",
    "\n",
    "# Create the directory to save the files\n",
    "output_dir = f\"N4_Threshold_{threshold_val}_Length_{length_val}\"\n",
    "os.makedirs(output_dir, exist_ok=True)\n",
    "\n",
    "# Function to extract frames for residues 15-30\n",
    "def extract_frames(indices, universe1, universe2, switch_index=40000, selection=\"resid 15-30 and name CA\"):\n",
    "    frames = []\n",
    "    for idx in indices:\n",
    "        universe = universe1 if idx < switch_index else universe2\n",
    "        frame_idx = idx if idx < switch_index else idx - switch_index\n",
    "        universe.trajectory[frame_idx]\n",
    "        frames.append(universe.select_atoms(selection).positions.copy())\n",
    "    return frames\n",
    "\n",
    "# Function to create a temporary universe\n",
    "def create_temp_universe(positions, universe, selection=\"resid 15-30 and name CA\"):\n",
    "    temp_universe = mda.Merge(universe.select_atoms(selection))\n",
    "    temp_universe.atoms.positions = positions\n",
    "    return temp_universe\n",
    "\n",
    "# Function to align frames and calculate normalized RMSD\n",
    "def align_and_calculate_rmsd(reference_universe, frames, select_for_alignment):\n",
    "    rmsd_list = []\n",
    "    for frame_positions in frames:\n",
    "        temp_universe = create_temp_universe(frame_positions, reference_universe, selection=select_for_alignment)\n",
    "        aligner = align.AlignTraj(temp_universe, reference_universe, select=select_for_alignment, in_memory=True)\n",
    "        aligner.run()\n",
    "        rmsd = align.rms.rmsd(temp_universe.atoms.positions, reference_universe.atoms.positions)\n",
    "        rmsd_normalized = rmsd / np.linalg.norm(reference_universe.atoms.positions)\n",
    "        rmsd_list.append(np.mean(rmsd_normalized))\n",
    "    return np.mean(rmsd_list)\n",
    "\n",
    "# Define selection string for alignment\n",
    "select_residues_15_30 = \"resid 15-30 and name CA\"\n",
    "\n",
    "# Prepare the alignment CSV file\n",
    "alignment_file = os.path.join(output_dir, \"Latent_Alignment.csv\")\n",
    "alignment_cols = ['index', 'x', 'y', 'cluster', 'reference_frame']\n",
    "\n",
    "# Initialize the reference frames dictionary\n",
    "reference_frames = {}\n",
    "\n",
    "# Check if the file exists and load existing data\n",
    "if os.path.exists(alignment_file):\n",
    "    existing_data = pd.read_csv(alignment_file)\n",
    "    last_cluster_id = existing_data['cluster'].max()\n",
    "else:\n",
    "    with open(alignment_file, 'w') as f:\n",
    "        f.write(','.join(alignment_cols) + '\\n')\n",
    "    existing_data = pd.DataFrame(columns=alignment_cols)\n",
    "    last_cluster_id = -1\n",
    "\n",
    "# Calculate reference frames and update the alignment CSV file incrementally\n",
    "for cluster_id, cluster_data in tqdm(latent_1.groupby('cluster'), desc=\"Analyzing clusters\", unit=\"cluster\"):\n",
    "    if cluster_id <= last_cluster_id:\n",
    "        continue\n",
    "\n",
    "    indices = cluster_data.index.tolist()\n",
    "    if len(indices) < minimum_indices:\n",
    "        continue \n",
    "\n",
    "    frames = extract_frames(indices, u1, u2, selection=select_residues_15_30)\n",
    "    \n",
    "    # Determine the reference frame that minimizes the RMSD\n",
    "    min_rmsd = float('inf')\n",
    "    reference_frame_idx = -1\n",
    "    for i, ref_frame_positions in enumerate(frames):\n",
    "        reference_universe = create_temp_universe(ref_frame_positions, u1, selection=select_residues_15_30)\n",
    "        rmsd = align_and_calculate_rmsd(reference_universe, frames, select_residues_15_30)\n",
    "        if rmsd < min_rmsd:\n",
    "            min_rmsd = rmsd\n",
    "            reference_frame_idx = indices[i]\n",
    "    \n",
    "    reference_frames[cluster_id] = reference_frame_idx\n",
    "    \n",
    "    # Update the alignment data\n",
    "    cluster_data['reference_frame'] = reference_frame_idx\n",
    "    cluster_data['index'] = cluster_data.index\n",
    "    \n",
    "    # Append the alignment data to the CSV file\n",
    "    cluster_data[alignment_cols].to_csv(alignment_file, mode='a', header=False, index=False)\n",
    "\n",
    "# Perform statistical analysis on the clusters\n",
    "latent_1_sorted = latent_1.sort_index()\n",
    "cluster_durations = []\n",
    "current_cluster = None\n",
    "current_start_index = None\n",
    "\n",
    "# Iterate through the sorted DataFrame to find cluster durations\n",
    "for idx, row in latent_1_sorted.iterrows():\n",
    "    cluster = row['cluster']\n",
    "    if cluster == current_cluster:\n",
    "        current_end_index = idx\n",
    "    else:\n",
    "        if current_cluster is not None:\n",
    "            duration = current_end_index - current_start_index + 1\n",
    "            cluster_durations.append((current_cluster, duration))\n",
    "        current_cluster = cluster\n",
    "        current_start_index = idx\n",
    "        current_end_index = idx\n",
    "\n",
    "# Append the last cluster duration\n",
    "if current_cluster is not None:\n",
    "    duration = current_end_index - current_start_index + 1\n",
    "    cluster_durations.append((current_cluster, duration))\n",
    "\n",
    "# Convert durations to DataFrame\n",
    "durations_df = pd.DataFrame(cluster_durations, columns=['Cluster', 'Duration'])\n",
    "\n",
    "# Group by cluster and calculate summary metrics\n",
    "summary_df = durations_df.groupby('Cluster').agg(\n",
    "    Entries=('Cluster', 'size'),\n",
    "    Tot_Dur=('Duration', 'sum'),\n",
    "    Max_Dur=('Duration', 'max'),\n",
    "    Av_Dur=('Duration', 'mean')\n",
    ").reset_index().sort_values(by='Cluster')\n",
    "\n",
    "# Save the summary DataFrame to CSV\n",
    "statistics_file = os.path.join(output_dir, \"Cluster_Statistics.csv\")\n",
    "summary_df.to_csv(statistics_file, index=False)\n",
    "\n",
    "# Display the summary DataFrame\n",
    "pd.set_option('display.max_rows', None)\n",
    "print(summary_df)\n",
    "pd.reset_option('display.max_rows')"
   ]
  },
  {
   "cell_type": "code",
   "execution_count": null,
   "id": "680a2a42",
   "metadata": {},
   "outputs": [],
   "source": [
    "import os\n",
    "import numpy as np\n",
    "import pandas as pd\n",
    "import MDAnalysis as mda\n",
    "from MDAnalysis.analysis import align, rms, distances\n",
    "import gc\n",
    "from tqdm import tqdm\n",
    "\n",
    "threshold_val = 1.0\n",
    "length_val = 1\n",
    "minimum_indices = 1\n",
    "\n",
    "# Define the output directories\n",
    "output_dir = f\"N4_Threshold_{threshold_val}_Length_{length_val}\"\n",
    "expanded_csv_path = os.path.join(output_dir, \"Cluster_Statistics_Expanded.csv\")\n",
    "\n",
    "# Load the CSV files\n",
    "latent_1_alignment = pd.read_csv(os.path.join(output_dir, \"Latent_Alignment.csv\"))\n",
    "latent_1_statistics = pd.read_csv(os.path.join(output_dir, \"Cluster_Statistics.csv\"))\n",
    "\n",
    "# Load the MD simulation data\n",
    "u1 = mda.Universe(\"myc_091-160_stripped.prmtop\", \"aMD_091-160_no1-4_stripped.nc\")\n",
    "u2 = mda.Universe(\"myc_091-160_D132-H_stripped.prmtop\", \"aMD_091-160_D132-H_no1-4_stripped.nc\")\n",
    "\n",
    "# Define the function to extract frames from both universes\n",
    "def extract_frames(indices, universe1, universe2, switch_index=40000):\n",
    "    frames = []\n",
    "    for idx in indices:\n",
    "        if idx < switch_index:\n",
    "            universe1.trajectory[idx]\n",
    "            frames.append(universe1.select_atoms(\"name CA\").positions.copy())\n",
    "        else:\n",
    "            universe2.trajectory[idx - switch_index]\n",
    "            frames.append(universe2.select_atoms(\"name CA\").positions.copy())\n",
    "    return frames\n",
    "\n",
    "# Create a temporary Universe for alignment\n",
    "def create_temp_universe(positions, universe):\n",
    "    temp_universe = mda.Merge(universe.select_atoms(\"name CA\"))\n",
    "    temp_universe.atoms.positions = positions\n",
    "    return temp_universe\n",
    "\n",
    "# Align frames using AlignTraj\n",
    "def align_frames(reference_universe, frames, select_for_alignment):\n",
    "    aligned_frames = []\n",
    "    for frame_positions in frames:\n",
    "        temp_universe = create_temp_universe(frame_positions, reference_universe)\n",
    "        aligner = align.AlignTraj(temp_universe, reference_universe, select=select_for_alignment, in_memory=False)\n",
    "        aligner.run()\n",
    "        aligned_frames.append(temp_universe.atoms.positions.copy())\n",
    "        del temp_universe  # Explicitly delete to free memory\n",
    "        gc.collect()\n",
    "    return aligned_frames\n",
    "\n",
    "# Calculate RMSD for aligned frames\n",
    "def calculate_rmsd(reference_positions, frames):\n",
    "    rmsd_values = [rms.rmsd(frame, reference_positions) for frame in frames]\n",
    "    return np.mean(rmsd_values), np.std(rmsd_values)\n",
    "\n",
    "# Measure distances between residues\n",
    "def calculate_distances(universe, res1, res2):\n",
    "    distance_values = distances.distance_array(\n",
    "        universe.select_atoms(f\"resid {res1} and name CA\").positions,\n",
    "        universe.select_atoms(f\"resid {res2} and name CA\").positions\n",
    "    )\n",
    "    mean_distance = np.mean(distance_values)\n",
    "    return mean_distance\n",
    "\n",
    "# Selection string for residues 15-30 to ensure alignment of corresponding residues\n",
    "select_residues_15_30 = \"resid 15-30 and name CA\"\n",
    "\n",
    "# Create a function to calculate cluster statistics\n",
    "def calculate_cluster_statistics(cluster_id, indices, reference_idx):\n",
    "    # Extract frames for the cluster\n",
    "    frames = extract_frames(indices, u1, u2)\n",
    "    \n",
    "    # Extract the reference frame for alignment\n",
    "    if reference_idx < 40000:\n",
    "        u1.trajectory[reference_idx]\n",
    "        reference_positions = u1.select_atoms(\"name CA\").positions.copy()\n",
    "    else:\n",
    "        u2.trajectory[reference_idx - 40000]\n",
    "        reference_positions = u2.select_atoms(\"name CA\").positions.copy()\n",
    "    \n",
    "    reference_universe = create_temp_universe(reference_positions, u1)\n",
    "    \n",
    "    # Align frames using the specific residues 15-30\n",
    "    aligned_frames = align_frames(reference_universe, frames, select_residues_15_30)\n",
    "    \n",
    "    # Calculate RMSD\n",
    "    mean_rmsd, std_rmsd = calculate_rmsd(reference_positions, aligned_frames)\n",
    "    \n",
    "    # Measure distances\n",
    "    mean_dist_15_22 = calculate_distances(reference_universe, 15, 22)\n",
    "    mean_dist_22_30 = calculate_distances(reference_universe, 22, 30)\n",
    "    mean_dist_15_30 = calculate_distances(reference_universe, 15, 30)\n",
    "    \n",
    "    # Save the statistics to a list for the new DataFrame\n",
    "    cluster_stats = {\n",
    "        \"Cluster\": cluster_id,\n",
    "        \"Frames\": len(indices),\n",
    "        \"Mean_RMSD\": mean_rmsd,\n",
    "        \"Std_RMSD\": std_rmsd,\n",
    "        \"Mean_Dist_15_22\": mean_dist_15_22,\n",
    "        \"Mean_Dist_22_30\": mean_dist_22_30,\n",
    "        \"Mean_Dist_15_30\": mean_dist_15_30,\n",
    "    }\n",
    "    \n",
    "    return cluster_stats\n",
    "\n",
    "# Function to load existing cluster statistics if the CSV file exists\n",
    "def load_existing_stats(file_path):\n",
    "    if os.path.exists(file_path):\n",
    "        return pd.read_csv(file_path)\n",
    "    else:\n",
    "        return pd.DataFrame()\n",
    "\n",
    "# Load existing statistics\n",
    "existing_stats_df = load_existing_stats(expanded_csv_path)\n",
    "processed_clusters = set(existing_stats_df['Cluster']) if not existing_stats_df.empty else set()\n",
    "\n",
    "# Group the DataFrame by 'cluster' and get the indices for each cluster\n",
    "cluster_indices = latent_1_alignment.groupby('cluster').apply(lambda df: df['index'].tolist()).to_dict()\n",
    "\n",
    "# Get the best reference frames for each cluster\n",
    "reference_frames = latent_1_alignment.groupby('cluster')['reference_frame'].first().to_dict()\n",
    "\n",
    "# Sort the summary DataFrame by cluster number\n",
    "sorted_summary_df = latent_1_statistics.sort_values(by='Cluster')\n",
    "\n",
    "# Calculate statistics for each cluster in order of cluster number with a simple progress bar\n",
    "for cluster_id in tqdm(sorted_summary_df['Cluster'], desc=\"Processing clusters\", unit=\"cluster\"):\n",
    "    if cluster_id in processed_clusters:\n",
    "        continue\n",
    "    indices = cluster_indices[cluster_id]\n",
    "    reference_idx = reference_frames[cluster_id]\n",
    "    cluster_stats = calculate_cluster_statistics(cluster_id, indices, reference_idx)\n",
    "    \n",
    "    # Convert the dictionary to a DataFrame and concatenate it with the existing DataFrame\n",
    "    cluster_stats_df = pd.DataFrame([cluster_stats])\n",
    "    existing_stats_df = pd.concat([existing_stats_df, cluster_stats_df], ignore_index=True)\n",
    "    existing_stats_df.to_csv(expanded_csv_path, index=False)\n",
    "\n",
    "print(\"Processing complete. Cluster statistics have been updated.\")"
   ]
  },
  {
   "cell_type": "markdown",
   "id": "a6cba8ee",
   "metadata": {},
   "source": [
    "# Generate Figures:"
   ]
  },
  {
   "cell_type": "code",
   "execution_count": null,
   "id": "c758cccd",
   "metadata": {},
   "outputs": [],
   "source": [
    "import os\n",
    "import matplotlib.pyplot as plt\n",
    "from tqdm import tqdm\n",
    "import MDAnalysis as mda\n",
    "import pandas as pd\n",
    "from MDAnalysis.analysis import align\n",
    "\n",
    "threshold_val = 1.0\n",
    "length_val = 1\n",
    "minimum_indices = 1\n",
    "\n",
    "# Define the output directories\n",
    "output_dir = f\"N4_Threshold_{threshold_val}_Length_{length_val}\"\n",
    "\n",
    "# Load the CSV files\n",
    "latent_1_alignment = pd.read_csv(os.path.join(output_dir, \"Latent_Alignment.csv\"))\n",
    "latent_1_statistics = pd.read_csv(os.path.join(output_dir, \"Cluster_Statistics.csv\"))\n",
    "\n",
    "# Load the MD simulation data\n",
    "u1 = mda.Universe(\"myc_091-160_stripped.prmtop\", \"aMD_091-160_no1-4_stripped.nc\")\n",
    "u2 = mda.Universe(\"myc_091-160_D132-H_stripped.prmtop\", \"aMD_091-160_D132-H_no1-4_stripped.nc\")\n",
    "\n",
    "# Define the function to extract frames from both universes\n",
    "def extract_frames(indices, universe1, universe2, switch_index=40000):\n",
    "    frames = []\n",
    "    for idx in indices:\n",
    "        if idx < switch_index:\n",
    "            universe1.trajectory[idx]\n",
    "            frames.append(universe1.select_atoms(\"name CA\").positions.copy())\n",
    "        else:\n",
    "            universe2.trajectory[idx - switch_index]\n",
    "            frames.append(universe2.select_atoms(\"name CA\").positions.copy())\n",
    "    return frames\n",
    "\n",
    "# Create a temporary Universe for alignment\n",
    "def create_temp_universe(positions, universe):\n",
    "    temp_universe = mda.Merge(universe.select_atoms(\"name CA\"))\n",
    "    temp_universe.atoms.positions = positions\n",
    "    return temp_universe\n",
    "\n",
    "# Align frames using AlignTraj\n",
    "def align_frames(reference_universe, frames, select_for_alignment):\n",
    "    aligned_frames = []\n",
    "    for frame_positions in frames:\n",
    "        temp_universe = create_temp_universe(frame_positions, reference_universe)\n",
    "        aligner = align.AlignTraj(temp_universe, reference_universe, select=select_for_alignment, in_memory=False)\n",
    "        aligner.run()\n",
    "        aligned_frames.append(temp_universe.atoms.positions.copy())\n",
    "    return aligned_frames\n",
    "\n",
    "# Selection string for residues 15-30 to ensure alignment of corresponding residues\n",
    "select_residues_15_30 = \"resid 15-30 and name CA\"\n",
    "\n",
    "# Function to plot aligned frames for a given cluster and save the figures\n",
    "def plot_aligned_frames(cluster_id, indices, best_reference_idx, save_dir):\n",
    "    # Define the filename\n",
    "    filename = f\"Cluster_{cluster_id}_N_{len(indices)}.png\"\n",
    "    filepath = os.path.join(save_dir, filename)\n",
    "    \n",
    "    # Check if the file already exists\n",
    "    if (os.path.exists(filepath)):\n",
    "        print(f\"Skipping cluster {cluster_id}, file already exists.\")\n",
    "        return\n",
    "    \n",
    "    # Extract frames for the cluster\n",
    "    frames = extract_frames(indices, u1, u2)\n",
    "    \n",
    "    # Find the position of best_reference_idx within the cluster's indices\n",
    "    reference_idx_in_cluster = indices.index(best_reference_idx)\n",
    "    \n",
    "    # Create reference universe for alignment\n",
    "    reference_universe = create_temp_universe(frames[reference_idx_in_cluster], u1)\n",
    "    \n",
    "    # Align frames using the specific residues 15-30\n",
    "    aligned_frames = align_frames(reference_universe, frames, select_residues_15_30)\n",
    "    \n",
    "    # Set the opacity value with a minimum threshold\n",
    "    opacity = max(1 / len(aligned_frames), 0.002)\n",
    "    \n",
    "    # Plot the aligned frames from different angles\n",
    "    angles = [(0, 0), (90, 0), (0, 90), (90, 90)]\n",
    "    \n",
    "    fig, axs = plt.subplots(2, 2, subplot_kw={'projection': '3d'}, figsize=(15, 15))\n",
    "    \n",
    "    for ax, angle in zip(axs.flatten(), angles):\n",
    "        # Plot cluster frames with lines connecting the alpha carbons\n",
    "        for positions in aligned_frames:\n",
    "            for i in range(len(positions) - 1):\n",
    "                if i == 14:\n",
    "                    color = 'red'  # alpha carbon 105\n",
    "                elif i == 29:\n",
    "                    color = 'green'  # alpha carbon 120\n",
    "                else:\n",
    "                    color = 'grey'\n",
    "                ax.plot(positions[i:i+2, 0], positions[i:i+2, 1], positions[i:i+2, 2], \n",
    "                        'o-', color=color, markersize=1, markeredgewidth=0.8, alpha=opacity)\n",
    "        \n",
    "        ax.view_init(elev=angle[0], azim=angle[1])\n",
    "        ax.set_axis_off() \n",
    "        ax.grid(False)\n",
    "    \n",
    "    # Save the figure to the specified directory with the appropriate filename\n",
    "    plt.savefig(filepath, bbox_inches='tight', pad_inches=0, dpi=300)\n",
    "    plt.close(fig)\n",
    "\n",
    "# Create the directory to save the figures if it doesn't exist\n",
    "save_dir = os.path.join(output_dir, f\"Cluster_N4_Full_Threshold_{threshold_val}_All_Angles\")\n",
    "os.makedirs(save_dir, exist_ok=True)\n",
    "\n",
    "# Group the DataFrame by 'cluster' and get the indices for each cluster\n",
    "cluster_indices = latent_1_alignment.groupby('cluster').apply(lambda df: df['index'].tolist()).to_dict()\n",
    "\n",
    "# Sort the summary DataFrame by cluster number\n",
    "sorted_summary_df = latent_1_statistics.sort_values(by='Cluster')\n",
    "\n",
    "# Plot aligned frames for each cluster in order of cluster number with a simple progress bar\n",
    "for cluster_id in tqdm(sorted_summary_df['Cluster'], desc=\"Processing clusters\", unit=\"cluster\"):\n",
    "    indices = cluster_indices[cluster_id]\n",
    "    best_reference_idx = latent_1_alignment.loc[latent_1_alignment['cluster'] == cluster_id, 'reference_frame'].values[0]\n",
    "    plot_aligned_frames(cluster_id, indices, best_reference_idx, save_dir)"
   ]
  },
  {
   "cell_type": "markdown",
   "id": "c740bef0",
   "metadata": {},
   "source": [
    "# Display Figures:"
   ]
  },
  {
   "cell_type": "code",
   "execution_count": null,
   "id": "e9827e34",
   "metadata": {},
   "outputs": [],
   "source": [
    "# Load the CSV files\n",
    "threshold_val = 1.0\n",
    "length_val = 1\n",
    "minimum_indices = 1\n",
    "\n",
    "cluster_stats_path = f\"N4_Threshold_{threshold_val}_Length_{length_val}/Cluster_Statistics.csv\"\n",
    "expanded_stats_path = f\"N4_Threshold_{threshold_val}_Length_{length_val}/Cluster_Statistics_Expanded.csv\"\n",
    "latent_alignment_path = f\"N4_Threshold_{threshold_val}_Length_{length_val}/Latent_Alignment.csv\"\n",
    "\n",
    "cluster_stats_df = pd.read_csv(cluster_stats_path)\n",
    "expanded_stats_df = pd.read_csv(expanded_stats_path)\n",
    "latent_alignment_df = pd.read_csv(latent_alignment_path)\n",
    "\n",
    "# Filter clusters with at least 20 frames\n",
    "filtered_clusters_df = cluster_stats_df[cluster_stats_df['Tot_Dur'] >= 20]\n",
    "\n",
    "# Merge the filtered clusters with the expanded statistics\n",
    "merged_df = filtered_clusters_df.merge(expanded_stats_df, on='Cluster')\n",
    "\n",
    "# Calculate the average values for distance measurements\n",
    "mean_std_rmsd_avg = merged_df['Std_RMSD'].mean()\n",
    "mean_dist_15_22_avg = merged_df['Mean_Dist_15_22'].mean()\n",
    "mean_dist_22_30_avg = merged_df['Mean_Dist_22_30'].mean()\n",
    "mean_dist_15_30_avg = merged_df['Mean_Dist_15_30'].mean()\n",
    "\n",
    "# Define the scoring function\n",
    "def calculate_score(row, weights):\n",
    "    score = weights['RMSD'] * row['Mean_RMSD']\n",
    "    score += weights['Std_RMSD_w'] * (row['Std_RMSD'] - mean_std_rmsd_avg)\n",
    "    score += weights['Dist_15_22'] * (row['Mean_Dist_15_22'] - mean_dist_15_22_avg)\n",
    "    score += weights['Dist_22_30'] * (row['Mean_Dist_22_30'] - mean_dist_22_30_avg)\n",
    "    score += weights['Dist_15_30'] * (row['Mean_Dist_15_30'] - mean_dist_15_30_avg)\n",
    "    return score\n",
    "\n",
    "# Set weights\n",
    "weights = {\n",
    "    'RMSD': 1.0,\n",
    "    'Std_RMSD_w': 0.5, \n",
    "    'Dist_15_22': 0.5,  \n",
    "    'Dist_22_30': 0.5, \n",
    "    'Dist_15_30': 0.5,  \n",
    "}\n",
    "\n",
    "# Calculate scores and ranks\n",
    "tqdm.pandas(desc=\"Calculating scores\")\n",
    "merged_df['Score'] = merged_df.progress_apply(calculate_score, axis=1, weights=weights)\n",
    "merged_df['Rank'] = merged_df['Score'].rank(ascending=True)\n",
    "\n",
    "# Save the results to a CSV file\n",
    "output_csv_path = f\"N4_Threshold_{threshold_val}_Length_{length_val}/Cluster_Rankings.csv\"\n",
    "merged_df.to_csv(output_csv_path, index=False)\n",
    "\n",
    "# Display the figures\n",
    "image_folder = f\"N4_Threshold_{threshold_val}_Length_{length_val}/Cluster_N4_Full_Threshold_{threshold_val}_All_Angles\"\n",
    "\n",
    "# Sort by rank to display in order\n",
    "merged_df = merged_df.sort_values(by='Rank', ascending=True)\n",
    "\n",
    "for _, row in merged_df.iterrows():\n",
    "    cluster_number = row['Cluster']\n",
    "    num_frames = row['Tot_Dur']\n",
    "    rank = row['Rank']\n",
    "    score = row['Score']\n",
    "    \n",
    "    mean_rmsd = row['Mean_RMSD']\n",
    "    std_rmsd = row['Std_RMSD']\n",
    "    mean_dist_15_22 = row['Mean_Dist_15_22']\n",
    "    mean_dist_22_30 = row['Mean_Dist_22_30']\n",
    "    mean_dist_15_30 = row['Mean_Dist_15_30']\n",
    "    \n",
    "    weighted_std_rmsd = weights['Std_RMSD_w'] * (std_rmsd - mean_std_rmsd_avg)\n",
    "    weighted_dist_15_22 = weights['Dist_15_22'] * (mean_dist_15_22 - mean_dist_15_22_avg)\n",
    "    weighted_dist_22_30 = weights['Dist_22_30'] * (mean_dist_22_30 - mean_dist_22_30_avg)\n",
    "    weighted_dist_15_30 = weights['Dist_15_30'] * (mean_dist_15_30 - mean_dist_15_30_avg)\n",
    "    \n",
    "    image_path = os.path.join(image_folder, f\"Cluster_{int(cluster_number)}_N_{int(num_frames)}.png\")\n",
    "    if os.path.exists(image_path):\n",
    "        img = plt.imread(image_path)\n",
    "        plt.figure(figsize=(10, 10))\n",
    "        plt.imshow(img)\n",
    "        plt.title(f\"Cluster: {cluster_number}, Frames: {num_frames}, Rank: {rank:.2f}, Score: {score:.2f}\\n\"\n",
    "                  f\"RMSD: {mean_rmsd:.2f}, Weighted Std RMSD: {weighted_std_rmsd:.2f}, \"\n",
    "                  f\"Weighted Dist 15-22: {weighted_dist_15_22:.2f}, \"\n",
    "                  f\"Weighted Dist 22-30: {weighted_dist_22_30:.2f}, \"\n",
    "                  f\"Weighted Dist 15-30: {weighted_dist_15_30:.2f}\")\n",
    "        plt.axis('off')\n",
    "        plt.show()\n",
    "    else:\n",
    "        print(f\"Image for Cluster {cluster_number} not found.\")"
   ]
  }
 ],
 "metadata": {
  "kernelspec": {
   "display_name": "Python 3 (ipykernel)",
   "language": "python",
   "name": "python3"
  },
  "language_info": {
   "codemirror_mode": {
    "name": "ipython",
    "version": 3
   },
   "file_extension": ".py",
   "mimetype": "text/x-python",
   "name": "python",
   "nbconvert_exporter": "python",
   "pygments_lexer": "ipython3",
   "version": "3.12.2"
  }
 },
 "nbformat": 4,
 "nbformat_minor": 5
}
